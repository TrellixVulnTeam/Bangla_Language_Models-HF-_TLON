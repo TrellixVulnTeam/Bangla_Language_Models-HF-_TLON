{
  "nbformat": 4,
  "nbformat_minor": 0,
  "metadata": {
    "colab": {
      "name": "Word_prediction.ipynb",
      "provenance": [],
      "collapsed_sections": []
    },
    "kernelspec": {
      "name": "python3",
      "display_name": "Python 3"
    },
    "accelerator": "GPU"
  },
  "cells": [
    {
      "cell_type": "code",
      "metadata": {
        "id": "PLq1KForYMnJ",
        "colab_type": "code",
        "colab": {}
      },
      "source": [
        "ls"
      ],
      "execution_count": null,
      "outputs": []
    },
    {
      "cell_type": "code",
      "metadata": {
        "id": "yqQjFiWeYdQI",
        "colab_type": "code",
        "colab": {}
      },
      "source": [
        "# Install `transformers` from master\n",
        "!pip install git+https://github.com/huggingface/transformers\n",
        "!pip list | grep -E 'transformers|tokenizers'\n",
        "# transformers version at notebook update --- 2.11.0\n",
        "# tokenizers version at notebook update --- 0.8.0rc1\n",
        "\n",
        "#!pip install transformers==2.11.0"
      ],
      "execution_count": null,
      "outputs": []
    },
    {
      "cell_type": "code",
      "metadata": {
        "id": "KhGHM-IYYjb_",
        "colab_type": "code",
        "colab": {}
      },
      "source": [
        "!head -5 ben.txt"
      ],
      "execution_count": null,
      "outputs": []
    },
    {
      "cell_type": "code",
      "metadata": {
        "id": "BczKh5t4Y1cO",
        "colab_type": "code",
        "colab": {}
      },
      "source": [
        "with open('chunk_0981.txt', 'r', encoding = 'utf-8') as f:\n",
        "  data = f.read()\n",
        "print(data[:2000])"
      ],
      "execution_count": null,
      "outputs": []
    },
    {
      "cell_type": "code",
      "metadata": {
        "id": "viTILsoDZFh4",
        "colab_type": "code",
        "colab": {}
      },
      "source": [
        "lines = data.split(\"।\")\n",
        "train_data = []\n",
        "for l in lines:\n",
        "  train_data.append(l)\n",
        "print(train_data[1])\n",
        "print(len(train_data))"
      ],
      "execution_count": null,
      "outputs": []
    },
    {
      "cell_type": "code",
      "metadata": {
        "id": "roPW7z1xZNem",
        "colab_type": "code",
        "colab": {}
      },
      "source": [
        "with open('train_data.txt', 'w', encoding = 'utf-8') as f:\n",
        "  data = f.write(\"\".join(train_data))"
      ],
      "execution_count": null,
      "outputs": []
    },
    {
      "cell_type": "code",
      "metadata": {
        "id": "MZkSVv-2ZgXZ",
        "colab_type": "code",
        "colab": {}
      },
      "source": [
        "TRAIN = True\n",
        "if TRAIN:\n",
        "    import sentencepiece as spm\n",
        "    spm.SentencePieceTrainer.train(input='train_data.txt', model_prefix='spm',vocab_size=9999) # Keep one space for mask token."
      ],
      "execution_count": null,
      "outputs": []
    },
    {
      "cell_type": "code",
      "metadata": {
        "id": "BFun7MTLasBs",
        "colab_type": "code",
        "colab": {}
      },
      "source": [
        "from transformers import XLMRobertaConfig\n",
        "TRAIN = True\n",
        "# if you dont give    vocab_size=10000, this parameter here this works fine because this param is calculated from the models with masks and everything extra \n",
        "config = XLMRobertaConfig(\n",
        "    vocab_size=10001, \n",
        "    max_position_embeddings=514,\n",
        "    num_attention_heads=8,\n",
        "    num_hidden_layers=6,\n",
        "    type_vocab_size=1\n",
        ")\n",
        "\n",
        "from transformers import XLMRobertaTokenizer\n",
        "\n",
        "tokenizer = XLMRobertaTokenizer.from_pretrained(\"spm.model\", max_len=512)\n",
        "#enable_truncation(max_length=100)\n",
        "print(train_data[-1])\n",
        "tokenizer._tokenize(train_data[-1])"
      ],
      "execution_count": null,
      "outputs": []
    },
    {
      "cell_type": "code",
      "metadata": {
        "id": "SGW93D6fbJqF",
        "colab_type": "code",
        "colab": {}
      },
      "source": [
        "\n",
        "\n",
        "if TRAIN:\n",
        "    %%time\n",
        "    from transformers import TextDataset\n",
        "\n",
        "    dataset = TextDataset(\n",
        "        tokenizer=tokenizer,\n",
        "        file_path=\"train_data.txt\",\n",
        "        block_size=128\n",
        "    )\n",
        "\n"
      ],
      "execution_count": null,
      "outputs": []
    },
    {
      "cell_type": "code",
      "metadata": {
        "id": "qq7xsVimbjLC",
        "colab_type": "code",
        "colab": {}
      },
      "source": [
        "if TRAIN:\n",
        "    from transformers import DataCollatorForLanguageModeling\n",
        "\n",
        "    data_collator = DataCollatorForLanguageModeling(\n",
        "        tokenizer=tokenizer, mlm=True, mlm_probability=0.15\n",
        "    )\n",
        "\n",
        "if TRAIN:  \n",
        "    from transformers import Trainer, TrainingArguments\n",
        "\n",
        "    training_args = TrainingArguments(\n",
        "        output_dir=\"xlm_train/\",\n",
        "        overwrite_output_dir=True,\n",
        "        num_train_epochs=1,\n",
        "        per_device_train_batch_size=64,\n",
        "        save_steps=5000,\n",
        "        save_total_limit=2\n",
        "    )\n",
        "\n",
        "    from transformers import XLMRobertaForMaskedLM\n",
        "\n",
        "    model = XLMRobertaForMaskedLM(config=config)\n",
        "\n",
        "    trainer = Trainer(\n",
        "\n",
        "        model=model,\n",
        "        args=training_args,\n",
        "        data_collator=data_collator,\n",
        "        train_dataset=dataset,\n",
        "        prediction_loss_only=True\n",
        "    )"
      ],
      "execution_count": null,
      "outputs": []
    },
    {
      "cell_type": "code",
      "metadata": {
        "id": "tZ6w8yndkRZw",
        "colab_type": "code",
        "colab": {}
      },
      "source": [
        "if TRAIN:\n",
        "    trainer.train()"
      ],
      "execution_count": null,
      "outputs": []
    },
    {
      "cell_type": "code",
      "metadata": {
        "id": "sWOk1AuOl9CG",
        "colab_type": "code",
        "colab": {}
      },
      "source": [
        "import torch"
      ],
      "execution_count": null,
      "outputs": []
    },
    {
      "cell_type": "code",
      "metadata": {
        "id": "Ndu3wLr2pUiY",
        "colab_type": "code",
        "colab": {}
      },
      "source": [
        "torch.__version__"
      ],
      "execution_count": null,
      "outputs": []
    },
    {
      "cell_type": "code",
      "metadata": {
        "id": "P4f7IX4CpXU9",
        "colab_type": "code",
        "colab": {}
      },
      "source": [
        "import transformers\n",
        "transformers.__version__"
      ],
      "execution_count": null,
      "outputs": []
    },
    {
      "cell_type": "code",
      "metadata": {
        "id": "iaSzEUQMqIlJ",
        "colab_type": "code",
        "colab": {}
      },
      "source": [
        "#!git clone https://github.com/kwonmha/bert-vocab-builder.git\n",
        "!ls\n",
        "\n",
        "!python bert-vocab-builder/subword_builder.py \\\n",
        "  --corpus_filepattern \"train_data.txt\" \\\n",
        "  --output_filename git_bert_vocab.txt \\\n",
        "  --min_count 10"
      ],
      "execution_count": null,
      "outputs": []
    },
    {
      "cell_type": "markdown",
      "metadata": {
        "id": "zaCKMTMx_mS1",
        "colab_type": "text"
      },
      "source": [
        "ELECTRA"
      ]
    },
    {
      "cell_type": "code",
      "metadata": {
        "id": "BsAUqXkn_pED",
        "colab_type": "code",
        "colab": {}
      },
      "source": [
        "TRAIN = True\n",
        "if TRAIN:\n",
        "    import sentencepiece as spm\n",
        "    spm.SentencePieceTrainer.train(input='train_data.txt', model_prefix='bert',vocab_size=20640) # Keep one space for mask token.\n",
        "\n",
        "with open(\"bert.vocab\", 'r', encoding='utf-8') as f:\n",
        "  vc = f.read()\n",
        "bert_vocab = []\n",
        "for i in enumerate(vc.split(\"\\n\")):\n",
        "  bert_vocab.append(i[1].split('\\t')[0])\n",
        "with open(\"bert_vocab.txt\", 'w', encoding='utf-8') as f:\n",
        "  f.write(\"\\n\".join(bert_vocab))\n"
      ],
      "execution_count": null,
      "outputs": []
    },
    {
      "cell_type": "code",
      "metadata": {
        "id": "OyU4sNNcg2B3",
        "colab_type": "code",
        "colab": {}
      },
      "source": [
        "from tokenizers import BertWordPieceTokenizer\n",
        "tokenizer = BertWordPieceTokenizer(\n",
        "    clean_text=True, handle_chinese_chars=True, strip_accents=True, lowercase=True,\n",
        ")\n",
        "\n",
        "# And then train\n",
        "tokenizer.train(\n",
        "    files = 'train_data.txt',\n",
        "    vocab_size=15000,\n",
        "    min_frequency=2,\n",
        "    show_progress=True,\n",
        "    special_tokens=[\"[PAD]\", \"[UNK]\", \"[CLS]\", \"[SEP]\", \"[MASK]\"],\n",
        "    limit_alphabet=1000,\n",
        "    wordpieces_prefix=\"##\",\n",
        ")\n",
        "\n",
        "# Save the files\n",
        "tokenizer.save_model('./', 'bert_final_huggingface')"
      ],
      "execution_count": null,
      "outputs": []
    },
    {
      "cell_type": "code",
      "metadata": {
        "id": "XzH_FR3SSCAC",
        "colab_type": "code",
        "colab": {}
      },
      "source": [
        "from transformers import ElectraTokenizer, ElectraModel, ElectraConfig, ElectraForMaskedLM\n",
        "import torch\n",
        "tokenizer = ElectraTokenizer.from_pretrained(\"bert_final_huggingface-vocab.txt\")\n",
        "print(train_data[-10])\n",
        "tokenizer._tokenize(train_data[-10])\n",
        "#tokenizer = ElectraTokenizer.from_pretrained('google/electra-small-discriminator')\n",
        "#model = ElectraModel.from_pretrained('google/electra-small-discriminator')"
      ],
      "execution_count": null,
      "outputs": []
    },
    {
      "cell_type": "code",
      "metadata": {
        "id": "ToDKKVOZBJoZ",
        "colab_type": "code",
        "colab": {}
      },
      "source": [
        "tokenizer._tokenize(train_data[-1])\n",
        "\n",
        "config = ElectraConfig(\n",
        "    vocab_size=15000\n",
        ")\n",
        "model = ElectraForMaskedLM(config=config)"
      ],
      "execution_count": null,
      "outputs": []
    },
    {
      "cell_type": "code",
      "metadata": {
        "id": "hNzADVEsBTZR",
        "colab_type": "code",
        "colab": {}
      },
      "source": [
        "TRAIN = True\n",
        "\n",
        "if TRAIN:\n",
        "    %%time\n",
        "    from transformers import TextDataset\n",
        "    dataset = TextDataset(\n",
        "        tokenizer=tokenizer,\n",
        "        file_path=\"train_data.txt\",\n",
        "        block_size=128,\n",
        "    )"
      ],
      "execution_count": null,
      "outputs": []
    },
    {
      "cell_type": "code",
      "metadata": {
        "id": "5ITodvP_CNJN",
        "colab_type": "code",
        "colab": {}
      },
      "source": [
        "if TRAIN:\n",
        "    from transformers import DataCollatorForLanguageModeling\n",
        "\n",
        "    data_collator = DataCollatorForLanguageModeling(\n",
        "        tokenizer=tokenizer, mlm=True, mlm_probability=0.15\n",
        "    )\n",
        "\n",
        "if TRAIN:  \n",
        "    from transformers import Trainer, TrainingArguments\n",
        "\n",
        "    training_args = TrainingArguments(\n",
        "        output_dir=\"electra_train/\",\n",
        "        overwrite_output_dir=True,\n",
        "        num_train_epochs=10,\n",
        "        per_device_train_batch_size=64,\n",
        "        save_steps=1,\n",
        "        save_total_limit=2,\n",
        "    )\n",
        "    trainer = Trainer(\n",
        "        model=model,\n",
        "        args=training_args,\n",
        "        data_collator=data_collator,\n",
        "        train_dataset=dataset,\n",
        "        prediction_loss_only=True,\n",
        "    )"
      ],
      "execution_count": null,
      "outputs": []
    },
    {
      "cell_type": "code",
      "metadata": {
        "id": "20J-YL8uCfN-",
        "colab_type": "code",
        "colab": {}
      },
      "source": [
        "if TRAIN:\n",
        "    trainer.train()"
      ],
      "execution_count": null,
      "outputs": []
    },
    {
      "cell_type": "code",
      "metadata": {
        "id": "OGoZnegHa-pe",
        "colab_type": "code",
        "colab": {}
      },
      "source": [
        "#!pip install tensorflow==1.11\n",
        "import tensorflow as tf\n",
        "print(tf.__version__)"
      ],
      "execution_count": null,
      "outputs": []
    },
    {
      "cell_type": "code",
      "metadata": {
        "id": "Wu8PfCi-Cjmq",
        "colab_type": "code",
        "colab": {}
      },
      "source": [
        "print(model)"
      ],
      "execution_count": null,
      "outputs": []
    },
    {
      "cell_type": "code",
      "metadata": {
        "id": "iuY0FYjDDkIq",
        "colab_type": "code",
        "colab": {}
      },
      "source": [
        ""
      ],
      "execution_count": null,
      "outputs": []
    },
    {
      "cell_type": "markdown",
      "metadata": {
        "id": "BhullbXScYb0",
        "colab_type": "text"
      },
      "source": [
        "GPT2"
      ]
    },
    {
      "cell_type": "code",
      "metadata": {
        "id": "dFbWZ34AIes-",
        "colab_type": "code",
        "colab": {}
      },
      "source": [
        "from pathlib import Path\n",
        "\n",
        "from tokenizers import ByteLevelBPETokenizer\n",
        "\n",
        "paths = [\"train_data.txt\"]\n",
        "\n",
        "# Initialize a tokenizer\n",
        "tokenizer = ByteLevelBPETokenizer()\n",
        "\n",
        "# Customize training\n",
        "tokenizer.train(files=paths, vocab_size=4_000, min_frequency=2, special_tokens=[\n",
        "    \"<s>\",\n",
        "    \"<pad>\",\n",
        "    \"</s>\",\n",
        "    \"<unk>\",\n",
        "    \"<mask>\",\n",
        "])\n",
        "\n",
        "# Save files to disk\n",
        "tokenizer.save_model(\".\", \"gpt2\")"
      ],
      "execution_count": null,
      "outputs": []
    },
    {
      "cell_type": "code",
      "metadata": {
        "id": "4H9MLQ_keYMh",
        "colab_type": "code",
        "colab": {}
      },
      "source": [
        "print(tokenizer.decode(tokenizer.encode(train_data[1]).ids))\n",
        "print(train_data[1])"
      ],
      "execution_count": null,
      "outputs": []
    },
    {
      "cell_type": "code",
      "metadata": {
        "id": "5ZcKqHH4fMKP",
        "colab_type": "code",
        "colab": {}
      },
      "source": [
        "from transformers import GPT2Tokenizer, GPT2LMHeadModel, GPT2Config\n",
        "tokenizer = GPT2Tokenizer(vocab_file = 'gpt2-vocab.json', merges_file = 'gpt2-merges.txt')\n",
        "print(train_data[-10])\n",
        "print(tokenizer.decode(tokenizer.encode(train_data[-10])))"
      ],
      "execution_count": null,
      "outputs": []
    },
    {
      "cell_type": "code",
      "metadata": {
        "id": "DTOlhTTnj_bg",
        "colab_type": "code",
        "colab": {}
      },
      "source": [
        "config = GPT2Config(vocab_size=4_000)#, n_layer= 2, n_head=2\n",
        "model = GPT2LMHeadModel(config=config)\n",
        "print(config)\n",
        "model.num_parameters()"
      ],
      "execution_count": null,
      "outputs": []
    },
    {
      "cell_type": "code",
      "metadata": {
        "id": "3-dCkgMzrrWW",
        "colab_type": "code",
        "colab": {}
      },
      "source": [
        "TRAIN = True\n",
        "\n",
        "if TRAIN:\n",
        "    %%time\n",
        "    from transformers import TextDataset\n",
        "    dataset = TextDataset(\n",
        "        tokenizer=tokenizer,\n",
        "        file_path=\"train_data.txt\",\n",
        "        block_size=128,\n",
        "    )"
      ],
      "execution_count": null,
      "outputs": []
    },
    {
      "cell_type": "code",
      "metadata": {
        "id": "rOH2omF0r4T5",
        "colab_type": "code",
        "colab": {}
      },
      "source": [
        "if TRAIN:\n",
        "    from transformers import DataCollatorForLanguageModeling\n",
        "\n",
        "    data_collator = DataCollatorForLanguageModeling(\n",
        "        tokenizer=tokenizer, mlm=False, mlm_probability=0.15\n",
        "    )\n",
        "\n",
        "if TRAIN:  \n",
        "    from transformers import Trainer, TrainingArguments\n",
        "\n",
        "    training_args = TrainingArguments(\n",
        "        output_dir=\"gpt2_train/\",\n",
        "        overwrite_output_dir=True,\n",
        "        num_train_epochs=10,\n",
        "        per_device_train_batch_size=2,\n",
        "        save_steps=1,\n",
        "        save_total_limit=2,\n",
        "    )\n",
        "    trainer = Trainer(\n",
        "        model=model,\n",
        "        args=training_args,\n",
        "        data_collator=data_collator,\n",
        "        train_dataset=dataset\n",
        "    )"
      ],
      "execution_count": null,
      "outputs": []
    },
    {
      "cell_type": "code",
      "metadata": {
        "id": "-rJKR6rgsCjz",
        "colab_type": "code",
        "colab": {}
      },
      "source": [
        "if TRAIN:\n",
        "    trainer.train()"
      ],
      "execution_count": null,
      "outputs": []
    },
    {
      "cell_type": "code",
      "metadata": {
        "id": "k6QbEMqfsG0K",
        "colab_type": "code",
        "colab": {}
      },
      "source": [
        "!head -5 gpt2-vocab.json"
      ],
      "execution_count": null,
      "outputs": []
    },
    {
      "cell_type": "code",
      "metadata": {
        "id": "y37V1XUBvP8l",
        "colab_type": "code",
        "colab": {}
      },
      "source": [
        "!sudo rm -rf gpt2_train"
      ],
      "execution_count": null,
      "outputs": []
    },
    {
      "cell_type": "code",
      "metadata": {
        "id": "Yq8io37MvpDe",
        "colab_type": "code",
        "colab": {}
      },
      "source": [
        "!nvidia-smi\n"
      ],
      "execution_count": null,
      "outputs": []
    },
    {
      "cell_type": "code",
      "metadata": {
        "id": "C8plxXKkwHhq",
        "colab_type": "code",
        "colab": {}
      },
      "source": [
        ""
      ],
      "execution_count": null,
      "outputs": []
    },
    {
      "cell_type": "markdown",
      "metadata": {
        "id": "T6_XFMOJyoEZ",
        "colab_type": "text"
      },
      "source": [
        "Transformer XL NEXT"
      ]
    },
    {
      "cell_type": "code",
      "metadata": {
        "id": "FDu8dGbZyqKg",
        "colab_type": "code",
        "colab": {}
      },
      "source": [
        "from transformers import TransfoXLTokenizer\n",
        "from transformers import TransfoXLConfig, TransfoXLLMHeadModel\n",
        "\n",
        "# Initializing a Transformer XL configuration\n",
        "config = TransfoXLConfig()\n",
        "tokenizer = TransfoXLTokenizer(vocab_file='spm.vocab') ## need a simple vocab\n",
        "#tokenizer.count_file(\"train_data.txt\")\n",
        "model = TransfoXLLMHeadModel(config=config)\n",
        "\n",
        "model.num_parameters()\n"
      ],
      "execution_count": null,
      "outputs": []
    },
    {
      "cell_type": "code",
      "metadata": {
        "id": "iicmsA2o5E77",
        "colab_type": "code",
        "colab": {}
      },
      "source": [
        "TRAIN = True\n",
        "\n",
        "if TRAIN:\n",
        "    %%time\n",
        "    from transformers import TextDataset\n",
        "    dataset = TextDataset(\n",
        "        tokenizer=tokenizer,\n",
        "        file_path=\"train_data.txt\",\n",
        "        block_size=128,\n",
        "    )"
      ],
      "execution_count": null,
      "outputs": []
    },
    {
      "cell_type": "code",
      "metadata": {
        "id": "pb6rQJt56kAg",
        "colab_type": "code",
        "colab": {}
      },
      "source": [
        "if TRAIN:\n",
        "    from transformers import DataCollatorForLanguageModeling\n",
        "\n",
        "    data_collator = DataCollatorForLanguageModeling(\n",
        "        tokenizer=tokenizer, mlm=False, mlm_probability=0.15\n",
        "    )\n",
        "\n",
        "if TRAIN:  \n",
        "    from transformers import Trainer, TrainingArguments\n",
        "\n",
        "    training_args = TrainingArguments(\n",
        "        output_dir=\"transformer_xl_train/\",\n",
        "        overwrite_output_dir=True,\n",
        "        num_train_epochs=10,\n",
        "        per_device_train_batch_size=2,\n",
        "        save_steps=1,\n",
        "        save_total_limit=2,\n",
        "    )\n",
        "    trainer = Trainer(\n",
        "        model=model,\n",
        "        args=training_args,\n",
        "        data_collator=data_collator,\n",
        "        train_dataset=dataset\n",
        "    )"
      ],
      "execution_count": null,
      "outputs": []
    },
    {
      "cell_type": "code",
      "metadata": {
        "id": "bstBFWt3MIiW",
        "colab_type": "code",
        "colab": {}
      },
      "source": [
        "if TRAIN:\n",
        "    trainer.train()"
      ],
      "execution_count": null,
      "outputs": []
    },
    {
      "cell_type": "code",
      "metadata": {
        "id": "EGKegG4SMME5",
        "colab_type": "code",
        "colab": {}
      },
      "source": [
        "|"
      ],
      "execution_count": null,
      "outputs": []
    }
  ]
}