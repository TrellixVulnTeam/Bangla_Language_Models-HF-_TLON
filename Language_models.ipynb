{
  "nbformat": 4,
  "nbformat_minor": 0,
  "metadata": {
    "colab": {
      "name": "Word_prediction.ipynb",
      "provenance": [],
      "collapsed_sections": []
    },
    "kernelspec": {
      "name": "python3",
      "display_name": "Python 3"
    },
    "accelerator": "GPU",
    "widgets": {
      "application/vnd.jupyter.widget-state+json": {
        "46bd7cff7cc04b8f94ec1395906a32de": {
          "model_module": "@jupyter-widgets/controls",
          "model_name": "HBoxModel",
          "state": {
            "_view_name": "HBoxView",
            "_dom_classes": [],
            "_model_name": "HBoxModel",
            "_view_module": "@jupyter-widgets/controls",
            "_model_module_version": "1.5.0",
            "_view_count": null,
            "_view_module_version": "1.5.0",
            "box_style": "",
            "layout": "IPY_MODEL_58ae3ca9f7b84f15aad7069c7f09117e",
            "_model_module": "@jupyter-widgets/controls",
            "children": [
              "IPY_MODEL_681af7340c314bbb94fd1133dc079421",
              "IPY_MODEL_bca70fc572524a17934b126369315b11"
            ]
          }
        },
        "58ae3ca9f7b84f15aad7069c7f09117e": {
          "model_module": "@jupyter-widgets/base",
          "model_name": "LayoutModel",
          "state": {
            "_view_name": "LayoutView",
            "grid_template_rows": null,
            "right": null,
            "justify_content": null,
            "_view_module": "@jupyter-widgets/base",
            "overflow": null,
            "_model_module_version": "1.2.0",
            "_view_count": null,
            "flex_flow": null,
            "width": null,
            "min_width": null,
            "border": null,
            "align_items": null,
            "bottom": null,
            "_model_module": "@jupyter-widgets/base",
            "top": null,
            "grid_column": null,
            "overflow_y": null,
            "overflow_x": null,
            "grid_auto_flow": null,
            "grid_area": null,
            "grid_template_columns": null,
            "flex": null,
            "_model_name": "LayoutModel",
            "justify_items": null,
            "grid_row": null,
            "max_height": null,
            "align_content": null,
            "visibility": null,
            "align_self": null,
            "height": null,
            "min_height": null,
            "padding": null,
            "grid_auto_rows": null,
            "grid_gap": null,
            "max_width": null,
            "order": null,
            "_view_module_version": "1.2.0",
            "grid_template_areas": null,
            "object_position": null,
            "object_fit": null,
            "grid_auto_columns": null,
            "margin": null,
            "display": null,
            "left": null
          }
        },
        "681af7340c314bbb94fd1133dc079421": {
          "model_module": "@jupyter-widgets/controls",
          "model_name": "FloatProgressModel",
          "state": {
            "_view_name": "ProgressView",
            "style": "IPY_MODEL_4e2181203485483190930a514b6679f7",
            "_dom_classes": [],
            "description": "Epoch: 100%",
            "_model_name": "FloatProgressModel",
            "bar_style": "success",
            "max": 1,
            "_view_module": "@jupyter-widgets/controls",
            "_model_module_version": "1.5.0",
            "value": 1,
            "_view_count": null,
            "_view_module_version": "1.5.0",
            "orientation": "horizontal",
            "min": 0,
            "description_tooltip": null,
            "_model_module": "@jupyter-widgets/controls",
            "layout": "IPY_MODEL_9723dd6fb29146fab60a75afb93d522f"
          }
        },
        "bca70fc572524a17934b126369315b11": {
          "model_module": "@jupyter-widgets/controls",
          "model_name": "HTMLModel",
          "state": {
            "_view_name": "HTMLView",
            "style": "IPY_MODEL_1503b68df04c474daabafa5a26c0a2d9",
            "_dom_classes": [],
            "description": "",
            "_model_name": "HTMLModel",
            "placeholder": "​",
            "_view_module": "@jupyter-widgets/controls",
            "_model_module_version": "1.5.0",
            "value": " 1/1 [01:27&lt;00:00, 87.08s/it]",
            "_view_count": null,
            "_view_module_version": "1.5.0",
            "description_tooltip": null,
            "_model_module": "@jupyter-widgets/controls",
            "layout": "IPY_MODEL_eb59ce5759c7474ea9effc9a4e83772f"
          }
        },
        "4e2181203485483190930a514b6679f7": {
          "model_module": "@jupyter-widgets/controls",
          "model_name": "ProgressStyleModel",
          "state": {
            "_view_name": "StyleView",
            "_model_name": "ProgressStyleModel",
            "description_width": "initial",
            "_view_module": "@jupyter-widgets/base",
            "_model_module_version": "1.5.0",
            "_view_count": null,
            "_view_module_version": "1.2.0",
            "bar_color": null,
            "_model_module": "@jupyter-widgets/controls"
          }
        },
        "9723dd6fb29146fab60a75afb93d522f": {
          "model_module": "@jupyter-widgets/base",
          "model_name": "LayoutModel",
          "state": {
            "_view_name": "LayoutView",
            "grid_template_rows": null,
            "right": null,
            "justify_content": null,
            "_view_module": "@jupyter-widgets/base",
            "overflow": null,
            "_model_module_version": "1.2.0",
            "_view_count": null,
            "flex_flow": null,
            "width": null,
            "min_width": null,
            "border": null,
            "align_items": null,
            "bottom": null,
            "_model_module": "@jupyter-widgets/base",
            "top": null,
            "grid_column": null,
            "overflow_y": null,
            "overflow_x": null,
            "grid_auto_flow": null,
            "grid_area": null,
            "grid_template_columns": null,
            "flex": null,
            "_model_name": "LayoutModel",
            "justify_items": null,
            "grid_row": null,
            "max_height": null,
            "align_content": null,
            "visibility": null,
            "align_self": null,
            "height": null,
            "min_height": null,
            "padding": null,
            "grid_auto_rows": null,
            "grid_gap": null,
            "max_width": null,
            "order": null,
            "_view_module_version": "1.2.0",
            "grid_template_areas": null,
            "object_position": null,
            "object_fit": null,
            "grid_auto_columns": null,
            "margin": null,
            "display": null,
            "left": null
          }
        },
        "1503b68df04c474daabafa5a26c0a2d9": {
          "model_module": "@jupyter-widgets/controls",
          "model_name": "DescriptionStyleModel",
          "state": {
            "_view_name": "StyleView",
            "_model_name": "DescriptionStyleModel",
            "description_width": "",
            "_view_module": "@jupyter-widgets/base",
            "_model_module_version": "1.5.0",
            "_view_count": null,
            "_view_module_version": "1.2.0",
            "_model_module": "@jupyter-widgets/controls"
          }
        },
        "eb59ce5759c7474ea9effc9a4e83772f": {
          "model_module": "@jupyter-widgets/base",
          "model_name": "LayoutModel",
          "state": {
            "_view_name": "LayoutView",
            "grid_template_rows": null,
            "right": null,
            "justify_content": null,
            "_view_module": "@jupyter-widgets/base",
            "overflow": null,
            "_model_module_version": "1.2.0",
            "_view_count": null,
            "flex_flow": null,
            "width": null,
            "min_width": null,
            "border": null,
            "align_items": null,
            "bottom": null,
            "_model_module": "@jupyter-widgets/base",
            "top": null,
            "grid_column": null,
            "overflow_y": null,
            "overflow_x": null,
            "grid_auto_flow": null,
            "grid_area": null,
            "grid_template_columns": null,
            "flex": null,
            "_model_name": "LayoutModel",
            "justify_items": null,
            "grid_row": null,
            "max_height": null,
            "align_content": null,
            "visibility": null,
            "align_self": null,
            "height": null,
            "min_height": null,
            "padding": null,
            "grid_auto_rows": null,
            "grid_gap": null,
            "max_width": null,
            "order": null,
            "_view_module_version": "1.2.0",
            "grid_template_areas": null,
            "object_position": null,
            "object_fit": null,
            "grid_auto_columns": null,
            "margin": null,
            "display": null,
            "left": null
          }
        },
        "bcdd4a8e4f64458dac51e62931343d1c": {
          "model_module": "@jupyter-widgets/controls",
          "model_name": "HBoxModel",
          "state": {
            "_view_name": "HBoxView",
            "_dom_classes": [],
            "_model_name": "HBoxModel",
            "_view_module": "@jupyter-widgets/controls",
            "_model_module_version": "1.5.0",
            "_view_count": null,
            "_view_module_version": "1.5.0",
            "box_style": "",
            "layout": "IPY_MODEL_5f98388a21ed4b06810ee7b78f2ad062",
            "_model_module": "@jupyter-widgets/controls",
            "children": [
              "IPY_MODEL_795b5e6286a744c7977553e9fe06fcc1",
              "IPY_MODEL_f2959f399670448eb2423ed0b321460c"
            ]
          }
        },
        "5f98388a21ed4b06810ee7b78f2ad062": {
          "model_module": "@jupyter-widgets/base",
          "model_name": "LayoutModel",
          "state": {
            "_view_name": "LayoutView",
            "grid_template_rows": null,
            "right": null,
            "justify_content": null,
            "_view_module": "@jupyter-widgets/base",
            "overflow": null,
            "_model_module_version": "1.2.0",
            "_view_count": null,
            "flex_flow": null,
            "width": null,
            "min_width": null,
            "border": null,
            "align_items": null,
            "bottom": null,
            "_model_module": "@jupyter-widgets/base",
            "top": null,
            "grid_column": null,
            "overflow_y": null,
            "overflow_x": null,
            "grid_auto_flow": null,
            "grid_area": null,
            "grid_template_columns": null,
            "flex": null,
            "_model_name": "LayoutModel",
            "justify_items": null,
            "grid_row": null,
            "max_height": null,
            "align_content": null,
            "visibility": null,
            "align_self": null,
            "height": null,
            "min_height": null,
            "padding": null,
            "grid_auto_rows": null,
            "grid_gap": null,
            "max_width": null,
            "order": null,
            "_view_module_version": "1.2.0",
            "grid_template_areas": null,
            "object_position": null,
            "object_fit": null,
            "grid_auto_columns": null,
            "margin": null,
            "display": null,
            "left": null
          }
        },
        "795b5e6286a744c7977553e9fe06fcc1": {
          "model_module": "@jupyter-widgets/controls",
          "model_name": "FloatProgressModel",
          "state": {
            "_view_name": "ProgressView",
            "style": "IPY_MODEL_1c00f1dac8864096ba9e97fcc2749a7c",
            "_dom_classes": [],
            "description": "Iteration: 100%",
            "_model_name": "FloatProgressModel",
            "bar_style": "success",
            "max": 63,
            "_view_module": "@jupyter-widgets/controls",
            "_model_module_version": "1.5.0",
            "value": 63,
            "_view_count": null,
            "_view_module_version": "1.5.0",
            "orientation": "horizontal",
            "min": 0,
            "description_tooltip": null,
            "_model_module": "@jupyter-widgets/controls",
            "layout": "IPY_MODEL_f570fca214d148b092ac3de89e709e2a"
          }
        },
        "f2959f399670448eb2423ed0b321460c": {
          "model_module": "@jupyter-widgets/controls",
          "model_name": "HTMLModel",
          "state": {
            "_view_name": "HTMLView",
            "style": "IPY_MODEL_4b52ed8459134953a6ae156010ed2462",
            "_dom_classes": [],
            "description": "",
            "_model_name": "HTMLModel",
            "placeholder": "​",
            "_view_module": "@jupyter-widgets/controls",
            "_model_module_version": "1.5.0",
            "value": " 63/63 [01:27&lt;00:00,  1.38s/it]",
            "_view_count": null,
            "_view_module_version": "1.5.0",
            "description_tooltip": null,
            "_model_module": "@jupyter-widgets/controls",
            "layout": "IPY_MODEL_761ab16acb9647698f7ae48a2ed110c1"
          }
        },
        "1c00f1dac8864096ba9e97fcc2749a7c": {
          "model_module": "@jupyter-widgets/controls",
          "model_name": "ProgressStyleModel",
          "state": {
            "_view_name": "StyleView",
            "_model_name": "ProgressStyleModel",
            "description_width": "initial",
            "_view_module": "@jupyter-widgets/base",
            "_model_module_version": "1.5.0",
            "_view_count": null,
            "_view_module_version": "1.2.0",
            "bar_color": null,
            "_model_module": "@jupyter-widgets/controls"
          }
        },
        "f570fca214d148b092ac3de89e709e2a": {
          "model_module": "@jupyter-widgets/base",
          "model_name": "LayoutModel",
          "state": {
            "_view_name": "LayoutView",
            "grid_template_rows": null,
            "right": null,
            "justify_content": null,
            "_view_module": "@jupyter-widgets/base",
            "overflow": null,
            "_model_module_version": "1.2.0",
            "_view_count": null,
            "flex_flow": null,
            "width": null,
            "min_width": null,
            "border": null,
            "align_items": null,
            "bottom": null,
            "_model_module": "@jupyter-widgets/base",
            "top": null,
            "grid_column": null,
            "overflow_y": null,
            "overflow_x": null,
            "grid_auto_flow": null,
            "grid_area": null,
            "grid_template_columns": null,
            "flex": null,
            "_model_name": "LayoutModel",
            "justify_items": null,
            "grid_row": null,
            "max_height": null,
            "align_content": null,
            "visibility": null,
            "align_self": null,
            "height": null,
            "min_height": null,
            "padding": null,
            "grid_auto_rows": null,
            "grid_gap": null,
            "max_width": null,
            "order": null,
            "_view_module_version": "1.2.0",
            "grid_template_areas": null,
            "object_position": null,
            "object_fit": null,
            "grid_auto_columns": null,
            "margin": null,
            "display": null,
            "left": null
          }
        },
        "4b52ed8459134953a6ae156010ed2462": {
          "model_module": "@jupyter-widgets/controls",
          "model_name": "DescriptionStyleModel",
          "state": {
            "_view_name": "StyleView",
            "_model_name": "DescriptionStyleModel",
            "description_width": "",
            "_view_module": "@jupyter-widgets/base",
            "_model_module_version": "1.5.0",
            "_view_count": null,
            "_view_module_version": "1.2.0",
            "_model_module": "@jupyter-widgets/controls"
          }
        },
        "761ab16acb9647698f7ae48a2ed110c1": {
          "model_module": "@jupyter-widgets/base",
          "model_name": "LayoutModel",
          "state": {
            "_view_name": "LayoutView",
            "grid_template_rows": null,
            "right": null,
            "justify_content": null,
            "_view_module": "@jupyter-widgets/base",
            "overflow": null,
            "_model_module_version": "1.2.0",
            "_view_count": null,
            "flex_flow": null,
            "width": null,
            "min_width": null,
            "border": null,
            "align_items": null,
            "bottom": null,
            "_model_module": "@jupyter-widgets/base",
            "top": null,
            "grid_column": null,
            "overflow_y": null,
            "overflow_x": null,
            "grid_auto_flow": null,
            "grid_area": null,
            "grid_template_columns": null,
            "flex": null,
            "_model_name": "LayoutModel",
            "justify_items": null,
            "grid_row": null,
            "max_height": null,
            "align_content": null,
            "visibility": null,
            "align_self": null,
            "height": null,
            "min_height": null,
            "padding": null,
            "grid_auto_rows": null,
            "grid_gap": null,
            "max_width": null,
            "order": null,
            "_view_module_version": "1.2.0",
            "grid_template_areas": null,
            "object_position": null,
            "object_fit": null,
            "grid_auto_columns": null,
            "margin": null,
            "display": null,
            "left": null
          }
        },
        "a5795f876e3e468a93473e547acbc4de": {
          "model_module": "@jupyter-widgets/controls",
          "model_name": "HBoxModel",
          "state": {
            "_view_name": "HBoxView",
            "_dom_classes": [],
            "_model_name": "HBoxModel",
            "_view_module": "@jupyter-widgets/controls",
            "_model_module_version": "1.5.0",
            "_view_count": null,
            "_view_module_version": "1.5.0",
            "box_style": "",
            "layout": "IPY_MODEL_31d100c741ba4eed849e3dfc9da0a2a5",
            "_model_module": "@jupyter-widgets/controls",
            "children": [
              "IPY_MODEL_043439d535774af591710c81a5460cbc",
              "IPY_MODEL_369cfa84918e4edfbe9aaeb2fb00bf91"
            ]
          }
        },
        "31d100c741ba4eed849e3dfc9da0a2a5": {
          "model_module": "@jupyter-widgets/base",
          "model_name": "LayoutModel",
          "state": {
            "_view_name": "LayoutView",
            "grid_template_rows": null,
            "right": null,
            "justify_content": null,
            "_view_module": "@jupyter-widgets/base",
            "overflow": null,
            "_model_module_version": "1.2.0",
            "_view_count": null,
            "flex_flow": null,
            "width": null,
            "min_width": null,
            "border": null,
            "align_items": null,
            "bottom": null,
            "_model_module": "@jupyter-widgets/base",
            "top": null,
            "grid_column": null,
            "overflow_y": null,
            "overflow_x": null,
            "grid_auto_flow": null,
            "grid_area": null,
            "grid_template_columns": null,
            "flex": null,
            "_model_name": "LayoutModel",
            "justify_items": null,
            "grid_row": null,
            "max_height": null,
            "align_content": null,
            "visibility": null,
            "align_self": null,
            "height": null,
            "min_height": null,
            "padding": null,
            "grid_auto_rows": null,
            "grid_gap": null,
            "max_width": null,
            "order": null,
            "_view_module_version": "1.2.0",
            "grid_template_areas": null,
            "object_position": null,
            "object_fit": null,
            "grid_auto_columns": null,
            "margin": null,
            "display": null,
            "left": null
          }
        },
        "043439d535774af591710c81a5460cbc": {
          "model_module": "@jupyter-widgets/controls",
          "model_name": "FloatProgressModel",
          "state": {
            "_view_name": "ProgressView",
            "style": "IPY_MODEL_b2c597fe81a84f37af682d9b35dcf4af",
            "_dom_classes": [],
            "description": "Epoch: 100%",
            "_model_name": "FloatProgressModel",
            "bar_style": "success",
            "max": 10,
            "_view_module": "@jupyter-widgets/controls",
            "_model_module_version": "1.5.0",
            "value": 10,
            "_view_count": null,
            "_view_module_version": "1.5.0",
            "orientation": "horizontal",
            "min": 0,
            "description_tooltip": null,
            "_model_module": "@jupyter-widgets/controls",
            "layout": "IPY_MODEL_366706edda2d4f4bb6be8d8e61b9b828"
          }
        },
        "369cfa84918e4edfbe9aaeb2fb00bf91": {
          "model_module": "@jupyter-widgets/controls",
          "model_name": "HTMLModel",
          "state": {
            "_view_name": "HTMLView",
            "style": "IPY_MODEL_522c0c61f3b84de3950cd8c20fa33438",
            "_dom_classes": [],
            "description": "",
            "_model_name": "HTMLModel",
            "placeholder": "​",
            "_view_module": "@jupyter-widgets/controls",
            "_model_module_version": "1.5.0",
            "value": " 10/10 [56:39&lt;00:00, 339.99s/it]",
            "_view_count": null,
            "_view_module_version": "1.5.0",
            "description_tooltip": null,
            "_model_module": "@jupyter-widgets/controls",
            "layout": "IPY_MODEL_d7cb808c8fc542f09e4450195d804977"
          }
        },
        "b2c597fe81a84f37af682d9b35dcf4af": {
          "model_module": "@jupyter-widgets/controls",
          "model_name": "ProgressStyleModel",
          "state": {
            "_view_name": "StyleView",
            "_model_name": "ProgressStyleModel",
            "description_width": "initial",
            "_view_module": "@jupyter-widgets/base",
            "_model_module_version": "1.5.0",
            "_view_count": null,
            "_view_module_version": "1.2.0",
            "bar_color": null,
            "_model_module": "@jupyter-widgets/controls"
          }
        },
        "366706edda2d4f4bb6be8d8e61b9b828": {
          "model_module": "@jupyter-widgets/base",
          "model_name": "LayoutModel",
          "state": {
            "_view_name": "LayoutView",
            "grid_template_rows": null,
            "right": null,
            "justify_content": null,
            "_view_module": "@jupyter-widgets/base",
            "overflow": null,
            "_model_module_version": "1.2.0",
            "_view_count": null,
            "flex_flow": null,
            "width": null,
            "min_width": null,
            "border": null,
            "align_items": null,
            "bottom": null,
            "_model_module": "@jupyter-widgets/base",
            "top": null,
            "grid_column": null,
            "overflow_y": null,
            "overflow_x": null,
            "grid_auto_flow": null,
            "grid_area": null,
            "grid_template_columns": null,
            "flex": null,
            "_model_name": "LayoutModel",
            "justify_items": null,
            "grid_row": null,
            "max_height": null,
            "align_content": null,
            "visibility": null,
            "align_self": null,
            "height": null,
            "min_height": null,
            "padding": null,
            "grid_auto_rows": null,
            "grid_gap": null,
            "max_width": null,
            "order": null,
            "_view_module_version": "1.2.0",
            "grid_template_areas": null,
            "object_position": null,
            "object_fit": null,
            "grid_auto_columns": null,
            "margin": null,
            "display": null,
            "left": null
          }
        },
        "522c0c61f3b84de3950cd8c20fa33438": {
          "model_module": "@jupyter-widgets/controls",
          "model_name": "DescriptionStyleModel",
          "state": {
            "_view_name": "StyleView",
            "_model_name": "DescriptionStyleModel",
            "description_width": "",
            "_view_module": "@jupyter-widgets/base",
            "_model_module_version": "1.5.0",
            "_view_count": null,
            "_view_module_version": "1.2.0",
            "_model_module": "@jupyter-widgets/controls"
          }
        },
        "d7cb808c8fc542f09e4450195d804977": {
          "model_module": "@jupyter-widgets/base",
          "model_name": "LayoutModel",
          "state": {
            "_view_name": "LayoutView",
            "grid_template_rows": null,
            "right": null,
            "justify_content": null,
            "_view_module": "@jupyter-widgets/base",
            "overflow": null,
            "_model_module_version": "1.2.0",
            "_view_count": null,
            "flex_flow": null,
            "width": null,
            "min_width": null,
            "border": null,
            "align_items": null,
            "bottom": null,
            "_model_module": "@jupyter-widgets/base",
            "top": null,
            "grid_column": null,
            "overflow_y": null,
            "overflow_x": null,
            "grid_auto_flow": null,
            "grid_area": null,
            "grid_template_columns": null,
            "flex": null,
            "_model_name": "LayoutModel",
            "justify_items": null,
            "grid_row": null,
            "max_height": null,
            "align_content": null,
            "visibility": null,
            "align_self": null,
            "height": null,
            "min_height": null,
            "padding": null,
            "grid_auto_rows": null,
            "grid_gap": null,
            "max_width": null,
            "order": null,
            "_view_module_version": "1.2.0",
            "grid_template_areas": null,
            "object_position": null,
            "object_fit": null,
            "grid_auto_columns": null,
            "margin": null,
            "display": null,
            "left": null
          }
        },
        "906dffeeedbb4e14b266a161ae3451f0": {
          "model_module": "@jupyter-widgets/controls",
          "model_name": "HBoxModel",
          "state": {
            "_view_name": "HBoxView",
            "_dom_classes": [],
            "_model_name": "HBoxModel",
            "_view_module": "@jupyter-widgets/controls",
            "_model_module_version": "1.5.0",
            "_view_count": null,
            "_view_module_version": "1.5.0",
            "box_style": "",
            "layout": "IPY_MODEL_99d5a8480e164cd8a8b13b8811904021",
            "_model_module": "@jupyter-widgets/controls",
            "children": [
              "IPY_MODEL_e1a0259b9ed440ec9ce33b7370f9a35c",
              "IPY_MODEL_b01feb4190204df6ad12a1efcc035c02"
            ]
          }
        },
        "99d5a8480e164cd8a8b13b8811904021": {
          "model_module": "@jupyter-widgets/base",
          "model_name": "LayoutModel",
          "state": {
            "_view_name": "LayoutView",
            "grid_template_rows": null,
            "right": null,
            "justify_content": null,
            "_view_module": "@jupyter-widgets/base",
            "overflow": null,
            "_model_module_version": "1.2.0",
            "_view_count": null,
            "flex_flow": null,
            "width": null,
            "min_width": null,
            "border": null,
            "align_items": null,
            "bottom": null,
            "_model_module": "@jupyter-widgets/base",
            "top": null,
            "grid_column": null,
            "overflow_y": null,
            "overflow_x": null,
            "grid_auto_flow": null,
            "grid_area": null,
            "grid_template_columns": null,
            "flex": null,
            "_model_name": "LayoutModel",
            "justify_items": null,
            "grid_row": null,
            "max_height": null,
            "align_content": null,
            "visibility": null,
            "align_self": null,
            "height": null,
            "min_height": null,
            "padding": null,
            "grid_auto_rows": null,
            "grid_gap": null,
            "max_width": null,
            "order": null,
            "_view_module_version": "1.2.0",
            "grid_template_areas": null,
            "object_position": null,
            "object_fit": null,
            "grid_auto_columns": null,
            "margin": null,
            "display": null,
            "left": null
          }
        },
        "e1a0259b9ed440ec9ce33b7370f9a35c": {
          "model_module": "@jupyter-widgets/controls",
          "model_name": "FloatProgressModel",
          "state": {
            "_view_name": "ProgressView",
            "style": "IPY_MODEL_fc70645a0a6c4d9f8ea97a5f0de10031",
            "_dom_classes": [],
            "description": "Iteration: 100%",
            "_model_name": "FloatProgressModel",
            "bar_style": "success",
            "max": 55,
            "_view_module": "@jupyter-widgets/controls",
            "_model_module_version": "1.5.0",
            "value": 55,
            "_view_count": null,
            "_view_module_version": "1.5.0",
            "orientation": "horizontal",
            "min": 0,
            "description_tooltip": null,
            "_model_module": "@jupyter-widgets/controls",
            "layout": "IPY_MODEL_512bb782abbb46a2981ae1137e640f83"
          }
        },
        "b01feb4190204df6ad12a1efcc035c02": {
          "model_module": "@jupyter-widgets/controls",
          "model_name": "HTMLModel",
          "state": {
            "_view_name": "HTMLView",
            "style": "IPY_MODEL_608b77b1cae946d984099524762bc150",
            "_dom_classes": [],
            "description": "",
            "_model_name": "HTMLModel",
            "placeholder": "​",
            "_view_module": "@jupyter-widgets/controls",
            "_model_module_version": "1.5.0",
            "value": " 55/55 [56:39&lt;00:00, 61.82s/it]",
            "_view_count": null,
            "_view_module_version": "1.5.0",
            "description_tooltip": null,
            "_model_module": "@jupyter-widgets/controls",
            "layout": "IPY_MODEL_8a1527a5f851424d894455a2b71388ae"
          }
        },
        "fc70645a0a6c4d9f8ea97a5f0de10031": {
          "model_module": "@jupyter-widgets/controls",
          "model_name": "ProgressStyleModel",
          "state": {
            "_view_name": "StyleView",
            "_model_name": "ProgressStyleModel",
            "description_width": "initial",
            "_view_module": "@jupyter-widgets/base",
            "_model_module_version": "1.5.0",
            "_view_count": null,
            "_view_module_version": "1.2.0",
            "bar_color": null,
            "_model_module": "@jupyter-widgets/controls"
          }
        },
        "512bb782abbb46a2981ae1137e640f83": {
          "model_module": "@jupyter-widgets/base",
          "model_name": "LayoutModel",
          "state": {
            "_view_name": "LayoutView",
            "grid_template_rows": null,
            "right": null,
            "justify_content": null,
            "_view_module": "@jupyter-widgets/base",
            "overflow": null,
            "_model_module_version": "1.2.0",
            "_view_count": null,
            "flex_flow": null,
            "width": null,
            "min_width": null,
            "border": null,
            "align_items": null,
            "bottom": null,
            "_model_module": "@jupyter-widgets/base",
            "top": null,
            "grid_column": null,
            "overflow_y": null,
            "overflow_x": null,
            "grid_auto_flow": null,
            "grid_area": null,
            "grid_template_columns": null,
            "flex": null,
            "_model_name": "LayoutModel",
            "justify_items": null,
            "grid_row": null,
            "max_height": null,
            "align_content": null,
            "visibility": null,
            "align_self": null,
            "height": null,
            "min_height": null,
            "padding": null,
            "grid_auto_rows": null,
            "grid_gap": null,
            "max_width": null,
            "order": null,
            "_view_module_version": "1.2.0",
            "grid_template_areas": null,
            "object_position": null,
            "object_fit": null,
            "grid_auto_columns": null,
            "margin": null,
            "display": null,
            "left": null
          }
        },
        "608b77b1cae946d984099524762bc150": {
          "model_module": "@jupyter-widgets/controls",
          "model_name": "DescriptionStyleModel",
          "state": {
            "_view_name": "StyleView",
            "_model_name": "DescriptionStyleModel",
            "description_width": "",
            "_view_module": "@jupyter-widgets/base",
            "_model_module_version": "1.5.0",
            "_view_count": null,
            "_view_module_version": "1.2.0",
            "_model_module": "@jupyter-widgets/controls"
          }
        },
        "8a1527a5f851424d894455a2b71388ae": {
          "model_module": "@jupyter-widgets/base",
          "model_name": "LayoutModel",
          "state": {
            "_view_name": "LayoutView",
            "grid_template_rows": null,
            "right": null,
            "justify_content": null,
            "_view_module": "@jupyter-widgets/base",
            "overflow": null,
            "_model_module_version": "1.2.0",
            "_view_count": null,
            "flex_flow": null,
            "width": null,
            "min_width": null,
            "border": null,
            "align_items": null,
            "bottom": null,
            "_model_module": "@jupyter-widgets/base",
            "top": null,
            "grid_column": null,
            "overflow_y": null,
            "overflow_x": null,
            "grid_auto_flow": null,
            "grid_area": null,
            "grid_template_columns": null,
            "flex": null,
            "_model_name": "LayoutModel",
            "justify_items": null,
            "grid_row": null,
            "max_height": null,
            "align_content": null,
            "visibility": null,
            "align_self": null,
            "height": null,
            "min_height": null,
            "padding": null,
            "grid_auto_rows": null,
            "grid_gap": null,
            "max_width": null,
            "order": null,
            "_view_module_version": "1.2.0",
            "grid_template_areas": null,
            "object_position": null,
            "object_fit": null,
            "grid_auto_columns": null,
            "margin": null,
            "display": null,
            "left": null
          }
        },
        "c800bf33473d495fa2749a1285743692": {
          "model_module": "@jupyter-widgets/controls",
          "model_name": "HBoxModel",
          "state": {
            "_view_name": "HBoxView",
            "_dom_classes": [],
            "_model_name": "HBoxModel",
            "_view_module": "@jupyter-widgets/controls",
            "_model_module_version": "1.5.0",
            "_view_count": null,
            "_view_module_version": "1.5.0",
            "box_style": "",
            "layout": "IPY_MODEL_ec70bf62f85948fc958b4a0169b6e8c4",
            "_model_module": "@jupyter-widgets/controls",
            "children": [
              "IPY_MODEL_d6c2665af51247f09bf76978be03c1a1",
              "IPY_MODEL_0fb6c62823234b2eb57cc20dba0aac10"
            ]
          }
        },
        "ec70bf62f85948fc958b4a0169b6e8c4": {
          "model_module": "@jupyter-widgets/base",
          "model_name": "LayoutModel",
          "state": {
            "_view_name": "LayoutView",
            "grid_template_rows": null,
            "right": null,
            "justify_content": null,
            "_view_module": "@jupyter-widgets/base",
            "overflow": null,
            "_model_module_version": "1.2.0",
            "_view_count": null,
            "flex_flow": null,
            "width": null,
            "min_width": null,
            "border": null,
            "align_items": null,
            "bottom": null,
            "_model_module": "@jupyter-widgets/base",
            "top": null,
            "grid_column": null,
            "overflow_y": null,
            "overflow_x": null,
            "grid_auto_flow": null,
            "grid_area": null,
            "grid_template_columns": null,
            "flex": null,
            "_model_name": "LayoutModel",
            "justify_items": null,
            "grid_row": null,
            "max_height": null,
            "align_content": null,
            "visibility": null,
            "align_self": null,
            "height": null,
            "min_height": null,
            "padding": null,
            "grid_auto_rows": null,
            "grid_gap": null,
            "max_width": null,
            "order": null,
            "_view_module_version": "1.2.0",
            "grid_template_areas": null,
            "object_position": null,
            "object_fit": null,
            "grid_auto_columns": null,
            "margin": null,
            "display": null,
            "left": null
          }
        },
        "d6c2665af51247f09bf76978be03c1a1": {
          "model_module": "@jupyter-widgets/controls",
          "model_name": "FloatProgressModel",
          "state": {
            "_view_name": "ProgressView",
            "style": "IPY_MODEL_d774e3f813ea4fa2a120d413a93ad535",
            "_dom_classes": [],
            "description": "Iteration: 100%",
            "_model_name": "FloatProgressModel",
            "bar_style": "success",
            "max": 55,
            "_view_module": "@jupyter-widgets/controls",
            "_model_module_version": "1.5.0",
            "value": 55,
            "_view_count": null,
            "_view_module_version": "1.5.0",
            "orientation": "horizontal",
            "min": 0,
            "description_tooltip": null,
            "_model_module": "@jupyter-widgets/controls",
            "layout": "IPY_MODEL_48308629b3b541d1ac396f7139388814"
          }
        },
        "0fb6c62823234b2eb57cc20dba0aac10": {
          "model_module": "@jupyter-widgets/controls",
          "model_name": "HTMLModel",
          "state": {
            "_view_name": "HTMLView",
            "style": "IPY_MODEL_8605fabf3d624a499c9782af1001451a",
            "_dom_classes": [],
            "description": "",
            "_model_name": "HTMLModel",
            "placeholder": "​",
            "_view_module": "@jupyter-widgets/controls",
            "_model_module_version": "1.5.0",
            "value": " 55/55 [53:59&lt;00:00, 58.90s/it]",
            "_view_count": null,
            "_view_module_version": "1.5.0",
            "description_tooltip": null,
            "_model_module": "@jupyter-widgets/controls",
            "layout": "IPY_MODEL_d665cb5ba86449f9814b049acbb69276"
          }
        },
        "d774e3f813ea4fa2a120d413a93ad535": {
          "model_module": "@jupyter-widgets/controls",
          "model_name": "ProgressStyleModel",
          "state": {
            "_view_name": "StyleView",
            "_model_name": "ProgressStyleModel",
            "description_width": "initial",
            "_view_module": "@jupyter-widgets/base",
            "_model_module_version": "1.5.0",
            "_view_count": null,
            "_view_module_version": "1.2.0",
            "bar_color": null,
            "_model_module": "@jupyter-widgets/controls"
          }
        },
        "48308629b3b541d1ac396f7139388814": {
          "model_module": "@jupyter-widgets/base",
          "model_name": "LayoutModel",
          "state": {
            "_view_name": "LayoutView",
            "grid_template_rows": null,
            "right": null,
            "justify_content": null,
            "_view_module": "@jupyter-widgets/base",
            "overflow": null,
            "_model_module_version": "1.2.0",
            "_view_count": null,
            "flex_flow": null,
            "width": null,
            "min_width": null,
            "border": null,
            "align_items": null,
            "bottom": null,
            "_model_module": "@jupyter-widgets/base",
            "top": null,
            "grid_column": null,
            "overflow_y": null,
            "overflow_x": null,
            "grid_auto_flow": null,
            "grid_area": null,
            "grid_template_columns": null,
            "flex": null,
            "_model_name": "LayoutModel",
            "justify_items": null,
            "grid_row": null,
            "max_height": null,
            "align_content": null,
            "visibility": null,
            "align_self": null,
            "height": null,
            "min_height": null,
            "padding": null,
            "grid_auto_rows": null,
            "grid_gap": null,
            "max_width": null,
            "order": null,
            "_view_module_version": "1.2.0",
            "grid_template_areas": null,
            "object_position": null,
            "object_fit": null,
            "grid_auto_columns": null,
            "margin": null,
            "display": null,
            "left": null
          }
        },
        "8605fabf3d624a499c9782af1001451a": {
          "model_module": "@jupyter-widgets/controls",
          "model_name": "DescriptionStyleModel",
          "state": {
            "_view_name": "StyleView",
            "_model_name": "DescriptionStyleModel",
            "description_width": "",
            "_view_module": "@jupyter-widgets/base",
            "_model_module_version": "1.5.0",
            "_view_count": null,
            "_view_module_version": "1.2.0",
            "_model_module": "@jupyter-widgets/controls"
          }
        },
        "d665cb5ba86449f9814b049acbb69276": {
          "model_module": "@jupyter-widgets/base",
          "model_name": "LayoutModel",
          "state": {
            "_view_name": "LayoutView",
            "grid_template_rows": null,
            "right": null,
            "justify_content": null,
            "_view_module": "@jupyter-widgets/base",
            "overflow": null,
            "_model_module_version": "1.2.0",
            "_view_count": null,
            "flex_flow": null,
            "width": null,
            "min_width": null,
            "border": null,
            "align_items": null,
            "bottom": null,
            "_model_module": "@jupyter-widgets/base",
            "top": null,
            "grid_column": null,
            "overflow_y": null,
            "overflow_x": null,
            "grid_auto_flow": null,
            "grid_area": null,
            "grid_template_columns": null,
            "flex": null,
            "_model_name": "LayoutModel",
            "justify_items": null,
            "grid_row": null,
            "max_height": null,
            "align_content": null,
            "visibility": null,
            "align_self": null,
            "height": null,
            "min_height": null,
            "padding": null,
            "grid_auto_rows": null,
            "grid_gap": null,
            "max_width": null,
            "order": null,
            "_view_module_version": "1.2.0",
            "grid_template_areas": null,
            "object_position": null,
            "object_fit": null,
            "grid_auto_columns": null,
            "margin": null,
            "display": null,
            "left": null
          }
        },
        "482f6525ba874aefb6aa8bf55e5e38f1": {
          "model_module": "@jupyter-widgets/controls",
          "model_name": "HBoxModel",
          "state": {
            "_view_name": "HBoxView",
            "_dom_classes": [],
            "_model_name": "HBoxModel",
            "_view_module": "@jupyter-widgets/controls",
            "_model_module_version": "1.5.0",
            "_view_count": null,
            "_view_module_version": "1.5.0",
            "box_style": "",
            "layout": "IPY_MODEL_2745ad9c8f734f5ebe5888abc56d744b",
            "_model_module": "@jupyter-widgets/controls",
            "children": [
              "IPY_MODEL_efad72eb124b4754864627bbfe81be0f",
              "IPY_MODEL_384bc6c919b9429b8505188afdfbddb2"
            ]
          }
        },
        "2745ad9c8f734f5ebe5888abc56d744b": {
          "model_module": "@jupyter-widgets/base",
          "model_name": "LayoutModel",
          "state": {
            "_view_name": "LayoutView",
            "grid_template_rows": null,
            "right": null,
            "justify_content": null,
            "_view_module": "@jupyter-widgets/base",
            "overflow": null,
            "_model_module_version": "1.2.0",
            "_view_count": null,
            "flex_flow": null,
            "width": null,
            "min_width": null,
            "border": null,
            "align_items": null,
            "bottom": null,
            "_model_module": "@jupyter-widgets/base",
            "top": null,
            "grid_column": null,
            "overflow_y": null,
            "overflow_x": null,
            "grid_auto_flow": null,
            "grid_area": null,
            "grid_template_columns": null,
            "flex": null,
            "_model_name": "LayoutModel",
            "justify_items": null,
            "grid_row": null,
            "max_height": null,
            "align_content": null,
            "visibility": null,
            "align_self": null,
            "height": null,
            "min_height": null,
            "padding": null,
            "grid_auto_rows": null,
            "grid_gap": null,
            "max_width": null,
            "order": null,
            "_view_module_version": "1.2.0",
            "grid_template_areas": null,
            "object_position": null,
            "object_fit": null,
            "grid_auto_columns": null,
            "margin": null,
            "display": null,
            "left": null
          }
        },
        "efad72eb124b4754864627bbfe81be0f": {
          "model_module": "@jupyter-widgets/controls",
          "model_name": "FloatProgressModel",
          "state": {
            "_view_name": "ProgressView",
            "style": "IPY_MODEL_2dd012fdc952414c9af4ff2e55f571ff",
            "_dom_classes": [],
            "description": "Iteration: 100%",
            "_model_name": "FloatProgressModel",
            "bar_style": "success",
            "max": 55,
            "_view_module": "@jupyter-widgets/controls",
            "_model_module_version": "1.5.0",
            "value": 55,
            "_view_count": null,
            "_view_module_version": "1.5.0",
            "orientation": "horizontal",
            "min": 0,
            "description_tooltip": null,
            "_model_module": "@jupyter-widgets/controls",
            "layout": "IPY_MODEL_42dc684f875b4b50bdb08a5cb30072ba"
          }
        },
        "384bc6c919b9429b8505188afdfbddb2": {
          "model_module": "@jupyter-widgets/controls",
          "model_name": "HTMLModel",
          "state": {
            "_view_name": "HTMLView",
            "style": "IPY_MODEL_5801e3124c2f4630ab1e2d5a1f0b8585",
            "_dom_classes": [],
            "description": "",
            "_model_name": "HTMLModel",
            "placeholder": "​",
            "_view_module": "@jupyter-widgets/controls",
            "_model_module_version": "1.5.0",
            "value": " 55/55 [50:51&lt;00:00, 55.48s/it]",
            "_view_count": null,
            "_view_module_version": "1.5.0",
            "description_tooltip": null,
            "_model_module": "@jupyter-widgets/controls",
            "layout": "IPY_MODEL_12fc9c8be3db4d4b8deb1d7f0d55c8cb"
          }
        },
        "2dd012fdc952414c9af4ff2e55f571ff": {
          "model_module": "@jupyter-widgets/controls",
          "model_name": "ProgressStyleModel",
          "state": {
            "_view_name": "StyleView",
            "_model_name": "ProgressStyleModel",
            "description_width": "initial",
            "_view_module": "@jupyter-widgets/base",
            "_model_module_version": "1.5.0",
            "_view_count": null,
            "_view_module_version": "1.2.0",
            "bar_color": null,
            "_model_module": "@jupyter-widgets/controls"
          }
        },
        "42dc684f875b4b50bdb08a5cb30072ba": {
          "model_module": "@jupyter-widgets/base",
          "model_name": "LayoutModel",
          "state": {
            "_view_name": "LayoutView",
            "grid_template_rows": null,
            "right": null,
            "justify_content": null,
            "_view_module": "@jupyter-widgets/base",
            "overflow": null,
            "_model_module_version": "1.2.0",
            "_view_count": null,
            "flex_flow": null,
            "width": null,
            "min_width": null,
            "border": null,
            "align_items": null,
            "bottom": null,
            "_model_module": "@jupyter-widgets/base",
            "top": null,
            "grid_column": null,
            "overflow_y": null,
            "overflow_x": null,
            "grid_auto_flow": null,
            "grid_area": null,
            "grid_template_columns": null,
            "flex": null,
            "_model_name": "LayoutModel",
            "justify_items": null,
            "grid_row": null,
            "max_height": null,
            "align_content": null,
            "visibility": null,
            "align_self": null,
            "height": null,
            "min_height": null,
            "padding": null,
            "grid_auto_rows": null,
            "grid_gap": null,
            "max_width": null,
            "order": null,
            "_view_module_version": "1.2.0",
            "grid_template_areas": null,
            "object_position": null,
            "object_fit": null,
            "grid_auto_columns": null,
            "margin": null,
            "display": null,
            "left": null
          }
        },
        "5801e3124c2f4630ab1e2d5a1f0b8585": {
          "model_module": "@jupyter-widgets/controls",
          "model_name": "DescriptionStyleModel",
          "state": {
            "_view_name": "StyleView",
            "_model_name": "DescriptionStyleModel",
            "description_width": "",
            "_view_module": "@jupyter-widgets/base",
            "_model_module_version": "1.5.0",
            "_view_count": null,
            "_view_module_version": "1.2.0",
            "_model_module": "@jupyter-widgets/controls"
          }
        },
        "12fc9c8be3db4d4b8deb1d7f0d55c8cb": {
          "model_module": "@jupyter-widgets/base",
          "model_name": "LayoutModel",
          "state": {
            "_view_name": "LayoutView",
            "grid_template_rows": null,
            "right": null,
            "justify_content": null,
            "_view_module": "@jupyter-widgets/base",
            "overflow": null,
            "_model_module_version": "1.2.0",
            "_view_count": null,
            "flex_flow": null,
            "width": null,
            "min_width": null,
            "border": null,
            "align_items": null,
            "bottom": null,
            "_model_module": "@jupyter-widgets/base",
            "top": null,
            "grid_column": null,
            "overflow_y": null,
            "overflow_x": null,
            "grid_auto_flow": null,
            "grid_area": null,
            "grid_template_columns": null,
            "flex": null,
            "_model_name": "LayoutModel",
            "justify_items": null,
            "grid_row": null,
            "max_height": null,
            "align_content": null,
            "visibility": null,
            "align_self": null,
            "height": null,
            "min_height": null,
            "padding": null,
            "grid_auto_rows": null,
            "grid_gap": null,
            "max_width": null,
            "order": null,
            "_view_module_version": "1.2.0",
            "grid_template_areas": null,
            "object_position": null,
            "object_fit": null,
            "grid_auto_columns": null,
            "margin": null,
            "display": null,
            "left": null
          }
        },
        "baea5156a65645fa9c03903cb06484d3": {
          "model_module": "@jupyter-widgets/controls",
          "model_name": "HBoxModel",
          "state": {
            "_view_name": "HBoxView",
            "_dom_classes": [],
            "_model_name": "HBoxModel",
            "_view_module": "@jupyter-widgets/controls",
            "_model_module_version": "1.5.0",
            "_view_count": null,
            "_view_module_version": "1.5.0",
            "box_style": "",
            "layout": "IPY_MODEL_277953479add4186ae3b9be28e88b1ef",
            "_model_module": "@jupyter-widgets/controls",
            "children": [
              "IPY_MODEL_192d3a2f41094492b85a4c033621cea2",
              "IPY_MODEL_1bb32216631045a8ad189eeb4913ef96"
            ]
          }
        },
        "277953479add4186ae3b9be28e88b1ef": {
          "model_module": "@jupyter-widgets/base",
          "model_name": "LayoutModel",
          "state": {
            "_view_name": "LayoutView",
            "grid_template_rows": null,
            "right": null,
            "justify_content": null,
            "_view_module": "@jupyter-widgets/base",
            "overflow": null,
            "_model_module_version": "1.2.0",
            "_view_count": null,
            "flex_flow": null,
            "width": null,
            "min_width": null,
            "border": null,
            "align_items": null,
            "bottom": null,
            "_model_module": "@jupyter-widgets/base",
            "top": null,
            "grid_column": null,
            "overflow_y": null,
            "overflow_x": null,
            "grid_auto_flow": null,
            "grid_area": null,
            "grid_template_columns": null,
            "flex": null,
            "_model_name": "LayoutModel",
            "justify_items": null,
            "grid_row": null,
            "max_height": null,
            "align_content": null,
            "visibility": null,
            "align_self": null,
            "height": null,
            "min_height": null,
            "padding": null,
            "grid_auto_rows": null,
            "grid_gap": null,
            "max_width": null,
            "order": null,
            "_view_module_version": "1.2.0",
            "grid_template_areas": null,
            "object_position": null,
            "object_fit": null,
            "grid_auto_columns": null,
            "margin": null,
            "display": null,
            "left": null
          }
        },
        "192d3a2f41094492b85a4c033621cea2": {
          "model_module": "@jupyter-widgets/controls",
          "model_name": "FloatProgressModel",
          "state": {
            "_view_name": "ProgressView",
            "style": "IPY_MODEL_aa065144f40b4e31acafe7c5b4ddaec7",
            "_dom_classes": [],
            "description": "Iteration: 100%",
            "_model_name": "FloatProgressModel",
            "bar_style": "success",
            "max": 55,
            "_view_module": "@jupyter-widgets/controls",
            "_model_module_version": "1.5.0",
            "value": 55,
            "_view_count": null,
            "_view_module_version": "1.5.0",
            "orientation": "horizontal",
            "min": 0,
            "description_tooltip": null,
            "_model_module": "@jupyter-widgets/controls",
            "layout": "IPY_MODEL_4dbc758669054c25bad3a86695b48c5a"
          }
        },
        "1bb32216631045a8ad189eeb4913ef96": {
          "model_module": "@jupyter-widgets/controls",
          "model_name": "HTMLModel",
          "state": {
            "_view_name": "HTMLView",
            "style": "IPY_MODEL_c52136cf376747f09bafc81c23a3ca8a",
            "_dom_classes": [],
            "description": "",
            "_model_name": "HTMLModel",
            "placeholder": "​",
            "_view_module": "@jupyter-widgets/controls",
            "_model_module_version": "1.5.0",
            "value": " 55/55 [47:39&lt;00:00, 52.00s/it]",
            "_view_count": null,
            "_view_module_version": "1.5.0",
            "description_tooltip": null,
            "_model_module": "@jupyter-widgets/controls",
            "layout": "IPY_MODEL_88eeaff069cc4288995e4a61b135e7eb"
          }
        },
        "aa065144f40b4e31acafe7c5b4ddaec7": {
          "model_module": "@jupyter-widgets/controls",
          "model_name": "ProgressStyleModel",
          "state": {
            "_view_name": "StyleView",
            "_model_name": "ProgressStyleModel",
            "description_width": "initial",
            "_view_module": "@jupyter-widgets/base",
            "_model_module_version": "1.5.0",
            "_view_count": null,
            "_view_module_version": "1.2.0",
            "bar_color": null,
            "_model_module": "@jupyter-widgets/controls"
          }
        },
        "4dbc758669054c25bad3a86695b48c5a": {
          "model_module": "@jupyter-widgets/base",
          "model_name": "LayoutModel",
          "state": {
            "_view_name": "LayoutView",
            "grid_template_rows": null,
            "right": null,
            "justify_content": null,
            "_view_module": "@jupyter-widgets/base",
            "overflow": null,
            "_model_module_version": "1.2.0",
            "_view_count": null,
            "flex_flow": null,
            "width": null,
            "min_width": null,
            "border": null,
            "align_items": null,
            "bottom": null,
            "_model_module": "@jupyter-widgets/base",
            "top": null,
            "grid_column": null,
            "overflow_y": null,
            "overflow_x": null,
            "grid_auto_flow": null,
            "grid_area": null,
            "grid_template_columns": null,
            "flex": null,
            "_model_name": "LayoutModel",
            "justify_items": null,
            "grid_row": null,
            "max_height": null,
            "align_content": null,
            "visibility": null,
            "align_self": null,
            "height": null,
            "min_height": null,
            "padding": null,
            "grid_auto_rows": null,
            "grid_gap": null,
            "max_width": null,
            "order": null,
            "_view_module_version": "1.2.0",
            "grid_template_areas": null,
            "object_position": null,
            "object_fit": null,
            "grid_auto_columns": null,
            "margin": null,
            "display": null,
            "left": null
          }
        },
        "c52136cf376747f09bafc81c23a3ca8a": {
          "model_module": "@jupyter-widgets/controls",
          "model_name": "DescriptionStyleModel",
          "state": {
            "_view_name": "StyleView",
            "_model_name": "DescriptionStyleModel",
            "description_width": "",
            "_view_module": "@jupyter-widgets/base",
            "_model_module_version": "1.5.0",
            "_view_count": null,
            "_view_module_version": "1.2.0",
            "_model_module": "@jupyter-widgets/controls"
          }
        },
        "88eeaff069cc4288995e4a61b135e7eb": {
          "model_module": "@jupyter-widgets/base",
          "model_name": "LayoutModel",
          "state": {
            "_view_name": "LayoutView",
            "grid_template_rows": null,
            "right": null,
            "justify_content": null,
            "_view_module": "@jupyter-widgets/base",
            "overflow": null,
            "_model_module_version": "1.2.0",
            "_view_count": null,
            "flex_flow": null,
            "width": null,
            "min_width": null,
            "border": null,
            "align_items": null,
            "bottom": null,
            "_model_module": "@jupyter-widgets/base",
            "top": null,
            "grid_column": null,
            "overflow_y": null,
            "overflow_x": null,
            "grid_auto_flow": null,
            "grid_area": null,
            "grid_template_columns": null,
            "flex": null,
            "_model_name": "LayoutModel",
            "justify_items": null,
            "grid_row": null,
            "max_height": null,
            "align_content": null,
            "visibility": null,
            "align_self": null,
            "height": null,
            "min_height": null,
            "padding": null,
            "grid_auto_rows": null,
            "grid_gap": null,
            "max_width": null,
            "order": null,
            "_view_module_version": "1.2.0",
            "grid_template_areas": null,
            "object_position": null,
            "object_fit": null,
            "grid_auto_columns": null,
            "margin": null,
            "display": null,
            "left": null
          }
        },
        "dcfca0447e644038b16fde8b25eba8b6": {
          "model_module": "@jupyter-widgets/controls",
          "model_name": "HBoxModel",
          "state": {
            "_view_name": "HBoxView",
            "_dom_classes": [],
            "_model_name": "HBoxModel",
            "_view_module": "@jupyter-widgets/controls",
            "_model_module_version": "1.5.0",
            "_view_count": null,
            "_view_module_version": "1.5.0",
            "box_style": "",
            "layout": "IPY_MODEL_1e9230113e1641fa92529dd1ad37de5a",
            "_model_module": "@jupyter-widgets/controls",
            "children": [
              "IPY_MODEL_5f24f932f42b49229a99175e54bc172d",
              "IPY_MODEL_6905386d262744c18f5d62adb07ef9f0"
            ]
          }
        },
        "1e9230113e1641fa92529dd1ad37de5a": {
          "model_module": "@jupyter-widgets/base",
          "model_name": "LayoutModel",
          "state": {
            "_view_name": "LayoutView",
            "grid_template_rows": null,
            "right": null,
            "justify_content": null,
            "_view_module": "@jupyter-widgets/base",
            "overflow": null,
            "_model_module_version": "1.2.0",
            "_view_count": null,
            "flex_flow": null,
            "width": null,
            "min_width": null,
            "border": null,
            "align_items": null,
            "bottom": null,
            "_model_module": "@jupyter-widgets/base",
            "top": null,
            "grid_column": null,
            "overflow_y": null,
            "overflow_x": null,
            "grid_auto_flow": null,
            "grid_area": null,
            "grid_template_columns": null,
            "flex": null,
            "_model_name": "LayoutModel",
            "justify_items": null,
            "grid_row": null,
            "max_height": null,
            "align_content": null,
            "visibility": null,
            "align_self": null,
            "height": null,
            "min_height": null,
            "padding": null,
            "grid_auto_rows": null,
            "grid_gap": null,
            "max_width": null,
            "order": null,
            "_view_module_version": "1.2.0",
            "grid_template_areas": null,
            "object_position": null,
            "object_fit": null,
            "grid_auto_columns": null,
            "margin": null,
            "display": null,
            "left": null
          }
        },
        "5f24f932f42b49229a99175e54bc172d": {
          "model_module": "@jupyter-widgets/controls",
          "model_name": "FloatProgressModel",
          "state": {
            "_view_name": "ProgressView",
            "style": "IPY_MODEL_3144e5672bac4da3907cf9490b9a944b",
            "_dom_classes": [],
            "description": "Iteration: 100%",
            "_model_name": "FloatProgressModel",
            "bar_style": "success",
            "max": 55,
            "_view_module": "@jupyter-widgets/controls",
            "_model_module_version": "1.5.0",
            "value": 55,
            "_view_count": null,
            "_view_module_version": "1.5.0",
            "orientation": "horizontal",
            "min": 0,
            "description_tooltip": null,
            "_model_module": "@jupyter-widgets/controls",
            "layout": "IPY_MODEL_f56904abea814f8c8815c939fdc74810"
          }
        },
        "6905386d262744c18f5d62adb07ef9f0": {
          "model_module": "@jupyter-widgets/controls",
          "model_name": "HTMLModel",
          "state": {
            "_view_name": "HTMLView",
            "style": "IPY_MODEL_c7b0f93cac6b4d11ae078f56a20de53c",
            "_dom_classes": [],
            "description": "",
            "_model_name": "HTMLModel",
            "placeholder": "​",
            "_view_module": "@jupyter-widgets/controls",
            "_model_module_version": "1.5.0",
            "value": " 55/55 [44:31&lt;00:00, 48.57s/it]",
            "_view_count": null,
            "_view_module_version": "1.5.0",
            "description_tooltip": null,
            "_model_module": "@jupyter-widgets/controls",
            "layout": "IPY_MODEL_c6a03577fdf6489fac6e49412d12253a"
          }
        },
        "3144e5672bac4da3907cf9490b9a944b": {
          "model_module": "@jupyter-widgets/controls",
          "model_name": "ProgressStyleModel",
          "state": {
            "_view_name": "StyleView",
            "_model_name": "ProgressStyleModel",
            "description_width": "initial",
            "_view_module": "@jupyter-widgets/base",
            "_model_module_version": "1.5.0",
            "_view_count": null,
            "_view_module_version": "1.2.0",
            "bar_color": null,
            "_model_module": "@jupyter-widgets/controls"
          }
        },
        "f56904abea814f8c8815c939fdc74810": {
          "model_module": "@jupyter-widgets/base",
          "model_name": "LayoutModel",
          "state": {
            "_view_name": "LayoutView",
            "grid_template_rows": null,
            "right": null,
            "justify_content": null,
            "_view_module": "@jupyter-widgets/base",
            "overflow": null,
            "_model_module_version": "1.2.0",
            "_view_count": null,
            "flex_flow": null,
            "width": null,
            "min_width": null,
            "border": null,
            "align_items": null,
            "bottom": null,
            "_model_module": "@jupyter-widgets/base",
            "top": null,
            "grid_column": null,
            "overflow_y": null,
            "overflow_x": null,
            "grid_auto_flow": null,
            "grid_area": null,
            "grid_template_columns": null,
            "flex": null,
            "_model_name": "LayoutModel",
            "justify_items": null,
            "grid_row": null,
            "max_height": null,
            "align_content": null,
            "visibility": null,
            "align_self": null,
            "height": null,
            "min_height": null,
            "padding": null,
            "grid_auto_rows": null,
            "grid_gap": null,
            "max_width": null,
            "order": null,
            "_view_module_version": "1.2.0",
            "grid_template_areas": null,
            "object_position": null,
            "object_fit": null,
            "grid_auto_columns": null,
            "margin": null,
            "display": null,
            "left": null
          }
        },
        "c7b0f93cac6b4d11ae078f56a20de53c": {
          "model_module": "@jupyter-widgets/controls",
          "model_name": "DescriptionStyleModel",
          "state": {
            "_view_name": "StyleView",
            "_model_name": "DescriptionStyleModel",
            "description_width": "",
            "_view_module": "@jupyter-widgets/base",
            "_model_module_version": "1.5.0",
            "_view_count": null,
            "_view_module_version": "1.2.0",
            "_model_module": "@jupyter-widgets/controls"
          }
        },
        "c6a03577fdf6489fac6e49412d12253a": {
          "model_module": "@jupyter-widgets/base",
          "model_name": "LayoutModel",
          "state": {
            "_view_name": "LayoutView",
            "grid_template_rows": null,
            "right": null,
            "justify_content": null,
            "_view_module": "@jupyter-widgets/base",
            "overflow": null,
            "_model_module_version": "1.2.0",
            "_view_count": null,
            "flex_flow": null,
            "width": null,
            "min_width": null,
            "border": null,
            "align_items": null,
            "bottom": null,
            "_model_module": "@jupyter-widgets/base",
            "top": null,
            "grid_column": null,
            "overflow_y": null,
            "overflow_x": null,
            "grid_auto_flow": null,
            "grid_area": null,
            "grid_template_columns": null,
            "flex": null,
            "_model_name": "LayoutModel",
            "justify_items": null,
            "grid_row": null,
            "max_height": null,
            "align_content": null,
            "visibility": null,
            "align_self": null,
            "height": null,
            "min_height": null,
            "padding": null,
            "grid_auto_rows": null,
            "grid_gap": null,
            "max_width": null,
            "order": null,
            "_view_module_version": "1.2.0",
            "grid_template_areas": null,
            "object_position": null,
            "object_fit": null,
            "grid_auto_columns": null,
            "margin": null,
            "display": null,
            "left": null
          }
        },
        "11a6e13b77b346cbb092a9b8353e8316": {
          "model_module": "@jupyter-widgets/controls",
          "model_name": "HBoxModel",
          "state": {
            "_view_name": "HBoxView",
            "_dom_classes": [],
            "_model_name": "HBoxModel",
            "_view_module": "@jupyter-widgets/controls",
            "_model_module_version": "1.5.0",
            "_view_count": null,
            "_view_module_version": "1.5.0",
            "box_style": "",
            "layout": "IPY_MODEL_d2ddc8f2918945b7a214354e1e54a876",
            "_model_module": "@jupyter-widgets/controls",
            "children": [
              "IPY_MODEL_1b76cd2b774f462abfb623e624e96f06",
              "IPY_MODEL_3dee6b3cf4034dbcb71678e92d161d62"
            ]
          }
        },
        "d2ddc8f2918945b7a214354e1e54a876": {
          "model_module": "@jupyter-widgets/base",
          "model_name": "LayoutModel",
          "state": {
            "_view_name": "LayoutView",
            "grid_template_rows": null,
            "right": null,
            "justify_content": null,
            "_view_module": "@jupyter-widgets/base",
            "overflow": null,
            "_model_module_version": "1.2.0",
            "_view_count": null,
            "flex_flow": null,
            "width": null,
            "min_width": null,
            "border": null,
            "align_items": null,
            "bottom": null,
            "_model_module": "@jupyter-widgets/base",
            "top": null,
            "grid_column": null,
            "overflow_y": null,
            "overflow_x": null,
            "grid_auto_flow": null,
            "grid_area": null,
            "grid_template_columns": null,
            "flex": null,
            "_model_name": "LayoutModel",
            "justify_items": null,
            "grid_row": null,
            "max_height": null,
            "align_content": null,
            "visibility": null,
            "align_self": null,
            "height": null,
            "min_height": null,
            "padding": null,
            "grid_auto_rows": null,
            "grid_gap": null,
            "max_width": null,
            "order": null,
            "_view_module_version": "1.2.0",
            "grid_template_areas": null,
            "object_position": null,
            "object_fit": null,
            "grid_auto_columns": null,
            "margin": null,
            "display": null,
            "left": null
          }
        },
        "1b76cd2b774f462abfb623e624e96f06": {
          "model_module": "@jupyter-widgets/controls",
          "model_name": "FloatProgressModel",
          "state": {
            "_view_name": "ProgressView",
            "style": "IPY_MODEL_823145afd0514a75a89645316523f494",
            "_dom_classes": [],
            "description": "Iteration: 100%",
            "_model_name": "FloatProgressModel",
            "bar_style": "success",
            "max": 55,
            "_view_module": "@jupyter-widgets/controls",
            "_model_module_version": "1.5.0",
            "value": 55,
            "_view_count": null,
            "_view_module_version": "1.5.0",
            "orientation": "horizontal",
            "min": 0,
            "description_tooltip": null,
            "_model_module": "@jupyter-widgets/controls",
            "layout": "IPY_MODEL_e0bd5a68030345078c0449e108162d39"
          }
        },
        "3dee6b3cf4034dbcb71678e92d161d62": {
          "model_module": "@jupyter-widgets/controls",
          "model_name": "HTMLModel",
          "state": {
            "_view_name": "HTMLView",
            "style": "IPY_MODEL_a92a170ab9064e09b4ea860d07a1e5be",
            "_dom_classes": [],
            "description": "",
            "_model_name": "HTMLModel",
            "placeholder": "​",
            "_view_module": "@jupyter-widgets/controls",
            "_model_module_version": "1.5.0",
            "value": " 55/55 [41:21&lt;00:00, 45.12s/it]",
            "_view_count": null,
            "_view_module_version": "1.5.0",
            "description_tooltip": null,
            "_model_module": "@jupyter-widgets/controls",
            "layout": "IPY_MODEL_ddc8b2b9121644cdb2ad9e2294b288db"
          }
        },
        "823145afd0514a75a89645316523f494": {
          "model_module": "@jupyter-widgets/controls",
          "model_name": "ProgressStyleModel",
          "state": {
            "_view_name": "StyleView",
            "_model_name": "ProgressStyleModel",
            "description_width": "initial",
            "_view_module": "@jupyter-widgets/base",
            "_model_module_version": "1.5.0",
            "_view_count": null,
            "_view_module_version": "1.2.0",
            "bar_color": null,
            "_model_module": "@jupyter-widgets/controls"
          }
        },
        "e0bd5a68030345078c0449e108162d39": {
          "model_module": "@jupyter-widgets/base",
          "model_name": "LayoutModel",
          "state": {
            "_view_name": "LayoutView",
            "grid_template_rows": null,
            "right": null,
            "justify_content": null,
            "_view_module": "@jupyter-widgets/base",
            "overflow": null,
            "_model_module_version": "1.2.0",
            "_view_count": null,
            "flex_flow": null,
            "width": null,
            "min_width": null,
            "border": null,
            "align_items": null,
            "bottom": null,
            "_model_module": "@jupyter-widgets/base",
            "top": null,
            "grid_column": null,
            "overflow_y": null,
            "overflow_x": null,
            "grid_auto_flow": null,
            "grid_area": null,
            "grid_template_columns": null,
            "flex": null,
            "_model_name": "LayoutModel",
            "justify_items": null,
            "grid_row": null,
            "max_height": null,
            "align_content": null,
            "visibility": null,
            "align_self": null,
            "height": null,
            "min_height": null,
            "padding": null,
            "grid_auto_rows": null,
            "grid_gap": null,
            "max_width": null,
            "order": null,
            "_view_module_version": "1.2.0",
            "grid_template_areas": null,
            "object_position": null,
            "object_fit": null,
            "grid_auto_columns": null,
            "margin": null,
            "display": null,
            "left": null
          }
        },
        "a92a170ab9064e09b4ea860d07a1e5be": {
          "model_module": "@jupyter-widgets/controls",
          "model_name": "DescriptionStyleModel",
          "state": {
            "_view_name": "StyleView",
            "_model_name": "DescriptionStyleModel",
            "description_width": "",
            "_view_module": "@jupyter-widgets/base",
            "_model_module_version": "1.5.0",
            "_view_count": null,
            "_view_module_version": "1.2.0",
            "_model_module": "@jupyter-widgets/controls"
          }
        },
        "ddc8b2b9121644cdb2ad9e2294b288db": {
          "model_module": "@jupyter-widgets/base",
          "model_name": "LayoutModel",
          "state": {
            "_view_name": "LayoutView",
            "grid_template_rows": null,
            "right": null,
            "justify_content": null,
            "_view_module": "@jupyter-widgets/base",
            "overflow": null,
            "_model_module_version": "1.2.0",
            "_view_count": null,
            "flex_flow": null,
            "width": null,
            "min_width": null,
            "border": null,
            "align_items": null,
            "bottom": null,
            "_model_module": "@jupyter-widgets/base",
            "top": null,
            "grid_column": null,
            "overflow_y": null,
            "overflow_x": null,
            "grid_auto_flow": null,
            "grid_area": null,
            "grid_template_columns": null,
            "flex": null,
            "_model_name": "LayoutModel",
            "justify_items": null,
            "grid_row": null,
            "max_height": null,
            "align_content": null,
            "visibility": null,
            "align_self": null,
            "height": null,
            "min_height": null,
            "padding": null,
            "grid_auto_rows": null,
            "grid_gap": null,
            "max_width": null,
            "order": null,
            "_view_module_version": "1.2.0",
            "grid_template_areas": null,
            "object_position": null,
            "object_fit": null,
            "grid_auto_columns": null,
            "margin": null,
            "display": null,
            "left": null
          }
        },
        "190338415cd747bab3e336c2772f4d5b": {
          "model_module": "@jupyter-widgets/controls",
          "model_name": "HBoxModel",
          "state": {
            "_view_name": "HBoxView",
            "_dom_classes": [],
            "_model_name": "HBoxModel",
            "_view_module": "@jupyter-widgets/controls",
            "_model_module_version": "1.5.0",
            "_view_count": null,
            "_view_module_version": "1.5.0",
            "box_style": "",
            "layout": "IPY_MODEL_4f8873c6b4ec44198ce881d3a42fc5ce",
            "_model_module": "@jupyter-widgets/controls",
            "children": [
              "IPY_MODEL_4ed278eb8cc34d5aa55a4446c21d0656",
              "IPY_MODEL_4aacc375f71d4f1b8165397ca4983eeb"
            ]
          }
        },
        "4f8873c6b4ec44198ce881d3a42fc5ce": {
          "model_module": "@jupyter-widgets/base",
          "model_name": "LayoutModel",
          "state": {
            "_view_name": "LayoutView",
            "grid_template_rows": null,
            "right": null,
            "justify_content": null,
            "_view_module": "@jupyter-widgets/base",
            "overflow": null,
            "_model_module_version": "1.2.0",
            "_view_count": null,
            "flex_flow": null,
            "width": null,
            "min_width": null,
            "border": null,
            "align_items": null,
            "bottom": null,
            "_model_module": "@jupyter-widgets/base",
            "top": null,
            "grid_column": null,
            "overflow_y": null,
            "overflow_x": null,
            "grid_auto_flow": null,
            "grid_area": null,
            "grid_template_columns": null,
            "flex": null,
            "_model_name": "LayoutModel",
            "justify_items": null,
            "grid_row": null,
            "max_height": null,
            "align_content": null,
            "visibility": null,
            "align_self": null,
            "height": null,
            "min_height": null,
            "padding": null,
            "grid_auto_rows": null,
            "grid_gap": null,
            "max_width": null,
            "order": null,
            "_view_module_version": "1.2.0",
            "grid_template_areas": null,
            "object_position": null,
            "object_fit": null,
            "grid_auto_columns": null,
            "margin": null,
            "display": null,
            "left": null
          }
        },
        "4ed278eb8cc34d5aa55a4446c21d0656": {
          "model_module": "@jupyter-widgets/controls",
          "model_name": "FloatProgressModel",
          "state": {
            "_view_name": "ProgressView",
            "style": "IPY_MODEL_303d4bb00144482bb7fc1b9af025c6ba",
            "_dom_classes": [],
            "description": "Iteration: 100%",
            "_model_name": "FloatProgressModel",
            "bar_style": "success",
            "max": 55,
            "_view_module": "@jupyter-widgets/controls",
            "_model_module_version": "1.5.0",
            "value": 55,
            "_view_count": null,
            "_view_module_version": "1.5.0",
            "orientation": "horizontal",
            "min": 0,
            "description_tooltip": null,
            "_model_module": "@jupyter-widgets/controls",
            "layout": "IPY_MODEL_52160ae66f23423fa5768c5cb94dac30"
          }
        },
        "4aacc375f71d4f1b8165397ca4983eeb": {
          "model_module": "@jupyter-widgets/controls",
          "model_name": "HTMLModel",
          "state": {
            "_view_name": "HTMLView",
            "style": "IPY_MODEL_72eccb0c34ee4061be00ce15cfa0460a",
            "_dom_classes": [],
            "description": "",
            "_model_name": "HTMLModel",
            "placeholder": "​",
            "_view_module": "@jupyter-widgets/controls",
            "_model_module_version": "1.5.0",
            "value": " 55/55 [38:10&lt;00:00, 41.64s/it]",
            "_view_count": null,
            "_view_module_version": "1.5.0",
            "description_tooltip": null,
            "_model_module": "@jupyter-widgets/controls",
            "layout": "IPY_MODEL_94c026ea24eb4087af2a74ddfe20afdb"
          }
        },
        "303d4bb00144482bb7fc1b9af025c6ba": {
          "model_module": "@jupyter-widgets/controls",
          "model_name": "ProgressStyleModel",
          "state": {
            "_view_name": "StyleView",
            "_model_name": "ProgressStyleModel",
            "description_width": "initial",
            "_view_module": "@jupyter-widgets/base",
            "_model_module_version": "1.5.0",
            "_view_count": null,
            "_view_module_version": "1.2.0",
            "bar_color": null,
            "_model_module": "@jupyter-widgets/controls"
          }
        },
        "52160ae66f23423fa5768c5cb94dac30": {
          "model_module": "@jupyter-widgets/base",
          "model_name": "LayoutModel",
          "state": {
            "_view_name": "LayoutView",
            "grid_template_rows": null,
            "right": null,
            "justify_content": null,
            "_view_module": "@jupyter-widgets/base",
            "overflow": null,
            "_model_module_version": "1.2.0",
            "_view_count": null,
            "flex_flow": null,
            "width": null,
            "min_width": null,
            "border": null,
            "align_items": null,
            "bottom": null,
            "_model_module": "@jupyter-widgets/base",
            "top": null,
            "grid_column": null,
            "overflow_y": null,
            "overflow_x": null,
            "grid_auto_flow": null,
            "grid_area": null,
            "grid_template_columns": null,
            "flex": null,
            "_model_name": "LayoutModel",
            "justify_items": null,
            "grid_row": null,
            "max_height": null,
            "align_content": null,
            "visibility": null,
            "align_self": null,
            "height": null,
            "min_height": null,
            "padding": null,
            "grid_auto_rows": null,
            "grid_gap": null,
            "max_width": null,
            "order": null,
            "_view_module_version": "1.2.0",
            "grid_template_areas": null,
            "object_position": null,
            "object_fit": null,
            "grid_auto_columns": null,
            "margin": null,
            "display": null,
            "left": null
          }
        },
        "72eccb0c34ee4061be00ce15cfa0460a": {
          "model_module": "@jupyter-widgets/controls",
          "model_name": "DescriptionStyleModel",
          "state": {
            "_view_name": "StyleView",
            "_model_name": "DescriptionStyleModel",
            "description_width": "",
            "_view_module": "@jupyter-widgets/base",
            "_model_module_version": "1.5.0",
            "_view_count": null,
            "_view_module_version": "1.2.0",
            "_model_module": "@jupyter-widgets/controls"
          }
        },
        "94c026ea24eb4087af2a74ddfe20afdb": {
          "model_module": "@jupyter-widgets/base",
          "model_name": "LayoutModel",
          "state": {
            "_view_name": "LayoutView",
            "grid_template_rows": null,
            "right": null,
            "justify_content": null,
            "_view_module": "@jupyter-widgets/base",
            "overflow": null,
            "_model_module_version": "1.2.0",
            "_view_count": null,
            "flex_flow": null,
            "width": null,
            "min_width": null,
            "border": null,
            "align_items": null,
            "bottom": null,
            "_model_module": "@jupyter-widgets/base",
            "top": null,
            "grid_column": null,
            "overflow_y": null,
            "overflow_x": null,
            "grid_auto_flow": null,
            "grid_area": null,
            "grid_template_columns": null,
            "flex": null,
            "_model_name": "LayoutModel",
            "justify_items": null,
            "grid_row": null,
            "max_height": null,
            "align_content": null,
            "visibility": null,
            "align_self": null,
            "height": null,
            "min_height": null,
            "padding": null,
            "grid_auto_rows": null,
            "grid_gap": null,
            "max_width": null,
            "order": null,
            "_view_module_version": "1.2.0",
            "grid_template_areas": null,
            "object_position": null,
            "object_fit": null,
            "grid_auto_columns": null,
            "margin": null,
            "display": null,
            "left": null
          }
        },
        "078e81028b9d451d88244485b01c2569": {
          "model_module": "@jupyter-widgets/controls",
          "model_name": "HBoxModel",
          "state": {
            "_view_name": "HBoxView",
            "_dom_classes": [],
            "_model_name": "HBoxModel",
            "_view_module": "@jupyter-widgets/controls",
            "_model_module_version": "1.5.0",
            "_view_count": null,
            "_view_module_version": "1.5.0",
            "box_style": "",
            "layout": "IPY_MODEL_2eef0cc176c04b4db7dbd8c586210749",
            "_model_module": "@jupyter-widgets/controls",
            "children": [
              "IPY_MODEL_42265c4a07674af3ba35089c8dc18eff",
              "IPY_MODEL_c6cfad4e149a4a42a1ad479861ccb229"
            ]
          }
        },
        "2eef0cc176c04b4db7dbd8c586210749": {
          "model_module": "@jupyter-widgets/base",
          "model_name": "LayoutModel",
          "state": {
            "_view_name": "LayoutView",
            "grid_template_rows": null,
            "right": null,
            "justify_content": null,
            "_view_module": "@jupyter-widgets/base",
            "overflow": null,
            "_model_module_version": "1.2.0",
            "_view_count": null,
            "flex_flow": null,
            "width": null,
            "min_width": null,
            "border": null,
            "align_items": null,
            "bottom": null,
            "_model_module": "@jupyter-widgets/base",
            "top": null,
            "grid_column": null,
            "overflow_y": null,
            "overflow_x": null,
            "grid_auto_flow": null,
            "grid_area": null,
            "grid_template_columns": null,
            "flex": null,
            "_model_name": "LayoutModel",
            "justify_items": null,
            "grid_row": null,
            "max_height": null,
            "align_content": null,
            "visibility": null,
            "align_self": null,
            "height": null,
            "min_height": null,
            "padding": null,
            "grid_auto_rows": null,
            "grid_gap": null,
            "max_width": null,
            "order": null,
            "_view_module_version": "1.2.0",
            "grid_template_areas": null,
            "object_position": null,
            "object_fit": null,
            "grid_auto_columns": null,
            "margin": null,
            "display": null,
            "left": null
          }
        },
        "42265c4a07674af3ba35089c8dc18eff": {
          "model_module": "@jupyter-widgets/controls",
          "model_name": "FloatProgressModel",
          "state": {
            "_view_name": "ProgressView",
            "style": "IPY_MODEL_56cf0a8815614909babd9460fdd568bb",
            "_dom_classes": [],
            "description": "Iteration: 100%",
            "_model_name": "FloatProgressModel",
            "bar_style": "success",
            "max": 55,
            "_view_module": "@jupyter-widgets/controls",
            "_model_module_version": "1.5.0",
            "value": 55,
            "_view_count": null,
            "_view_module_version": "1.5.0",
            "orientation": "horizontal",
            "min": 0,
            "description_tooltip": null,
            "_model_module": "@jupyter-widgets/controls",
            "layout": "IPY_MODEL_9d9422690ffb4b4587fa4b86ea4cc919"
          }
        },
        "c6cfad4e149a4a42a1ad479861ccb229": {
          "model_module": "@jupyter-widgets/controls",
          "model_name": "HTMLModel",
          "state": {
            "_view_name": "HTMLView",
            "style": "IPY_MODEL_92c8e9b634484a1dbac8c5613b855f9f",
            "_dom_classes": [],
            "description": "",
            "_model_name": "HTMLModel",
            "placeholder": "​",
            "_view_module": "@jupyter-widgets/controls",
            "_model_module_version": "1.5.0",
            "value": " 55/55 [35:00&lt;00:00, 38.19s/it]",
            "_view_count": null,
            "_view_module_version": "1.5.0",
            "description_tooltip": null,
            "_model_module": "@jupyter-widgets/controls",
            "layout": "IPY_MODEL_a45bd97c2ce7437da961f8ed89beffc6"
          }
        },
        "56cf0a8815614909babd9460fdd568bb": {
          "model_module": "@jupyter-widgets/controls",
          "model_name": "ProgressStyleModel",
          "state": {
            "_view_name": "StyleView",
            "_model_name": "ProgressStyleModel",
            "description_width": "initial",
            "_view_module": "@jupyter-widgets/base",
            "_model_module_version": "1.5.0",
            "_view_count": null,
            "_view_module_version": "1.2.0",
            "bar_color": null,
            "_model_module": "@jupyter-widgets/controls"
          }
        },
        "9d9422690ffb4b4587fa4b86ea4cc919": {
          "model_module": "@jupyter-widgets/base",
          "model_name": "LayoutModel",
          "state": {
            "_view_name": "LayoutView",
            "grid_template_rows": null,
            "right": null,
            "justify_content": null,
            "_view_module": "@jupyter-widgets/base",
            "overflow": null,
            "_model_module_version": "1.2.0",
            "_view_count": null,
            "flex_flow": null,
            "width": null,
            "min_width": null,
            "border": null,
            "align_items": null,
            "bottom": null,
            "_model_module": "@jupyter-widgets/base",
            "top": null,
            "grid_column": null,
            "overflow_y": null,
            "overflow_x": null,
            "grid_auto_flow": null,
            "grid_area": null,
            "grid_template_columns": null,
            "flex": null,
            "_model_name": "LayoutModel",
            "justify_items": null,
            "grid_row": null,
            "max_height": null,
            "align_content": null,
            "visibility": null,
            "align_self": null,
            "height": null,
            "min_height": null,
            "padding": null,
            "grid_auto_rows": null,
            "grid_gap": null,
            "max_width": null,
            "order": null,
            "_view_module_version": "1.2.0",
            "grid_template_areas": null,
            "object_position": null,
            "object_fit": null,
            "grid_auto_columns": null,
            "margin": null,
            "display": null,
            "left": null
          }
        },
        "92c8e9b634484a1dbac8c5613b855f9f": {
          "model_module": "@jupyter-widgets/controls",
          "model_name": "DescriptionStyleModel",
          "state": {
            "_view_name": "StyleView",
            "_model_name": "DescriptionStyleModel",
            "description_width": "",
            "_view_module": "@jupyter-widgets/base",
            "_model_module_version": "1.5.0",
            "_view_count": null,
            "_view_module_version": "1.2.0",
            "_model_module": "@jupyter-widgets/controls"
          }
        },
        "a45bd97c2ce7437da961f8ed89beffc6": {
          "model_module": "@jupyter-widgets/base",
          "model_name": "LayoutModel",
          "state": {
            "_view_name": "LayoutView",
            "grid_template_rows": null,
            "right": null,
            "justify_content": null,
            "_view_module": "@jupyter-widgets/base",
            "overflow": null,
            "_model_module_version": "1.2.0",
            "_view_count": null,
            "flex_flow": null,
            "width": null,
            "min_width": null,
            "border": null,
            "align_items": null,
            "bottom": null,
            "_model_module": "@jupyter-widgets/base",
            "top": null,
            "grid_column": null,
            "overflow_y": null,
            "overflow_x": null,
            "grid_auto_flow": null,
            "grid_area": null,
            "grid_template_columns": null,
            "flex": null,
            "_model_name": "LayoutModel",
            "justify_items": null,
            "grid_row": null,
            "max_height": null,
            "align_content": null,
            "visibility": null,
            "align_self": null,
            "height": null,
            "min_height": null,
            "padding": null,
            "grid_auto_rows": null,
            "grid_gap": null,
            "max_width": null,
            "order": null,
            "_view_module_version": "1.2.0",
            "grid_template_areas": null,
            "object_position": null,
            "object_fit": null,
            "grid_auto_columns": null,
            "margin": null,
            "display": null,
            "left": null
          }
        },
        "2d8b4d1359bf4899806b40c8ac537955": {
          "model_module": "@jupyter-widgets/controls",
          "model_name": "HBoxModel",
          "state": {
            "_view_name": "HBoxView",
            "_dom_classes": [],
            "_model_name": "HBoxModel",
            "_view_module": "@jupyter-widgets/controls",
            "_model_module_version": "1.5.0",
            "_view_count": null,
            "_view_module_version": "1.5.0",
            "box_style": "",
            "layout": "IPY_MODEL_dac21e3a8ae0466fb0e80ee79af36c04",
            "_model_module": "@jupyter-widgets/controls",
            "children": [
              "IPY_MODEL_05805182594240d0be46a80def1e5fca",
              "IPY_MODEL_9009c6f6381945368ecf32a024ec2060"
            ]
          }
        },
        "dac21e3a8ae0466fb0e80ee79af36c04": {
          "model_module": "@jupyter-widgets/base",
          "model_name": "LayoutModel",
          "state": {
            "_view_name": "LayoutView",
            "grid_template_rows": null,
            "right": null,
            "justify_content": null,
            "_view_module": "@jupyter-widgets/base",
            "overflow": null,
            "_model_module_version": "1.2.0",
            "_view_count": null,
            "flex_flow": null,
            "width": null,
            "min_width": null,
            "border": null,
            "align_items": null,
            "bottom": null,
            "_model_module": "@jupyter-widgets/base",
            "top": null,
            "grid_column": null,
            "overflow_y": null,
            "overflow_x": null,
            "grid_auto_flow": null,
            "grid_area": null,
            "grid_template_columns": null,
            "flex": null,
            "_model_name": "LayoutModel",
            "justify_items": null,
            "grid_row": null,
            "max_height": null,
            "align_content": null,
            "visibility": null,
            "align_self": null,
            "height": null,
            "min_height": null,
            "padding": null,
            "grid_auto_rows": null,
            "grid_gap": null,
            "max_width": null,
            "order": null,
            "_view_module_version": "1.2.0",
            "grid_template_areas": null,
            "object_position": null,
            "object_fit": null,
            "grid_auto_columns": null,
            "margin": null,
            "display": null,
            "left": null
          }
        },
        "05805182594240d0be46a80def1e5fca": {
          "model_module": "@jupyter-widgets/controls",
          "model_name": "FloatProgressModel",
          "state": {
            "_view_name": "ProgressView",
            "style": "IPY_MODEL_af0eeb0da1124890bc1f7638a77557b3",
            "_dom_classes": [],
            "description": "Iteration: 100%",
            "_model_name": "FloatProgressModel",
            "bar_style": "success",
            "max": 55,
            "_view_module": "@jupyter-widgets/controls",
            "_model_module_version": "1.5.0",
            "value": 55,
            "_view_count": null,
            "_view_module_version": "1.5.0",
            "orientation": "horizontal",
            "min": 0,
            "description_tooltip": null,
            "_model_module": "@jupyter-widgets/controls",
            "layout": "IPY_MODEL_43807e072142468cb3780f9f66c99067"
          }
        },
        "9009c6f6381945368ecf32a024ec2060": {
          "model_module": "@jupyter-widgets/controls",
          "model_name": "HTMLModel",
          "state": {
            "_view_name": "HTMLView",
            "style": "IPY_MODEL_97bf25830ef148fa97f250ca9a7eb571",
            "_dom_classes": [],
            "description": "",
            "_model_name": "HTMLModel",
            "placeholder": "​",
            "_view_module": "@jupyter-widgets/controls",
            "_model_module_version": "1.5.0",
            "value": " 55/55 [31:50&lt;00:00, 34.74s/it]",
            "_view_count": null,
            "_view_module_version": "1.5.0",
            "description_tooltip": null,
            "_model_module": "@jupyter-widgets/controls",
            "layout": "IPY_MODEL_82480c11951c479f8f0df0a4fb3983a7"
          }
        },
        "af0eeb0da1124890bc1f7638a77557b3": {
          "model_module": "@jupyter-widgets/controls",
          "model_name": "ProgressStyleModel",
          "state": {
            "_view_name": "StyleView",
            "_model_name": "ProgressStyleModel",
            "description_width": "initial",
            "_view_module": "@jupyter-widgets/base",
            "_model_module_version": "1.5.0",
            "_view_count": null,
            "_view_module_version": "1.2.0",
            "bar_color": null,
            "_model_module": "@jupyter-widgets/controls"
          }
        },
        "43807e072142468cb3780f9f66c99067": {
          "model_module": "@jupyter-widgets/base",
          "model_name": "LayoutModel",
          "state": {
            "_view_name": "LayoutView",
            "grid_template_rows": null,
            "right": null,
            "justify_content": null,
            "_view_module": "@jupyter-widgets/base",
            "overflow": null,
            "_model_module_version": "1.2.0",
            "_view_count": null,
            "flex_flow": null,
            "width": null,
            "min_width": null,
            "border": null,
            "align_items": null,
            "bottom": null,
            "_model_module": "@jupyter-widgets/base",
            "top": null,
            "grid_column": null,
            "overflow_y": null,
            "overflow_x": null,
            "grid_auto_flow": null,
            "grid_area": null,
            "grid_template_columns": null,
            "flex": null,
            "_model_name": "LayoutModel",
            "justify_items": null,
            "grid_row": null,
            "max_height": null,
            "align_content": null,
            "visibility": null,
            "align_self": null,
            "height": null,
            "min_height": null,
            "padding": null,
            "grid_auto_rows": null,
            "grid_gap": null,
            "max_width": null,
            "order": null,
            "_view_module_version": "1.2.0",
            "grid_template_areas": null,
            "object_position": null,
            "object_fit": null,
            "grid_auto_columns": null,
            "margin": null,
            "display": null,
            "left": null
          }
        },
        "97bf25830ef148fa97f250ca9a7eb571": {
          "model_module": "@jupyter-widgets/controls",
          "model_name": "DescriptionStyleModel",
          "state": {
            "_view_name": "StyleView",
            "_model_name": "DescriptionStyleModel",
            "description_width": "",
            "_view_module": "@jupyter-widgets/base",
            "_model_module_version": "1.5.0",
            "_view_count": null,
            "_view_module_version": "1.2.0",
            "_model_module": "@jupyter-widgets/controls"
          }
        },
        "82480c11951c479f8f0df0a4fb3983a7": {
          "model_module": "@jupyter-widgets/base",
          "model_name": "LayoutModel",
          "state": {
            "_view_name": "LayoutView",
            "grid_template_rows": null,
            "right": null,
            "justify_content": null,
            "_view_module": "@jupyter-widgets/base",
            "overflow": null,
            "_model_module_version": "1.2.0",
            "_view_count": null,
            "flex_flow": null,
            "width": null,
            "min_width": null,
            "border": null,
            "align_items": null,
            "bottom": null,
            "_model_module": "@jupyter-widgets/base",
            "top": null,
            "grid_column": null,
            "overflow_y": null,
            "overflow_x": null,
            "grid_auto_flow": null,
            "grid_area": null,
            "grid_template_columns": null,
            "flex": null,
            "_model_name": "LayoutModel",
            "justify_items": null,
            "grid_row": null,
            "max_height": null,
            "align_content": null,
            "visibility": null,
            "align_self": null,
            "height": null,
            "min_height": null,
            "padding": null,
            "grid_auto_rows": null,
            "grid_gap": null,
            "max_width": null,
            "order": null,
            "_view_module_version": "1.2.0",
            "grid_template_areas": null,
            "object_position": null,
            "object_fit": null,
            "grid_auto_columns": null,
            "margin": null,
            "display": null,
            "left": null
          }
        },
        "ccb7a54e3e5d48da9f8b3a15caf89e81": {
          "model_module": "@jupyter-widgets/controls",
          "model_name": "HBoxModel",
          "state": {
            "_view_name": "HBoxView",
            "_dom_classes": [],
            "_model_name": "HBoxModel",
            "_view_module": "@jupyter-widgets/controls",
            "_model_module_version": "1.5.0",
            "_view_count": null,
            "_view_module_version": "1.5.0",
            "box_style": "",
            "layout": "IPY_MODEL_2355cf91d99b4248aed10740b2fa3c66",
            "_model_module": "@jupyter-widgets/controls",
            "children": [
              "IPY_MODEL_fc956d180860457eb6ac3307939b7c5a",
              "IPY_MODEL_fe68cac2e4714e92baa3378c559b58d2"
            ]
          }
        },
        "2355cf91d99b4248aed10740b2fa3c66": {
          "model_module": "@jupyter-widgets/base",
          "model_name": "LayoutModel",
          "state": {
            "_view_name": "LayoutView",
            "grid_template_rows": null,
            "right": null,
            "justify_content": null,
            "_view_module": "@jupyter-widgets/base",
            "overflow": null,
            "_model_module_version": "1.2.0",
            "_view_count": null,
            "flex_flow": null,
            "width": null,
            "min_width": null,
            "border": null,
            "align_items": null,
            "bottom": null,
            "_model_module": "@jupyter-widgets/base",
            "top": null,
            "grid_column": null,
            "overflow_y": null,
            "overflow_x": null,
            "grid_auto_flow": null,
            "grid_area": null,
            "grid_template_columns": null,
            "flex": null,
            "_model_name": "LayoutModel",
            "justify_items": null,
            "grid_row": null,
            "max_height": null,
            "align_content": null,
            "visibility": null,
            "align_self": null,
            "height": null,
            "min_height": null,
            "padding": null,
            "grid_auto_rows": null,
            "grid_gap": null,
            "max_width": null,
            "order": null,
            "_view_module_version": "1.2.0",
            "grid_template_areas": null,
            "object_position": null,
            "object_fit": null,
            "grid_auto_columns": null,
            "margin": null,
            "display": null,
            "left": null
          }
        },
        "fc956d180860457eb6ac3307939b7c5a": {
          "model_module": "@jupyter-widgets/controls",
          "model_name": "FloatProgressModel",
          "state": {
            "_view_name": "ProgressView",
            "style": "IPY_MODEL_49eb5901d0914030be1c2f59610dd478",
            "_dom_classes": [],
            "description": "Iteration: 100%",
            "_model_name": "FloatProgressModel",
            "bar_style": "success",
            "max": 55,
            "_view_module": "@jupyter-widgets/controls",
            "_model_module_version": "1.5.0",
            "value": 55,
            "_view_count": null,
            "_view_module_version": "1.5.0",
            "orientation": "horizontal",
            "min": 0,
            "description_tooltip": null,
            "_model_module": "@jupyter-widgets/controls",
            "layout": "IPY_MODEL_2fd7850cfe4b485e858aa1bbd32a0df9"
          }
        },
        "fe68cac2e4714e92baa3378c559b58d2": {
          "model_module": "@jupyter-widgets/controls",
          "model_name": "HTMLModel",
          "state": {
            "_view_name": "HTMLView",
            "style": "IPY_MODEL_07e121e522ab4f63a339ab0777227017",
            "_dom_classes": [],
            "description": "",
            "_model_name": "HTMLModel",
            "placeholder": "​",
            "_view_module": "@jupyter-widgets/controls",
            "_model_module_version": "1.5.0",
            "value": " 55/55 [28:40&lt;00:00, 31.29s/it]",
            "_view_count": null,
            "_view_module_version": "1.5.0",
            "description_tooltip": null,
            "_model_module": "@jupyter-widgets/controls",
            "layout": "IPY_MODEL_bf50c2ef81f8442eb3c796d4bd414326"
          }
        },
        "49eb5901d0914030be1c2f59610dd478": {
          "model_module": "@jupyter-widgets/controls",
          "model_name": "ProgressStyleModel",
          "state": {
            "_view_name": "StyleView",
            "_model_name": "ProgressStyleModel",
            "description_width": "initial",
            "_view_module": "@jupyter-widgets/base",
            "_model_module_version": "1.5.0",
            "_view_count": null,
            "_view_module_version": "1.2.0",
            "bar_color": null,
            "_model_module": "@jupyter-widgets/controls"
          }
        },
        "2fd7850cfe4b485e858aa1bbd32a0df9": {
          "model_module": "@jupyter-widgets/base",
          "model_name": "LayoutModel",
          "state": {
            "_view_name": "LayoutView",
            "grid_template_rows": null,
            "right": null,
            "justify_content": null,
            "_view_module": "@jupyter-widgets/base",
            "overflow": null,
            "_model_module_version": "1.2.0",
            "_view_count": null,
            "flex_flow": null,
            "width": null,
            "min_width": null,
            "border": null,
            "align_items": null,
            "bottom": null,
            "_model_module": "@jupyter-widgets/base",
            "top": null,
            "grid_column": null,
            "overflow_y": null,
            "overflow_x": null,
            "grid_auto_flow": null,
            "grid_area": null,
            "grid_template_columns": null,
            "flex": null,
            "_model_name": "LayoutModel",
            "justify_items": null,
            "grid_row": null,
            "max_height": null,
            "align_content": null,
            "visibility": null,
            "align_self": null,
            "height": null,
            "min_height": null,
            "padding": null,
            "grid_auto_rows": null,
            "grid_gap": null,
            "max_width": null,
            "order": null,
            "_view_module_version": "1.2.0",
            "grid_template_areas": null,
            "object_position": null,
            "object_fit": null,
            "grid_auto_columns": null,
            "margin": null,
            "display": null,
            "left": null
          }
        },
        "07e121e522ab4f63a339ab0777227017": {
          "model_module": "@jupyter-widgets/controls",
          "model_name": "DescriptionStyleModel",
          "state": {
            "_view_name": "StyleView",
            "_model_name": "DescriptionStyleModel",
            "description_width": "",
            "_view_module": "@jupyter-widgets/base",
            "_model_module_version": "1.5.0",
            "_view_count": null,
            "_view_module_version": "1.2.0",
            "_model_module": "@jupyter-widgets/controls"
          }
        },
        "bf50c2ef81f8442eb3c796d4bd414326": {
          "model_module": "@jupyter-widgets/base",
          "model_name": "LayoutModel",
          "state": {
            "_view_name": "LayoutView",
            "grid_template_rows": null,
            "right": null,
            "justify_content": null,
            "_view_module": "@jupyter-widgets/base",
            "overflow": null,
            "_model_module_version": "1.2.0",
            "_view_count": null,
            "flex_flow": null,
            "width": null,
            "min_width": null,
            "border": null,
            "align_items": null,
            "bottom": null,
            "_model_module": "@jupyter-widgets/base",
            "top": null,
            "grid_column": null,
            "overflow_y": null,
            "overflow_x": null,
            "grid_auto_flow": null,
            "grid_area": null,
            "grid_template_columns": null,
            "flex": null,
            "_model_name": "LayoutModel",
            "justify_items": null,
            "grid_row": null,
            "max_height": null,
            "align_content": null,
            "visibility": null,
            "align_self": null,
            "height": null,
            "min_height": null,
            "padding": null,
            "grid_auto_rows": null,
            "grid_gap": null,
            "max_width": null,
            "order": null,
            "_view_module_version": "1.2.0",
            "grid_template_areas": null,
            "object_position": null,
            "object_fit": null,
            "grid_auto_columns": null,
            "margin": null,
            "display": null,
            "left": null
          }
        },
        "abf06410d55b42db9b79c16f47242cda": {
          "model_module": "@jupyter-widgets/controls",
          "model_name": "HBoxModel",
          "state": {
            "_view_name": "HBoxView",
            "_dom_classes": [],
            "_model_name": "HBoxModel",
            "_view_module": "@jupyter-widgets/controls",
            "_model_module_version": "1.5.0",
            "_view_count": null,
            "_view_module_version": "1.5.0",
            "box_style": "",
            "layout": "IPY_MODEL_ecb070b45b224b6bbd7b0b19670b2c53",
            "_model_module": "@jupyter-widgets/controls",
            "children": [
              "IPY_MODEL_e8292875dda2420ab537dab14e96b526",
              "IPY_MODEL_9341638341334968925ad45eace0f047"
            ]
          }
        },
        "ecb070b45b224b6bbd7b0b19670b2c53": {
          "model_module": "@jupyter-widgets/base",
          "model_name": "LayoutModel",
          "state": {
            "_view_name": "LayoutView",
            "grid_template_rows": null,
            "right": null,
            "justify_content": null,
            "_view_module": "@jupyter-widgets/base",
            "overflow": null,
            "_model_module_version": "1.2.0",
            "_view_count": null,
            "flex_flow": null,
            "width": null,
            "min_width": null,
            "border": null,
            "align_items": null,
            "bottom": null,
            "_model_module": "@jupyter-widgets/base",
            "top": null,
            "grid_column": null,
            "overflow_y": null,
            "overflow_x": null,
            "grid_auto_flow": null,
            "grid_area": null,
            "grid_template_columns": null,
            "flex": null,
            "_model_name": "LayoutModel",
            "justify_items": null,
            "grid_row": null,
            "max_height": null,
            "align_content": null,
            "visibility": null,
            "align_self": null,
            "height": null,
            "min_height": null,
            "padding": null,
            "grid_auto_rows": null,
            "grid_gap": null,
            "max_width": null,
            "order": null,
            "_view_module_version": "1.2.0",
            "grid_template_areas": null,
            "object_position": null,
            "object_fit": null,
            "grid_auto_columns": null,
            "margin": null,
            "display": null,
            "left": null
          }
        },
        "e8292875dda2420ab537dab14e96b526": {
          "model_module": "@jupyter-widgets/controls",
          "model_name": "FloatProgressModel",
          "state": {
            "_view_name": "ProgressView",
            "style": "IPY_MODEL_8eaddc7e6d9745f28c5d18fecb926314",
            "_dom_classes": [],
            "description": "Epoch:   0%",
            "_model_name": "FloatProgressModel",
            "bar_style": "danger",
            "max": 10,
            "_view_module": "@jupyter-widgets/controls",
            "_model_module_version": "1.5.0",
            "value": 0,
            "_view_count": null,
            "_view_module_version": "1.5.0",
            "orientation": "horizontal",
            "min": 0,
            "description_tooltip": null,
            "_model_module": "@jupyter-widgets/controls",
            "layout": "IPY_MODEL_887c934b5a224ec8b7c8eb31341740db"
          }
        },
        "9341638341334968925ad45eace0f047": {
          "model_module": "@jupyter-widgets/controls",
          "model_name": "HTMLModel",
          "state": {
            "_view_name": "HTMLView",
            "style": "IPY_MODEL_524df72193f4439cb3b9f8d7180ac03f",
            "_dom_classes": [],
            "description": "",
            "_model_name": "HTMLModel",
            "placeholder": "​",
            "_view_module": "@jupyter-widgets/controls",
            "_model_module_version": "1.5.0",
            "value": " 0/10 [00:02&lt;?, ?it/s]",
            "_view_count": null,
            "_view_module_version": "1.5.0",
            "description_tooltip": null,
            "_model_module": "@jupyter-widgets/controls",
            "layout": "IPY_MODEL_bcceceb244e9466ab96bc645f05403f8"
          }
        },
        "8eaddc7e6d9745f28c5d18fecb926314": {
          "model_module": "@jupyter-widgets/controls",
          "model_name": "ProgressStyleModel",
          "state": {
            "_view_name": "StyleView",
            "_model_name": "ProgressStyleModel",
            "description_width": "initial",
            "_view_module": "@jupyter-widgets/base",
            "_model_module_version": "1.5.0",
            "_view_count": null,
            "_view_module_version": "1.2.0",
            "bar_color": null,
            "_model_module": "@jupyter-widgets/controls"
          }
        },
        "887c934b5a224ec8b7c8eb31341740db": {
          "model_module": "@jupyter-widgets/base",
          "model_name": "LayoutModel",
          "state": {
            "_view_name": "LayoutView",
            "grid_template_rows": null,
            "right": null,
            "justify_content": null,
            "_view_module": "@jupyter-widgets/base",
            "overflow": null,
            "_model_module_version": "1.2.0",
            "_view_count": null,
            "flex_flow": null,
            "width": null,
            "min_width": null,
            "border": null,
            "align_items": null,
            "bottom": null,
            "_model_module": "@jupyter-widgets/base",
            "top": null,
            "grid_column": null,
            "overflow_y": null,
            "overflow_x": null,
            "grid_auto_flow": null,
            "grid_area": null,
            "grid_template_columns": null,
            "flex": null,
            "_model_name": "LayoutModel",
            "justify_items": null,
            "grid_row": null,
            "max_height": null,
            "align_content": null,
            "visibility": null,
            "align_self": null,
            "height": null,
            "min_height": null,
            "padding": null,
            "grid_auto_rows": null,
            "grid_gap": null,
            "max_width": null,
            "order": null,
            "_view_module_version": "1.2.0",
            "grid_template_areas": null,
            "object_position": null,
            "object_fit": null,
            "grid_auto_columns": null,
            "margin": null,
            "display": null,
            "left": null
          }
        },
        "524df72193f4439cb3b9f8d7180ac03f": {
          "model_module": "@jupyter-widgets/controls",
          "model_name": "DescriptionStyleModel",
          "state": {
            "_view_name": "StyleView",
            "_model_name": "DescriptionStyleModel",
            "description_width": "",
            "_view_module": "@jupyter-widgets/base",
            "_model_module_version": "1.5.0",
            "_view_count": null,
            "_view_module_version": "1.2.0",
            "_model_module": "@jupyter-widgets/controls"
          }
        },
        "bcceceb244e9466ab96bc645f05403f8": {
          "model_module": "@jupyter-widgets/base",
          "model_name": "LayoutModel",
          "state": {
            "_view_name": "LayoutView",
            "grid_template_rows": null,
            "right": null,
            "justify_content": null,
            "_view_module": "@jupyter-widgets/base",
            "overflow": null,
            "_model_module_version": "1.2.0",
            "_view_count": null,
            "flex_flow": null,
            "width": null,
            "min_width": null,
            "border": null,
            "align_items": null,
            "bottom": null,
            "_model_module": "@jupyter-widgets/base",
            "top": null,
            "grid_column": null,
            "overflow_y": null,
            "overflow_x": null,
            "grid_auto_flow": null,
            "grid_area": null,
            "grid_template_columns": null,
            "flex": null,
            "_model_name": "LayoutModel",
            "justify_items": null,
            "grid_row": null,
            "max_height": null,
            "align_content": null,
            "visibility": null,
            "align_self": null,
            "height": null,
            "min_height": null,
            "padding": null,
            "grid_auto_rows": null,
            "grid_gap": null,
            "max_width": null,
            "order": null,
            "_view_module_version": "1.2.0",
            "grid_template_areas": null,
            "object_position": null,
            "object_fit": null,
            "grid_auto_columns": null,
            "margin": null,
            "display": null,
            "left": null
          }
        },
        "19d93442f4e64a1d99ee96901c82deea": {
          "model_module": "@jupyter-widgets/controls",
          "model_name": "HBoxModel",
          "state": {
            "_view_name": "HBoxView",
            "_dom_classes": [],
            "_model_name": "HBoxModel",
            "_view_module": "@jupyter-widgets/controls",
            "_model_module_version": "1.5.0",
            "_view_count": null,
            "_view_module_version": "1.5.0",
            "box_style": "",
            "layout": "IPY_MODEL_34c0d7af31204422b400ca7e746e9ced",
            "_model_module": "@jupyter-widgets/controls",
            "children": [
              "IPY_MODEL_28bc39fd793f42c5a4a881ecbdf94ae3",
              "IPY_MODEL_66ffe1abe0ac48b8909206898e579a71"
            ]
          }
        },
        "34c0d7af31204422b400ca7e746e9ced": {
          "model_module": "@jupyter-widgets/base",
          "model_name": "LayoutModel",
          "state": {
            "_view_name": "LayoutView",
            "grid_template_rows": null,
            "right": null,
            "justify_content": null,
            "_view_module": "@jupyter-widgets/base",
            "overflow": null,
            "_model_module_version": "1.2.0",
            "_view_count": null,
            "flex_flow": null,
            "width": null,
            "min_width": null,
            "border": null,
            "align_items": null,
            "bottom": null,
            "_model_module": "@jupyter-widgets/base",
            "top": null,
            "grid_column": null,
            "overflow_y": null,
            "overflow_x": null,
            "grid_auto_flow": null,
            "grid_area": null,
            "grid_template_columns": null,
            "flex": null,
            "_model_name": "LayoutModel",
            "justify_items": null,
            "grid_row": null,
            "max_height": null,
            "align_content": null,
            "visibility": null,
            "align_self": null,
            "height": null,
            "min_height": null,
            "padding": null,
            "grid_auto_rows": null,
            "grid_gap": null,
            "max_width": null,
            "order": null,
            "_view_module_version": "1.2.0",
            "grid_template_areas": null,
            "object_position": null,
            "object_fit": null,
            "grid_auto_columns": null,
            "margin": null,
            "display": null,
            "left": null
          }
        },
        "28bc39fd793f42c5a4a881ecbdf94ae3": {
          "model_module": "@jupyter-widgets/controls",
          "model_name": "FloatProgressModel",
          "state": {
            "_view_name": "ProgressView",
            "style": "IPY_MODEL_efc751e406214b6989041230f0807ccb",
            "_dom_classes": [],
            "description": "Iteration:   0%",
            "_model_name": "FloatProgressModel",
            "bar_style": "danger",
            "max": 6327,
            "_view_module": "@jupyter-widgets/controls",
            "_model_module_version": "1.5.0",
            "value": 3,
            "_view_count": null,
            "_view_module_version": "1.5.0",
            "orientation": "horizontal",
            "min": 0,
            "description_tooltip": null,
            "_model_module": "@jupyter-widgets/controls",
            "layout": "IPY_MODEL_7b70d43950ea43b7bfe8a1885f1d20da"
          }
        },
        "66ffe1abe0ac48b8909206898e579a71": {
          "model_module": "@jupyter-widgets/controls",
          "model_name": "HTMLModel",
          "state": {
            "_view_name": "HTMLView",
            "style": "IPY_MODEL_106f2be9670c4630859a8cc49d1acbde",
            "_dom_classes": [],
            "description": "",
            "_model_name": "HTMLModel",
            "placeholder": "​",
            "_view_module": "@jupyter-widgets/controls",
            "_model_module_version": "1.5.0",
            "value": " 3/6327 [00:02&lt;1:06:05,  1.59it/s]",
            "_view_count": null,
            "_view_module_version": "1.5.0",
            "description_tooltip": null,
            "_model_module": "@jupyter-widgets/controls",
            "layout": "IPY_MODEL_2e6e0c25f5ef494d9e18fcd20b07d74f"
          }
        },
        "efc751e406214b6989041230f0807ccb": {
          "model_module": "@jupyter-widgets/controls",
          "model_name": "ProgressStyleModel",
          "state": {
            "_view_name": "StyleView",
            "_model_name": "ProgressStyleModel",
            "description_width": "initial",
            "_view_module": "@jupyter-widgets/base",
            "_model_module_version": "1.5.0",
            "_view_count": null,
            "_view_module_version": "1.2.0",
            "bar_color": null,
            "_model_module": "@jupyter-widgets/controls"
          }
        },
        "7b70d43950ea43b7bfe8a1885f1d20da": {
          "model_module": "@jupyter-widgets/base",
          "model_name": "LayoutModel",
          "state": {
            "_view_name": "LayoutView",
            "grid_template_rows": null,
            "right": null,
            "justify_content": null,
            "_view_module": "@jupyter-widgets/base",
            "overflow": null,
            "_model_module_version": "1.2.0",
            "_view_count": null,
            "flex_flow": null,
            "width": null,
            "min_width": null,
            "border": null,
            "align_items": null,
            "bottom": null,
            "_model_module": "@jupyter-widgets/base",
            "top": null,
            "grid_column": null,
            "overflow_y": null,
            "overflow_x": null,
            "grid_auto_flow": null,
            "grid_area": null,
            "grid_template_columns": null,
            "flex": null,
            "_model_name": "LayoutModel",
            "justify_items": null,
            "grid_row": null,
            "max_height": null,
            "align_content": null,
            "visibility": null,
            "align_self": null,
            "height": null,
            "min_height": null,
            "padding": null,
            "grid_auto_rows": null,
            "grid_gap": null,
            "max_width": null,
            "order": null,
            "_view_module_version": "1.2.0",
            "grid_template_areas": null,
            "object_position": null,
            "object_fit": null,
            "grid_auto_columns": null,
            "margin": null,
            "display": null,
            "left": null
          }
        },
        "106f2be9670c4630859a8cc49d1acbde": {
          "model_module": "@jupyter-widgets/controls",
          "model_name": "DescriptionStyleModel",
          "state": {
            "_view_name": "StyleView",
            "_model_name": "DescriptionStyleModel",
            "description_width": "",
            "_view_module": "@jupyter-widgets/base",
            "_model_module_version": "1.5.0",
            "_view_count": null,
            "_view_module_version": "1.2.0",
            "_model_module": "@jupyter-widgets/controls"
          }
        },
        "2e6e0c25f5ef494d9e18fcd20b07d74f": {
          "model_module": "@jupyter-widgets/base",
          "model_name": "LayoutModel",
          "state": {
            "_view_name": "LayoutView",
            "grid_template_rows": null,
            "right": null,
            "justify_content": null,
            "_view_module": "@jupyter-widgets/base",
            "overflow": null,
            "_model_module_version": "1.2.0",
            "_view_count": null,
            "flex_flow": null,
            "width": null,
            "min_width": null,
            "border": null,
            "align_items": null,
            "bottom": null,
            "_model_module": "@jupyter-widgets/base",
            "top": null,
            "grid_column": null,
            "overflow_y": null,
            "overflow_x": null,
            "grid_auto_flow": null,
            "grid_area": null,
            "grid_template_columns": null,
            "flex": null,
            "_model_name": "LayoutModel",
            "justify_items": null,
            "grid_row": null,
            "max_height": null,
            "align_content": null,
            "visibility": null,
            "align_self": null,
            "height": null,
            "min_height": null,
            "padding": null,
            "grid_auto_rows": null,
            "grid_gap": null,
            "max_width": null,
            "order": null,
            "_view_module_version": "1.2.0",
            "grid_template_areas": null,
            "object_position": null,
            "object_fit": null,
            "grid_auto_columns": null,
            "margin": null,
            "display": null,
            "left": null
          }
        },
        "c933ef0c3a5a4d8ab7ea1cf32329a0a8": {
          "model_module": "@jupyter-widgets/controls",
          "model_name": "HBoxModel",
          "state": {
            "_view_name": "HBoxView",
            "_dom_classes": [],
            "_model_name": "HBoxModel",
            "_view_module": "@jupyter-widgets/controls",
            "_model_module_version": "1.5.0",
            "_view_count": null,
            "_view_module_version": "1.5.0",
            "box_style": "",
            "layout": "IPY_MODEL_c7db26d53fc349bb976065642edb1c58",
            "_model_module": "@jupyter-widgets/controls",
            "children": [
              "IPY_MODEL_18a3c8e0264f4598bbf527d3482c865b",
              "IPY_MODEL_c10b8842966c42188afd8d7dc339829d"
            ]
          }
        },
        "c7db26d53fc349bb976065642edb1c58": {
          "model_module": "@jupyter-widgets/base",
          "model_name": "LayoutModel",
          "state": {
            "_view_name": "LayoutView",
            "grid_template_rows": null,
            "right": null,
            "justify_content": null,
            "_view_module": "@jupyter-widgets/base",
            "overflow": null,
            "_model_module_version": "1.2.0",
            "_view_count": null,
            "flex_flow": null,
            "width": null,
            "min_width": null,
            "border": null,
            "align_items": null,
            "bottom": null,
            "_model_module": "@jupyter-widgets/base",
            "top": null,
            "grid_column": null,
            "overflow_y": null,
            "overflow_x": null,
            "grid_auto_flow": null,
            "grid_area": null,
            "grid_template_columns": null,
            "flex": null,
            "_model_name": "LayoutModel",
            "justify_items": null,
            "grid_row": null,
            "max_height": null,
            "align_content": null,
            "visibility": null,
            "align_self": null,
            "height": null,
            "min_height": null,
            "padding": null,
            "grid_auto_rows": null,
            "grid_gap": null,
            "max_width": null,
            "order": null,
            "_view_module_version": "1.2.0",
            "grid_template_areas": null,
            "object_position": null,
            "object_fit": null,
            "grid_auto_columns": null,
            "margin": null,
            "display": null,
            "left": null
          }
        },
        "18a3c8e0264f4598bbf527d3482c865b": {
          "model_module": "@jupyter-widgets/controls",
          "model_name": "FloatProgressModel",
          "state": {
            "_view_name": "ProgressView",
            "style": "IPY_MODEL_5ebeef837b6a4a8b9868b5f7ff7d71f8",
            "_dom_classes": [],
            "description": "Epoch:   0%",
            "_model_name": "FloatProgressModel",
            "bar_style": "danger",
            "max": 10,
            "_view_module": "@jupyter-widgets/controls",
            "_model_module_version": "1.5.0",
            "value": 0,
            "_view_count": null,
            "_view_module_version": "1.5.0",
            "orientation": "horizontal",
            "min": 0,
            "description_tooltip": null,
            "_model_module": "@jupyter-widgets/controls",
            "layout": "IPY_MODEL_fbcc271084af4c80909ed251e840b549"
          }
        },
        "c10b8842966c42188afd8d7dc339829d": {
          "model_module": "@jupyter-widgets/controls",
          "model_name": "HTMLModel",
          "state": {
            "_view_name": "HTMLView",
            "style": "IPY_MODEL_a39606778cc14710994ad193d7e7919e",
            "_dom_classes": [],
            "description": "",
            "_model_name": "HTMLModel",
            "placeholder": "​",
            "_view_module": "@jupyter-widgets/controls",
            "_model_module_version": "1.5.0",
            "value": " 0/10 [00:01&lt;?, ?it/s]",
            "_view_count": null,
            "_view_module_version": "1.5.0",
            "description_tooltip": null,
            "_model_module": "@jupyter-widgets/controls",
            "layout": "IPY_MODEL_772cb7404d1146b38cd93aa9b04d886e"
          }
        },
        "5ebeef837b6a4a8b9868b5f7ff7d71f8": {
          "model_module": "@jupyter-widgets/controls",
          "model_name": "ProgressStyleModel",
          "state": {
            "_view_name": "StyleView",
            "_model_name": "ProgressStyleModel",
            "description_width": "initial",
            "_view_module": "@jupyter-widgets/base",
            "_model_module_version": "1.5.0",
            "_view_count": null,
            "_view_module_version": "1.2.0",
            "bar_color": null,
            "_model_module": "@jupyter-widgets/controls"
          }
        },
        "fbcc271084af4c80909ed251e840b549": {
          "model_module": "@jupyter-widgets/base",
          "model_name": "LayoutModel",
          "state": {
            "_view_name": "LayoutView",
            "grid_template_rows": null,
            "right": null,
            "justify_content": null,
            "_view_module": "@jupyter-widgets/base",
            "overflow": null,
            "_model_module_version": "1.2.0",
            "_view_count": null,
            "flex_flow": null,
            "width": null,
            "min_width": null,
            "border": null,
            "align_items": null,
            "bottom": null,
            "_model_module": "@jupyter-widgets/base",
            "top": null,
            "grid_column": null,
            "overflow_y": null,
            "overflow_x": null,
            "grid_auto_flow": null,
            "grid_area": null,
            "grid_template_columns": null,
            "flex": null,
            "_model_name": "LayoutModel",
            "justify_items": null,
            "grid_row": null,
            "max_height": null,
            "align_content": null,
            "visibility": null,
            "align_self": null,
            "height": null,
            "min_height": null,
            "padding": null,
            "grid_auto_rows": null,
            "grid_gap": null,
            "max_width": null,
            "order": null,
            "_view_module_version": "1.2.0",
            "grid_template_areas": null,
            "object_position": null,
            "object_fit": null,
            "grid_auto_columns": null,
            "margin": null,
            "display": null,
            "left": null
          }
        },
        "a39606778cc14710994ad193d7e7919e": {
          "model_module": "@jupyter-widgets/controls",
          "model_name": "DescriptionStyleModel",
          "state": {
            "_view_name": "StyleView",
            "_model_name": "DescriptionStyleModel",
            "description_width": "",
            "_view_module": "@jupyter-widgets/base",
            "_model_module_version": "1.5.0",
            "_view_count": null,
            "_view_module_version": "1.2.0",
            "_model_module": "@jupyter-widgets/controls"
          }
        },
        "772cb7404d1146b38cd93aa9b04d886e": {
          "model_module": "@jupyter-widgets/base",
          "model_name": "LayoutModel",
          "state": {
            "_view_name": "LayoutView",
            "grid_template_rows": null,
            "right": null,
            "justify_content": null,
            "_view_module": "@jupyter-widgets/base",
            "overflow": null,
            "_model_module_version": "1.2.0",
            "_view_count": null,
            "flex_flow": null,
            "width": null,
            "min_width": null,
            "border": null,
            "align_items": null,
            "bottom": null,
            "_model_module": "@jupyter-widgets/base",
            "top": null,
            "grid_column": null,
            "overflow_y": null,
            "overflow_x": null,
            "grid_auto_flow": null,
            "grid_area": null,
            "grid_template_columns": null,
            "flex": null,
            "_model_name": "LayoutModel",
            "justify_items": null,
            "grid_row": null,
            "max_height": null,
            "align_content": null,
            "visibility": null,
            "align_self": null,
            "height": null,
            "min_height": null,
            "padding": null,
            "grid_auto_rows": null,
            "grid_gap": null,
            "max_width": null,
            "order": null,
            "_view_module_version": "1.2.0",
            "grid_template_areas": null,
            "object_position": null,
            "object_fit": null,
            "grid_auto_columns": null,
            "margin": null,
            "display": null,
            "left": null
          }
        },
        "ce8fd4c6365645989a63941d4eca1bc0": {
          "model_module": "@jupyter-widgets/controls",
          "model_name": "HBoxModel",
          "state": {
            "_view_name": "HBoxView",
            "_dom_classes": [],
            "_model_name": "HBoxModel",
            "_view_module": "@jupyter-widgets/controls",
            "_model_module_version": "1.5.0",
            "_view_count": null,
            "_view_module_version": "1.5.0",
            "box_style": "",
            "layout": "IPY_MODEL_ad22f73f1d5a4ba08f5dfce50f3bd592",
            "_model_module": "@jupyter-widgets/controls",
            "children": [
              "IPY_MODEL_64f6dc5ce83944d28bed40c91ce1be9e",
              "IPY_MODEL_b337f02b3d1549a69b9ead86d63a2a66"
            ]
          }
        },
        "ad22f73f1d5a4ba08f5dfce50f3bd592": {
          "model_module": "@jupyter-widgets/base",
          "model_name": "LayoutModel",
          "state": {
            "_view_name": "LayoutView",
            "grid_template_rows": null,
            "right": null,
            "justify_content": null,
            "_view_module": "@jupyter-widgets/base",
            "overflow": null,
            "_model_module_version": "1.2.0",
            "_view_count": null,
            "flex_flow": null,
            "width": null,
            "min_width": null,
            "border": null,
            "align_items": null,
            "bottom": null,
            "_model_module": "@jupyter-widgets/base",
            "top": null,
            "grid_column": null,
            "overflow_y": null,
            "overflow_x": null,
            "grid_auto_flow": null,
            "grid_area": null,
            "grid_template_columns": null,
            "flex": null,
            "_model_name": "LayoutModel",
            "justify_items": null,
            "grid_row": null,
            "max_height": null,
            "align_content": null,
            "visibility": null,
            "align_self": null,
            "height": null,
            "min_height": null,
            "padding": null,
            "grid_auto_rows": null,
            "grid_gap": null,
            "max_width": null,
            "order": null,
            "_view_module_version": "1.2.0",
            "grid_template_areas": null,
            "object_position": null,
            "object_fit": null,
            "grid_auto_columns": null,
            "margin": null,
            "display": null,
            "left": null
          }
        },
        "64f6dc5ce83944d28bed40c91ce1be9e": {
          "model_module": "@jupyter-widgets/controls",
          "model_name": "FloatProgressModel",
          "state": {
            "_view_name": "ProgressView",
            "style": "IPY_MODEL_132bce743e2f4fcc9fa86f69418e69a6",
            "_dom_classes": [],
            "description": "Iteration:   0%",
            "_model_name": "FloatProgressModel",
            "bar_style": "danger",
            "max": 1152,
            "_view_module": "@jupyter-widgets/controls",
            "_model_module_version": "1.5.0",
            "value": 0,
            "_view_count": null,
            "_view_module_version": "1.5.0",
            "orientation": "horizontal",
            "min": 0,
            "description_tooltip": null,
            "_model_module": "@jupyter-widgets/controls",
            "layout": "IPY_MODEL_0c14c5949fa34f999897a9531a7dc7ce"
          }
        },
        "b337f02b3d1549a69b9ead86d63a2a66": {
          "model_module": "@jupyter-widgets/controls",
          "model_name": "HTMLModel",
          "state": {
            "_view_name": "HTMLView",
            "style": "IPY_MODEL_20eb73d420a04b77b3dd00ecd3fef251",
            "_dom_classes": [],
            "description": "",
            "_model_name": "HTMLModel",
            "placeholder": "​",
            "_view_module": "@jupyter-widgets/controls",
            "_model_module_version": "1.5.0",
            "value": " 0/1152 [00:01&lt;?, ?it/s]",
            "_view_count": null,
            "_view_module_version": "1.5.0",
            "description_tooltip": null,
            "_model_module": "@jupyter-widgets/controls",
            "layout": "IPY_MODEL_27b91f764f6842c0b47c306988e2965c"
          }
        },
        "132bce743e2f4fcc9fa86f69418e69a6": {
          "model_module": "@jupyter-widgets/controls",
          "model_name": "ProgressStyleModel",
          "state": {
            "_view_name": "StyleView",
            "_model_name": "ProgressStyleModel",
            "description_width": "initial",
            "_view_module": "@jupyter-widgets/base",
            "_model_module_version": "1.5.0",
            "_view_count": null,
            "_view_module_version": "1.2.0",
            "bar_color": null,
            "_model_module": "@jupyter-widgets/controls"
          }
        },
        "0c14c5949fa34f999897a9531a7dc7ce": {
          "model_module": "@jupyter-widgets/base",
          "model_name": "LayoutModel",
          "state": {
            "_view_name": "LayoutView",
            "grid_template_rows": null,
            "right": null,
            "justify_content": null,
            "_view_module": "@jupyter-widgets/base",
            "overflow": null,
            "_model_module_version": "1.2.0",
            "_view_count": null,
            "flex_flow": null,
            "width": null,
            "min_width": null,
            "border": null,
            "align_items": null,
            "bottom": null,
            "_model_module": "@jupyter-widgets/base",
            "top": null,
            "grid_column": null,
            "overflow_y": null,
            "overflow_x": null,
            "grid_auto_flow": null,
            "grid_area": null,
            "grid_template_columns": null,
            "flex": null,
            "_model_name": "LayoutModel",
            "justify_items": null,
            "grid_row": null,
            "max_height": null,
            "align_content": null,
            "visibility": null,
            "align_self": null,
            "height": null,
            "min_height": null,
            "padding": null,
            "grid_auto_rows": null,
            "grid_gap": null,
            "max_width": null,
            "order": null,
            "_view_module_version": "1.2.0",
            "grid_template_areas": null,
            "object_position": null,
            "object_fit": null,
            "grid_auto_columns": null,
            "margin": null,
            "display": null,
            "left": null
          }
        },
        "20eb73d420a04b77b3dd00ecd3fef251": {
          "model_module": "@jupyter-widgets/controls",
          "model_name": "DescriptionStyleModel",
          "state": {
            "_view_name": "StyleView",
            "_model_name": "DescriptionStyleModel",
            "description_width": "",
            "_view_module": "@jupyter-widgets/base",
            "_model_module_version": "1.5.0",
            "_view_count": null,
            "_view_module_version": "1.2.0",
            "_model_module": "@jupyter-widgets/controls"
          }
        },
        "27b91f764f6842c0b47c306988e2965c": {
          "model_module": "@jupyter-widgets/base",
          "model_name": "LayoutModel",
          "state": {
            "_view_name": "LayoutView",
            "grid_template_rows": null,
            "right": null,
            "justify_content": null,
            "_view_module": "@jupyter-widgets/base",
            "overflow": null,
            "_model_module_version": "1.2.0",
            "_view_count": null,
            "flex_flow": null,
            "width": null,
            "min_width": null,
            "border": null,
            "align_items": null,
            "bottom": null,
            "_model_module": "@jupyter-widgets/base",
            "top": null,
            "grid_column": null,
            "overflow_y": null,
            "overflow_x": null,
            "grid_auto_flow": null,
            "grid_area": null,
            "grid_template_columns": null,
            "flex": null,
            "_model_name": "LayoutModel",
            "justify_items": null,
            "grid_row": null,
            "max_height": null,
            "align_content": null,
            "visibility": null,
            "align_self": null,
            "height": null,
            "min_height": null,
            "padding": null,
            "grid_auto_rows": null,
            "grid_gap": null,
            "max_width": null,
            "order": null,
            "_view_module_version": "1.2.0",
            "grid_template_areas": null,
            "object_position": null,
            "object_fit": null,
            "grid_auto_columns": null,
            "margin": null,
            "display": null,
            "left": null
          }
        }
      }
    }
  },
  "cells": [
    {
      "cell_type": "code",
      "metadata": {
        "id": "PLq1KForYMnJ",
        "colab_type": "code",
        "colab": {
          "base_uri": "https://localhost:8080/",
          "height": 34
        },
        "outputId": "5d39f1e1-c236-4127-8698-9a1db406f88e"
      },
      "source": [
        "ls"
      ],
      "execution_count": null,
      "outputs": [
        {
          "output_type": "stream",
          "text": [
            "chunk_0981.txt  \u001b[0m\u001b[01;34msample_data\u001b[0m/\n"
          ],
          "name": "stdout"
        }
      ]
    },
    {
      "cell_type": "code",
      "metadata": {
        "id": "yqQjFiWeYdQI",
        "colab_type": "code",
        "colab": {
          "base_uri": "https://localhost:8080/",
          "height": 700
        },
        "outputId": "7ec4f03f-f8c6-480f-a9d8-3785caf4f2bf"
      },
      "source": [
        "# Install `transformers` from master\n",
        "!pip install git+https://github.com/huggingface/transformers\n",
        "!pip list | grep -E 'transformers|tokenizers'\n",
        "# transformers version at notebook update --- 2.11.0\n",
        "# tokenizers version at notebook update --- 0.8.0rc1\n",
        "\n",
        "#!pip install transformers==2.11.0"
      ],
      "execution_count": null,
      "outputs": [
        {
          "output_type": "stream",
          "text": [
            "Collecting git+https://github.com/huggingface/transformers\n",
            "  Cloning https://github.com/huggingface/transformers to /tmp/pip-req-build-luii3jpv\n",
            "  Running command git clone -q https://github.com/huggingface/transformers /tmp/pip-req-build-luii3jpv\n",
            "Requirement already satisfied: numpy in /usr/local/lib/python3.6/dist-packages (from transformers==3.0.1) (1.18.5)\n",
            "Collecting tokenizers==0.8.0-rc4\n",
            "\u001b[?25l  Downloading https://files.pythonhosted.org/packages/e8/bd/e5abec46af977c8a1375c1dca7cb1e5b3ec392ef279067af7f6bc50491a0/tokenizers-0.8.0rc4-cp36-cp36m-manylinux1_x86_64.whl (3.0MB)\n",
            "\u001b[K     |████████████████████████████████| 3.0MB 2.8MB/s \n",
            "\u001b[?25hRequirement already satisfied: packaging in /usr/local/lib/python3.6/dist-packages (from transformers==3.0.1) (20.4)\n",
            "Requirement already satisfied: filelock in /usr/local/lib/python3.6/dist-packages (from transformers==3.0.1) (3.0.12)\n",
            "Requirement already satisfied: requests in /usr/local/lib/python3.6/dist-packages (from transformers==3.0.1) (2.23.0)\n",
            "Requirement already satisfied: tqdm>=4.27 in /usr/local/lib/python3.6/dist-packages (from transformers==3.0.1) (4.41.1)\n",
            "Requirement already satisfied: regex!=2019.12.17 in /usr/local/lib/python3.6/dist-packages (from transformers==3.0.1) (2019.12.20)\n",
            "Collecting sentencepiece!=0.1.92\n",
            "\u001b[?25l  Downloading https://files.pythonhosted.org/packages/d4/a4/d0a884c4300004a78cca907a6ff9a5e9fe4f090f5d95ab341c53d28cbc58/sentencepiece-0.1.91-cp36-cp36m-manylinux1_x86_64.whl (1.1MB)\n",
            "\u001b[K     |████████████████████████████████| 1.1MB 29.6MB/s \n",
            "\u001b[?25hCollecting sacremoses\n",
            "\u001b[?25l  Downloading https://files.pythonhosted.org/packages/7d/34/09d19aff26edcc8eb2a01bed8e98f13a1537005d31e95233fd48216eed10/sacremoses-0.0.43.tar.gz (883kB)\n",
            "\u001b[K     |████████████████████████████████| 890kB 39.1MB/s \n",
            "\u001b[?25hRequirement already satisfied: dataclasses in /usr/local/lib/python3.6/dist-packages (from transformers==3.0.1) (0.7)\n",
            "Requirement already satisfied: six in /usr/local/lib/python3.6/dist-packages (from packaging->transformers==3.0.1) (1.12.0)\n",
            "Requirement already satisfied: pyparsing>=2.0.2 in /usr/local/lib/python3.6/dist-packages (from packaging->transformers==3.0.1) (2.4.7)\n",
            "Requirement already satisfied: certifi>=2017.4.17 in /usr/local/lib/python3.6/dist-packages (from requests->transformers==3.0.1) (2020.6.20)\n",
            "Requirement already satisfied: chardet<4,>=3.0.2 in /usr/local/lib/python3.6/dist-packages (from requests->transformers==3.0.1) (3.0.4)\n",
            "Requirement already satisfied: urllib3!=1.25.0,!=1.25.1,<1.26,>=1.21.1 in /usr/local/lib/python3.6/dist-packages (from requests->transformers==3.0.1) (1.24.3)\n",
            "Requirement already satisfied: idna<3,>=2.5 in /usr/local/lib/python3.6/dist-packages (from requests->transformers==3.0.1) (2.9)\n",
            "Requirement already satisfied: click in /usr/local/lib/python3.6/dist-packages (from sacremoses->transformers==3.0.1) (7.1.2)\n",
            "Requirement already satisfied: joblib in /usr/local/lib/python3.6/dist-packages (from sacremoses->transformers==3.0.1) (0.15.1)\n",
            "Building wheels for collected packages: transformers, sacremoses\n",
            "  Building wheel for transformers (setup.py) ... \u001b[?25l\u001b[?25hdone\n",
            "  Created wheel for transformers: filename=transformers-3.0.1-cp36-none-any.whl size=757441 sha256=8c375688b5581e111916c6a62eeb17711088174eeb56ff1bac9fb03fc9211eb6\n",
            "  Stored in directory: /tmp/pip-ephem-wheel-cache-pbmcmv20/wheels/70/d3/52/b3fa4f8b8ef04167ac62e5bb2accb62ae764db2a378247490e\n",
            "  Building wheel for sacremoses (setup.py) ... \u001b[?25l\u001b[?25hdone\n",
            "  Created wheel for sacremoses: filename=sacremoses-0.0.43-cp36-none-any.whl size=893260 sha256=e742d1fe4eb0d1a5de4044684683a6860cea4bb7f04a7206b81a37b9cec4dbc9\n",
            "  Stored in directory: /root/.cache/pip/wheels/29/3c/fd/7ce5c3f0666dab31a50123635e6fb5e19ceb42ce38d4e58f45\n",
            "Successfully built transformers sacremoses\n",
            "Installing collected packages: tokenizers, sentencepiece, sacremoses, transformers\n",
            "Successfully installed sacremoses-0.0.43 sentencepiece-0.1.91 tokenizers-0.8.0rc4 transformers-3.0.1\n",
            "tokenizers               0.8.0rc4       \n",
            "transformers             3.0.1          \n"
          ],
          "name": "stdout"
        }
      ]
    },
    {
      "cell_type": "code",
      "metadata": {
        "id": "KhGHM-IYYjb_",
        "colab_type": "code",
        "colab": {
          "base_uri": "https://localhost:8080/",
          "height": 102
        },
        "outputId": "cfb24246-ab17-4329-84be-856f8946d5c5"
      },
      "source": [
        "!head -5 ben.txt"
      ],
      "execution_count": null,
      "outputs": [
        {
          "output_type": "stream",
          "text": [
            "Go.\tযাও।\tCC-BY 2.0 (France) Attribution: tatoeba.org #2877272 (CM) & #5545004 (tanay)\n",
            "Go.\tযান।\tCC-BY 2.0 (France) Attribution: tatoeba.org #2877272 (CM) & #5545005 (tanay)\n",
            "Go.\tযা।\tCC-BY 2.0 (France) Attribution: tatoeba.org #2877272 (CM) & #5545006 (tanay)\n",
            "Run!\tপালাও!\tCC-BY 2.0 (France) Attribution: tatoeba.org #906328 (papabear) & #5548781 (tanay)\n",
            "Run!\tপালান!\tCC-BY 2.0 (France) Attribution: tatoeba.org #906328 (papabear) & #5548783 (tanay)\n"
          ],
          "name": "stdout"
        }
      ]
    },
    {
      "cell_type": "code",
      "metadata": {
        "id": "BczKh5t4Y1cO",
        "colab_type": "code",
        "colab": {
          "base_uri": "https://localhost:8080/",
          "height": 306
        },
        "outputId": "b5d045b6-c7c6-4963-fbe3-aff9ab26b043"
      },
      "source": [
        "with open('chunk_0981.txt', 'r', encoding = 'utf-8') as f:\n",
        "  data = f.read()\n",
        "print(data[:2000])"
      ],
      "execution_count": null,
      "outputs": [
        {
          "output_type": "stream",
          "text": [
            "  <|রাজনীতি|> জ্যেষ্ঠ প্রতিবেদক : কারান্তরীণ বিএনপি চেয়ারপারসন খালেদা জিয়ার মুক্তির দাবিতে রাজধানীতে বিক্ষোভ মিছিল করেছে বিএনপি।\n",
            " দলের জ্যেষ্ঠ যুগ্ম-মহাসচিব রুহুল কবির রিজভীর নেতৃত্বে নেতা-কর্মীরা বুধবার সকালে শান্তিনগর বাজারসংলগ্ন প্রধান সড়কে পথসভা ও বিক্ষোভ মিছিল করেন।\n",
            " মিছিলে দলের নির্বাহী কমিটির সদস্য অ্যাডভোকেট নিপূণ রায় চৌধুরীসহ বিএনপি ও অঙ্গ সংগঠনের নেতা-কর্মীরা অংশগ্রহণ করেন।\n",
            " পথসভা শেষে মিছিলটি শান্তিনগর কাঁচা বাজার থেকে শুরু হয়ে মালিবাগ অভিমুখে শান্তিনগর মোড় পার হয়ে কিছু দূর গিয়ে শেষ হয়।\n",
            " পথসভায় রিজভী আহমেদ বলেন, দেশকে গোরস্থানের নিরবতায় নামিয়ে আনতেই গণতন্ত্রে স্বীকৃত সব অধিকারগুলো হরণ করা হয়েছে।\n",
            " বাংলাদেশ এখন চলছে হরণের নীতিমালা দিয়ে।\n",
            " আর সেজন্য মানুষের গণতান্ত্রিক অধিকার ফিরিয়ে আনার আপোষহীন নেত্রীকে অন্যায়ভাবে কারারুদ্ধ করা হয়েছে এবং ভারপ্রাপ্ত চেয়ারম্যান তারেক রহমানকে মিথ্যা মামলায় সাজা দেওয়া হয়েছে।\n",
            " সরকার জুলুম অত্যাচার ও নিপীড়ন করছে অভিযোগ করে এর বিরুদ্ধে সবাইকে ঐক্যবদ্ধ হওয়ার আহ্বান জানান তিনি।\n",
            " রাইজিংবিডি/ঢাকা/২৯ আগস্ট ২০১৮/রেজা/ইভা <|endoftext|>  <|সারা_বাংলা|> কুষ্টিয়া প্রতিনিধি : কুষ্টিয়ার মিরপুরে তানিয়া খাতুন (২২) নামে এক গৃহবধূর বিষপান করে আত্মহত্যার অভিযোগ পাওয়া গেছে।\n",
            " বুধবার সকালে পুলিশ তানিয়া খাতুনের লাশ উদ্ধার করে ময়নাতদন্তের জন্য কুষ্টিয়া জেনারেল হাসপাতাল মর্গে পাঠিয়েছে।\n",
            " এলাকাবাসী সূত্রে জানা গেছে, মঙ্গলবার বিকেলে উপজেলার চিথলিয়া গ্রামের সাগর মন্ডল তার স্ত্রী তানিয়া খাতুনকে নির্যাতন ও পিটিয়ে আহত করে।\n",
            " স্বামীর নির্যাতন সইতে না পেরে সন্ধ্যার দিকে সে বিষপান করে।\n",
            " স্থানীয়রা তাকে দ্রুত মিরপুর উপজেলা স্বাস্থ্য কমপ্লেক্সে ভর্তি করলে চিকিৎসাধীন অবস্থায় রাত ৯টার দিকে তার মৃত্যু হয়।\n",
            " মিরপুর থানার ভারপ্রাপ্ত কর্মকর্তা (ওসি) রফিকুল ইসলাম ঘটনার সত্যতা নিশ্চিত করে জানান, পুলিশ ঘটনাস্থল পরিদর্শন করেছে।\n",
            " রাইজিংবিডি/কুষ্টিয়া/২৯ আগস্ট ২০১৮/কাঞ্চন কুমার/সাইফ <|endoftext|>  <|খেলাধুলা|> ক্রীড়া ডেস্ক : ফুটবলে একজন স্ট্রাইকারের মূল কাজ কী? সবাই একবাক্যে বলবেন গোল করা।\n",
            " কিন্তু সেই গোল করাটা প্রায় ভুলেই গিয়েছিলেন স্টোক সিটির স্ট্রাইকার সাঈদো বেরাহিনো।\n",
            " অবশেষে ৯১৩ দিন ও ৪৮ ম্যাচ পর গোলের দেখা পেয়েছেন তিনি! মঙ্গলবার লিগ কাপের দ্বিতীয় রাউন্ডে ঘরের মাঠে হাডার্সফিল্ড\n"
          ],
          "name": "stdout"
        }
      ]
    },
    {
      "cell_type": "code",
      "metadata": {
        "id": "viTILsoDZFh4",
        "colab_type": "code",
        "colab": {
          "base_uri": "https://localhost:8080/",
          "height": 68
        },
        "outputId": "46eb0903-3c21-44b8-9587-b1f542d2f140"
      },
      "source": [
        "lines = data.split(\"।\")\n",
        "train_data = []\n",
        "for l in lines:\n",
        "  train_data.append(l)\n",
        "print(train_data[1])\n",
        "print(len(train_data))"
      ],
      "execution_count": null,
      "outputs": [
        {
          "output_type": "stream",
          "text": [
            "\n",
            " দলের জ্যেষ্ঠ যুগ্ম-মহাসচিব রুহুল কবির রিজভীর নেতৃত্বে নেতা-কর্মীরা বুধবার সকালে শান্তিনগর বাজারসংলগ্ন প্রধান সড়কে পথসভা ও বিক্ষোভ মিছিল করেন\n",
            "22126\n"
          ],
          "name": "stdout"
        }
      ]
    },
    {
      "cell_type": "code",
      "metadata": {
        "id": "roPW7z1xZNem",
        "colab_type": "code",
        "colab": {}
      },
      "source": [
        "with open('train_data.txt', 'w', encoding = 'utf-8') as f:\n",
        "  data = f.write(\"\".join(train_data))"
      ],
      "execution_count": null,
      "outputs": []
    },
    {
      "cell_type": "code",
      "metadata": {
        "id": "MZkSVv-2ZgXZ",
        "colab_type": "code",
        "colab": {}
      },
      "source": [
        "TRAIN = True\n",
        "if TRAIN:\n",
        "    import sentencepiece as spm\n",
        "    spm.SentencePieceTrainer.train(input='train_data.txt', model_prefix='spm',vocab_size=9999) # Keep one space for mask token."
      ],
      "execution_count": null,
      "outputs": []
    },
    {
      "cell_type": "code",
      "metadata": {
        "id": "BFun7MTLasBs",
        "colab_type": "code",
        "colab": {
          "base_uri": "https://localhost:8080/",
          "height": 425
        },
        "outputId": "b717493a-4286-4a60-e427-563b41271804"
      },
      "source": [
        "from transformers import XLMRobertaConfig\n",
        "TRAIN = True\n",
        "# if you dont give    vocab_size=10000, this parameter here this works fine because this param is calculated from the models with masks and everything extra \n",
        "config = XLMRobertaConfig(\n",
        "    vocab_size=10001, \n",
        "    max_position_embeddings=514,\n",
        "    num_attention_heads=8,\n",
        "    num_hidden_layers=6,\n",
        "    type_vocab_size=1\n",
        ")\n",
        "\n",
        "from transformers import XLMRobertaTokenizer\n",
        "\n",
        "tokenizer = XLMRobertaTokenizer.from_pretrained(\"spm.model\", max_len=512)\n",
        "#enable_truncation(max_length=100)\n",
        "print(train_data[-1])\n",
        "tokenizer._tokenize(train_data[-1])"
      ],
      "execution_count": null,
      "outputs": [
        {
          "output_type": "stream",
          "text": [
            "Calling XLMRobertaTokenizer.from_pretrained() with the path to a single file or url is deprecated\n"
          ],
          "name": "stderr"
        },
        {
          "output_type": "stream",
          "text": [
            "\n",
            " রাইজিংবিডি/ঢাকা/১৪ সেপ্টেম্বর ২০১৮/ফিরোজ/তারা <|endoftext|>\n"
          ],
          "name": "stdout"
        },
        {
          "output_type": "execute_result",
          "data": {
            "text/plain": [
              "['▁রাইজিংবিডি',\n",
              " '/',\n",
              " 'ঢাকা',\n",
              " '/',\n",
              " '১৪',\n",
              " '▁সেপ্টেম্বর',\n",
              " '▁২০১৮',\n",
              " '/',\n",
              " 'ফিরোজ',\n",
              " '/',\n",
              " 'তারা',\n",
              " '▁<|',\n",
              " 'en',\n",
              " 'd',\n",
              " 'of',\n",
              " 't',\n",
              " 'e',\n",
              " 'x',\n",
              " 't',\n",
              " '|',\n",
              " '>']"
            ]
          },
          "metadata": {
            "tags": []
          },
          "execution_count": 6
        }
      ]
    },
    {
      "cell_type": "code",
      "metadata": {
        "id": "SGW93D6fbJqF",
        "colab_type": "code",
        "colab": {
          "base_uri": "https://localhost:8080/",
          "height": 51
        },
        "outputId": "f5b0257d-6630-4ebb-e5d2-0562f63ab4fb"
      },
      "source": [
        "\n",
        "\n",
        "if TRAIN:\n",
        "    %%time\n",
        "    from transformers import TextDataset\n",
        "\n",
        "    dataset = TextDataset(\n",
        "        tokenizer=tokenizer,\n",
        "        file_path=\"train_data.txt\",\n",
        "        block_size=128\n",
        "    )\n",
        "\n"
      ],
      "execution_count": null,
      "outputs": [
        {
          "output_type": "stream",
          "text": [
            "CPU times: user 2 µs, sys: 0 ns, total: 2 µs\n",
            "Wall time: 4.05 µs\n"
          ],
          "name": "stdout"
        }
      ]
    },
    {
      "cell_type": "code",
      "metadata": {
        "id": "qq7xsVimbjLC",
        "colab_type": "code",
        "colab": {}
      },
      "source": [
        "if TRAIN:\n",
        "    from transformers import DataCollatorForLanguageModeling\n",
        "\n",
        "    data_collator = DataCollatorForLanguageModeling(\n",
        "        tokenizer=tokenizer, mlm=True, mlm_probability=0.15\n",
        "    )\n",
        "\n",
        "if TRAIN:  \n",
        "    from transformers import Trainer, TrainingArguments\n",
        "\n",
        "    training_args = TrainingArguments(\n",
        "        output_dir=\"xlm_train/\",\n",
        "        overwrite_output_dir=True,\n",
        "        num_train_epochs=1,\n",
        "        per_device_train_batch_size=64,\n",
        "        save_steps=5000,\n",
        "        save_total_limit=2\n",
        "    )\n",
        "\n",
        "    from transformers import XLMRobertaForMaskedLM\n",
        "\n",
        "    model = XLMRobertaForMaskedLM(config=config)\n",
        "\n",
        "    trainer = Trainer(\n",
        "\n",
        "        model=model,\n",
        "        args=training_args,\n",
        "        data_collator=data_collator,\n",
        "        train_dataset=dataset,\n",
        "        prediction_loss_only=True\n",
        "    )"
      ],
      "execution_count": null,
      "outputs": []
    },
    {
      "cell_type": "code",
      "metadata": {
        "id": "tZ6w8yndkRZw",
        "colab_type": "code",
        "colab": {
          "base_uri": "https://localhost:8080/",
          "height": 115,
          "referenced_widgets": [
            "46bd7cff7cc04b8f94ec1395906a32de",
            "58ae3ca9f7b84f15aad7069c7f09117e",
            "681af7340c314bbb94fd1133dc079421",
            "bca70fc572524a17934b126369315b11",
            "4e2181203485483190930a514b6679f7",
            "9723dd6fb29146fab60a75afb93d522f",
            "1503b68df04c474daabafa5a26c0a2d9",
            "eb59ce5759c7474ea9effc9a4e83772f",
            "bcdd4a8e4f64458dac51e62931343d1c",
            "5f98388a21ed4b06810ee7b78f2ad062",
            "795b5e6286a744c7977553e9fe06fcc1",
            "f2959f399670448eb2423ed0b321460c",
            "1c00f1dac8864096ba9e97fcc2749a7c",
            "f570fca214d148b092ac3de89e709e2a",
            "4b52ed8459134953a6ae156010ed2462",
            "761ab16acb9647698f7ae48a2ed110c1"
          ]
        },
        "outputId": "3a4bc31b-4a6b-4f75-cff0-cdd0ff4afd2d"
      },
      "source": [
        "if TRAIN:\n",
        "    trainer.train()"
      ],
      "execution_count": null,
      "outputs": [
        {
          "output_type": "display_data",
          "data": {
            "application/vnd.jupyter.widget-view+json": {
              "model_id": "46bd7cff7cc04b8f94ec1395906a32de",
              "version_minor": 0,
              "version_major": 2
            },
            "text/plain": [
              "HBox(children=(FloatProgress(value=0.0, description='Epoch', max=1.0, style=ProgressStyle(description_width='i…"
            ]
          },
          "metadata": {
            "tags": []
          }
        },
        {
          "output_type": "display_data",
          "data": {
            "application/vnd.jupyter.widget-view+json": {
              "model_id": "bcdd4a8e4f64458dac51e62931343d1c",
              "version_minor": 0,
              "version_major": 2
            },
            "text/plain": [
              "HBox(children=(FloatProgress(value=0.0, description='Iteration', max=63.0, style=ProgressStyle(description_wid…"
            ]
          },
          "metadata": {
            "tags": []
          }
        },
        {
          "output_type": "stream",
          "text": [
            "\n",
            "\n"
          ],
          "name": "stdout"
        }
      ]
    },
    {
      "cell_type": "code",
      "metadata": {
        "id": "sWOk1AuOl9CG",
        "colab_type": "code",
        "colab": {}
      },
      "source": [
        "import torch"
      ],
      "execution_count": null,
      "outputs": []
    },
    {
      "cell_type": "code",
      "metadata": {
        "id": "Ndu3wLr2pUiY",
        "colab_type": "code",
        "colab": {
          "base_uri": "https://localhost:8080/",
          "height": 35
        },
        "outputId": "a2ace4fc-9cbe-4118-b29d-9ea675dcb00a"
      },
      "source": [
        "torch.__version__"
      ],
      "execution_count": null,
      "outputs": [
        {
          "output_type": "execute_result",
          "data": {
            "application/vnd.google.colaboratory.intrinsic": {
              "type": "string"
            },
            "text/plain": [
              "'1.5.1+cu101'"
            ]
          },
          "metadata": {
            "tags": []
          },
          "execution_count": 8
        }
      ]
    },
    {
      "cell_type": "code",
      "metadata": {
        "id": "P4f7IX4CpXU9",
        "colab_type": "code",
        "colab": {
          "base_uri": "https://localhost:8080/",
          "height": 35
        },
        "outputId": "bb7b0b18-ff4d-4b87-9d0c-8311cf9ed2ba"
      },
      "source": [
        "import transformers\n",
        "transformers.__version__"
      ],
      "execution_count": null,
      "outputs": [
        {
          "output_type": "execute_result",
          "data": {
            "application/vnd.google.colaboratory.intrinsic": {
              "type": "string"
            },
            "text/plain": [
              "'2.11.0'"
            ]
          },
          "metadata": {
            "tags": []
          },
          "execution_count": 7
        }
      ]
    },
    {
      "cell_type": "code",
      "metadata": {
        "id": "iaSzEUQMqIlJ",
        "colab_type": "code",
        "colab": {
          "base_uri": "https://localhost:8080/",
          "height": 445
        },
        "outputId": "d3fc5ca7-bbe8-44f1-b81a-b1bc8abf63c5"
      },
      "source": [
        "#!git clone https://github.com/kwonmha/bert-vocab-builder.git\n",
        "!ls\n",
        "\n",
        "!python bert-vocab-builder/subword_builder.py \\\n",
        "  --corpus_filepattern \"train_data.txt\" \\\n",
        "  --output_filename git_bert_vocab.txt \\\n",
        "  --min_count 10"
      ],
      "execution_count": null,
      "outputs": [
        {
          "output_type": "stream",
          "text": [
            "bert.model\t\t\t\t\t       chunk_0981.txt\n",
            "bert.vocab\t\t\t\t\t       electra_train\n",
            "bert-vocab-builder\t\t\t\t       runs\n",
            "bert_vocab.txt\t\t\t\t\t       sample_data\n",
            "cached_lm_ElectraTokenizer_126_train_data.txt\t       spm.model\n",
            "cached_lm_ElectraTokenizer_126_train_data.txt.lock     spm.vocab\n",
            "cached_lm_XLMRobertaTokenizer_126_train_data.txt       train_data.txt\n",
            "cached_lm_XLMRobertaTokenizer_126_train_data.txt.lock  xlm_train\n",
            "/usr/local/lib/python3.6/dist-packages/tensorflow/python/framework/dtypes.py:523: FutureWarning: Passing (type, 1) or '1type' as a synonym of type is deprecated; in a future version of numpy, it will be understood as (type, (1,)) / '(1,)type'.\n",
            "  _np_qint8 = np.dtype([(\"qint8\", np.int8, 1)])\n",
            "/usr/local/lib/python3.6/dist-packages/tensorflow/python/framework/dtypes.py:524: FutureWarning: Passing (type, 1) or '1type' as a synonym of type is deprecated; in a future version of numpy, it will be understood as (type, (1,)) / '(1,)type'.\n",
            "  _np_quint8 = np.dtype([(\"quint8\", np.uint8, 1)])\n",
            "/usr/local/lib/python3.6/dist-packages/tensorflow/python/framework/dtypes.py:525: FutureWarning: Passing (type, 1) or '1type' as a synonym of type is deprecated; in a future version of numpy, it will be understood as (type, (1,)) / '(1,)type'.\n",
            "  _np_qint16 = np.dtype([(\"qint16\", np.int16, 1)])\n",
            "/usr/local/lib/python3.6/dist-packages/tensorflow/python/framework/dtypes.py:526: FutureWarning: Passing (type, 1) or '1type' as a synonym of type is deprecated; in a future version of numpy, it will be understood as (type, (1,)) / '(1,)type'.\n",
            "  _np_quint16 = np.dtype([(\"quint16\", np.uint16, 1)])\n",
            "/usr/local/lib/python3.6/dist-packages/tensorflow/python/framework/dtypes.py:527: FutureWarning: Passing (type, 1) or '1type' as a synonym of type is deprecated; in a future version of numpy, it will be understood as (type, (1,)) / '(1,)type'.\n",
            "  _np_qint32 = np.dtype([(\"qint32\", np.int32, 1)])\n",
            "/usr/local/lib/python3.6/dist-packages/tensorflow/python/framework/dtypes.py:532: FutureWarning: Passing (type, 1) or '1type' as a synonym of type is deprecated; in a future version of numpy, it will be understood as (type, (1,)) / '(1,)type'.\n",
            "  np_resource = np.dtype([(\"resource\", np.ubyte, 1)])\n",
            "['./train_data.txt']\n",
            "1.0081160068511963 for reading read file : ./train_data.txt\n",
            "read all files\n",
            "total vocab size : 2319, 0.43730711936950684 seconds elapsed \n"
          ],
          "name": "stdout"
        }
      ]
    },
    {
      "cell_type": "markdown",
      "metadata": {
        "id": "zaCKMTMx_mS1",
        "colab_type": "text"
      },
      "source": [
        "ELECTRA"
      ]
    },
    {
      "cell_type": "code",
      "metadata": {
        "id": "BsAUqXkn_pED",
        "colab_type": "code",
        "colab": {}
      },
      "source": [
        "TRAIN = True\n",
        "if TRAIN:\n",
        "    import sentencepiece as spm\n",
        "    spm.SentencePieceTrainer.train(input='train_data.txt', model_prefix='bert',vocab_size=20640) # Keep one space for mask token.\n",
        "\n",
        "with open(\"bert.vocab\", 'r', encoding='utf-8') as f:\n",
        "  vc = f.read()\n",
        "bert_vocab = []\n",
        "for i in enumerate(vc.split(\"\\n\")):\n",
        "  bert_vocab.append(i[1].split('\\t')[0])\n",
        "with open(\"bert_vocab.txt\", 'w', encoding='utf-8') as f:\n",
        "  f.write(\"\\n\".join(bert_vocab))\n"
      ],
      "execution_count": null,
      "outputs": []
    },
    {
      "cell_type": "code",
      "metadata": {
        "id": "OyU4sNNcg2B3",
        "colab_type": "code",
        "colab": {
          "base_uri": "https://localhost:8080/"
        },
        "outputId": "adf5c369-a2b2-4b18-b647-82d0cf9b11c0"
      },
      "source": [
        "from tokenizers import BertWordPieceTokenizer\n",
        "tokenizer = BertWordPieceTokenizer(\n",
        "    clean_text=True, handle_chinese_chars=True, strip_accents=True, lowercase=True,\n",
        ")\n",
        "\n",
        "# And then train\n",
        "tokenizer.train(\n",
        "    files = 'train_data.txt',\n",
        "    vocab_size=15000,\n",
        "    min_frequency=2,\n",
        "    show_progress=True,\n",
        "    special_tokens=[\"[PAD]\", \"[UNK]\", \"[CLS]\", \"[SEP]\", \"[MASK]\"],\n",
        "    limit_alphabet=1000,\n",
        "    wordpieces_prefix=\"##\",\n",
        ")\n",
        "\n",
        "# Save the files\n",
        "tokenizer.save_model('./', 'bert_final_huggingface')"
      ],
      "execution_count": null,
      "outputs": [
        {
          "output_type": "execute_result",
          "data": {
            "text/plain": [
              "['./bert_final_huggingface-vocab.txt']"
            ]
          },
          "metadata": {
            "tags": []
          },
          "execution_count": 6
        }
      ]
    },
    {
      "cell_type": "code",
      "metadata": {
        "id": "XzH_FR3SSCAC",
        "colab_type": "code",
        "colab": {
          "base_uri": "https://localhost:8080/",
          "height": 85
        },
        "outputId": "0560a282-4848-42ce-b20a-2816923655b3"
      },
      "source": [
        "from transformers import ElectraTokenizer, ElectraModel, ElectraConfig, ElectraForMaskedLM\n",
        "import torch\n",
        "tokenizer = ElectraTokenizer.from_pretrained(\"bert_final_huggingface-vocab.txt\")\n",
        "print(train_data[-10])\n",
        "tokenizer._tokenize(train_data[-10])\n",
        "#tokenizer = ElectraTokenizer.from_pretrained('google/electra-small-discriminator')\n",
        "#model = ElectraModel.from_pretrained('google/electra-small-discriminator')"
      ],
      "execution_count": null,
      "outputs": [
        {
          "output_type": "stream",
          "text": [
            "Calling ElectraTokenizer.from_pretrained() with the path to a single file or url is deprecated\n"
          ],
          "name": "stderr"
        },
        {
          "output_type": "stream",
          "text": [
            "\n",
            " অবশ্য ওগুলো আকারে ছোট\n"
          ],
          "name": "stdout"
        },
        {
          "output_type": "execute_result",
          "data": {
            "text/plain": [
              "['অবশয', 'ও', '##গলো', 'আকারে', 'ছোট']"
            ]
          },
          "metadata": {
            "tags": []
          },
          "execution_count": 11
        }
      ]
    },
    {
      "cell_type": "code",
      "metadata": {
        "id": "ToDKKVOZBJoZ",
        "colab_type": "code",
        "colab": {}
      },
      "source": [
        "tokenizer._tokenize(train_data[-1])\n",
        "\n",
        "config = ElectraConfig(\n",
        "    vocab_size=15000\n",
        ")\n",
        "model = ElectraForMaskedLM(config=config)"
      ],
      "execution_count": null,
      "outputs": []
    },
    {
      "cell_type": "code",
      "metadata": {
        "id": "hNzADVEsBTZR",
        "colab_type": "code",
        "colab": {
          "base_uri": "https://localhost:8080/",
          "height": 51
        },
        "outputId": "dc7928f0-fc9e-4d65-e7f2-dcb73969e80a"
      },
      "source": [
        "TRAIN = True\n",
        "\n",
        "if TRAIN:\n",
        "    %%time\n",
        "    from transformers import TextDataset\n",
        "    dataset = TextDataset(\n",
        "        tokenizer=tokenizer,\n",
        "        file_path=\"train_data.txt\",\n",
        "        block_size=128,\n",
        "    )"
      ],
      "execution_count": null,
      "outputs": [
        {
          "output_type": "stream",
          "text": [
            "CPU times: user 1e+03 ns, sys: 1 µs, total: 2 µs\n",
            "Wall time: 4.53 µs\n"
          ],
          "name": "stdout"
        }
      ]
    },
    {
      "cell_type": "code",
      "metadata": {
        "id": "5ITodvP_CNJN",
        "colab_type": "code",
        "colab": {}
      },
      "source": [
        "if TRAIN:\n",
        "    from transformers import DataCollatorForLanguageModeling\n",
        "\n",
        "    data_collator = DataCollatorForLanguageModeling(\n",
        "        tokenizer=tokenizer, mlm=True, mlm_probability=0.15\n",
        "    )\n",
        "\n",
        "if TRAIN:  \n",
        "    from transformers import Trainer, TrainingArguments\n",
        "\n",
        "    training_args = TrainingArguments(\n",
        "        output_dir=\"electra_train/\",\n",
        "        overwrite_output_dir=True,\n",
        "        num_train_epochs=10,\n",
        "        per_device_train_batch_size=64,\n",
        "        save_steps=1,\n",
        "        save_total_limit=2,\n",
        "    )\n",
        "    trainer = Trainer(\n",
        "        model=model,\n",
        "        args=training_args,\n",
        "        data_collator=data_collator,\n",
        "        train_dataset=dataset,\n",
        "        prediction_loss_only=True,\n",
        "    )"
      ],
      "execution_count": null,
      "outputs": []
    },
    {
      "cell_type": "code",
      "metadata": {
        "id": "20J-YL8uCfN-",
        "colab_type": "code",
        "colab": {
          "base_uri": "https://localhost:8080/",
          "height": 610,
          "referenced_widgets": [
            "a5795f876e3e468a93473e547acbc4de",
            "31d100c741ba4eed849e3dfc9da0a2a5",
            "043439d535774af591710c81a5460cbc",
            "369cfa84918e4edfbe9aaeb2fb00bf91",
            "b2c597fe81a84f37af682d9b35dcf4af",
            "366706edda2d4f4bb6be8d8e61b9b828",
            "522c0c61f3b84de3950cd8c20fa33438",
            "d7cb808c8fc542f09e4450195d804977",
            "906dffeeedbb4e14b266a161ae3451f0",
            "99d5a8480e164cd8a8b13b8811904021",
            "e1a0259b9ed440ec9ce33b7370f9a35c",
            "b01feb4190204df6ad12a1efcc035c02",
            "fc70645a0a6c4d9f8ea97a5f0de10031",
            "512bb782abbb46a2981ae1137e640f83",
            "608b77b1cae946d984099524762bc150",
            "8a1527a5f851424d894455a2b71388ae",
            "c800bf33473d495fa2749a1285743692",
            "ec70bf62f85948fc958b4a0169b6e8c4",
            "d6c2665af51247f09bf76978be03c1a1",
            "0fb6c62823234b2eb57cc20dba0aac10",
            "d774e3f813ea4fa2a120d413a93ad535",
            "48308629b3b541d1ac396f7139388814",
            "8605fabf3d624a499c9782af1001451a",
            "d665cb5ba86449f9814b049acbb69276",
            "482f6525ba874aefb6aa8bf55e5e38f1",
            "2745ad9c8f734f5ebe5888abc56d744b",
            "efad72eb124b4754864627bbfe81be0f",
            "384bc6c919b9429b8505188afdfbddb2",
            "2dd012fdc952414c9af4ff2e55f571ff",
            "42dc684f875b4b50bdb08a5cb30072ba",
            "5801e3124c2f4630ab1e2d5a1f0b8585",
            "12fc9c8be3db4d4b8deb1d7f0d55c8cb",
            "baea5156a65645fa9c03903cb06484d3",
            "277953479add4186ae3b9be28e88b1ef",
            "192d3a2f41094492b85a4c033621cea2",
            "1bb32216631045a8ad189eeb4913ef96",
            "aa065144f40b4e31acafe7c5b4ddaec7",
            "4dbc758669054c25bad3a86695b48c5a",
            "c52136cf376747f09bafc81c23a3ca8a",
            "88eeaff069cc4288995e4a61b135e7eb",
            "dcfca0447e644038b16fde8b25eba8b6",
            "1e9230113e1641fa92529dd1ad37de5a",
            "5f24f932f42b49229a99175e54bc172d",
            "6905386d262744c18f5d62adb07ef9f0",
            "3144e5672bac4da3907cf9490b9a944b",
            "f56904abea814f8c8815c939fdc74810",
            "c7b0f93cac6b4d11ae078f56a20de53c",
            "c6a03577fdf6489fac6e49412d12253a",
            "11a6e13b77b346cbb092a9b8353e8316",
            "d2ddc8f2918945b7a214354e1e54a876",
            "1b76cd2b774f462abfb623e624e96f06",
            "3dee6b3cf4034dbcb71678e92d161d62",
            "823145afd0514a75a89645316523f494",
            "e0bd5a68030345078c0449e108162d39",
            "a92a170ab9064e09b4ea860d07a1e5be",
            "ddc8b2b9121644cdb2ad9e2294b288db",
            "190338415cd747bab3e336c2772f4d5b",
            "4f8873c6b4ec44198ce881d3a42fc5ce",
            "4ed278eb8cc34d5aa55a4446c21d0656",
            "4aacc375f71d4f1b8165397ca4983eeb",
            "303d4bb00144482bb7fc1b9af025c6ba",
            "52160ae66f23423fa5768c5cb94dac30",
            "72eccb0c34ee4061be00ce15cfa0460a",
            "94c026ea24eb4087af2a74ddfe20afdb",
            "078e81028b9d451d88244485b01c2569",
            "2eef0cc176c04b4db7dbd8c586210749",
            "42265c4a07674af3ba35089c8dc18eff",
            "c6cfad4e149a4a42a1ad479861ccb229",
            "56cf0a8815614909babd9460fdd568bb",
            "9d9422690ffb4b4587fa4b86ea4cc919",
            "92c8e9b634484a1dbac8c5613b855f9f",
            "a45bd97c2ce7437da961f8ed89beffc6",
            "2d8b4d1359bf4899806b40c8ac537955",
            "dac21e3a8ae0466fb0e80ee79af36c04",
            "05805182594240d0be46a80def1e5fca",
            "9009c6f6381945368ecf32a024ec2060",
            "af0eeb0da1124890bc1f7638a77557b3",
            "43807e072142468cb3780f9f66c99067",
            "97bf25830ef148fa97f250ca9a7eb571",
            "82480c11951c479f8f0df0a4fb3983a7",
            "ccb7a54e3e5d48da9f8b3a15caf89e81",
            "2355cf91d99b4248aed10740b2fa3c66",
            "fc956d180860457eb6ac3307939b7c5a",
            "fe68cac2e4714e92baa3378c559b58d2",
            "49eb5901d0914030be1c2f59610dd478",
            "2fd7850cfe4b485e858aa1bbd32a0df9",
            "07e121e522ab4f63a339ab0777227017",
            "bf50c2ef81f8442eb3c796d4bd414326"
          ]
        },
        "outputId": "661fb2f1-95d1-4f3c-d5ff-07c7d06ff08c"
      },
      "source": [
        "if TRAIN:\n",
        "    trainer.train()"
      ],
      "execution_count": null,
      "outputs": [
        {
          "output_type": "display_data",
          "data": {
            "application/vnd.jupyter.widget-view+json": {
              "model_id": "a5795f876e3e468a93473e547acbc4de",
              "version_minor": 0,
              "version_major": 2
            },
            "text/plain": [
              "HBox(children=(FloatProgress(value=0.0, description='Epoch', max=10.0, style=ProgressStyle(description_width='…"
            ]
          },
          "metadata": {
            "tags": []
          }
        },
        {
          "output_type": "display_data",
          "data": {
            "application/vnd.jupyter.widget-view+json": {
              "model_id": "906dffeeedbb4e14b266a161ae3451f0",
              "version_minor": 0,
              "version_major": 2
            },
            "text/plain": [
              "HBox(children=(FloatProgress(value=0.0, description='Iteration', max=55.0, style=ProgressStyle(description_wid…"
            ]
          },
          "metadata": {
            "tags": []
          }
        },
        {
          "output_type": "stream",
          "text": [
            "/usr/local/lib/python3.6/dist-packages/torch/optim/lr_scheduler.py:200: UserWarning: Please also save or load the state of the optimzer when saving or loading the scheduler.\n",
            "  warnings.warn(SAVE_STATE_WARNING, UserWarning)\n"
          ],
          "name": "stderr"
        },
        {
          "output_type": "stream",
          "text": [
            "\n"
          ],
          "name": "stdout"
        },
        {
          "output_type": "display_data",
          "data": {
            "application/vnd.jupyter.widget-view+json": {
              "model_id": "c800bf33473d495fa2749a1285743692",
              "version_minor": 0,
              "version_major": 2
            },
            "text/plain": [
              "HBox(children=(FloatProgress(value=0.0, description='Iteration', max=55.0, style=ProgressStyle(description_wid…"
            ]
          },
          "metadata": {
            "tags": []
          }
        },
        {
          "output_type": "stream",
          "text": [
            "\n"
          ],
          "name": "stdout"
        },
        {
          "output_type": "display_data",
          "data": {
            "application/vnd.jupyter.widget-view+json": {
              "model_id": "482f6525ba874aefb6aa8bf55e5e38f1",
              "version_minor": 0,
              "version_major": 2
            },
            "text/plain": [
              "HBox(children=(FloatProgress(value=0.0, description='Iteration', max=55.0, style=ProgressStyle(description_wid…"
            ]
          },
          "metadata": {
            "tags": []
          }
        },
        {
          "output_type": "stream",
          "text": [
            "\n"
          ],
          "name": "stdout"
        },
        {
          "output_type": "display_data",
          "data": {
            "application/vnd.jupyter.widget-view+json": {
              "model_id": "baea5156a65645fa9c03903cb06484d3",
              "version_minor": 0,
              "version_major": 2
            },
            "text/plain": [
              "HBox(children=(FloatProgress(value=0.0, description='Iteration', max=55.0, style=ProgressStyle(description_wid…"
            ]
          },
          "metadata": {
            "tags": []
          }
        },
        {
          "output_type": "stream",
          "text": [
            "\n"
          ],
          "name": "stdout"
        },
        {
          "output_type": "display_data",
          "data": {
            "application/vnd.jupyter.widget-view+json": {
              "model_id": "dcfca0447e644038b16fde8b25eba8b6",
              "version_minor": 0,
              "version_major": 2
            },
            "text/plain": [
              "HBox(children=(FloatProgress(value=0.0, description='Iteration', max=55.0, style=ProgressStyle(description_wid…"
            ]
          },
          "metadata": {
            "tags": []
          }
        },
        {
          "output_type": "stream",
          "text": [
            "\n"
          ],
          "name": "stdout"
        },
        {
          "output_type": "display_data",
          "data": {
            "application/vnd.jupyter.widget-view+json": {
              "model_id": "11a6e13b77b346cbb092a9b8353e8316",
              "version_minor": 0,
              "version_major": 2
            },
            "text/plain": [
              "HBox(children=(FloatProgress(value=0.0, description='Iteration', max=55.0, style=ProgressStyle(description_wid…"
            ]
          },
          "metadata": {
            "tags": []
          }
        },
        {
          "output_type": "stream",
          "text": [
            "\n"
          ],
          "name": "stdout"
        },
        {
          "output_type": "display_data",
          "data": {
            "application/vnd.jupyter.widget-view+json": {
              "model_id": "190338415cd747bab3e336c2772f4d5b",
              "version_minor": 0,
              "version_major": 2
            },
            "text/plain": [
              "HBox(children=(FloatProgress(value=0.0, description='Iteration', max=55.0, style=ProgressStyle(description_wid…"
            ]
          },
          "metadata": {
            "tags": []
          }
        },
        {
          "output_type": "stream",
          "text": [
            "\n"
          ],
          "name": "stdout"
        },
        {
          "output_type": "display_data",
          "data": {
            "application/vnd.jupyter.widget-view+json": {
              "model_id": "078e81028b9d451d88244485b01c2569",
              "version_minor": 0,
              "version_major": 2
            },
            "text/plain": [
              "HBox(children=(FloatProgress(value=0.0, description='Iteration', max=55.0, style=ProgressStyle(description_wid…"
            ]
          },
          "metadata": {
            "tags": []
          }
        },
        {
          "output_type": "stream",
          "text": [
            "\n"
          ],
          "name": "stdout"
        },
        {
          "output_type": "display_data",
          "data": {
            "application/vnd.jupyter.widget-view+json": {
              "model_id": "2d8b4d1359bf4899806b40c8ac537955",
              "version_minor": 0,
              "version_major": 2
            },
            "text/plain": [
              "HBox(children=(FloatProgress(value=0.0, description='Iteration', max=55.0, style=ProgressStyle(description_wid…"
            ]
          },
          "metadata": {
            "tags": []
          }
        },
        {
          "output_type": "stream",
          "text": [
            "\n"
          ],
          "name": "stdout"
        },
        {
          "output_type": "display_data",
          "data": {
            "application/vnd.jupyter.widget-view+json": {
              "model_id": "ccb7a54e3e5d48da9f8b3a15caf89e81",
              "version_minor": 0,
              "version_major": 2
            },
            "text/plain": [
              "HBox(children=(FloatProgress(value=0.0, description='Iteration', max=55.0, style=ProgressStyle(description_wid…"
            ]
          },
          "metadata": {
            "tags": []
          }
        },
        {
          "output_type": "stream",
          "text": [
            "\n",
            "\n"
          ],
          "name": "stdout"
        }
      ]
    },
    {
      "cell_type": "code",
      "metadata": {
        "id": "OGoZnegHa-pe",
        "colab_type": "code",
        "colab": {}
      },
      "source": [
        "#!pip install tensorflow==1.11\n",
        "import tensorflow as tf\n",
        "print(tf.__version__)"
      ],
      "execution_count": null,
      "outputs": []
    },
    {
      "cell_type": "code",
      "metadata": {
        "id": "Wu8PfCi-Cjmq",
        "colab_type": "code",
        "colab": {
          "base_uri": "https://localhost:8080/",
          "height": 1000
        },
        "outputId": "ed0962af-8dea-4ac9-b86c-ee976e735a44"
      },
      "source": [
        "print(model)"
      ],
      "execution_count": null,
      "outputs": [
        {
          "output_type": "stream",
          "text": [
            "ElectraModel(\n",
            "  (embeddings): ElectraEmbeddings(\n",
            "    (word_embeddings): Embedding(9999, 128, padding_idx=0)\n",
            "    (position_embeddings): Embedding(512, 128)\n",
            "    (token_type_embeddings): Embedding(2, 128)\n",
            "    (LayerNorm): LayerNorm((128,), eps=1e-12, elementwise_affine=True)\n",
            "    (dropout): Dropout(p=0.1, inplace=False)\n",
            "  )\n",
            "  (embeddings_project): Linear(in_features=128, out_features=256, bias=True)\n",
            "  (encoder): BertEncoder(\n",
            "    (layer): ModuleList(\n",
            "      (0): BertLayer(\n",
            "        (attention): BertAttention(\n",
            "          (self): BertSelfAttention(\n",
            "            (query): Linear(in_features=256, out_features=256, bias=True)\n",
            "            (key): Linear(in_features=256, out_features=256, bias=True)\n",
            "            (value): Linear(in_features=256, out_features=256, bias=True)\n",
            "            (dropout): Dropout(p=0.1, inplace=False)\n",
            "          )\n",
            "          (output): BertSelfOutput(\n",
            "            (dense): Linear(in_features=256, out_features=256, bias=True)\n",
            "            (LayerNorm): LayerNorm((256,), eps=1e-12, elementwise_affine=True)\n",
            "            (dropout): Dropout(p=0.1, inplace=False)\n",
            "          )\n",
            "        )\n",
            "        (intermediate): BertIntermediate(\n",
            "          (dense): Linear(in_features=256, out_features=1024, bias=True)\n",
            "        )\n",
            "        (output): BertOutput(\n",
            "          (dense): Linear(in_features=1024, out_features=256, bias=True)\n",
            "          (LayerNorm): LayerNorm((256,), eps=1e-12, elementwise_affine=True)\n",
            "          (dropout): Dropout(p=0.1, inplace=False)\n",
            "        )\n",
            "      )\n",
            "      (1): BertLayer(\n",
            "        (attention): BertAttention(\n",
            "          (self): BertSelfAttention(\n",
            "            (query): Linear(in_features=256, out_features=256, bias=True)\n",
            "            (key): Linear(in_features=256, out_features=256, bias=True)\n",
            "            (value): Linear(in_features=256, out_features=256, bias=True)\n",
            "            (dropout): Dropout(p=0.1, inplace=False)\n",
            "          )\n",
            "          (output): BertSelfOutput(\n",
            "            (dense): Linear(in_features=256, out_features=256, bias=True)\n",
            "            (LayerNorm): LayerNorm((256,), eps=1e-12, elementwise_affine=True)\n",
            "            (dropout): Dropout(p=0.1, inplace=False)\n",
            "          )\n",
            "        )\n",
            "        (intermediate): BertIntermediate(\n",
            "          (dense): Linear(in_features=256, out_features=1024, bias=True)\n",
            "        )\n",
            "        (output): BertOutput(\n",
            "          (dense): Linear(in_features=1024, out_features=256, bias=True)\n",
            "          (LayerNorm): LayerNorm((256,), eps=1e-12, elementwise_affine=True)\n",
            "          (dropout): Dropout(p=0.1, inplace=False)\n",
            "        )\n",
            "      )\n",
            "      (2): BertLayer(\n",
            "        (attention): BertAttention(\n",
            "          (self): BertSelfAttention(\n",
            "            (query): Linear(in_features=256, out_features=256, bias=True)\n",
            "            (key): Linear(in_features=256, out_features=256, bias=True)\n",
            "            (value): Linear(in_features=256, out_features=256, bias=True)\n",
            "            (dropout): Dropout(p=0.1, inplace=False)\n",
            "          )\n",
            "          (output): BertSelfOutput(\n",
            "            (dense): Linear(in_features=256, out_features=256, bias=True)\n",
            "            (LayerNorm): LayerNorm((256,), eps=1e-12, elementwise_affine=True)\n",
            "            (dropout): Dropout(p=0.1, inplace=False)\n",
            "          )\n",
            "        )\n",
            "        (intermediate): BertIntermediate(\n",
            "          (dense): Linear(in_features=256, out_features=1024, bias=True)\n",
            "        )\n",
            "        (output): BertOutput(\n",
            "          (dense): Linear(in_features=1024, out_features=256, bias=True)\n",
            "          (LayerNorm): LayerNorm((256,), eps=1e-12, elementwise_affine=True)\n",
            "          (dropout): Dropout(p=0.1, inplace=False)\n",
            "        )\n",
            "      )\n",
            "      (3): BertLayer(\n",
            "        (attention): BertAttention(\n",
            "          (self): BertSelfAttention(\n",
            "            (query): Linear(in_features=256, out_features=256, bias=True)\n",
            "            (key): Linear(in_features=256, out_features=256, bias=True)\n",
            "            (value): Linear(in_features=256, out_features=256, bias=True)\n",
            "            (dropout): Dropout(p=0.1, inplace=False)\n",
            "          )\n",
            "          (output): BertSelfOutput(\n",
            "            (dense): Linear(in_features=256, out_features=256, bias=True)\n",
            "            (LayerNorm): LayerNorm((256,), eps=1e-12, elementwise_affine=True)\n",
            "            (dropout): Dropout(p=0.1, inplace=False)\n",
            "          )\n",
            "        )\n",
            "        (intermediate): BertIntermediate(\n",
            "          (dense): Linear(in_features=256, out_features=1024, bias=True)\n",
            "        )\n",
            "        (output): BertOutput(\n",
            "          (dense): Linear(in_features=1024, out_features=256, bias=True)\n",
            "          (LayerNorm): LayerNorm((256,), eps=1e-12, elementwise_affine=True)\n",
            "          (dropout): Dropout(p=0.1, inplace=False)\n",
            "        )\n",
            "      )\n",
            "      (4): BertLayer(\n",
            "        (attention): BertAttention(\n",
            "          (self): BertSelfAttention(\n",
            "            (query): Linear(in_features=256, out_features=256, bias=True)\n",
            "            (key): Linear(in_features=256, out_features=256, bias=True)\n",
            "            (value): Linear(in_features=256, out_features=256, bias=True)\n",
            "            (dropout): Dropout(p=0.1, inplace=False)\n",
            "          )\n",
            "          (output): BertSelfOutput(\n",
            "            (dense): Linear(in_features=256, out_features=256, bias=True)\n",
            "            (LayerNorm): LayerNorm((256,), eps=1e-12, elementwise_affine=True)\n",
            "            (dropout): Dropout(p=0.1, inplace=False)\n",
            "          )\n",
            "        )\n",
            "        (intermediate): BertIntermediate(\n",
            "          (dense): Linear(in_features=256, out_features=1024, bias=True)\n",
            "        )\n",
            "        (output): BertOutput(\n",
            "          (dense): Linear(in_features=1024, out_features=256, bias=True)\n",
            "          (LayerNorm): LayerNorm((256,), eps=1e-12, elementwise_affine=True)\n",
            "          (dropout): Dropout(p=0.1, inplace=False)\n",
            "        )\n",
            "      )\n",
            "      (5): BertLayer(\n",
            "        (attention): BertAttention(\n",
            "          (self): BertSelfAttention(\n",
            "            (query): Linear(in_features=256, out_features=256, bias=True)\n",
            "            (key): Linear(in_features=256, out_features=256, bias=True)\n",
            "            (value): Linear(in_features=256, out_features=256, bias=True)\n",
            "            (dropout): Dropout(p=0.1, inplace=False)\n",
            "          )\n",
            "          (output): BertSelfOutput(\n",
            "            (dense): Linear(in_features=256, out_features=256, bias=True)\n",
            "            (LayerNorm): LayerNorm((256,), eps=1e-12, elementwise_affine=True)\n",
            "            (dropout): Dropout(p=0.1, inplace=False)\n",
            "          )\n",
            "        )\n",
            "        (intermediate): BertIntermediate(\n",
            "          (dense): Linear(in_features=256, out_features=1024, bias=True)\n",
            "        )\n",
            "        (output): BertOutput(\n",
            "          (dense): Linear(in_features=1024, out_features=256, bias=True)\n",
            "          (LayerNorm): LayerNorm((256,), eps=1e-12, elementwise_affine=True)\n",
            "          (dropout): Dropout(p=0.1, inplace=False)\n",
            "        )\n",
            "      )\n",
            "      (6): BertLayer(\n",
            "        (attention): BertAttention(\n",
            "          (self): BertSelfAttention(\n",
            "            (query): Linear(in_features=256, out_features=256, bias=True)\n",
            "            (key): Linear(in_features=256, out_features=256, bias=True)\n",
            "            (value): Linear(in_features=256, out_features=256, bias=True)\n",
            "            (dropout): Dropout(p=0.1, inplace=False)\n",
            "          )\n",
            "          (output): BertSelfOutput(\n",
            "            (dense): Linear(in_features=256, out_features=256, bias=True)\n",
            "            (LayerNorm): LayerNorm((256,), eps=1e-12, elementwise_affine=True)\n",
            "            (dropout): Dropout(p=0.1, inplace=False)\n",
            "          )\n",
            "        )\n",
            "        (intermediate): BertIntermediate(\n",
            "          (dense): Linear(in_features=256, out_features=1024, bias=True)\n",
            "        )\n",
            "        (output): BertOutput(\n",
            "          (dense): Linear(in_features=1024, out_features=256, bias=True)\n",
            "          (LayerNorm): LayerNorm((256,), eps=1e-12, elementwise_affine=True)\n",
            "          (dropout): Dropout(p=0.1, inplace=False)\n",
            "        )\n",
            "      )\n",
            "      (7): BertLayer(\n",
            "        (attention): BertAttention(\n",
            "          (self): BertSelfAttention(\n",
            "            (query): Linear(in_features=256, out_features=256, bias=True)\n",
            "            (key): Linear(in_features=256, out_features=256, bias=True)\n",
            "            (value): Linear(in_features=256, out_features=256, bias=True)\n",
            "            (dropout): Dropout(p=0.1, inplace=False)\n",
            "          )\n",
            "          (output): BertSelfOutput(\n",
            "            (dense): Linear(in_features=256, out_features=256, bias=True)\n",
            "            (LayerNorm): LayerNorm((256,), eps=1e-12, elementwise_affine=True)\n",
            "            (dropout): Dropout(p=0.1, inplace=False)\n",
            "          )\n",
            "        )\n",
            "        (intermediate): BertIntermediate(\n",
            "          (dense): Linear(in_features=256, out_features=1024, bias=True)\n",
            "        )\n",
            "        (output): BertOutput(\n",
            "          (dense): Linear(in_features=1024, out_features=256, bias=True)\n",
            "          (LayerNorm): LayerNorm((256,), eps=1e-12, elementwise_affine=True)\n",
            "          (dropout): Dropout(p=0.1, inplace=False)\n",
            "        )\n",
            "      )\n",
            "      (8): BertLayer(\n",
            "        (attention): BertAttention(\n",
            "          (self): BertSelfAttention(\n",
            "            (query): Linear(in_features=256, out_features=256, bias=True)\n",
            "            (key): Linear(in_features=256, out_features=256, bias=True)\n",
            "            (value): Linear(in_features=256, out_features=256, bias=True)\n",
            "            (dropout): Dropout(p=0.1, inplace=False)\n",
            "          )\n",
            "          (output): BertSelfOutput(\n",
            "            (dense): Linear(in_features=256, out_features=256, bias=True)\n",
            "            (LayerNorm): LayerNorm((256,), eps=1e-12, elementwise_affine=True)\n",
            "            (dropout): Dropout(p=0.1, inplace=False)\n",
            "          )\n",
            "        )\n",
            "        (intermediate): BertIntermediate(\n",
            "          (dense): Linear(in_features=256, out_features=1024, bias=True)\n",
            "        )\n",
            "        (output): BertOutput(\n",
            "          (dense): Linear(in_features=1024, out_features=256, bias=True)\n",
            "          (LayerNorm): LayerNorm((256,), eps=1e-12, elementwise_affine=True)\n",
            "          (dropout): Dropout(p=0.1, inplace=False)\n",
            "        )\n",
            "      )\n",
            "      (9): BertLayer(\n",
            "        (attention): BertAttention(\n",
            "          (self): BertSelfAttention(\n",
            "            (query): Linear(in_features=256, out_features=256, bias=True)\n",
            "            (key): Linear(in_features=256, out_features=256, bias=True)\n",
            "            (value): Linear(in_features=256, out_features=256, bias=True)\n",
            "            (dropout): Dropout(p=0.1, inplace=False)\n",
            "          )\n",
            "          (output): BertSelfOutput(\n",
            "            (dense): Linear(in_features=256, out_features=256, bias=True)\n",
            "            (LayerNorm): LayerNorm((256,), eps=1e-12, elementwise_affine=True)\n",
            "            (dropout): Dropout(p=0.1, inplace=False)\n",
            "          )\n",
            "        )\n",
            "        (intermediate): BertIntermediate(\n",
            "          (dense): Linear(in_features=256, out_features=1024, bias=True)\n",
            "        )\n",
            "        (output): BertOutput(\n",
            "          (dense): Linear(in_features=1024, out_features=256, bias=True)\n",
            "          (LayerNorm): LayerNorm((256,), eps=1e-12, elementwise_affine=True)\n",
            "          (dropout): Dropout(p=0.1, inplace=False)\n",
            "        )\n",
            "      )\n",
            "      (10): BertLayer(\n",
            "        (attention): BertAttention(\n",
            "          (self): BertSelfAttention(\n",
            "            (query): Linear(in_features=256, out_features=256, bias=True)\n",
            "            (key): Linear(in_features=256, out_features=256, bias=True)\n",
            "            (value): Linear(in_features=256, out_features=256, bias=True)\n",
            "            (dropout): Dropout(p=0.1, inplace=False)\n",
            "          )\n",
            "          (output): BertSelfOutput(\n",
            "            (dense): Linear(in_features=256, out_features=256, bias=True)\n",
            "            (LayerNorm): LayerNorm((256,), eps=1e-12, elementwise_affine=True)\n",
            "            (dropout): Dropout(p=0.1, inplace=False)\n",
            "          )\n",
            "        )\n",
            "        (intermediate): BertIntermediate(\n",
            "          (dense): Linear(in_features=256, out_features=1024, bias=True)\n",
            "        )\n",
            "        (output): BertOutput(\n",
            "          (dense): Linear(in_features=1024, out_features=256, bias=True)\n",
            "          (LayerNorm): LayerNorm((256,), eps=1e-12, elementwise_affine=True)\n",
            "          (dropout): Dropout(p=0.1, inplace=False)\n",
            "        )\n",
            "      )\n",
            "      (11): BertLayer(\n",
            "        (attention): BertAttention(\n",
            "          (self): BertSelfAttention(\n",
            "            (query): Linear(in_features=256, out_features=256, bias=True)\n",
            "            (key): Linear(in_features=256, out_features=256, bias=True)\n",
            "            (value): Linear(in_features=256, out_features=256, bias=True)\n",
            "            (dropout): Dropout(p=0.1, inplace=False)\n",
            "          )\n",
            "          (output): BertSelfOutput(\n",
            "            (dense): Linear(in_features=256, out_features=256, bias=True)\n",
            "            (LayerNorm): LayerNorm((256,), eps=1e-12, elementwise_affine=True)\n",
            "            (dropout): Dropout(p=0.1, inplace=False)\n",
            "          )\n",
            "        )\n",
            "        (intermediate): BertIntermediate(\n",
            "          (dense): Linear(in_features=256, out_features=1024, bias=True)\n",
            "        )\n",
            "        (output): BertOutput(\n",
            "          (dense): Linear(in_features=1024, out_features=256, bias=True)\n",
            "          (LayerNorm): LayerNorm((256,), eps=1e-12, elementwise_affine=True)\n",
            "          (dropout): Dropout(p=0.1, inplace=False)\n",
            "        )\n",
            "      )\n",
            "    )\n",
            "  )\n",
            ")\n"
          ],
          "name": "stdout"
        }
      ]
    },
    {
      "cell_type": "code",
      "metadata": {
        "id": "iuY0FYjDDkIq",
        "colab_type": "code",
        "colab": {
          "base_uri": "https://localhost:8080/",
          "height": 34
        },
        "outputId": "4c33d8c0-5b6d-44ef-f1b6-a1b8324d273b"
      },
      "source": [
        ""
      ],
      "execution_count": null,
      "outputs": [
        {
          "output_type": "execute_result",
          "data": {
            "text/plain": [
              "25873"
            ]
          },
          "metadata": {
            "tags": []
          },
          "execution_count": 40
        }
      ]
    },
    {
      "cell_type": "markdown",
      "metadata": {
        "id": "BhullbXScYb0",
        "colab_type": "text"
      },
      "source": [
        "GPT2"
      ]
    },
    {
      "cell_type": "code",
      "metadata": {
        "id": "dFbWZ34AIes-",
        "colab_type": "code",
        "colab": {
          "base_uri": "https://localhost:8080/",
          "height": 34
        },
        "outputId": "33ba4de0-1d76-4d4e-f500-bb4cf4a35afb"
      },
      "source": [
        "from pathlib import Path\n",
        "\n",
        "from tokenizers import ByteLevelBPETokenizer\n",
        "\n",
        "paths = [\"train_data.txt\"]\n",
        "\n",
        "# Initialize a tokenizer\n",
        "tokenizer = ByteLevelBPETokenizer()\n",
        "\n",
        "# Customize training\n",
        "tokenizer.train(files=paths, vocab_size=4_000, min_frequency=2, special_tokens=[\n",
        "    \"<s>\",\n",
        "    \"<pad>\",\n",
        "    \"</s>\",\n",
        "    \"<unk>\",\n",
        "    \"<mask>\",\n",
        "])\n",
        "\n",
        "# Save files to disk\n",
        "tokenizer.save_model(\".\", \"gpt2\")"
      ],
      "execution_count": null,
      "outputs": [
        {
          "output_type": "execute_result",
          "data": {
            "text/plain": [
              "['./gpt2-vocab.json', './gpt2-merges.txt']"
            ]
          },
          "metadata": {
            "tags": []
          },
          "execution_count": 3
        }
      ]
    },
    {
      "cell_type": "code",
      "metadata": {
        "id": "4H9MLQ_keYMh",
        "colab_type": "code",
        "colab": {
          "base_uri": "https://localhost:8080/",
          "height": 85
        },
        "outputId": "3ca4c89d-1b0f-4f75-d8ce-691617b4a2a1"
      },
      "source": [
        "print(tokenizer.decode(tokenizer.encode(train_data[1]).ids))\n",
        "print(train_data[1])"
      ],
      "execution_count": null,
      "outputs": [
        {
          "output_type": "stream",
          "text": [
            "\n",
            " দলের জ্যেষ্ঠ যুগ্ম-মহাসচিব রুহুল কবির রিজভীর নেতৃত্বে নেতা-কর্মীরা বুধবার সকালে শান্তিনগর বাজারসংলগ্ন প্রধান সড়কে পথসভা ও বিক্ষোভ মিছিল করেন\n",
            "\n",
            " দলের জ্যেষ্ঠ যুগ্ম-মহাসচিব রুহুল কবির রিজভীর নেতৃত্বে নেতা-কর্মীরা বুধবার সকালে শান্তিনগর বাজারসংলগ্ন প্রধান সড়কে পথসভা ও বিক্ষোভ মিছিল করেন\n"
          ],
          "name": "stdout"
        }
      ]
    },
    {
      "cell_type": "code",
      "metadata": {
        "id": "5ZcKqHH4fMKP",
        "colab_type": "code",
        "colab": {
          "base_uri": "https://localhost:8080/",
          "height": 85
        },
        "outputId": "d99a817a-ae38-4916-ec43-c076855a9e95"
      },
      "source": [
        "from transformers import GPT2Tokenizer, GPT2LMHeadModel, GPT2Config\n",
        "tokenizer = GPT2Tokenizer(vocab_file = 'gpt2-vocab.json', merges_file = 'gpt2-merges.txt')\n",
        "print(train_data[-10])\n",
        "print(tokenizer.decode(tokenizer.encode(train_data[-10])))"
      ],
      "execution_count": null,
      "outputs": [
        {
          "output_type": "stream",
          "text": [
            "\n",
            " অবশ্য ওগুলো আকারে ছোট\n",
            "\n",
            " অবশ্য ওগুলো আকারে ছোট\n"
          ],
          "name": "stdout"
        }
      ]
    },
    {
      "cell_type": "code",
      "metadata": {
        "id": "DTOlhTTnj_bg",
        "colab_type": "code",
        "colab": {
          "base_uri": "https://localhost:8080/",
          "height": 425
        },
        "outputId": "3437aee1-3bf8-4860-9c06-b54149fde484"
      },
      "source": [
        "config = GPT2Config(vocab_size=4_000)#, n_layer= 2, n_head=2\n",
        "model = GPT2LMHeadModel(config=config)\n",
        "print(config)\n",
        "model.num_parameters()"
      ],
      "execution_count": null,
      "outputs": [
        {
          "output_type": "stream",
          "text": [
            "GPT2Config {\n",
            "  \"activation_function\": \"gelu_new\",\n",
            "  \"attn_pdrop\": 0.1,\n",
            "  \"bos_token_id\": 50256,\n",
            "  \"embd_pdrop\": 0.1,\n",
            "  \"eos_token_id\": 50256,\n",
            "  \"initializer_range\": 0.02,\n",
            "  \"layer_norm_epsilon\": 1e-05,\n",
            "  \"model_type\": \"gpt2\",\n",
            "  \"n_ctx\": 1024,\n",
            "  \"n_embd\": 768,\n",
            "  \"n_head\": 2,\n",
            "  \"n_layer\": 2,\n",
            "  \"n_positions\": 1024,\n",
            "  \"resid_pdrop\": 0.1,\n",
            "  \"summary_activation\": null,\n",
            "  \"summary_first_dropout\": 0.1,\n",
            "  \"summary_proj_to_labels\": true,\n",
            "  \"summary_type\": \"cls_index\",\n",
            "  \"summary_use_proj\": true,\n",
            "  \"vocab_size\": 4000\n",
            "}\n",
            "\n"
          ],
          "name": "stdout"
        },
        {
          "output_type": "execute_result",
          "data": {
            "text/plain": [
              "18035712"
            ]
          },
          "metadata": {
            "tags": []
          },
          "execution_count": 6
        }
      ]
    },
    {
      "cell_type": "code",
      "metadata": {
        "id": "3-dCkgMzrrWW",
        "colab_type": "code",
        "colab": {
          "base_uri": "https://localhost:8080/",
          "height": 51
        },
        "outputId": "03471e2c-e799-4352-bc3c-0ba182181416"
      },
      "source": [
        "TRAIN = True\n",
        "\n",
        "if TRAIN:\n",
        "    %%time\n",
        "    from transformers import TextDataset\n",
        "    dataset = TextDataset(\n",
        "        tokenizer=tokenizer,\n",
        "        file_path=\"train_data.txt\",\n",
        "        block_size=128,\n",
        "    )"
      ],
      "execution_count": null,
      "outputs": [
        {
          "output_type": "stream",
          "text": [
            "CPU times: user 4 µs, sys: 0 ns, total: 4 µs\n",
            "Wall time: 6.91 µs\n"
          ],
          "name": "stdout"
        }
      ]
    },
    {
      "cell_type": "code",
      "metadata": {
        "id": "rOH2omF0r4T5",
        "colab_type": "code",
        "colab": {}
      },
      "source": [
        "if TRAIN:\n",
        "    from transformers import DataCollatorForLanguageModeling\n",
        "\n",
        "    data_collator = DataCollatorForLanguageModeling(\n",
        "        tokenizer=tokenizer, mlm=False, mlm_probability=0.15\n",
        "    )\n",
        "\n",
        "if TRAIN:  \n",
        "    from transformers import Trainer, TrainingArguments\n",
        "\n",
        "    training_args = TrainingArguments(\n",
        "        output_dir=\"gpt2_train/\",\n",
        "        overwrite_output_dir=True,\n",
        "        num_train_epochs=10,\n",
        "        per_device_train_batch_size=2,\n",
        "        save_steps=1,\n",
        "        save_total_limit=2,\n",
        "    )\n",
        "    trainer = Trainer(\n",
        "        model=model,\n",
        "        args=training_args,\n",
        "        data_collator=data_collator,\n",
        "        train_dataset=dataset\n",
        "    )"
      ],
      "execution_count": null,
      "outputs": []
    },
    {
      "cell_type": "code",
      "metadata": {
        "id": "-rJKR6rgsCjz",
        "colab_type": "code",
        "colab": {
          "base_uri": "https://localhost:8080/",
          "height": 441,
          "referenced_widgets": [
            "abf06410d55b42db9b79c16f47242cda",
            "ecb070b45b224b6bbd7b0b19670b2c53",
            "e8292875dda2420ab537dab14e96b526",
            "9341638341334968925ad45eace0f047",
            "8eaddc7e6d9745f28c5d18fecb926314",
            "887c934b5a224ec8b7c8eb31341740db",
            "524df72193f4439cb3b9f8d7180ac03f",
            "bcceceb244e9466ab96bc645f05403f8",
            "19d93442f4e64a1d99ee96901c82deea",
            "34c0d7af31204422b400ca7e746e9ced",
            "28bc39fd793f42c5a4a881ecbdf94ae3",
            "66ffe1abe0ac48b8909206898e579a71",
            "efc751e406214b6989041230f0807ccb",
            "7b70d43950ea43b7bfe8a1885f1d20da",
            "106f2be9670c4630859a8cc49d1acbde",
            "2e6e0c25f5ef494d9e18fcd20b07d74f"
          ]
        },
        "outputId": "1edbdc83-9d8f-4fbb-a36a-5a3995cf705d"
      },
      "source": [
        "if TRAIN:\n",
        "    trainer.train()"
      ],
      "execution_count": null,
      "outputs": [
        {
          "output_type": "display_data",
          "data": {
            "application/vnd.jupyter.widget-view+json": {
              "model_id": "abf06410d55b42db9b79c16f47242cda",
              "version_minor": 0,
              "version_major": 2
            },
            "text/plain": [
              "HBox(children=(FloatProgress(value=0.0, description='Epoch', max=10.0, style=ProgressStyle(description_width='…"
            ]
          },
          "metadata": {
            "tags": []
          }
        },
        {
          "output_type": "display_data",
          "data": {
            "application/vnd.jupyter.widget-view+json": {
              "model_id": "19d93442f4e64a1d99ee96901c82deea",
              "version_minor": 0,
              "version_major": 2
            },
            "text/plain": [
              "HBox(children=(FloatProgress(value=0.0, description='Iteration', max=6327.0, style=ProgressStyle(description_w…"
            ]
          },
          "metadata": {
            "tags": []
          }
        },
        {
          "output_type": "stream",
          "text": [
            "/usr/local/lib/python3.6/dist-packages/torch/optim/lr_scheduler.py:200: UserWarning: Please also save or load the state of the optimzer when saving or loading the scheduler.\n",
            "  warnings.warn(SAVE_STATE_WARNING, UserWarning)\n"
          ],
          "name": "stderr"
        },
        {
          "output_type": "error",
          "ename": "RuntimeError",
          "evalue": "ignored",
          "traceback": [
            "\u001b[0;31m---------------------------------------------------------------------------\u001b[0m",
            "\u001b[0;31mRuntimeError\u001b[0m                              Traceback (most recent call last)",
            "\u001b[0;32m<ipython-input-13-2e9c09f4f451>\u001b[0m in \u001b[0;36m<module>\u001b[0;34m()\u001b[0m\n\u001b[1;32m      1\u001b[0m \u001b[0;32mif\u001b[0m \u001b[0mTRAIN\u001b[0m\u001b[0;34m:\u001b[0m\u001b[0;34m\u001b[0m\u001b[0;34m\u001b[0m\u001b[0m\n\u001b[0;32m----> 2\u001b[0;31m     \u001b[0mtrainer\u001b[0m\u001b[0;34m.\u001b[0m\u001b[0mtrain\u001b[0m\u001b[0;34m(\u001b[0m\u001b[0;34m)\u001b[0m\u001b[0;34m\u001b[0m\u001b[0;34m\u001b[0m\u001b[0m\n\u001b[0m",
            "\u001b[0;32m/usr/local/lib/python3.6/dist-packages/transformers/trainer.py\u001b[0m in \u001b[0;36mtrain\u001b[0;34m(self, model_path)\u001b[0m\n\u001b[1;32m    497\u001b[0m                     \u001b[0;32mcontinue\u001b[0m\u001b[0;34m\u001b[0m\u001b[0;34m\u001b[0m\u001b[0m\n\u001b[1;32m    498\u001b[0m \u001b[0;34m\u001b[0m\u001b[0m\n\u001b[0;32m--> 499\u001b[0;31m                 \u001b[0mtr_loss\u001b[0m \u001b[0;34m+=\u001b[0m \u001b[0mself\u001b[0m\u001b[0;34m.\u001b[0m\u001b[0m_training_step\u001b[0m\u001b[0;34m(\u001b[0m\u001b[0mmodel\u001b[0m\u001b[0;34m,\u001b[0m \u001b[0minputs\u001b[0m\u001b[0;34m,\u001b[0m \u001b[0moptimizer\u001b[0m\u001b[0;34m)\u001b[0m\u001b[0;34m\u001b[0m\u001b[0;34m\u001b[0m\u001b[0m\n\u001b[0m\u001b[1;32m    500\u001b[0m \u001b[0;34m\u001b[0m\u001b[0m\n\u001b[1;32m    501\u001b[0m                 if (step + 1) % self.args.gradient_accumulation_steps == 0 or (\n",
            "\u001b[0;32m/usr/local/lib/python3.6/dist-packages/transformers/trainer.py\u001b[0m in \u001b[0;36m_training_step\u001b[0;34m(self, model, inputs, optimizer)\u001b[0m\n\u001b[1;32m    620\u001b[0m             \u001b[0minputs\u001b[0m\u001b[0;34m[\u001b[0m\u001b[0;34m\"mems\"\u001b[0m\u001b[0;34m]\u001b[0m \u001b[0;34m=\u001b[0m \u001b[0mself\u001b[0m\u001b[0;34m.\u001b[0m\u001b[0m_past\u001b[0m\u001b[0;34m\u001b[0m\u001b[0;34m\u001b[0m\u001b[0m\n\u001b[1;32m    621\u001b[0m \u001b[0;34m\u001b[0m\u001b[0m\n\u001b[0;32m--> 622\u001b[0;31m         \u001b[0moutputs\u001b[0m \u001b[0;34m=\u001b[0m \u001b[0mmodel\u001b[0m\u001b[0;34m(\u001b[0m\u001b[0;34m**\u001b[0m\u001b[0minputs\u001b[0m\u001b[0;34m)\u001b[0m\u001b[0;34m\u001b[0m\u001b[0;34m\u001b[0m\u001b[0m\n\u001b[0m\u001b[1;32m    623\u001b[0m         \u001b[0mloss\u001b[0m \u001b[0;34m=\u001b[0m \u001b[0moutputs\u001b[0m\u001b[0;34m[\u001b[0m\u001b[0;36m0\u001b[0m\u001b[0;34m]\u001b[0m  \u001b[0;31m# model outputs are always tuple in transformers (see doc)\u001b[0m\u001b[0;34m\u001b[0m\u001b[0;34m\u001b[0m\u001b[0m\n\u001b[1;32m    624\u001b[0m \u001b[0;34m\u001b[0m\u001b[0m\n",
            "\u001b[0;32m/usr/local/lib/python3.6/dist-packages/torch/nn/modules/module.py\u001b[0m in \u001b[0;36m__call__\u001b[0;34m(self, *input, **kwargs)\u001b[0m\n\u001b[1;32m    548\u001b[0m             \u001b[0mresult\u001b[0m \u001b[0;34m=\u001b[0m \u001b[0mself\u001b[0m\u001b[0;34m.\u001b[0m\u001b[0m_slow_forward\u001b[0m\u001b[0;34m(\u001b[0m\u001b[0;34m*\u001b[0m\u001b[0minput\u001b[0m\u001b[0;34m,\u001b[0m \u001b[0;34m**\u001b[0m\u001b[0mkwargs\u001b[0m\u001b[0;34m)\u001b[0m\u001b[0;34m\u001b[0m\u001b[0;34m\u001b[0m\u001b[0m\n\u001b[1;32m    549\u001b[0m         \u001b[0;32melse\u001b[0m\u001b[0;34m:\u001b[0m\u001b[0;34m\u001b[0m\u001b[0;34m\u001b[0m\u001b[0m\n\u001b[0;32m--> 550\u001b[0;31m             \u001b[0mresult\u001b[0m \u001b[0;34m=\u001b[0m \u001b[0mself\u001b[0m\u001b[0;34m.\u001b[0m\u001b[0mforward\u001b[0m\u001b[0;34m(\u001b[0m\u001b[0;34m*\u001b[0m\u001b[0minput\u001b[0m\u001b[0;34m,\u001b[0m \u001b[0;34m**\u001b[0m\u001b[0mkwargs\u001b[0m\u001b[0;34m)\u001b[0m\u001b[0;34m\u001b[0m\u001b[0;34m\u001b[0m\u001b[0m\n\u001b[0m\u001b[1;32m    551\u001b[0m         \u001b[0;32mfor\u001b[0m \u001b[0mhook\u001b[0m \u001b[0;32min\u001b[0m \u001b[0mself\u001b[0m\u001b[0;34m.\u001b[0m\u001b[0m_forward_hooks\u001b[0m\u001b[0;34m.\u001b[0m\u001b[0mvalues\u001b[0m\u001b[0;34m(\u001b[0m\u001b[0;34m)\u001b[0m\u001b[0;34m:\u001b[0m\u001b[0;34m\u001b[0m\u001b[0;34m\u001b[0m\u001b[0m\n\u001b[1;32m    552\u001b[0m             \u001b[0mhook_result\u001b[0m \u001b[0;34m=\u001b[0m \u001b[0mhook\u001b[0m\u001b[0;34m(\u001b[0m\u001b[0mself\u001b[0m\u001b[0;34m,\u001b[0m \u001b[0minput\u001b[0m\u001b[0;34m,\u001b[0m \u001b[0mresult\u001b[0m\u001b[0;34m)\u001b[0m\u001b[0;34m\u001b[0m\u001b[0;34m\u001b[0m\u001b[0m\n",
            "\u001b[0;32m/usr/local/lib/python3.6/dist-packages/transformers/modeling_gpt2.py\u001b[0m in \u001b[0;36mforward\u001b[0;34m(self, input_ids, past, attention_mask, token_type_ids, position_ids, head_mask, inputs_embeds, labels, use_cache, output_attentions, output_hidden_states)\u001b[0m\n\u001b[1;32m    599\u001b[0m             \u001b[0muse_cache\u001b[0m\u001b[0;34m=\u001b[0m\u001b[0muse_cache\u001b[0m\u001b[0;34m,\u001b[0m\u001b[0;34m\u001b[0m\u001b[0;34m\u001b[0m\u001b[0m\n\u001b[1;32m    600\u001b[0m             \u001b[0moutput_attentions\u001b[0m\u001b[0;34m=\u001b[0m\u001b[0moutput_attentions\u001b[0m\u001b[0;34m,\u001b[0m\u001b[0;34m\u001b[0m\u001b[0;34m\u001b[0m\u001b[0m\n\u001b[0;32m--> 601\u001b[0;31m             \u001b[0moutput_hidden_states\u001b[0m\u001b[0;34m=\u001b[0m\u001b[0moutput_hidden_states\u001b[0m\u001b[0;34m,\u001b[0m\u001b[0;34m\u001b[0m\u001b[0;34m\u001b[0m\u001b[0m\n\u001b[0m\u001b[1;32m    602\u001b[0m         )\n\u001b[1;32m    603\u001b[0m         \u001b[0mhidden_states\u001b[0m \u001b[0;34m=\u001b[0m \u001b[0mtransformer_outputs\u001b[0m\u001b[0;34m[\u001b[0m\u001b[0;36m0\u001b[0m\u001b[0;34m]\u001b[0m\u001b[0;34m\u001b[0m\u001b[0;34m\u001b[0m\u001b[0m\n",
            "\u001b[0;32m/usr/local/lib/python3.6/dist-packages/torch/nn/modules/module.py\u001b[0m in \u001b[0;36m__call__\u001b[0;34m(self, *input, **kwargs)\u001b[0m\n\u001b[1;32m    548\u001b[0m             \u001b[0mresult\u001b[0m \u001b[0;34m=\u001b[0m \u001b[0mself\u001b[0m\u001b[0;34m.\u001b[0m\u001b[0m_slow_forward\u001b[0m\u001b[0;34m(\u001b[0m\u001b[0;34m*\u001b[0m\u001b[0minput\u001b[0m\u001b[0;34m,\u001b[0m \u001b[0;34m**\u001b[0m\u001b[0mkwargs\u001b[0m\u001b[0;34m)\u001b[0m\u001b[0;34m\u001b[0m\u001b[0;34m\u001b[0m\u001b[0m\n\u001b[1;32m    549\u001b[0m         \u001b[0;32melse\u001b[0m\u001b[0;34m:\u001b[0m\u001b[0;34m\u001b[0m\u001b[0;34m\u001b[0m\u001b[0m\n\u001b[0;32m--> 550\u001b[0;31m             \u001b[0mresult\u001b[0m \u001b[0;34m=\u001b[0m \u001b[0mself\u001b[0m\u001b[0;34m.\u001b[0m\u001b[0mforward\u001b[0m\u001b[0;34m(\u001b[0m\u001b[0;34m*\u001b[0m\u001b[0minput\u001b[0m\u001b[0;34m,\u001b[0m \u001b[0;34m**\u001b[0m\u001b[0mkwargs\u001b[0m\u001b[0;34m)\u001b[0m\u001b[0;34m\u001b[0m\u001b[0;34m\u001b[0m\u001b[0m\n\u001b[0m\u001b[1;32m    551\u001b[0m         \u001b[0;32mfor\u001b[0m \u001b[0mhook\u001b[0m \u001b[0;32min\u001b[0m \u001b[0mself\u001b[0m\u001b[0;34m.\u001b[0m\u001b[0m_forward_hooks\u001b[0m\u001b[0;34m.\u001b[0m\u001b[0mvalues\u001b[0m\u001b[0;34m(\u001b[0m\u001b[0;34m)\u001b[0m\u001b[0;34m:\u001b[0m\u001b[0;34m\u001b[0m\u001b[0;34m\u001b[0m\u001b[0m\n\u001b[1;32m    552\u001b[0m             \u001b[0mhook_result\u001b[0m \u001b[0;34m=\u001b[0m \u001b[0mhook\u001b[0m\u001b[0;34m(\u001b[0m\u001b[0mself\u001b[0m\u001b[0;34m,\u001b[0m \u001b[0minput\u001b[0m\u001b[0;34m,\u001b[0m \u001b[0mresult\u001b[0m\u001b[0;34m)\u001b[0m\u001b[0;34m\u001b[0m\u001b[0;34m\u001b[0m\u001b[0m\n",
            "\u001b[0;32m/usr/local/lib/python3.6/dist-packages/transformers/modeling_gpt2.py\u001b[0m in \u001b[0;36mforward\u001b[0;34m(self, input_ids, past, attention_mask, token_type_ids, position_ids, head_mask, inputs_embeds, use_cache, output_attentions, output_hidden_states)\u001b[0m\n\u001b[1;32m    491\u001b[0m                 \u001b[0mhead_mask\u001b[0m\u001b[0;34m=\u001b[0m\u001b[0mhead_mask\u001b[0m\u001b[0;34m[\u001b[0m\u001b[0mi\u001b[0m\u001b[0;34m]\u001b[0m\u001b[0;34m,\u001b[0m\u001b[0;34m\u001b[0m\u001b[0;34m\u001b[0m\u001b[0m\n\u001b[1;32m    492\u001b[0m                 \u001b[0muse_cache\u001b[0m\u001b[0;34m=\u001b[0m\u001b[0muse_cache\u001b[0m\u001b[0;34m,\u001b[0m\u001b[0;34m\u001b[0m\u001b[0;34m\u001b[0m\u001b[0m\n\u001b[0;32m--> 493\u001b[0;31m                 \u001b[0moutput_attentions\u001b[0m\u001b[0;34m=\u001b[0m\u001b[0moutput_attentions\u001b[0m\u001b[0;34m,\u001b[0m\u001b[0;34m\u001b[0m\u001b[0;34m\u001b[0m\u001b[0m\n\u001b[0m\u001b[1;32m    494\u001b[0m             )\n\u001b[1;32m    495\u001b[0m \u001b[0;34m\u001b[0m\u001b[0m\n",
            "\u001b[0;32m/usr/local/lib/python3.6/dist-packages/torch/nn/modules/module.py\u001b[0m in \u001b[0;36m__call__\u001b[0;34m(self, *input, **kwargs)\u001b[0m\n\u001b[1;32m    548\u001b[0m             \u001b[0mresult\u001b[0m \u001b[0;34m=\u001b[0m \u001b[0mself\u001b[0m\u001b[0;34m.\u001b[0m\u001b[0m_slow_forward\u001b[0m\u001b[0;34m(\u001b[0m\u001b[0;34m*\u001b[0m\u001b[0minput\u001b[0m\u001b[0;34m,\u001b[0m \u001b[0;34m**\u001b[0m\u001b[0mkwargs\u001b[0m\u001b[0;34m)\u001b[0m\u001b[0;34m\u001b[0m\u001b[0;34m\u001b[0m\u001b[0m\n\u001b[1;32m    549\u001b[0m         \u001b[0;32melse\u001b[0m\u001b[0;34m:\u001b[0m\u001b[0;34m\u001b[0m\u001b[0;34m\u001b[0m\u001b[0m\n\u001b[0;32m--> 550\u001b[0;31m             \u001b[0mresult\u001b[0m \u001b[0;34m=\u001b[0m \u001b[0mself\u001b[0m\u001b[0;34m.\u001b[0m\u001b[0mforward\u001b[0m\u001b[0;34m(\u001b[0m\u001b[0;34m*\u001b[0m\u001b[0minput\u001b[0m\u001b[0;34m,\u001b[0m \u001b[0;34m**\u001b[0m\u001b[0mkwargs\u001b[0m\u001b[0;34m)\u001b[0m\u001b[0;34m\u001b[0m\u001b[0;34m\u001b[0m\u001b[0m\n\u001b[0m\u001b[1;32m    551\u001b[0m         \u001b[0;32mfor\u001b[0m \u001b[0mhook\u001b[0m \u001b[0;32min\u001b[0m \u001b[0mself\u001b[0m\u001b[0;34m.\u001b[0m\u001b[0m_forward_hooks\u001b[0m\u001b[0;34m.\u001b[0m\u001b[0mvalues\u001b[0m\u001b[0;34m(\u001b[0m\u001b[0;34m)\u001b[0m\u001b[0;34m:\u001b[0m\u001b[0;34m\u001b[0m\u001b[0;34m\u001b[0m\u001b[0m\n\u001b[1;32m    552\u001b[0m             \u001b[0mhook_result\u001b[0m \u001b[0;34m=\u001b[0m \u001b[0mhook\u001b[0m\u001b[0;34m(\u001b[0m\u001b[0mself\u001b[0m\u001b[0;34m,\u001b[0m \u001b[0minput\u001b[0m\u001b[0;34m,\u001b[0m \u001b[0mresult\u001b[0m\u001b[0;34m)\u001b[0m\u001b[0;34m\u001b[0m\u001b[0;34m\u001b[0m\u001b[0m\n",
            "\u001b[0;32m/usr/local/lib/python3.6/dist-packages/transformers/modeling_gpt2.py\u001b[0m in \u001b[0;36mforward\u001b[0;34m(self, x, layer_past, attention_mask, head_mask, use_cache, output_attentions)\u001b[0m\n\u001b[1;32m    243\u001b[0m             \u001b[0mhead_mask\u001b[0m\u001b[0;34m=\u001b[0m\u001b[0mhead_mask\u001b[0m\u001b[0;34m,\u001b[0m\u001b[0;34m\u001b[0m\u001b[0;34m\u001b[0m\u001b[0m\n\u001b[1;32m    244\u001b[0m             \u001b[0muse_cache\u001b[0m\u001b[0;34m=\u001b[0m\u001b[0muse_cache\u001b[0m\u001b[0;34m,\u001b[0m\u001b[0;34m\u001b[0m\u001b[0;34m\u001b[0m\u001b[0m\n\u001b[0;32m--> 245\u001b[0;31m             \u001b[0moutput_attentions\u001b[0m\u001b[0;34m=\u001b[0m\u001b[0moutput_attentions\u001b[0m\u001b[0;34m,\u001b[0m\u001b[0;34m\u001b[0m\u001b[0;34m\u001b[0m\u001b[0m\n\u001b[0m\u001b[1;32m    246\u001b[0m         )\n\u001b[1;32m    247\u001b[0m         \u001b[0ma\u001b[0m \u001b[0;34m=\u001b[0m \u001b[0moutput_attn\u001b[0m\u001b[0;34m[\u001b[0m\u001b[0;36m0\u001b[0m\u001b[0;34m]\u001b[0m  \u001b[0;31m# output_attn: a, present, (attentions)\u001b[0m\u001b[0;34m\u001b[0m\u001b[0;34m\u001b[0m\u001b[0m\n",
            "\u001b[0;32m/usr/local/lib/python3.6/dist-packages/torch/nn/modules/module.py\u001b[0m in \u001b[0;36m__call__\u001b[0;34m(self, *input, **kwargs)\u001b[0m\n\u001b[1;32m    548\u001b[0m             \u001b[0mresult\u001b[0m \u001b[0;34m=\u001b[0m \u001b[0mself\u001b[0m\u001b[0;34m.\u001b[0m\u001b[0m_slow_forward\u001b[0m\u001b[0;34m(\u001b[0m\u001b[0;34m*\u001b[0m\u001b[0minput\u001b[0m\u001b[0;34m,\u001b[0m \u001b[0;34m**\u001b[0m\u001b[0mkwargs\u001b[0m\u001b[0;34m)\u001b[0m\u001b[0;34m\u001b[0m\u001b[0;34m\u001b[0m\u001b[0m\n\u001b[1;32m    549\u001b[0m         \u001b[0;32melse\u001b[0m\u001b[0;34m:\u001b[0m\u001b[0;34m\u001b[0m\u001b[0;34m\u001b[0m\u001b[0m\n\u001b[0;32m--> 550\u001b[0;31m             \u001b[0mresult\u001b[0m \u001b[0;34m=\u001b[0m \u001b[0mself\u001b[0m\u001b[0;34m.\u001b[0m\u001b[0mforward\u001b[0m\u001b[0;34m(\u001b[0m\u001b[0;34m*\u001b[0m\u001b[0minput\u001b[0m\u001b[0;34m,\u001b[0m \u001b[0;34m**\u001b[0m\u001b[0mkwargs\u001b[0m\u001b[0;34m)\u001b[0m\u001b[0;34m\u001b[0m\u001b[0;34m\u001b[0m\u001b[0m\n\u001b[0m\u001b[1;32m    551\u001b[0m         \u001b[0;32mfor\u001b[0m \u001b[0mhook\u001b[0m \u001b[0;32min\u001b[0m \u001b[0mself\u001b[0m\u001b[0;34m.\u001b[0m\u001b[0m_forward_hooks\u001b[0m\u001b[0;34m.\u001b[0m\u001b[0mvalues\u001b[0m\u001b[0;34m(\u001b[0m\u001b[0;34m)\u001b[0m\u001b[0;34m:\u001b[0m\u001b[0;34m\u001b[0m\u001b[0;34m\u001b[0m\u001b[0m\n\u001b[1;32m    552\u001b[0m             \u001b[0mhook_result\u001b[0m \u001b[0;34m=\u001b[0m \u001b[0mhook\u001b[0m\u001b[0;34m(\u001b[0m\u001b[0mself\u001b[0m\u001b[0;34m,\u001b[0m \u001b[0minput\u001b[0m\u001b[0;34m,\u001b[0m \u001b[0mresult\u001b[0m\u001b[0;34m)\u001b[0m\u001b[0;34m\u001b[0m\u001b[0;34m\u001b[0m\u001b[0m\n",
            "\u001b[0;32m/usr/local/lib/python3.6/dist-packages/transformers/modeling_gpt2.py\u001b[0m in \u001b[0;36mforward\u001b[0;34m(self, x, layer_past, attention_mask, head_mask, use_cache, output_attentions)\u001b[0m\n\u001b[1;32m    199\u001b[0m             \u001b[0mpresent\u001b[0m \u001b[0;34m=\u001b[0m \u001b[0;34m(\u001b[0m\u001b[0;32mNone\u001b[0m\u001b[0;34m,\u001b[0m\u001b[0;34m)\u001b[0m\u001b[0;34m\u001b[0m\u001b[0;34m\u001b[0m\u001b[0m\n\u001b[1;32m    200\u001b[0m \u001b[0;34m\u001b[0m\u001b[0m\n\u001b[0;32m--> 201\u001b[0;31m         \u001b[0mattn_outputs\u001b[0m \u001b[0;34m=\u001b[0m \u001b[0mself\u001b[0m\u001b[0;34m.\u001b[0m\u001b[0m_attn\u001b[0m\u001b[0;34m(\u001b[0m\u001b[0mquery\u001b[0m\u001b[0;34m,\u001b[0m \u001b[0mkey\u001b[0m\u001b[0;34m,\u001b[0m \u001b[0mvalue\u001b[0m\u001b[0;34m,\u001b[0m \u001b[0mattention_mask\u001b[0m\u001b[0;34m,\u001b[0m \u001b[0mhead_mask\u001b[0m\u001b[0;34m,\u001b[0m \u001b[0moutput_attentions\u001b[0m\u001b[0;34m)\u001b[0m\u001b[0;34m\u001b[0m\u001b[0;34m\u001b[0m\u001b[0m\n\u001b[0m\u001b[1;32m    202\u001b[0m         \u001b[0ma\u001b[0m \u001b[0;34m=\u001b[0m \u001b[0mattn_outputs\u001b[0m\u001b[0;34m[\u001b[0m\u001b[0;36m0\u001b[0m\u001b[0;34m]\u001b[0m\u001b[0;34m\u001b[0m\u001b[0;34m\u001b[0m\u001b[0m\n\u001b[1;32m    203\u001b[0m \u001b[0;34m\u001b[0m\u001b[0m\n",
            "\u001b[0;32m/usr/local/lib/python3.6/dist-packages/transformers/modeling_gpt2.py\u001b[0m in \u001b[0;36m_attn\u001b[0;34m(self, q, k, v, attention_mask, head_mask, output_attentions)\u001b[0m\n\u001b[1;32m    147\u001b[0m         \u001b[0mw\u001b[0m \u001b[0;34m=\u001b[0m \u001b[0mtorch\u001b[0m\u001b[0;34m.\u001b[0m\u001b[0mmatmul\u001b[0m\u001b[0;34m(\u001b[0m\u001b[0mq\u001b[0m\u001b[0;34m,\u001b[0m \u001b[0mk\u001b[0m\u001b[0;34m)\u001b[0m\u001b[0;34m\u001b[0m\u001b[0;34m\u001b[0m\u001b[0m\n\u001b[1;32m    148\u001b[0m         \u001b[0;32mif\u001b[0m \u001b[0mself\u001b[0m\u001b[0;34m.\u001b[0m\u001b[0mscale\u001b[0m\u001b[0;34m:\u001b[0m\u001b[0;34m\u001b[0m\u001b[0;34m\u001b[0m\u001b[0m\n\u001b[0;32m--> 149\u001b[0;31m             \u001b[0mw\u001b[0m \u001b[0;34m=\u001b[0m \u001b[0mw\u001b[0m \u001b[0;34m/\u001b[0m \u001b[0;34m(\u001b[0m\u001b[0mfloat\u001b[0m\u001b[0;34m(\u001b[0m\u001b[0mv\u001b[0m\u001b[0;34m.\u001b[0m\u001b[0msize\u001b[0m\u001b[0;34m(\u001b[0m\u001b[0;34m-\u001b[0m\u001b[0;36m1\u001b[0m\u001b[0;34m)\u001b[0m\u001b[0;34m)\u001b[0m \u001b[0;34m**\u001b[0m \u001b[0;36m0.5\u001b[0m\u001b[0;34m)\u001b[0m\u001b[0;34m\u001b[0m\u001b[0;34m\u001b[0m\u001b[0m\n\u001b[0m\u001b[1;32m    150\u001b[0m         \u001b[0mnd\u001b[0m\u001b[0;34m,\u001b[0m \u001b[0mns\u001b[0m \u001b[0;34m=\u001b[0m \u001b[0mw\u001b[0m\u001b[0;34m.\u001b[0m\u001b[0msize\u001b[0m\u001b[0;34m(\u001b[0m\u001b[0;34m-\u001b[0m\u001b[0;36m2\u001b[0m\u001b[0;34m)\u001b[0m\u001b[0;34m,\u001b[0m \u001b[0mw\u001b[0m\u001b[0;34m.\u001b[0m\u001b[0msize\u001b[0m\u001b[0;34m(\u001b[0m\u001b[0;34m-\u001b[0m\u001b[0;36m1\u001b[0m\u001b[0;34m)\u001b[0m\u001b[0;34m\u001b[0m\u001b[0;34m\u001b[0m\u001b[0m\n\u001b[1;32m    151\u001b[0m         \u001b[0mmask\u001b[0m \u001b[0;34m=\u001b[0m \u001b[0mself\u001b[0m\u001b[0;34m.\u001b[0m\u001b[0mbias\u001b[0m\u001b[0;34m[\u001b[0m\u001b[0;34m:\u001b[0m\u001b[0;34m,\u001b[0m \u001b[0;34m:\u001b[0m\u001b[0;34m,\u001b[0m \u001b[0mns\u001b[0m \u001b[0;34m-\u001b[0m \u001b[0mnd\u001b[0m \u001b[0;34m:\u001b[0m \u001b[0mns\u001b[0m\u001b[0;34m,\u001b[0m \u001b[0;34m:\u001b[0m\u001b[0mns\u001b[0m\u001b[0;34m]\u001b[0m\u001b[0;34m\u001b[0m\u001b[0;34m\u001b[0m\u001b[0m\n",
            "\u001b[0;31mRuntimeError\u001b[0m: CUDA error: device-side assert triggered"
          ]
        }
      ]
    },
    {
      "cell_type": "code",
      "metadata": {
        "id": "k6QbEMqfsG0K",
        "colab_type": "code",
        "colab": {
          "base_uri": "https://localhost:8080/",
          "height": 54
        },
        "outputId": "71db64c7-4811-4ce0-c3ae-8ac4fac1a8cc"
      },
      "source": [
        "!head -5 gpt2-vocab.json"
      ],
      "execution_count": null,
      "outputs": [
        {
          "output_type": "stream",
          "text": [
            "{\"<s>\":0,\"<pad>\":1,\"</s>\":2,\"<unk>\":3,\"<mask>\":4,\"!\":5,\"\\\"\":6,\"#\":7,\"$\":8,\"%\":9,\"&\":10,\"'\":11,\"(\":12,\")\":13,\"*\":14,\"+\":15,\",\":16,\"-\":17,\".\":18,\"/\":19,\"0\":20,\"1\":21,\"2\":22,\"3\":23,\"4\":24,\"5\":25,\"6\":26,\"7\":27,\"8\":28,\"9\":29,\":\":30,\";\":31,\"<\":32,\"=\":33,\">\":34,\"?\":35,\"@\":36,\"A\":37,\"B\":38,\"C\":39,\"D\":40,\"E\":41,\"F\":42,\"G\":43,\"H\":44,\"I\":45,\"J\":46,\"K\":47,\"L\":48,\"M\":49,\"N\":50,\"O\":51,\"P\":52,\"Q\":53,\"R\":54,\"S\":55,\"T\":56,\"U\":57,\"V\":58,\"W\":59,\"X\":60,\"Y\":61,\"Z\":62,\"[\":63,\"\\\\\":64,\"]\":65,\"^\":66,\"_\":67,\"`\":68,\"a\":69,\"b\":70,\"c\":71,\"d\":72,\"e\":73,\"f\":74,\"g\":75,\"h\":76,\"i\":77,\"j\":78,\"k\":79,\"l\":80,\"m\":81,\"n\":82,\"o\":83,\"p\":84,\"q\":85,\"r\":86,\"s\":87,\"t\":88,\"u\":89,\"v\":90,\"w\":91,\"x\":92,\"y\":93,\"z\":94,\"{\":95,\"|\":96,\"}\":97,\"~\":98,\"¡\":99,\"¢\":100,\"£\":101,\"¤\":102,\"¥\":103,\"¦\":104,\"§\":105,\"¨\":106,\"©\":107,\"ª\":108,\"«\":109,\"¬\":110,\"®\":111,\"¯\":112,\"°\":113,\"±\":114,\"²\":115,\"³\":116,\"´\":117,\"µ\":118,\"¶\":119,\"·\":120,\"¸\":121,\"¹\":122,\"º\":123,\"»\":124,\"¼\":125,\"½\":126,\"¾\":127,\"¿\":128,\"À\":129,\"Á\":130,\"Â\":131,\"Ã\":132,\"Ä\":133,\"Å\":134,\"Æ\":135,\"Ç\":136,\"È\":137,\"É\":138,\"Ê\":139,\"Ë\":140,\"Ì\":141,\"Í\":142,\"Î\":143,\"Ï\":144,\"Ð\":145,\"Ñ\":146,\"Ò\":147,\"Ó\":148,\"Ô\":149,\"Õ\":150,\"Ö\":151,\"×\":152,\"Ø\":153,\"Ù\":154,\"Ú\":155,\"Û\":156,\"Ü\":157,\"Ý\":158,\"Þ\":159,\"ß\":160,\"à\":161,\"á\":162,\"â\":163,\"ã\":164,\"ä\":165,\"å\":166,\"æ\":167,\"ç\":168,\"è\":169,\"é\":170,\"ê\":171,\"ë\":172,\"ì\":173,\"í\":174,\"î\":175,\"ï\":176,\"ð\":177,\"ñ\":178,\"ò\":179,\"ó\":180,\"ô\":181,\"õ\":182,\"ö\":183,\"÷\":184,\"ø\":185,\"ù\":186,\"ú\":187,\"û\":188,\"ü\":189,\"ý\":190,\"þ\":191,\"ÿ\":192,\"Ā\":193,\"ā\":194,\"Ă\":195,\"ă\":196,\"Ą\":197,\"ą\":198,\"Ć\":199,\"ć\":200,\"Ĉ\":201,\"ĉ\":202,\"Ċ\":203,\"ċ\":204,\"Č\":205,\"č\":206,\"Ď\":207,\"ď\":208,\"Đ\":209,\"đ\":210,\"Ē\":211,\"ē\":212,\"Ĕ\":213,\"ĕ\":214,\"Ė\":215,\"ė\":216,\"Ę\":217,\"ę\":218,\"Ě\":219,\"ě\":220,\"Ĝ\":221,\"ĝ\":222,\"Ğ\":223,\"ğ\":224,\"Ġ\":225,\"ġ\":226,\"Ģ\":227,\"ģ\":228,\"Ĥ\":229,\"ĥ\":230,\"Ħ\":231,\"ħ\":232,\"Ĩ\":233,\"ĩ\":234,\"Ī\":235,\"ī\":236,\"Ĭ\":237,\"ĭ\":238,\"Į\":239,\"į\":240,\"İ\":241,\"ı\":242,\"Ĳ\":243,\"ĳ\":244,\"Ĵ\":245,\"ĵ\":246,\"Ķ\":247,\"ķ\":248,\"ĸ\":249,\"Ĺ\":250,\"ĺ\":251,\"Ļ\":252,\"ļ\":253,\"Ľ\":254,\"ľ\":255,\"Ŀ\":256,\"ŀ\":257,\"Ł\":258,\"ł\":259,\"Ń\":260,\"à¦\":261,\"à§\":262,\"Ġà¦\":263,\"à¦¾\":264,\"à§ĩ\":265,\"à¦°\":266,\"à§į\":267,\"à¦¿\":268,\"à¦¨\":269,\"à¦ķ\":270,\"à¦²\":271,\"à¦¤\":272,\"à¦¬\":273,\"à§Ł\":274,\"à¦®\":275,\"à§ģ\":276,\"à¦¸\":277,\"Ġà¦¸\":278,\"Ġà¦ķ\":279,\"à¦Ł\":280,\"Ġà¦¬\":281,\"à¦¦\":282,\"à§ĭ\":283,\"Ġà¦ª\":284,\"à¦¯\":285,\"à¦ª\":286,\"Ġà¦Ĩ\":287,\"à¦ľ\":288,\"Ġà¦®\":289,\"à§Ģ\":290,\"à¦¶\":291,\"Ġà¦ı\":292,\"à¦ĩ\":293,\"Ġà¦¹\":294,\"Ġà¦¨\":295,\"à¦Ľ\":296,\"à¦Ĺ\":297,\"Ġà¦¦\":298,\"Ġà¦ķà¦°\":299,\"à¦·\":300,\"à¦¹\":301,\"Ġà¦¤\":302,\"à¦Ĥ\":303,\"Ġà¦°\":304,\"Ġà¦ľ\":305,\"Ġà¦ħ\":306,\"Ġà§\":307,\"à¦§\":308,\"à¦ļ\":309,\"Ġà¦¶\":310,\"à¦¥\":311,\"à¦Ń\":312,\"à¦¡\":313,\"Ġà¦Ĺ\":314,\"à¦ĸ\":315,\"Ġà¦ļ\":316,\"à§ľ\":317,\"Ġà¦ĵ\":318,\"à¦£\":319,\"à¦ĵ\":320,\"Ġà¦¯\":321,\"§à§\":322,\"Ġà¦ī\":323,\"Ġà¦ªà¦°\":324,\"Ġà¦¹à§Ł\":325,\"à¦«\":326,\"Ġà¦Ń\":327,\"Ġà¦¥\":328,\"à§¦\":329,\"Ġà¦ĩ\":330,\"à¦°à¦¤\":331,\"Ġà¦¬à¦²\":332,\"Ġà¦ıà¦ķ\":333,\"Ġà¦«\":334,\"Ġà§¨\":335,\"Ġà¦²\":336,\"Ġà¦Ł\":337,\"Ġà¦ĸ\":338,\"à¦Ļ\":339,\"Ġà¦Ľ\":340,\"Ġà¦¸à¦®\":341,\"à¦¾à¦Ĥ\":342,\"à¦ł\":343,\"à§ĥ\":344,\"à¦°à¦ķ\":345,\"à¦¿à¦Ĥ\":346,\"à¦ĵà§Ł\":347,\"Ġà¦Ĩà¦®\":348,\"à§Ĥ\":349,\"Ġà¦ħà¦¨\":350,\"à¦ī\":351,\"à§§à§\":352,\"<|\":353,\"|>\":354,\"Ġ<|\":355,\"Ġà¦ľà¦¨\":356,\"Ġà¦¡\":357,\"Ġà¦Ĩà¦Ĺ\":358,\"Ġà§§à§\":359,\"Ġà§¨à§¦\":360,\"à¦¬à¦°\":361,\"à¦ľà¦¨\":362,\"à¦ŀ\":363,\"à¦°à¦£\":364,\"à¦ģ\":365,\"à¦®à¦¨\":366,\"à¦ªà¦°\":367,\"à¦ı\":368,\"Ġà¦Ĩà¦°\":369,\"Ġà¦ıà¦¬\":370,\"Ġà§¨à§¦à§§à§\":371,\"à¦ĩà¦¨\":372,\"Ġà¦ıà¦ĩ\":373,\"Ġà¦¹à¦¬\":374,\"Ġà¦ĺ\":375,\"à¦ĩà¦ľ\":376,\"Ġà¦§\":377,\"Ġ(\":378,\"Ġ:\":379,\"Ġà¦Ĩà¦¸\":380,\"à¦¶à¦¨\":381,\"à¦Łà¦¨\":382,\"à§Łà¦¨\":383,\"à¦¤à¦°\":384,\"à¦¦à¦ķ\":385,\"Ġà§¨à§¦à§§à§®\":386,\"Ġà¦ıà¦ķà¦Ł\":387,\"à¦¬à¦¨\":388,\"à¦ªà¦¨\":389,\"Ġà¦ħà¦Ń\":390,\"à¦°à¦®\":391,\"à¦¿/\":392,\"à§ĩ,\":393,\"à¦²à¦ķ\":394,\"en\":395,\"of\":396,\"dof\":397,\"ex\":398,\"tex\":399,\"endof\":400,\"text\":401,\"endoftext\":402,\"à¦¦à¦¨\":403,\"à¦²à¦¨\":404,\"à¦°à¦¸\":405,\"Ġà¦īà¦ª\":406,\"à¦ªà¦¤\":407,\"à¦¾à¦ģ\":408,\"Ġà¦Ĩà¦¨\":409,\"Ġà¦ıà¦°\":410,\"à§Į\":411,\"à¦ķà¦°\":412,\"à¦¬à¦¸\":413,\"à¦®à¦²\":414,\"Ġà¦Ĩà¦²\":415,\"Ġà¦Ĩà¦¬\":416,\"à¦¾/\":417,\"Ġà¦Ĩà¦Ĺà¦¸\":418,\"à§Ī\":419,\"à¦¾,\":420,\"à¦²à¦¤\":421,\"Ġà¦¦à¦²\":422,\"à¦ĸà¦¨\":423,\"à¦¢\":424,\"Ġà¦ķà¦°à¦¤\":425,\"Ġà¦®à¦¨\":426,\"Ġà¦¸à¦®à§Ł\":427,\"à¦Ĩ\":428,\"à§İ\":429,\"à¦¹à¦®\":430,\"à§¨\":431,\"à¦ĺ\":432,\"Ġà¦¸à¦Ļ\":433,\"Ġà¦ķà¦®\":434,\"Ġà¦īà¦¦\":435,\"Ġà¦ıà¦¸\":436,\"Ġà§©\":437,\"Ġà¦Ĩà¦¦\":438,\"Ġà¦®à¦§\":439,\"Ġà¦ļà¦²\":440,\"Ġà¦¸à¦¬\":441,\"Ġà¦¸à¦°à¦ķ\":442,\"à¦ļà¦¨\":443,\"Ġà¦ĩà¦¨\":444,\"Ġà¦ĵà§Ł\":445,\"à¦ªà¦ķ\":446,\"à§©\":447,\"à¦°à¦¬\":448,\"Ġà¦¹à¦²\":449,\"à¦Ľà¦°\":450,\"Ġà¦¢\":451,\"à¦²à§Ł\":452,\"à¦¿,\":453,\"à¦¬à¦¹\":454,\"à¦·à§Ł\":455,\"à¦īà¦¨\":456,\"à¦·à¦£\":457,\"à§«\":458,\"à¦¯à¦®\":459,\"à¦ĩà¦ķ\":460,\"Ġà¦¹à¦¤\":461,\"Ġà¦Ĺà¦¤\":462,\"Ġà¦¬à¦Ľà¦°\":463,\"à¦¥à¦®\":464,\"à¦¤à¦¨\":465,\"Ġà¦Ĩà¦®à¦°\":466,\"Ġà¦Ĩà¦ĩà¦¨\":467,\"Ġà¦ķà¦°à¦Ľ\":468,\"à§¯\":469,\"à§§\":470,\"à¦¹à¦¤\":471,\"Ġà¦§à¦°\":472,\"à¦ķà¦²\":473,\"Ġà¦ķà¦¥\":474,\"à¦¸à¦¹\":475,\"à¦°à¦§\":476,\"à§ª\":477,\"à§ľà¦ķ\":478,\"Ġà¦¸à¦¹\":479,\"à¦¸à¦²\":480,\"Ġà¦®à¦¹\":481,\"Ġà§«\":482,\"Ġà¦°à§Ł\":483,\"à§®\":484,\"Ġà¦ħà¦¬\":485,\"Ġà§ª\":486,\"à¦°à¦¥à¦®\":487,\"Ġà¦¸à¦¦\":488,\"Ġà¦ıà¦²\":489,\"à¦¤à¦®\":490,\"Ġà¦ħà¦°\":491,\"Ġà¦¹à¦ļ\":492,\"Ġà¦¬à¦¨\":493,\"à¦¬à¦²\":494,\"Ġà¦ħà¦§\":495,\"à¦¯à¦¨\":496,\"à¦¤à¦¬\":497,\"Ġà¦ıà¦ĸà¦¨\":498,\"à¦°à¦¹\":499,\"Ġà¦¬à¦°\":500,\"Ġà¦Ĩà¦Ľ\":501,\"Ġà¦¸à¦°\":502,\"Ġà¦¤à¦¬\":503,\"Ġà¦¸à¦Ń\":504,\"Ġà¦Ĩà¦ľ\":505,\"à§Ń\":506,\"à¦¾|>\":507,\"à¦°à¦¦\":508,\"à¦¯à¦¬à¦¸\":509,\"Ġà¦¸à§ľà¦ķ\":510,\"à§¬\":511,\"à¦¸à¦ª\":512,\"Ġà¦ªà§ľ\":513,\"à¦°à¦¶\":514,\"à¦¯à¦ķ\":515,\"à¦ľà¦¸\":516,\"à¦ĩà¦²\":517,\"à¦Ĺà¦°\":518,\"à¦®à¦¸\":519,\"à¦¬à¦¬\":520,\"à¦ıà¦¨\":521,\"Ġà§¬\":522,\"à¦Łà¦ķ\":523,\"Ġà¦ķà¦°à¦¬\":524,\"Ġà¦ĩà¦¸à¦²\":525,\"Ġà¦°à¦¹à¦®\":526,\"Ġà¦ĺà¦Łà¦¨\":527,\"à¦¼\":528,\"Ġà¦®à¦¤\":529,\"à¦®à¦¤\":530,\"Ġà¦ıà¦Ł\":531,\"à§ĩà¦¾\":532,\"à¦ķà¦¦\":533,\"à¦¾-\":534,\"à¦²à¦¬\":535,\"à¦°à¦¨\":536,\"Ġà¦Ĩà¦ªà¦¨\":537,\"à¦°à¦ª\":538,\"à¦°à§Ł\":539,\"Ġà¦ĵà¦ĩ\":540,\"Ġà§Ń\":541,\"à¦°à¦«\":542,\"Ġà¦¤à¦¥\":543,\"Ġà¦ħà¦¤\":544,\"à¦ĩà¦«\":545,\"à¦Ĺà¦¤\":546,\"à¦ĩà¦¸\":547,\"à¦¨à¦¤\":548,\"Ġà§§à§¦\":549,\"Ġà¦ħà¦¸\":550,\"Ġà¦¨à¦¤\":551,\"Ġà¦¹à¦ĵà§Ł\":552,\"Ġà¦¸à¦ķ\":553,\"à¦ļà¦²\":554,\"Ġà¦¸à¦¨\":555,\"Ġà¦ķà¦²\":556,\"à¦¬à¦ķ\":557,\"Ġà¦¸à¦¦à¦¸\":558,\"Ġà¦ħà¦¬à¦¸\":559,\"à§İà¦¸\":560,\"à¦¶à¦ķ\":561,\"Ġà¦īà¦¨\":562,\"à§ĭ.\":563,\"Ġà§¯\":564,\"Ġà¦Ĩà¦¶\":565,\"à¦®à¦ķà¦°\":566,\"à¦¸à¦®\":567,\"Ġà§®\":568,\"à¦¿-\":569,\"Ġà¦ıà¦¤\":570,\"à¦¦à¦°\":571,\"à¦ķà¦Ł\":572,\"à¦¸à¦¨\":573,\"Ġà¦ıà¦®à¦¨\":574,\"à¦¸à¦¬\":575,\"Ġà¦¨à§Ł\":576,\"à¦ıà¦¨à¦ª\":577,\"Ġà¦¬à§ľ\":578,\"Ġà¦ıà¦®\":579,\"à¦·à¦ķ\":580,\"à¦ıà¦®\":581,\"à¦Ŀ\":582,\"à¦Łà¦Ĺ\":583,\"à¦ıà¦¸\":584,\"Ġà¦īà¦ªà¦¸\":585,\"à¦¨à¦¬\":586,\"à¦ķà¦¬\":587,\"à¦¹à¦¸\":588,\"à¦¨à¦®à¦¨\":589,\"à¦§à¦¨\":590,\"Ġà¦ħà¦ª\":591,\"Ġà§§\":592,\"à¦Łà¦°\":593,\"Ġà§§à§¯\":594,\"Ġà¦Ĩà§Ł\":595,\"à¦®à¦¦\":596,\"à¦¯à¦¬à¦¹\":597,\"Ġà¦īà¦ĩà¦ķ\":598,\"à¦ľà¦§\":599,\"à¦®à¦°\":600,\"Ġà¦īà¦ªà¦ľ\":601,\"Ġà¦ľà§Ł\":602,\"Ġà¦¶à¦¤\":603,\"Ġà¦¸à¦ļ\":604,\"Ġà¦¬à¦ķ\":605,\"à§Łà¦ķ\":606,\"à¦ĩà§Ł\":607,\"Ġà¦Ĩà¦ķ\":608,\"à¦°à¦²\":609,\"Ġà¦Ĩà¦²à¦®\":610,\"à¦¬à¦¹à¦¨\":611,\"Ġà¦ĵà¦ªà¦°\":612,\"Ġà¦ĩà¦īà¦¨\":613,\"Ġà¦ĩà¦¤\":614,\"à¦§à¦¬\":615,\"à¦ķà¦¤\":616,\"à¦ªà¦¦\":617,\"à¦°à¦¹à¦£\":618,\"à¦ħ\":619,\"Ġà¦īà¦ł\":620,\"à¦ĩà¦Ł\":621,\"à¦Ĺà¦ŀ\":622,\"à¦°à¦¯\":623,\"à§Łà¦°\":624,\"Ġà§§à§¨\":625,\"à§ģà¦ģ\":626,\"à¦®à¦¬\":627,\"Ġà¦Ĩà¦¤\":628,\"Ġà¦īà¦²\":629,\"Ġà¦ıà¦°à¦ªà¦°\":630,\"Ġà¦ıà¦¸à¦¬\":631,\"Ġà¦Ŀ\":632,\"Ġà¦ķà¦°à¦²\":633,\"à¦¹à¦°\":634,\"Ġà¦ªà¦¦\":635,\"à¦ĸà¦¤\":636,\"à¦¨à¦¨\":637,\"Ġà¦Ĩà¦¹à¦®\":638,\"à¦¨à§Łà¦¨\":639,\"à§Ģ,\":640,\"Ġà¦¹à¦ķ\":641,\"à¦¿)\":642,\"Ġà¦ķà§Ł\":643,\"à¦¨à¦Ł\":644,\"Ġà¦Ĺà¦£\":645,\"Ġà¦²à¦ķ\":646,\"à¦īà¦Ł\":647,\"à¦¾_\":648,\"à¦¹à¦²\":649,\"à¦ĩà¦Ń\":650,\"Ġà¦ĺà¦Ł\":651,\"à¦¸à¦°\":652,\"à¦¨à¦ķ\":653,\"Ġà¦ķà¦¬\":654,\"à¦¤à¦ķ\":655,\"Ġà¦ıà¦ķà¦ľà¦¨\":656,\"Ġà¦ıà¦¦\":657,\"Ġà¦ľà¦¬\":658,\"Ġà¦°à¦ķ\":659,\"à¦²à¦Łà¦¨\":660,\"à¦¹à¦¨\":661,\"Ġà¦¯à¦¦\":662,\"à¦°à¦Ł\":663,\"Ġà¦¤à¦¦à¦¨\":664,\"à¦łà¦¨\":665,\"à¦°à¦ļ\":666,\"Ġà¦«à¦²\":667,\"à¦®à¦ķ\":668,\"Ġà¦¬à¦¸\":669,\"à¦īà¦²\":670,\"à¦°à¦ĵ\":671,\"à¦¯à¦¬\":672,\"Ġà¦ļà¦Ł\":673,\"Ġà¦ł\":674,\"Ġà¦ħà¦ªà¦°\":675,\"Ġà¦īà¦ļ\":676,\"à¦¸à¦ķ\":677,\"Ġà¦ħà¦«\":678,\"Ġà¦¦à¦ķ\":679,\"à¦¨à§Ł\":680,\"Ġà¦ıà¦Ĺ\":681,\"Ġà¦īà¦¤\":682,\"à¦°à¦ķà¦²\":683,\"à§Łà¦¸\":684,\"Ġà¦°à¦¬\":685,\"Ġà¦ªà¦ķ\":686,\"à¦¸à¦¦\":687,\"Ġà¦¸à¦«\":688,\"Ġà¦ĩà¦ī\":689,\"Ġà¦Ĩà¦«\":690,\"à¦ĺà¦Łà¦¨\":691,\"Ġà¦ıà¦¨\":692,\"à¦°à¦Ń\":693,\"Ġà¦®à¦Ļ\":694,\"Ġà¦Ĩà¦Łà¦ķ\":695,\"Ġà¦¦à¦°\":696,\"Ġà§©à§¦\":697,\"à¦¬à¦ª\":698,\"à¦¨à¦¸\":699,\"Ġà¦Ĺà§ľ\":700,\"Ġà§§à§«\":701,\"à¦Ĺà¦²à¦¬\":702,\"Ġà¦¤à¦ĸà¦¨\":703,\"Ġà¦¶à¦°\":704,\"à¦²à¦¸\":705,\"à¦Ĩà¦ĩ\":706,\"à¦¨à¦®\":707,\"Ġà¦ıà¦¶\":708,\"Ġà¦ıà¦Ľ\":709,\"à¦¥à¦¨\":710,\"à¦ĸà¦²\":711,\"Ġà¦Ĺà¦²\":712,\"Ġà¦§à¦°à¦¨\":713,\"Ġà¦Ľà¦¬\":714,\"Ġà¦Ĩà¦¹à¦¤\":715,\"à¦ĩà¦°\":716,\"à¦·à§Łà¦Ł\":717,\"à§Łà¦¤\":718,\"à¦®à§Ł\":719,\"à¦Łà¦¬à¦²\":720,\"Ġà¦¬à¦Ļ\":721,\"Ġà¦ıà¦ķà¦ĩ\":722,\"Ġà¦ªà¦¥\":723,\"Ġà¦ĵà¦Ń\":724,\"Ġà¦Ľà§ľ\":725,\"Ġà¦Ī\":726,\"Ġà¦ħà¦ķ\":727,\"à¦¯à¦¤\":728,\"Ġà¦ľà¦°\":729,\"Ġà§§à§ª\":730,\"Ġà¦¸à¦¦à¦°\":731,\"Ġà¦¬à§Łà¦¸\":732,\"Ġà¦¶à¦¨\":733,\"Ġà¦¶à¦¹\":734,\"Ġà¦¸à¦¤\":735,\"à¦łà¦ķ\":736,\"à¦ĥ\":737,\"à¦ķà¦Ń\":738,\"Ġà¦ļà¦²à¦ļ\":739,\"Ġà¦¸à¦ķà¦²\":740,\"à¦Ńà¦¬\":741,\"Ġà¦¹à§Łà¦¨\":742,\"à¦·à¦¤\":743,\"Ġà§§à§§\":744,\"Ġà¦ĸà¦¬à¦°\":745,\"à¦¦à¦²\":746,\"à¦¯à¦¸\":747,\"Ġà¦¬à¦²à¦²\":748,\"),\":749,\"Ġà¦¹à¦¨\":750,\"à¦°à¦¸à¦Ļ\":751,\"à¦°à¦ĩ\":752,\"à¦Łà¦¸\":753,\"Ġà§§à§©\":754,\"à¦ªà¦Ł\":755,\"Ġà¦Ĩà¦¹\":756,\"à¦ľà¦®\":757,\"à¦¯à¦°\":758,\"Ġà¦Ĩà¦ĩà¦¨à¦ľ\":759,\"à¦ľà¦¶\":760,\"à¦¸à¦ļ\":761,\"à¦·à¦¦\":762,\"à§Łà¦¦\":763,\"à¦¤à¦²\":764,\"à¦Ľà¦¨\":765,\"à¦¨à¦¡\":766,\"Ġà¦Ĺà¦¬\":767,\"Ġà§§à§¬\":768,\"à§ĭ,\":769,\"à¦Ĺà¦®\":770,\"à¦Ĺà¦£\":771,\"Ġà¦ªà¦£\":772,\"à¦ķà¦¨\":773,\"à¦ľà¦¨à¦ķ\":774,\"à¦ķà¦®\":775,\"à§Łà¦®\":776,\"Ġà¦ĩà§Ł\":777,\"Ġà§§à§®\":778,\"Ġà§«à§¦\":779,\"Ġà¦¨à¦¦\":780,\"à¦¯à¦¦\":781,\"à¦ļà¦Ł\":782,\"Ġà¦ĺà¦°\":783,\"Ġà¦ľà¦¨à¦ª\":784,\"à¦¨à¦Ĺà¦°\":785,\"Ġà¦¨à¦®\":786,\"Ġà¦¦à¦¶\":787,\"Ġà¦«à¦°\":788,\"à¦īà¦ľ\":789,\"Ġà¦¡à¦²\":790,\"à¦°à¦Ĺ\":791,\"à¦Ĺà¦¬à¦¨\":792,\"à¦¹à¦¬\":793,\"Ġà¦ľà¦®\":794,\"Ġà¦Ńà¦°\":795,\"à¦²à¦¦\":796,\"Ġà¦ļà¦°\":797,\"à§¨à§¦\":798,\"Ġà¦Īà¦¦\":799,\"Ġà¦®à¦¡\":800,\"Ġà§¨à§¦à§¦\":801,\"Ġà¦Ĩà¦ĵà§Ł\":802,\"Ġà¦¸à¦¹à¦¯\":803,\"Ġà¦ħà¦¬à¦¶\":804,\"à¦¦à¦ª\":805,\"à§Łà¦Ĺ\":806,\"à¦ľà¦°\":807,\"Ġà¦¯à¦ĸà¦¨\":808,\"Ġà¦ĩà¦²\":809,\"à¦°à¦°\":810,\"à¦ĩà¦¬\":811,\"Ġà§¨à§«\":812,\"à¦īà¦¦\":813,\"à§©à§¦\":814,\"Ġà¦¸à¦¹à¦ķ\":815,\"à§ĩ-\":816,\"à¦¸à¦°à¦ķ\":817,\"à¦ĩà¦¡\":818,\"Ġà¦¨à¦Ĺà¦°\":819,\"à§§à§¦\":820,\"Ġ*\":821,\"à¦ķà¦¸\":822,\"à¦ķà¦¶\":823,\"Ġà¦ķà¦ķ\":824,\"à§§à§¨\":825,\"Ġà¦Ĳ\":826,\"à¦ľà§Ł\":827,\"à¦«à¦²\":828,\"à¦¿|>\":829,\"à¦Ĺà¦łà¦¨\":830,\"Ġà¦ıà¦ĸ\":831,\"Ġà¦¸à¦®à¦¸\":832,\"à¦¤à¦¤\":833,\"Ġà¦¸à¦ª\":834,\"Ġà¦ªà¦²\":835,\"à¦·à¦®à¦¤\":836,\"à§ĩà¦ģ\":837,\"à¦²à¦®\":838,\"à¦Ĩà¦ĩà¦¨\":839,\"Ġà¦ķà¦¨\":840,\"à¦¥à¦²\":841,\"à¦ħà¦ªà¦°\":842,\"à¦Ĩà¦°\":843,\"Ġà¦ªà§Ł\":844,\"à¦°à¦¸à¦¨\":845,\"Ġà¦Ĩà¦¬à¦¦\":846,\"à¦¼à¦¾\":847,\"à¦ļà§Ł\":848,\"Ġà¦¶à¦ķ\":849,\"Ġà¦¸à¦¬à¦ļ\":850,\"à¦¬à¦¶\":851,\"Ġà¦ħà¦²\":852,\"à¦¨à¦¬à¦¨\":853,\"à¦¸à¦Ń\":854,\"à¦Łà¦¸à¦®\":855,\"Ġà¦ļà¦²à¦Ľ\":856,\"à¦¨à¦¦\":857,\"à¦²à¦Ļ\":858,\"à¦¯à§Ł\":859,\"à¦ľà¦¬\":860,\"à¦§à¦¤\":861,\"Ġà¦ļà¦²à¦¤\":862,\"Ġà¦Ńà¦¬à¦¨\":863,\"à¦ĵà¦¤\":864,\"à¦ĺà¦°\":865,\"à¦ķà¦ķ\":866,\"à¦¶à¦Ĺ\":867,\"Ġà¦ļà¦¤\":868,\"à§Įà¦ģ\":869,\"à¦²à¦ª\":870,\"Ġà¦Ľà§Ł\":871,\"Ġà¦ľà¦¨à¦Ĺà¦£\":872,\"à¦¬à¦¦\":873,\"Ġà¦ħà¦¥\":874,\"à¦°à¦ľ\":875,\"à¦¨à¦¹\":876,\"à§ģ,\":877,\"Ġà§§à§Ń\":878,\"à¦¼à§ĩ\":879,\"à¦¦à¦¶\":880,\"Ġà§¨à§¯\":881,\"à§§à§§\":882,\"à§İà¦ª\":883,\"Ġà¦ľà§ľ\":884,\"Ġà¦Ĩà¦°à¦¬\":885,\"à¦Ī\":886,\"à¦¾.\":887,\"à¦°à¦ªà¦¤\":888,\"à¦ķà¦ľà¦¨\":889,\"à¦¨à¦°\":890,\"Ġà¦®à¦°\":891,\"à¦īà¦¡\":892,\"Ġà¦ªà¦°à¦¬à¦°\":893,\"Ġà¦Ĩà¦¸à¦Ľ\":894,\"à¦¸à¦Ł\":895,\"Ġà¦ķà¦ĸà¦¨\":896,\"Ġà¦Ĺà¦łà¦¨\":897,\"Ġà¦¬à¦¹\":898,\"à¦¶à¦²\":899,\"Ġà¦¤à¦°\":900,\"à§§à§©\":901,\"Ġà¦ķà¦ł\":902,\"à¦ļà¦ķ\":903,\"Ġà¦Ĩà¦¸à¦¨\":904,\"à¦¬à¦¤\":905,\"Ġà¦Ĩà¦ĵà¦¤\":906,\"Ġà¦®à¦ľ\":907,\"à§İà¦ķ\":908,\"Ġà§ªà§¦\":909,\"Ġà¦®à¦ŀ\":910,\"Ġà¦¶à¦¹à¦°\":911,\"Ġà¦¬à¦²à¦¤\":912,\"à¦ľà¦ķ\":913,\"Ġà¦°à¦ª\":914,\"à¦ıà¦²\":915,\"Ġà¦ĩà¦Ń\":916,\"Ġà¦¸à¦«à¦°\":917,\"à¦ªà¦²\":918,\"à§Ģ/\":919,\"à¦ĩà¦®\":920,\"Ġà¦¯à¦¥\":921,\"à¦ľà¦²\":922,\"Ġà¦¨à¦¬\":923,\"à¦«à¦Ł\":924,\"Ġà§¨à§©\":925,\"à¦īà¦°\":926,\"Ġà¦·\":927,\"à¦°à¦ªà¦°\":928,\"à¦®à¦§\":929,\"à¦¸à§ľà¦ķ\":930,\"Ġà¦¬à¦²à¦Ľ\":931,\"Ġà§¨à§®\":932,\"Ġà¦ĺà¦£\":933,\"à¦Ĩà¦®\":934,\"Ġà¦Ĩà¦īà¦Ł\":935,\"Ġà§¨à§ª\":936,\"Ġà¦Ĩà¦¸à¦¤\":937,\"Ġà¦ĭ\":938,\"Ġà§¨à§§\":939,\"à¦¬à¦ĩ\":940,\"Ġà¦ªà¦¦à¦ķ\":941,\"à¦Ĺà¦¨\":942,\"à¦ĵà¦¨\":943,\"Ġà¦¸à¦¹à¦ľ\":944,\"Ġà¦¦à¦¶à¦®\":945,\"à¦¤à¦¦\":946,\"Ġà¦Ĩà¦Ł\":947,\"Ġà¦Ĩà¦®à¦¦\":948,\"ĠĊ\":949,\"à¦¯à¦¤à¦®\":950,\"à¦ľà¦Ł\":951,\"Ġà¦ħà¦ŀ\":952,\"Ġà¦Ĩà¦¸à¦²\":953,\"Ġà¦ħà¦Ł\":954,\"Ġà¦ħà¦¨à¦²\":955,\"à¦°à¦Ľ\":956,\"à§Łà¦£\":957,\"Ġà¦ķà¦¤\":958,\"Ġà¦ħà¦Ĺ\":959,\"Ġà¦ħà¦ļ\":960,\"Ġà¦ĵà¦¸\":961,\"Ġà¦īà§İà¦¸\":962,\"Ġà¦īà§İà¦ª\":963,\"à§¦à§¦\":964,\"Ġà¦ĵà¦ł\":965,\"à§ĭà¦ģ\":966,\"Ġà¦ıà¦ľà¦¨\":967,\"à¦ĸà¦°\":968,\"à¦ķà¦°à¦£\":969,\"à§ĭ-\":970,\"Ġà¦Ĩà¦ª\":971,\"Ġà¦Ĺà¦°\":972,\"Ġà¦īà¦ªà¦²à¦ķ\":973,\"à¦²à¦Ł\":974,\"Ġà¦ĩà¦ķà¦¬\":975,\"à§ĩ?\":976,\"Ġà¦Ĩà¦§\":977,\"à¦Ĺà¦²\":978,\"Ġà¦ĩà¦īà¦°\":979,\"à¦¾)\":980,\"Ġà¦Ńà§Ł\":981,\"Ġà§¨à§¨\":982,\"Ġà§¨à§¦à§§à§¬\":983,\"à¦²à¦Ĺ\":984,\"Ġà¦ªà¦ŀ\":985,\"Ġà¦¨à¦Ń\":986,\"à¦¡à¦Ń\":987,\"à¦¯à¦¬à¦§\":988,\"à¦Łà¦®\":989,\"Ġà¦ªà¦¤\":990,\"à¦¨à¦¬à¦¬à¦¨\":991,\"à¦ªà¦¸\":992,\"à¦¶à¦°\":993,\"Ġà¦ĩà¦¸\":994,\"à¦ıà¦°\":995,\"Ġà§¨à§¦à§§à§«\":996,\"Ġà¦¸à¦ŀ\":997,\"Ġà¦īà¦ªà¦°\":998,\"Ġà¦²à§ľ\":999,\"Ġà¦¦à¦«\":1000,\"Ġà¦¦à¦®à¦¨\":1001,\"à¦«à¦°\":1002,\"Ġà¦¸à¦®à¦°\":1003,\"Ġà¦Ĩà¦¸à¦°\":1004,\"à¦°à¦«à¦°à¦®\":1005,\"Ġà¦ıà¦«\":1006,\"à§§à§¯\":1007,\"à§Łà¦£à¦Ĺà¦ŀ\":1008,\"à¦ªà¦£\":1009,\"Ġà¦ĵà¦ª\":1010,\"à¦ĵà¦²\":1011,\"à¦°à¦®à¦£\":1012,\"à§¨à§¯\":1013,\"à¦¨à¦Ĺ\":1014,\"Ġà¦ĩà¦ļ\":1015,\"Ġà¦Ĩà¦¨à¦¨\":1016,\"Ġà¦ĩà¦¨à¦¸\":1017,\"à¦¬à¦Ł\":1018,\"à¦¯à¦ĩ\":1019,\"à¦¯à¦ķà¦°\":1020,\"à¦£à¦¤\":1021,\"Ġà¦Ńà¦¬\":1022,\"Ġà¦ĩà¦ŀ\":1023,\"Ġà¦ĸà¦°à¦ļ\":1024,\"Ġà¦ľà¦¨à¦ķ\":1025,\"à¦ıà¦«\":1026,\"Ġà¦Ĺà¦£à¦®\":1027,\"à¦¨à¦ļ\":1028,\"à¦¦à¦®\":1029,\"Ġà¦Ĩà¦ĩà¦¸\":1030,\"Ġà¦¦à¦°à¦ķ\":1031,\"Ġà§¨à§Ń\":1032,\"Ġà¦§à¦¨\":1033,\"à¦·à§Łà¦ķ\":1034,\"à¦®à¦°à¦£\":1035,\"à¦Łà¦²\":1036,\"à¦Łà¦°à¦¸\":1037,\"Ġà¦Ĩà¦ĺ\":1038,\"Ġà§¨à§¦à§§à§Ń\":1039,\"à¦²à¦Ń\":1040,\"Ġà¦ªà¦¶\":1041,\"à¦¯à¦¥\":1042,\"à¦ªà¦¥\":1043,\"Ġà¦ľà¦¨à¦¸\":1044,\"à¦²à¦¨à¦ķ\":1045,\"Ġà¦Ĩà¦«à¦Ĺ\":1046,\"à¦°à¦ĸ\":1047,\"à¦¨à¦ĩ\":1048,\"à¦²à¦Ĺà¦ŀ\":1049,\"à¦¦à¦¦\":1050,\"à¦ªà§ľ\":1051,\"à¦Ĺà¦ľ\":1052,\"à¦ĵà¦¸\":1053,\"Ġà§©à§¨\":1054,\"à¦ĩà¦¦\":1055,\"Ġà¦°à¦¶\":1056,\"à¦¡à¦¸\":1057,\"Ġà¦īà¦ªà¦¹\":1058,\"à¦ķà¦¶à¦¨\":1059,\"à¦²à¦Ľ\":1060,\"Ġà¦¦à¦²à¦ķ\":1061,\"à¦¡à¦¨\":1062,\"à¦īà¦ķ\":1063,\"à¦Ĩà¦ª\":1064,\"à§©à§§\":1065,\"à¦«à¦¤\":1066,\"Ġà¦¸à¦®à¦¨\":1067,\"Ġà¦Ĺà¦¤à¦ķ\":1068,\"à§İà¦¸à¦ķ\":1069,\"Ġà¦ıà¦Ń\":1070,\"à¦Ńà¦°\":1071,\"Ġà¦ļà¦ķ\":1072,\"Ġà¦¯à¦¤\":1073,\"à¦Ĩà¦¨\":1074,\"à¦°à¦ľà¦¨\":1075,\"à§ģà¦ĥ\":1076,\"à¦¯à¦®à¦¨\":1077,\"à¦¶à¦Ł\":1078,\"à¦·à¦®\":1079,\"à¦¹à¦ľ\":1080,\"Ġà¦ħà¦ľ\":1081,\"à¦ĸà¦¬\":1082,\"à¦łà¦ª\":1083,\"à¦Ĩà¦°à¦Ł\":1084,\"Ġà¦Ĳà¦ķ\":1085,\"à¦¤à¦°à¦£\":1086,\"à¦¦à¦£\":1087,\"Ġà¦¨à¦ľà¦°\":1088,\"à¦Ĺà¦¬\":1089,\"Ġà¦¯à¦¶\":1090,\"Ġà¦¹à§Łà¦¤\":1091,\"à§§à§®\":1092,\"Ġà¦Ĩà¦°à¦ĵ\":1093,\"Ġà§§à§¯à§¯\":1094,\"à§Łà¦²\":1095,\"Ġà¦¸à¦ł\":1096,\"Ġà¦¬à¦¦à¦²\":1097,\"à¦¶à¦¬\":1098,\"Ġà§¨à§¬\":1099,\"à§§à§«\":1100,\"à¦¨à¦ľ\":1101,\"à¦ķà¦Ĺ\":1102,\"à¦¸à¦Ļ\":1103,\"à¦¹à¦ķ\":1104,\"Ġà¦Ĩà¦¸à¦¬\":1105,\"à¦ĺà¦¦\":1106,\"Ġà¦ħà¦¥à¦¬\":1107,\"Ġà¦ĭà¦£\":1108,\"à¦®à¦¹à¦¤\":1109,\"Ġà¦ıà¦ª\":1110,\"à¦ĩà¦ª\":1111,\"Ġà¦¹à¦ł\":1112,\"Ġà¦°à¦ļà¦¨\":1113,\"Ġà¦ıà¦ķà¦¦\":1114,\"à¦Łà¦ĵà§Ł\":1115,\"Ġà¦ªà¦¨\":1116,\"Ġà¦ķà¦°à¦ª\":1117,\"Ġà¦ħà¦Ļ\":1118,\"à§ľà¦¤\":1119,\"Ġà¦īà¦Ń\":1120,\"Ġà§©à§§\":1121,\"à¦°à¦¥à¦®à¦¬\":1122,\"à¦°à¦ªà¦ķ\":1123,\"à¦¨à¦Ń\":1124,\"à¦²à¦¶\":1125,\"à¦¬à¦ľà¦¨\":1126,\"Ġà¦ªà¦Ľà¦¨\":1127,\"à¦²à¦ľ\":1128,\"à¦®à¦Ĺ\":1129,\"Ġà¦¹à¦ľ\":1130,\"Ġà¦īà§ľ\":1131,\"Ġà¦Ľà¦ķ\":1132,\"Ġà§§à§§à§\":1133,\"Ġà§¬à§¦\":1134,\"Ġà§§à§¯à§Ń\":1135,\"à¦²à¦°à¦ķ\":1136,\"à¦¤à¦Ń\":1137,\"à¦¬à¦®\":1138,\"à¦¥à¦ķ\":1139,\"à¦ĸà¦Ľ\":1140,\"Ġà¦ĵà¦°\":1141,\"Ġà§©à§®\":1142,\"Ġà¦ħà¦¬à¦¦\":1143,\"Ġà¦Ĩà¦ľà¦¹\":1144,\"à¦®à¦ª\":1145,\"à§ģ-\":1146,\"Ġà¦¨à¦¨\":1147,\"à¦ļà¦®\":1148,\"Ġà¦īà§Ł\":1149,\"à§§à§ª\":1150,\"à¦ŀà¦¤\":1151,\"à¦°à¦¸à¦¹\":1152,\"Ġà¦ļà¦²à¦®\":1153,\"Ġà¦ķà¦²à¦ķ\":1154,\"à¦ŀà¦ª\":1155,\"à§Łà¦¨à¦¶\":1156,\"Ġà¦¦à¦²à¦Ł\":1157,\"Ġà¦Ĩà¦ľà¦ķ\":1158,\"Ġà¦¸à¦¤à¦°\":1159,\"à¦·à¦°\":1160,\"Ġà¦°à¦Ļ\":1161,\"Ġà¦«à¦Ł\":1162,\"Ġà¦īà¦Ńà§Ł\":1163,\"Ġà¦ªà¦¬\":1164,\"Ġà¦ħà¦®\":1165,\"Ġà§¦\":1166,\"Ġà¦ıà¦ķà¦®\":1167,\"Ġà¦«à¦ĸà¦°\":1168,\"Ġà§©à§«\":1169,\"Ġà§¯à§¦\":1170,\"à§ĩ)\":1171,\"à¦¿à¦ĥ\":1172,\"à¦¨à¦¸à¦¹\":1173,\"à¦¤à¦«\":1174,\"à¦ľà¦Ĺ\":1175,\"à¦¶à¦¤\":1176,\"Ġà¦°à¦«\":1177,\"à¦¡à¦ķ\":1178,\"à§¨à§©\":1179,\"Ġà¦Ĩà¦¹à¦®à¦¦\":1180,\"à¦¬à§Ł\":1181,\"à¦®à§ľ\":1182,\"à¦¸à¦¸\":1183,\"à¦¯à¦ª\":1184,\"Ġà§¨à§¦à§§à§ª\":1185,\"à¦Łà¦ķà¦Ł\":1186,\"à¦ħà¦°\":1187,\"Ġà¦Ĺà¦£à¦¤à¦¨\":1188,\"à¦°à¦®à¦¨\":1189,\"Ġà¦ľà¦Ļ\":1190,\"Ġà¦Ĺà¦Ń\":1191,\"Ġà¦ıà¦®à¦¨à¦ķ\":1192,\"à¦°à¦°à¦«\":1193,\"à¦¨à¦ľà¦¨\":1194,\"à¦¬à¦Ľà¦°\":1195,\"à¦®à¦ļ\":1196,\"à¦ľà¦Ń\":1197,\"à¦ĩà¦Ĺ\":1198,\"à¦ĩà¦ī\":1199,\"à¦Ĺà¦Ĺ\":1200,\"Ġà¦ĵà¦°à¦«\":1201,\"Ġà¦ĩà¦ķ\":1202,\"à¦ıà¦¸à¦ª\":1203,\"Ġà¦īà¦ªà¦ķ\":1204,\"Ġà¦Ĩà¦ĩà¦¨à¦¶\":1205,\"à¦¸à¦¤\":1206,\"à¦Łà¦Ł\":1207,\"à¦¥à¦®à¦¨\":1208,\"Ġà¦Ĩà¦ļ\":1209,\"Ġà¦Ĩà¦Ļ\":1210,\"Ġà¦Ĩà¦ĩà¦¡\":1211,\"Ġà¦ıà¦¡\":1212,\"Ġà¦°à¦®\":1213,\"Ġà¦¶à¦«\":1214,\"à¦ĸà¦ķ\":1215,\"Ġà¦ıà¦ķà¦¬\":1216,\"Ġà¦Łà¦¨\":1217,\"Ġà¦ıà¦ĩà¦ļ\":1218,\"Ġà¦ļà¦²à¦¬\":1219,\"Ġà¦¸à¦«à¦²\":1220,\"Ġà¦Ĳà¦¤\":1221,\"Ġà¦ħà¦²à¦°\":1222,\"Ġà¦ħà¦¥à¦ļ\":1223,\"à¦²à¦²\":1224,\"à¦Ĺà¦¦\":1225,\"à¦ļà§Łà¦ªà¦¤\":1226,\"à¦²à¦ĵà§Ł\":1227,\"à¦ĩà¦Ľ\":1228,\"à¦·à¦ķà¦¦\":1229,\"à¦¥à¦¤\":1230,\"à¦¡à¦¬\":1231,\"Ġà¦¸à¦°à¦¬à¦°\":1232,\"à¦·à¦ķà¦¤\":1233,\"Ġ,\":1234,\"à¦®à¦ŀ\":1235,\"à¦Łà¦«\":1236,\"Ġà¦Ĩà¦ĩ\":1237,\"à§Ģ-\":1238,\"à¦Ĺà§ľ\":1239,\"Ġà¦ħà¦¡\":1240,\"à§ľà¦¯à¦¨\":1241,\"Ġà¦ĸà¦¨\":1242,\"à¦°à¦¦à¦°\":1243,\"Ġà§§à§¦à§¦\":1244,\"Ġà¦°à¦ķà¦®\":1245,\"Ġà¦·à§ľà¦¯à¦¨\":1246,\"à¦¾?\":1247,\"Ġà¦ıà§Ł\":1248,\"Ġà¦ĵà¦¸à¦®\":1249,\"à¦£à¦¬\":1250,\"Ġà¦ĩà¦®à¦°\":1251,\"à¦°à¦ķà¦®\":1252,\"à¦ıà¦®à¦ª\":1253,\"Ġà¦®à¦¡à¦°\":1254,\"à¦ķà¦ļ\":1255,\"à¦®à¦ĺ\":1256,\"à¦¦à¦īà¦²\":1257,\"Ġà¦®à¦¸\":1258,\"Ġà¦¨à¦ĵà§Ł\":1259,\"Ġà¦ľà¦ľ\":1260,\"Ġà¦¶à¦Ł\":1261,\"Ġà¦ļà¦¨\":1262,\"Ġà¦ıà¦°à¦ĩ\":1263,\"Ġà§ªà§«\":1264,\"Ġà¦ķà¦£\":1265,\"à¦ĩà¦¤\":1266,\"Ġà¦¹à¦¸\":1267,\"à¦Ĺà¦ķ\":1268,\"Ġà¦¦à¦ª\":1269,\"Ġà¦ħà¦¶\":1270,\"à¦°à¦£à§Łà¦¨\":1271,\"Ġà§¨à§¦à§§à§©\":1272,\"à§¨à§§\":1273,\"Ġà¦¸à¦¬à¦ķ\":1274,\"à¦®à¦¸à¦Ł\":1275,\"à¦ıà¦¨à¦ı\":1276,\"à¦Īà¦¨\":1277,\"à§ĩ!\":1278,\"à¦¸à¦«\":1279,\"à¦Łà¦¬\":1280,\"à§ĭ:\":1281,\"Ġà¦Ĩà¦ķà¦°\":1282,\"à¦ľà¦¤\":1283,\"Ġà¦¨à¦°\":1284,\"Ġà¦ľà¦¹\":1285,\"à¦Ļà¦ļ\":1286,\"à¦Ĩà¦¸\":1287,\"à¦¤à¦¨à¦¤\":1288,\"à¦°à¦¡\":1289,\"Ġà¦ķà¦·\":1290,\"Ġà¦¬à¦¸à¦¬\":1291,\"Ġà¦¹à¦¯\":1292,\"Ġà¦¨à¦ĵ\":1293,\"à¦·à¦¸\":1294,\"à¦¹à¦°à¦£\":1295,\"Ġà¦¤à¦¤\":1296,\"à¦ļà¦°\":1297,\"Ġà¦īà¦ľ\":1298,\"Ġà¦ĩà¦®\":1299,\"Ġà¦ĩà¦¶\":1300,\"Ġà¦¬à¦²à¦¬\":1301,\"Ġà¦ıà¦ķà¦¸à¦Ļ\":1302,\"Ġà¦ĺà¦¨\":1303,\"à¦²à¦¨à¦°à¦¤\":1304,\"Ġà¦īà¦ªà¦¦\":1305,\"à§ªà§¦\":1306,\"Ġà§ªà§¬\":1307,\"Ġà¦Ĩà¦¶à¦Ļ\":1308,\"à§¨à§¦à§§à§®\":1309,\"Ġà¦ķà¦¨à¦«\":1310,\"à¦°à¦¬à¦°\":1311,\"à¦¨à¦ĵ\":1312,\"à¦²à¦«\":1313,\"à¦®à¦¶\":1314,\"à¦Łà¦ª\":1315,\"Ġà¦¬à¦ľ\":1316,\"Ġà¦Ĩà¦ŀ\":1317,\"Ġà¦Ĩà¦¹à¦¸\":1318,\"à¦§à¦°\":1319,\"à¦¥à¦Ĺ\":1320,\"à¦¡à¦«\":1321,\"Ġà¦ªà¦°à¦ªà¦°\":1322,\"Ġà¦ĩà¦°\":1323,\"Ġà¦«à¦ľà¦²\":1324,\"à¦īà¦¬\":1325,\"à§Łà¦¨à¦¸\":1326,\"Ġà¦ıà¦¸à¦Ĩà¦ĩ\":1327,\"Ġà§ªà§®\":1328,\"à¦¤à¦ľ\":1329,\"Ġà¦Ĺà¦¨\":1330,\"Ġà¦¯à¦¨\":1331,\"Ġà¦īà¦ĩ\":1332,\"Ġà§¨à§¦à§§à§§\":1333,\"à¦²à¦ķà¦¦\":1334,\"à§¨à§¨\":1335,\"Ġà§Ńà§«\":1336,\"à¦ıà¦¸à¦¸\":1337,\"Ġà¦Ĩà¦²à¦®à¦Ĺ\":1338,\"Ġà§«à§¦à§¦\":1339,\"à¦Īà¦®\":1340,\"à¦¨à¦¸à¦®\":1341,\"à¦ķà¦Ľ\":1342,\"à¦®à¦°à¦¤\":1343,\"Ġà¦®à¦Īà¦¨\":1344,\"à¦¶à¦«\":1345,\"Ġà¦¦à¦ĸà¦²\":1346,\"à¦¹à¦«\":1347,\"Ġà¦ªà¦°à¦°\":1348,\"Ġà¦ıà¦®à¦ª\":1349,\"à¦²à¦°\":1350,\"à¦ĩà¦ļ\":1351,\"Ġà¦¤à¦²\":1352,\"Ġà¦ħà¦¬à¦°\":1353,\"à¦ļà¦¤\":1354,\"Ġà¦¶à¦¬\":1355,\"Ġà¦ĵà¦®\":1356,\"Ġà¦ĸà¦¸à¦°\":1357,\"Ġà§©à§¯\":1358,\"Ġà§©à§¬\":1359,\"Ġà¦ĩà¦¨à¦ľ\":1360,\"Ġà¦ħà¦¬à¦¸à¦°\":1361,\"à¦¤à¦ķà¦°à¦£\":1362,\"Ġà¦ĩà¦īà¦ª\":1363,\"à§Ĺ\":1364,\"à¦ķà¦ª\":1365,\"à¦¤à¦¦à¦¨\":1366,\"à¦¬à¦¤à¦¨\":1367,\"à§ľà¦Ľ\":1368,\"Ġà¦ĵà¦¬\":1369,\"à¦Łà¦¨à¦®\":1370,\"à¦®à¦²à¦®à¦¤\":1371,\"Ġà¦ıà¦¸à¦®à§Ł\":1372,\"Ġà§®à§¦\":1373,\"à¦Ŀà¦¤\":1374,\"à¦ªà¦Łà¦ª\":1375,\"Ġà¦Ĩà¦ļà¦°à¦£\":1376,\"..\":1377,\"à§ĩà§Ĺ\":1378,\"à§Łà¦¤à¦¨\":1379,\"Ġà¦ıà¦ľ\":1380,\"Ġà¦¦à¦£\":1381,\"Ġà¦¦à¦¶à¦ķ\":1382,\"à¦·à¦ľ\":1383,\"à§ľà¦¬\":1384,\"Ġà¦Ńà¦ķ\":1385,\"Ġà¦ĸà¦¸\":1386,\"à¦¬à¦°à¦£\":1387,\"Ġà§¨à§¦à§§à§¦\":1388,\"Ġà§¨à§¦à§§à§¨\":1389,\"à¦²à¦ķà¦ķ\":1390,\"Ġà¦Ĩà¦¬à¦¹\":1391,\"Ġà§Ńà§¦\":1392,\"Ġà¦ıà¦®à¦¨à¦Ł\":1393,\"Ġà¦īà¦łà¦²\":1394,\"à¦°à¦Ĺà¦ŀ\":1395,\"à¦¨à¦²\":1396,\"à§Łà¦¹\":1397,\"Ġà¦¸à¦²\":1398,\"à¦¦à§Ł\":1399,\"Ġà¦ıà§ľ\":1400,\"à¦¡à¦²\":1401,\"Ġà¦¯à¦ķ\":1402,\"à§§à§¬\":1403,\"à¦®à¦¨à¦¸\":1404,\"à¦Ĩà¦ĩà¦¸\":1405,\"Ġà¦ĩà¦¨à¦ļ\":1406,\"Ġà§¬à§ª\":1407,\"Ġà§Ńà§¨\":1408,\"Ġà¦ªà¦¦à¦¤\":1409,\"à¦®à¦ĺà¦Ł\":1410,\"Ġà¦Ĭ\":1411,\"à¦¬à¦§\":1412,\"à¦®à¦¹\":1413,\"Ġà¦Ĩà¦ĩà¦«\":1414,\"à¦ĩà¦ĵ\":1415,\"à¦¥à¦¬à¦Ľà¦°\":1416,\"à¦ĵà¦¯\":1417,\"Ġà¦īà¦ªà¦¨\":1418,\"Ġà¦ªà¦°à¦ĵ\":1419,\"Ġà¦«à¦°à¦®\":1420,\"Ġà¦ħà¦¨à¦¨\":1421,\"à¦īà¦¸\":1422,\"à¦īà¦¥\":1423,\"à§§à§Ń\":1424,\"à¦ıà¦ķ\":1425,\"Ġà¦īà¦ªà¦¯\":1426,\"Ġà¦Ĩà¦¨à¦¤\":1427,\"à¦ĺà¦¨\":1428,\"Ġà§©à§ª\":1429,\"Ġà¦¸à¦¬à¦¶\":1430,\"Ġà§«à§¬\":1431,\"Ġà§ªà§ª\":1432,\"à¦¶à¦ķà¦¤\":1433,\"Ġà¦ĩà¦īà¦ıà¦¸\":1434,\"à¦Ĩà¦ĩà¦ª\":1435,\"à¦¿:\":1436,\"à¦¨à¦¶\":1437,\"à¦¤à¦ª\":1438,\"à¦ªà¦ļ\":1439,\"à¦ĩà¦¶\":1440,\"Ġà¦°à¦®à¦¨\":1441,\"à¦§à¦ķ\":1442,\"Ġà¦ļà§ľ\":1443,\"à¦«à¦¸\":1444,\"Ġà§©à§©\":1445,\"Ġà¦īà¦łà¦¤\":1446,\"Ġà¦Ŀà§ľ\":1447,\"à¦ķà¦Ĩà¦ª\":1448,\"à§Łà¦¬\":1449,\"Ġà¦¬à¦§\":1450,\"Ġà¦Ĩà¦ĸ\":1451,\"Ġà¦Ĩà§ľ\":1452,\"Ġà¦ıà¦ľà¦¬\":1453,\"Ġà¦¦à¦®\":1454,\"Ġà¦ľà¦²\":1455,\"Ġà¦ħà¦¬à¦¹\":1456,\"Ġà¦Ĺà¦°à¦®\":1457,\"Ġà¦¹à§Łà¦°\":1458,\"Ġà¦²à¦¨\":1459,\"Ġà¦ħà¦¬à¦ķ\":1460,\"Ġà¦ĸà¦¸à§ľ\":1461,\"Ġà¦Ĭà¦°\":1462,\"à¦¾),\":1463,\"à¦²à¦¥\":1464,\"à¦¸à¦ĵà§Ł\":1465,\"Ġà¦ķà¦¨à¦¸\":1466,\"à¦¯à¦°à¦¤\":1467,\"Ġà¦ľà¦²à¦¬\":1468,\"à¦¥à¦°\":1469,\"Ġà¦Ĺà¦ł\":1470,\"Ġà¦ĵà¦·\":1471,\"Ġà¦ĩà¦īà¦Ł\":1472,\"Ġà¦Ľà¦¨\":1473,\"Ġà¦¦à¦²à¦Ĺ\":1474,\"Ġà¦ķà¦®à¦ª\":1475,\"à§«à§¦\":1476,\"Ġà¦®à¦¹à¦²\":1477,\"à¦¤à¦Ł\":1478,\"à¦¬à¦ļ\":1479,\"Ġà¦¸à¦¬à¦¸\":1480,\"Ġà¦ķà¦®à¦²\":1481,\"à¦¯à¦ĵ\":1482,\"à¦Ĺà¦Ľ\":1483,\"Ġà¦ľà§Łà¦¨\":1484,\"à¦§à¦Ń\":1485,\"à¦£à¦¦\":1486,\"à¦ĵà¦°\":1487,\"à¦ĵà¦¦\":1488,\"Ġà¦²à¦Ļ\":1489,\"à¦Ļà¦¨\":1490,\"à§¨à§ª\":1491,\"Ġà¦¸à¦¬à¦Ĺ\":1492,\"Ġà§ªà§Ń\":1493,\"Ġà§Ńà§§\":1494,\"Ġà§§à§¯à§®\":1495,\"Ġà¦¸à¦¬à¦¸à¦®à§Ł\":1496,\"à§ĩà¦¾à¦ģ\":1497,\"à¦¨à¦¤à¦®\":1498,\"à¦¸à¦°à¦£\":1499,\"à¦Łà¦¤\":1500,\"à¦¦à¦Ĺ\":1501,\"Ġà¦ªà¦Ł\":1502,\"à¦¯à¦¶\":1503,\"à¦ľà¦ª\":1504,\"à¦ľà¦ªà¦¥\":1505,\"Ġà¦®à¦°à¦¦\":1506,\"Ġà¦°à¦¨\":1507,\"Ġà¦ľà¦Ł\":1508,\"Ġà¦ļà¦°à¦®\":1509,\"Ġà¦ªà¦°à¦ĩ\":1510,\"Ġà¦ĩà§Łà¦°\":1511,\"Ġà¦²à¦®\":1512,\"Ġà¦ĸà¦²\":1513,\"à¦°à¦¸à¦Ń\":1514,\"Ġà§©à§Ń\":1515,\"Ġà¦Ĩà¦ľà¦ĵ\":1516,\"Ġà¦ªà§ľà¦²\":1517,\"Ġà¦ıà¦®à¦¬\":1518,\"à¦ıà¦¸à¦ľ\":1519,\"Ġà¦ħà¦ªà¦°à¦¦\":1520,\"Ġà¦ķà¦¤à¦Ł\":1521,\"à¦¨à¦ľà¦¨à¦ķ\":1522,\"à¦²à¦¸à¦¹\":1523,\"Ġà¦¬à¦ĩ\":1524,\"Ġà¦®à§Łà¦¨\":1525,\"à§ľà¦¦\":1526,\"Ġà¦ĵà¦¦\":1527,\"Ġà¦īà¦ķ\":1528,\"Ġà¦ıà¦ķà¦°\":1529,\"à¦¿à¦Ĥ,\":1530,\"à¦īà¦®\":1531,\"Ġà¦ľà¦¨à¦Ĺ\":1532,\"à¦ıà¦ĩà¦ļ\":1533,\"à§¨à§®\":1534,\"Ġà¦Ĩà¦ĩà¦¨à¦®à¦¨\":1535,\"à¦ħà¦§\":1536,\"Ġà¦ĩà¦īà¦¸\":1537,\"à¦Ĩà¦ĩà¦¬\":1538,\"Ġà¦Īà¦¶\":1539,\"à¦Īà¦¦\":1540,\"Ġà¦ĭà¦¤\":1541,\"Ġà¦īà§İà¦¸à¦¬\":1542,\"à¦Ĺà¦ľà¦ªà¦¤\":1543,\"à§Ŀ\":1544,\"à¦ķà§ľ\":1545,\"à¦¸à¦®à¦¤\":1546,\"à¦¯à¦Ĺ\":1547,\"à¦¯à¦Łà¦¨\":1548,\"à¦ªà¦·\":1549,\"Ġà¦®à§Ł\":1550,\"Ġà¦®à¦¤à¦¬\":1551,\"Ġà¦®à¦®à¦¤\":1552,\"à¦¶à¦ª\":1553,\"Ġà¦¨à¦ľ\":1554,\"à¦Ĺà¦ªà¦¤\":1555,\"à¦·à¦¦à¦°\":1556,\"à¦¥à¦Ń\":1557,\"Ġà¦«à¦ľ\":1558,\"Ġà¦Łà¦¸\":1559,\"Ġà§«à§©\":1560,\"Ġà§ªà§©\":1561,\"Ġà§ªà§¯\":1562,\"Ġà¦ªà§ľà¦¤\":1563,\"Ġà¦ªà§ľà¦Ľ\":1564,\"à¦®à¦¸à¦®à¦°\":1565,\"Ġà§¬à§§\":1566,\"Ġà¦ķà¦²à¦®\":1567,\"Ġà¦Ĩà¦¶à¦°\":1568,\"Ġà¦Ľà§Łà¦Ł\":1569,\"à¦°à¦ªà¦°à¦ĵ\":1570,\"à§Łà¦Ń\":1571,\"à¦®à¦Ľ\":1572,\"à¦¸à¦ıà¦¸\":1573,\"à¦Łà¦¦\":1574,\"à¦¯à¦Ł\":1575,\"Ġà¦Ĩà¦ĸà¦¤\":1576,\"à¦¶à¦¦\":1577,\"à¦¶à¦ĩ\":1578,\"à¦Ĺà¦ł\":1579,\"Ġà¦¤à§İà¦ķ\":1580,\"Ġà¦Ĩà¦¨à¦¸\":1581,\"Ġà§«à§§\":1582,\"Ġà§¬à§¯\":1583,\"Ġà¦ħà¦ªà¦¹à¦°à¦£\":1584,\"Ġà¦Ĩà¦²à¦®à¦ķ\":1585,\"Ġà¦Ĩà¦¤à¦Ļ\":1586,\"à§ĩà§Ĺà¦ģ\":1587,\"Ġà¦®à§Łà¦®à¦¨à¦¸\":1588,\"à¦¾:\":1589,\"à¦°à¦Ĺà¦¤\":1590,\"à¦¨à¦Īà¦®\":1591,\"à¦¤à¦Ĺ\":1592,\"à¦¬à¦£\":1593,\"à¦¬à¦ĵ\":1594,\"à¦¬à¦¦à¦²\":1595,\"Ġà¦ķà¦®à¦¨\":1596,\"à¦Łà¦Ľ\":1597,\"Ġà¦¬à¦¦\":1598,\"à¦¶à¦ķà¦¦\":1599,\"Ġà¦ķà¦°à¦¨\":1600,\"à¦·à¦Ł\":1601,\"à¦·à¦Ń\":1602,\"à¦·à¦ķà¦°\":1603,\"à¦Ńà¦®\":1604,\"à¦¡à¦®\":1605,\"à¦£à¦¨\":1606,\"Ġà¦īà¦ĩà¦²\":1607,\"Ġà¦Ĩà¦®à¦²\":1608,\"Ġà¦ľà¦¨à¦¤\":1609,\"Ġà§«à§Ń\":1610,\"à¦ıà¦¨à¦ľ\":1611,\"Ġà§Ńà§®\":1612,\"Ġà¦ħà¦¸à¦®\":1613,\"à¦¸à¦®à§Ł\":1614,\"Ġà¦īà¦łà¦¬\":1615,\"à¦¯à¦¬à¦¦\":1616,\"Ġà¦¸à¦«à¦²à¦¤\":1617,\"à¦Ĩà¦ĩà¦¡\":1618,\"Ġà¦·à¦·\":1619,\"Ġà¦¨à¦ĵà¦¶\":1620,\"Ġ/\":1621,\"à¦°à¦¬à¦¨\":1622,\"à¦¨à¦ª\":1623,\"à¦¨à¦ľà¦Ł\":1624,\"à§Łà¦ĩ\":1625,\"à¦Łà¦¸à¦¹\":1626,\"à¦Łà¦«à¦°\":1627,\"à¦ĩà¦ľà¦¨\":1628,\"à§ľà¦¨\":1629,\"Ġà¦ĵà¦ľà¦¨\":1630,\"à¦£à¦Ń\":1631,\"Ġà¦ĩà¦¬à¦¨\":1632,\"à¦°à¦¤à¦ķ\":1633,\"Ġà¦¸à¦®à¦¬\":1634,\"Ġà¦Ĩà¦®à¦¨\":1635,\"à¦ĩà¦ľà¦®\":1636,\"Ġà¦ıà¦°à¦¶\":1637,\"Ġà¦Ĩà¦¦à¦°\":1638,\"Ġà¦Ĩà¦ĩà¦¨à¦Ĺà¦¤\":1639,\"Ġà¦ıà¦ĸà¦¨à¦ĵ\":1640,\"Ġà§¬à§«\":1641,\"Ġà§¬à§¬\":1642,\"Ġà§®à§¯\":1643,\"Ġà§®à§¬\":1644,\"à¦°à¦¹à¦£à¦¯\":1645,\"Ġà¦Ĩà¦Łà¦Ł\":1646,\"à¦¾;\":1647,\"à¦°à¦°à¦®\":1648,\"à¦¿?\":1649,\"à¦¨à¦¶à¦¨\":1650,\"à¦ķà¦¯\":1651,\"à¦²à¦¡\":1652,\"à¦®à¦Ł\":1653,\"à¦Łà¦®à¦¸\":1654,\"Ġà¦¬à§Ł\":1655,\"à¦ľà¦ĺà¦°\":1656,\"Ġà¦®à¦²\":1657,\"à¦ĩà¦īà¦ľ\":1658,\"Ġà¦¦à¦¤\":1659,\"à¦·à¦¨\":1660,\"Ġà¦ħà¦¦\":1661,\"à¦ļà¦ľà¦¨\":1662,\"à¦ĸà¦¯\":1663,\"Ġà¦ĵà¦ķ\":1664,\"à¦£à¦®\":1665,\"Ġà¦īà¦°\":1666,\"Ġà¦Ńà¦Ł\":1667,\"Ġà¦ĩà¦ľ\":1668,\"Ġà¦ıà¦ķà¦¨\":1669,\"Ġà¦²à¦¡\":1670,\"Ġà¦¸à¦®à¦¤\":1671,\"Ġà¦¸à¦®à¦Ŀ\":1672,\"à¦¬à¦°à¦¦\":1673,\"Ġà¦ĩà¦¨à¦Ń\":1674,\"à¦¹à¦¤à¦¦\":1675,\"Ġà§«à§®\":1676,\"Ġà¦°à§Łà¦Ł\":1677,\"Ġà§¯à§«\":1678,\"Ġà¦Ĩà¦¶à¦ª\":1679,\"à¦Łà¦Ĺà¦²\":1680,\"Ġà§§à§¯à§ª\":1681,\"Ġà¦Ĺà¦£à¦¤\":1682,\"Ġà¦Ĩà¦«à¦°\":1683,\"Ġà¦Ĩà¦¹à¦¤à¦¦\":1684,\"à¦°à¦ĵà§Ł\":1685,\"à¦¿à¦ģ\":1686,\"à¦ķà¦¤à¦°\":1687,\"à¦¤à¦¤à¦®\":1688,\"Ġà¦ķà¦Ł\":1689,\"Ġà¦ķà¦ª\":1690,\"à¦¦à¦ªà¦¤\":1691,\"à§ĭ?\":1692,\"Ġà¦®à¦Ĺà¦¬\":1693,\"Ġà¦¨à¦·\":1694,\"Ġà¦¨à¦°à¦¸\":1695,\"Ġà¦¤à¦¹à¦¬\":1696,\"Ġà¦ľà¦Ĺà¦¤\":1697,\"à¦ļà¦¸\":1698,\"à§ľà¦Ł\":1699,\"Ġà¦īà¦¸\":1700,\"Ġà¦Ńà¦²\":1701,\"Ġà¦ĩà¦®à¦¤\":1702,\"Ġà¦ıà¦ķà¦¥\":1703,\"Ġà¦ıà¦ķà¦ĩà¦¸\":1704,\"Ġà¦ıà¦ķà¦¦à¦²\":1705,\"Ġà¦«à¦¤\":1706,\"Ġà¦Ĩà¦°à¦®\":1707,\"à¦²à¦ķà¦°\":1708,\"Ġà¦īà¦ªà¦ªà¦°\":1709,\"à¦Ĩà¦°à¦ĩ\":1710,\"à¦ļà¦¨à¦ķ\":1711,\"à§©à§ª\":1712,\"à§ªà§«\":1713,\"Ġà§«à§«\":1714,\"Ġà¦ħà¦¬à¦²à¦®\":1715,\"Ġà§ªà§¨\":1716,\"Ġà§¬à§©\":1717,\"à¦ĩà¦«à¦¸\":1718,\"Ġà§§à§¯à§¬\":1719,\"à¦ķà¦¸à¦¹\":1720,\"à¦²à¦ĵ\":1721,\"à¦¤à¦¶\":1722,\"à¦¤à¦°à¦ķ\":1723,\"à¦¬à¦Ĺ\":1724,\"à¦Łà¦ĵ\":1725,\"Ġà¦ªà¦ª\":1726,\"Ġà¦¤à¦«à¦¸\":1727,\"Ġà¦°à¦¹\":1728,\"Ġà¦ħà¦·\":1729,\"Ġà¦ļà¦®à¦ķ\":1730,\"Ġà¦īà¦¸à¦ķ\":1731,\"Ġà¦ĩà¦¬\":1732,\"Ġà¦ĩà¦«à¦¤\":1733,\"Ġà¦ĸà¦¤\":1734,\"à§Ĥà¦ģ\":1735,\"à¦īà¦Łà¦°\":1736,\"Ġà¦Ĩà¦°à¦ª\":1737,\"à¦Ĩà¦īà¦Ł\":1738,\"à§¨à§Ń\":1739,\"Ġà¦ıà¦¸à¦ıà¦®\":1740,\"à¦°à¦§à¦°\":1741,\"Ġà¦¬à¦°à¦«\":1742,\"à¦°à¦¹à¦£à¦ķ\":1743,\"Ġà¦ķà§Łà¦²\":1744,\"Ġà¦Ĺà¦£à¦ªà¦°\":1745,\"Ġà¦ªà¦¥à¦ļ\":1746,\"Ġà¦Ĩà¦¹à¦¬\":1747,\"Ġà§¨à§¦à§¦à§¯\":1748,\"Ġà§¨à§¦à§¦à§Ń\":1749,\"à¦ķà¦¸à¦ĩ\":1750,\"à¦¸à¦Ńà¦¬à¦¨\":1751,\"à¦¬à¦ľà¦¨à¦°\":1752,\"Ġà¦ķà¦®à¦¨à¦ĵà§Ł\":1753,\"Ġà¦ıà¦ķà¦ĩà¦¸à¦Ļ\":1754,\"à¦¿.\":1755,\"à¦¬à¦ľ\":1756,\"à¦¬à¦¦à¦¨\":1757,\"Ġà¦ķà¦ĩ\":1758,\"Ġà¦ķà¦«\":1759,\"à¦¦à¦Ł\":1760,\"Ġà¦Ĩà¦ĩà¦°\":1761,\"à¦ľà¦Ĺà¦ŀ\":1762,\"à¦ľà¦īà¦¦\":1763,\"Ġà¦®à¦£\":1764,\"Ġà¦®à§İà¦¸\":1765,\"Ġà¦ıà¦°à¦ķà¦®\":1766,\"Ġà¦°à¦£à¦¬\":1767,\"Ġà¦ľà¦¸\":1768,\"Ġà¦ħà¦¬à¦¨\":1769,\"Ġà¦ħà¦ĺ\":1770,\"à§ľà¦°\":1771,\"Ġà¦²à¦°\":1772,\"Ġà¦²à¦¸\":1773,\"à¦łà¦®\":1774,\"à¦īà¦ª\":1775,\"Ġà§¨à§¦à§¨à§¦\":1776,\"à¦¦à¦¨à¦Ł\":1777,\"à¦°à¦¸à¦°\":1778,\"à§¨à§«\":1779,\"Ġà¦īà¦¦à¦¯\":1780,\"Ġà¦¸à¦¬à¦ĩ\":1781,\"Ġà§«à§ª\":1782,\"Ġà§¬à§®\":1783,\"à¦Łà¦ķà¦®\":1784,\"Ġà§¯à§¨\":1785,\"Ġà§®à§®\":1786,\"Ġà¦īà¦łà¦Ľ\":1787,\"Ġà¦¦à¦°à¦ľ\":1788,\"Ġà¦²à§ľà¦¬\":1789,\"Ġà¦¹à¦ľà¦°à¦¤\":1790,\"à¦Ĺà¦łà¦¨à¦Ł\":1791,\"Ġà¦ħà¦¬à¦¨à¦¤\":1792,\"à¦¾!\":1793,\"à§ĩ;\":1794,\"à¦°à¦ļà¦²\":1795,\"à¦¿!\":1796,\"à¦¨à¦Ľ\":1797,\"à¦¨à¦ľà¦°\":1798,\"à¦²à¦¹\":1799,\"à¦¬à¦Ń\":1800,\"à¦¬à§Łà¦ķ\":1801,\"Ġà¦¬à¦ĩà§Ł\":1802,\"à¦¯à¦§\":1803,\"à¦¯à¦Łà¦ķ\":1804,\"à¦ľà¦ķà¦²\":1805,\"à¦ĩà¦ıà¦¸\":1806,\"Ġà¦¨à§ľ\":1807,\"à¦Ĺà¦¸\":1808,\"à¦¹à¦ķà¦¦\":1809,\"Ġà¦¤à¦²à¦¬\":1810,\"Ġà¦°à¦¹à¦¸\":1811,\"Ġà¦¶à¦Ļ\":1812,\"Ġà¦ĵà¦²\":1813,\"Ġà¦ĩà¦¦\":1814,\"Ġà¦ĩà¦Ļ\":1815,\"Ġà¦ĩà¦®à¦¨\":1816,\"à¦¶à¦¨à¦¸\":1817,\"à¦¾à¦ģ,\":1818,\"Ġà¦Ĩà¦²à¦¤\":1819,\"à¦Ĩà¦°à¦¸\":1820,\"à¦Ĩà¦°à¦ª\":1821,\"à¦ĺà§ľ\":1822,\"à§©à§¨\":1823,\"Ġà§ªà§§\":1824,\"Ġà¦ıà¦²à¦¬\":1825,\"Ġà¦¸à¦°à¦¦\":1826,\"à¦ĩà¦²à¦«\":1827,\"à¦ıà¦¨à¦¡\":1828,\"à¦¼à¦¿\":1829,\"à¦Ĺà¦¤à¦Ń\":1830,\"Ġà§¯à§¯\":1831,\"Ġà§®à§Ń\":1832,\"à¦¨à¦¬à¦¤\":1833,\"Ġà¦¶à¦¤à¦ķ\":1834,\"à¦ħà¦ª\":1835,\"Ġà¦ıà¦ķà¦ľà¦¨à¦ķ\":1836,\"Ġà¦Ĩà¦Łà¦ķà¦ķ\":1837,\"Ġà§¨à§¦à§¦à§®\":1838,\"Ġà¦ıà¦«à¦ıà¦®\":1839,\"à¦¬à¦ľà¦¨à¦¦\":1840,\"Ġà¦ªà¦°à¦ªà¦°à¦ĩ\":1841,\"à¦ķà¦ĩ\":1842,\"à¦²à¦ļ\":1843,\"à¦¸à¦Ĺ\":1844,\"à¦¸à¦ĵ\":1845,\"Ġà¦¸à¦ĩ\":1846,\"à¦¦à¦¤\":1847,\"à¦ªà¦ŀ\":1848,\"à¦ªà¦Ĺà¦ŀ\":1849,\"Ġà¦Ĩà¦ĩà¦ľ\":1850,\"Ġà¦Ĩà¦ªà¦¤\":1851,\"à¦¶à¦¸\":1852,\"à¦ĩà¦ĵà§Ł\":1853,\"Ġà¦¹à¦°\":1854,\"Ġà¦¨à§Łà¦¨\":1855,\"à¦¹à§İ\":1856,\"à¦ļà¦ķà¦°\":1857,\"à¦ļà¦ķà¦¦\":1858,\"Ġà¦Ĺà¦Ńà¦°\":1859,\"à¦ĸà¦ª\":1860,\"Ġà¦īà¦ĩà¦¨\":1861,\"Ġà¦ıà¦ķà¦ķ\":1862,\"Ġà¦ıà¦ķà¦¶\":1863,\"Ġà¦²à¦ľ\":1864,\"Ġà¦Łà¦²\":1865,\"Ġà¦¸à¦®à¦¯\":1866,\"Ġà¦ıà¦ĩà¦¡\":1867,\"à¦¶à¦¨à¦ķ\":1868,\"à¦¦à¦¨à¦ķ\":1869,\"à§¨à§¬\":1870,\"Ġà¦ķà¦®à¦ªà¦ķ\":1871,\"à§©à§«\":1872,\"Ġà¦¸à¦¹à¦ķà¦°\":1873,\"Ġà§«à§¨\":1874,\"à¦°à¦¦à¦²\":1875,\"Ġà¦ªà§ľà¦¬\":1876,\"Ġà§Ńà§ª\":1877,\"Ġà§®à§ª\":1878,\"à¦ıà¦¸à¦¡\":1879,\"à¦®à¦¦à¦ª\":1880,\"Ġà¦ıà¦°à¦ªà¦°à¦ĩ\":1881,\"Ġà¦¸à¦«à¦°à¦ķ\":1882,\"Ġà§©à§¦à§¦\":1883,\"Ġà§§à§ªà§¯\":1884,\"à§İà¦ªà¦°à¦¤\":1885,\"à¦¨à¦ļà¦°\":1886,\"Ġà¦¹à¦ľà¦¯\":1887,\"Ġà§§à§¯à§Ńà§§\":1888,\"à§ĩ:\":1889,\"à¦²à¦¯\":1890,\"à§Łà¦¸à¦²\":1891,\"à¦®à¦«\":1892,\"Ġà¦ķà¦Ļ\":1893,\"à¦Łà¦Ń\":1894,\"Ġà¦¬à¦Ĺ\":1895,\"à¦¦à¦¬\":1896,\"à¦ªà¦¶\":1897,\"à¦ľà¦Ľ\":1898,\"à¦ľà¦īà¦ķ\":1899,\"Ġà¦®à¦ķ\":1900,\"Ġà¦®à¦ĵà¦¦\":1901,\"Ġà¦ħà¦¸à¦¹\":1902,\"à¦§à¦ķà¦¤\":1903,\"à¦ļà¦¬\":1904,\"à¦¥à¦¬\":1905,\"à¦¡à¦ª\":1906,\"Ġà¦ĵà¦®à¦°\":1907,\"à¦£à¦ª\":1908,\"Ġà¦Ńà¦°à¦¸\":1909,\"Ġà¦ĩà¦ıà¦¸à¦ª\":1910,\"Ġà¦«à¦¸à¦²\":1911,\"Ġà¦¡à¦Łà¦ķà¦®\":1912,\"Ġà¦§à¦°à¦¤\":1913,\"à¦²à¦¤à¦ķ\":1914,\"Ġà¦¸à¦®à§Łà¦ĩ\":1915,\"à¦¯à¦®à¦ķ\":1916,\"à¦¬à¦ķà¦ķ\":1917,\"à§İà¦¸à¦ķà¦°\":1918,\"Ġà§®à§«\":1919,\"Ġà¦ıà¦¤à¦¦\":1920,\"Ġà¦ıà¦®à¦¡\":1921,\"à¦ıà¦®à¦¬\":1922,\"à¦ıà¦®à¦ĩ\":1923,\"Ġà¦¶à¦¤à¦Ń\":1924,\"à¦ĩà¦Łà¦¸\":1925,\"Ġà¦Ŀà¦°\":1926,\"Ġà¦¹à¦ķà¦ķ\":1927,\"à¦¿),\":1928,\"à¦¤à¦ļ\":1929,\"à¦¤à¦¬à¦°\":1930,\"à¦¬à¦¬à¦°\":1931,\"à¦®à¦£\":1932,\"à¦®à¦¸à¦¹\":1933,\"Ġà¦¸à¦ľ\":1934,\"Ġà¦¬à¦ŀ\":1935,\"Ġà¦¬à¦¦à¦°\":1936,\"Ġà¦¬à¦¹à¦¨\":1937,\"Ġà¦ªà¦¡\":1938,\"à¦ªà¦ľ\":1939,\"Ġà¦Ĩà¦ĩà¦ª\":1940,\"Ġà¦¨à¦ĩ\":1941,\"à¦Ľà¦¤\":1942,\"à¦¹à¦£\":1943,\"à¦¹à¦¤à¦°\":1944,\"Ġà¦ħà¦¹\":1945,\"à¦§à¦¦\":1946,\"à¦ļà§ľ\":1947,\"à¦ļà¦Ĺà§ľ\":1948,\"à¦¡à¦Ł\":1949,\"Ġà¦Ĺà¦ľ\":1950,\"à¦ĸà¦¬à¦°\":1951,\"Ġà¦ļà¦®\":1952,\"à¦ĵà¦ª\":1953,\"à¦ĵà¦ĵà¦¸\":1954,\"Ġà¦īà§İ\":1955,\"Ġà¦²à¦ŀ\":1956,\"Ġà¦ľà¦¨à¦¨\":1957,\"à¦ŀà¦°\":1958,\"Ġà¦Ĩà¦°à¦ıà¦ķ\":1959,\"Ġà§¨à§¦à§§à§¯\":1960,\"à¦¦à¦ķà¦¦\":1961,\"à¦¦à¦¨à¦¶\":1962,\"Ġà¦¦à¦²à¦¬à¦¦à¦²\":1963,\"Ġà¦®à¦¨à¦ľ\":1964,\"à¦ĺà¦®\":1965,\"Ġà¦Ĩà¦ĩà¦¨à¦Ł\":1966,\"à§ªà§§\":1967,\"Ġà§Ńà§¯\":1968,\"Ġà§Ńà§¬\":1969,\"Ġà¦¸à¦ķà¦²à¦ķ\":1970,\"Ġà§¯à§ª\":1971,\"à¦¸à¦¨à¦ķ\":1972,\"à¦ıà¦®à¦ıà¦®\":1973,\"Ġà§§à§¯à§«\":1974,\"Ġà¦¶à¦¤à¦¤à¦®\":1975,\"à¦ħà¦Ń\":1976,\"Ġà§§à§¨à§¦\":1977,\"Ġà§§à§¨à§ª\":1978,\"à¦®à¦¬à¦Ļ\":1979,\"Ġà¦ĺà¦Łà¦¬\":1980,\"Ġà¦ĺà¦Łà¦Ľ\":1981,\"Ġà§©à§¦à§¨\":1982,\"Ġà§§à§«à§¦\":1983,\"Ġà¦ĸà¦¬à¦°à¦Ł\":1984,\"Ġà¦ľà¦¨à¦Ĺà¦£à¦ķ\":1985,\"Ġà¦ıà¦«à¦¬\":1986,\"à¦ĩà¦²à¦«à¦²à¦ķ\":1987,\".)\":1988,\"à¦ķà§Ł\":1989,\"à¦ķà¦ĵà§Ł\":1990,\"à¦ķà¦®à¦¤\":1991,\"à¦ķà¦ľà¦¨à¦ķ\":1992,\"à¦¤à¦ĩ\":1993,\"à¦¤à¦ªà¦ķ\":1994,\"à§Łà¦ª\":1995,\"Ġà¦¸à¦¡\":1996,\"à¦Łà¦¹\":1997,\"Ġà¦¬à¦¡\":1998,\"à¦¦à¦¸à¦¹\":1999,\"à§ĭ!\":2000,\"à¦¯à¦ľ\":2001,\"à¦¯à¦¸à¦¹\":2002,\"à¦ªà¦®\":2003,\"à¦ªà¦¯\":2004,\"à¦ªà¦Łà¦¨\":2005,\"à¦ľà¦ĵ\":2006,\"Ġà¦®à¦¦\":2007,\"à¦ĩà¦ľà¦¨à¦ķ\":2008,\"Ġà¦ķà¦°à¦£\":2009,\"Ġà¦¤à§İà¦ªà¦°à¦¤\":2010,\"Ġà¦°à¦ļ\":2011,\"Ġà¦ħà¦®à¦¨\":2012,\"à¦ļà¦ĩ\":2013,\"à¦ļà¦²à¦ķ\":2014,\"à¦Ńà¦ķ\":2015,\"Ġà¦Ĺà¦ŀ\":2016,\"Ġà¦ļà¦ķà¦°\":2017,\"Ġà¦īà¦ĩà¦®\":2018,\"Ġà¦ªà¦°à¦¦\":2019,\"à§¦à§§\":2020,\"Ġà¦ıà¦ķà¦®à¦¤\":2021,\"à¦łà¦¶\":2022,\"à¦°à¦ķà¦°\":2023,\"à¦°à¦ķà¦¨\":2024,\"Ġà¦ľà¦¨à¦¸à¦Ń\":2025,\"à¦ıà¦®à¦¸\":2026,\"à¦ıà¦ķà¦Ł\":2027,\"Ġà¦īà¦ªà¦Ń\":2028,\"Ġà¦īà¦¦à§Ł\":2029,\"Ġà¦īà¦¦à¦ĺ\":2030,\"Ġà¦ıà¦¸à¦ª\":2031,\"à¦°à¦¬à¦£à¦¤\":2032,\"à¦²à§Łà¦ķ\":2033,\"Ġà¦§à¦°à¦²\":2034,\"Ġà¦ħà¦¬à¦®\":2035,\"à§Ńà§®\":2036,\"Ġà§¬à§¨\":2037,\"à¦°à¦¨à¦¬\":2038,\"Ġà§¯à§®\":2039,\"Ġà§¯à§¬\":2040,\"Ġà¦ıà¦®à¦ı\":2041,\"Ġà¦ıà¦®à¦ĩà¦ıà¦¸\":2042,\"à¦ıà¦¸à¦Ĩà¦ĩ\":2043,\"Ġà¦ľà§Łà¦¦\":2044,\"Ġà¦ĺà¦Łà¦²\":2045,\"à¦¨à§Łà¦¶\":2046,\"Ġà¦ıà¦¨à¦¡\":2047,\"Ġà¦¸à¦¤à¦¤\":2048,\"Ġà§§à§®à§¦\":2049,\"Ġà§¨à§¦à§¦à§«\":2050,\"Ġà§¨à§«à§¦\":2051,\"Ġà¦īà¦Ńà§Łà¦ªà¦ķ\":2052,\"az\":2053,\"Ġ-\":2054,\"Ġà¦Ķ\":2055,\"à¦ķà¦ľ\":2056,\"à¦¤à¦Ľ\":2057,\"à¦¤à¦ķà¦°\":2058,\"à¦¬à¦°à¦¤\":2059,\"à¦¬à¦¤à¦²\":2060,\"à¦®à¦£à¦¬\":2061,\"à¦¸à¦īà¦¦\":2062,\"Ġà¦¬à¦£\":2063,\"Ġà¦ªà¦Ļ\":2064,\"à¦¯à¦¹\":2065,\"à¦ªà¦Ĺ\":2066,\"Ġà¦Ĩà¦ĩà§Ł\":2067,\"Ġà¦®à¦Ĺ\":2068,\"à¦ĩà¦®à¦¸\":2069,\"à¦Ľà¦Ĺ\":2070,\"à¦Ĺà¦ĵ\":2071,\"à¦Ĺà¦¸à¦¹\":2072,\"Ġà¦ħà¦¯\":2073,\"à¦ļà¦¦\":2074,\"à¦ļà¦¶\":2075,\"à¦ļà§Łà¦¤\":2076,\"Ġà¦¶à¦¯\":2077,\"à¦¥à¦ª\":2078,\"à¦Ńà¦¸\":2079,\"à¦Ńà¦Ļ\":2080,\"à¦¡à¦°\":2081,\"à¦¡à¦Ĺ\":2082,\"Ġà¦Ĺà¦®\":2083,\"Ġà¦ļà¦²à¦¨\":2084,\"à§ľà¦ªà¦¤\":2085,\"Ġà¦īà¦®\":2086,\"à¦«à¦¨\":2087,\"Ġà¦ĩà¦¸à¦®\":2088,\"Ġà¦ĩà¦¹à¦¸\":2089,\"Ġà¦ıà¦ķà¦¯\":2090,\"à¦īà¦¤\":2091,\"à¦īà¦¶à¦¨\":2092,\"Ġà§¨à§¦à§ªà§§\":2093,\"à¦ľà¦¨à¦ĩ\":2094,\"à¦ĩà¦¨à¦¬\":2095,\"à¦ĩà¦¨à¦Ł\":2096,\"à¦¦à¦¨à¦ªà¦¤\":2097,\"Ġà¦ĩà¦¨à¦«\":2098,\"à§©à§®\":2099,\"Ġà¦®à¦¹à¦¸\":2100,\"Ġà§«à§¯\":2101,\"Ġà¦Ĩà¦ľà¦®\":2102,\"Ġà¦°à¦¹à¦®à¦¤\":2103,\"Ġà§Ńà§©\":2104,\"Ġà¦¸à¦¨à¦¦\":2105,\"Ġà¦ıà¦¤à¦Ł\":2106,\"Ġà¦ħà¦ªà¦¬\":2107,\"Ġà¦ħà¦ªà¦ª\":2108,\"Ġà¦Ĺà¦£à¦¶\":2109,\"Ġà¦¸à¦«à¦Łà¦ĵà§Ł\":2110,\"à¦Ńà¦¬à¦¤\":2111,\"Ġà¦ľà¦¨à¦ªà¦¥\":2112,\"Ġà§¨à§¦à§¦à§ª\":2113,\"Ġà§¨à§¦à§¦à§¬\":2114,\"Ġà¦ħà¦²à¦Ĩà¦īà¦Ł\":2115,\"à¦ĩà¦¦à¦¹\":2116,\"Ġà¦¯à¦¤à¦Ł\":2117,\"Ġà¦®à¦¸à¦ľ\":2118,\"à¦ıà¦ĩà¦ļà¦¡\":2119,\"Ġà¦ļà¦®à§İà¦ķ\":2120,\"à¦°à¦¥\":2121,\"à¦°à¦ľà¦¨à¦ķ\":2122,\"à¦²à¦ĸ\":2123,\"à¦¤à¦ľà¦¨\":2124,\"à¦¤à¦Ĺà¦¤\":2125,\"à¦¬à¦Ľ\":2126,\"à¦¬à¦Ĺà¦ŀ\":2127,\"Ġà¦¬à¦¶\":2128,\"Ġà¦¬à¦ĩà¦Ł\":2129,\"à¦¦à¦¹\":2130,\"à§ĭà¦ĥ\":2131,\"à¦¯à¦¯\":2132,\"à¦ªà¦ĵ\":2133,\"Ġà¦Ĩà¦ĩà¦Ł\":2134,\"à¦ľà¦¦\":2135,\"à¦ľà¦ĩ\":2136,\"à¦ľà¦¸à¦¹\":2137,\"à¦¶à¦ĵ\":2138,\"Ġà¦ıà¦ıà¦«\":2139,\"à¦ĩà¦ªà¦°\":2140,\"Ġà¦¹à¦¨à¦¨\":2141,\"Ġà¦¨à¦¸\":2142,\"à¦Ĺà¦ª\":2143,\"à¦Ĺà¦ĩ\":2144,\"Ġà¦¦à¦¸\":2145,\"Ġà¦°à¦¤\":2146,\"Ġà¦°à¦¤à¦¨\":2147,\"Ġà¦ħà¦ľà§Ł\":2148,\"à¦ļà¦Ĺ\":2149,\"Ġà¦¶à¦Łà¦Ĺ\":2150,\"à¦¥à¦ķà¦¦\":2151,\"à¦Ńà¦¬à¦¨\":2152,\"Ġà¦Ĺà¦¡\":2153,\"à§ľà¦¹\":2154,\"Ġà¦ĵà¦ĸ\":2155,\"Ġà¦ªà¦°à¦®\":2156,\"Ġà¦ªà¦°à¦¸\":2157,\"à¦«à¦ķ\":2158,\"à¦«à§Łà¦¸à¦²\":2159,\"à§¦à§®\":2160,\"Ġà¦ĩà¦Ł\":2161,\"Ġà¦ĩà¦°à¦«\":2162,\"Ġà¦²à¦Ł\":2163,\"Ġà¦²à¦¬à¦£\":2164,\"Ġà¦Łà¦Ł\":2165,\"Ġà¦¸à¦®à¦ķ\":2166,\"Ġà¦Ĩà¦®à¦¬\":2167,\"à¦īà¦ĩ\":2168,\"à¦īà¦ļ\":2169,\"Ġà¦ľà¦¨à¦®à¦¨\":2170,\"Ġà¦ľà¦¨à¦¬à¦²\":2171,\"Ġà¦¡à¦¬\":2172,\"Ġà§¨à§¦à§¨à§§\":2173,\"à¦ĩà¦¨à¦ķ\":2174,\"à¦Łà¦¨à¦ķ\":2175,\"à§Łà¦¨à¦¦\":2176,\"à¦¬à¦¨à¦®\":2177,\"à¦°à¦¸à¦®\":2178,\"à§Į-\":2179,\"Ġà¦¸à¦®à§Łà¦ķ\":2180,\"à¦°à¦¬à¦²\":2181,\"à¦·à§Łà¦Ĺ\":2182,\"Ġà¦¸à¦¹à¦ª\":2183,\"à¦¸à¦²à¦®\":2184,\"Ġà¦¸à¦°à¦ŀ\":2185,\"Ġà¦¸à§ľà¦ķà¦Ł\":2186,\"Ġà§Ńà§Ń\":2187,\"Ġà§Ńà§¦à§¦\":2188,\"Ġà§§à§¦à§¨\":2189,\"Ġà¦¨à§Łà¦Ł\":2190,\"Ġà¦¬à§ľà¦¦\":2191,\"Ġà¦Ĩà¦ķà¦¨\":2192,\"Ġà¦Ĩà¦ķà¦¬à¦°\":2193,\"Ġà¦Ŀà¦°à¦¨\":2194,\"Ġà¦¬à¦¸à¦¤\":2195,\"Ġà¦Ĩà¦«à¦¤\":2196,\"Ġà¦ıà¦¨à¦ª\":2197,\"Ġà¦Ĺà§ľà¦¤\":2198,\"Ġà§§à§«à§¯\":2199,\"Ġà¦¤à¦ĸà¦¨à¦ĩ\":2200,\"Ġà¦¬à§Łà¦¸à¦¸\":2201,\"à¦ķà¦¶à¦ª\":2202,\"à¦²à¦ªà¦®\":2203,\"à¦²à¦ªà¦¥\":2204,\"Ġà¦ķà¦ĸà¦¨à¦ĵ\":2205,\"Ġà¦Ĩà¦ªà¦¡\":2206,\"...\":2207,\"à¦ĩà¦ĵà¦Ń\":2208,\")-\":2209,\"à§ĩ.\":2210,\"à¦°à¦·\":2211,\"à¦¨à¦ĵà§Ł\":2212,\"à¦ķà¦ĵ\":2213,\"à¦²à¦ĩ\":2214,\"à¦²à¦®à¦¨\":2215,\"à¦¤à¦ĵ\":2216,\"à¦¤à¦¸à¦¤\":2217,\"à¦¬à§ľ\":2218,\"à¦¬à¦ªà¦¨\":2219,\"à§Łà¦Ł\":2220,\"à¦®à¦ľ\":2221,\"Ġà¦¸à¦¸\":2222,\"Ġà¦ķà§ľ\":2223,\"à¦Łà¦¶\":2224,\"à¦¦à¦«\":2225,\"à§ĭ|>\":2226,\"Ġà¦ªà¦¤à¦¨\":2227,\"à¦¯à¦Ń\":2228,\"à¦ªà¦¬\":2229,\"à¦ªà¦²à¦¸\":2230,\"Ġà¦Ĩà¦Ń\":2231,\"à¦ľà¦ķà¦¤\":2232,\"à¦¶à§Ł\":2233,\"à¦¶à¦®\":2234,\"Ġà¦ıà¦®à¦¸\":2235,\"Ġà¦¨à¦ķ\":2236,\"Ġà¦¨à¦Ĺà¦¦\":2237,\"à¦Ľà¦²\":2238,\"à¦Ĺà¦¡\":2239,\"à¦Ĺà¦¨à¦¸\":2240,\"à¦·à¦Ĺ\":2241,\"Ġà¦¤à¦¨\":2242,\"Ġà¦¤à¦ªà¦¨\":2243,\"Ġà¦ľà¦ķ\":2244,\"Ġà¦ħà¦°à¦¬\":2245,\"à¦§à¦®\":2246,\"à¦§à¦¶\":2247,\"Ġà¦¶à¦ĵ\":2248,\"à¦ĸà¦Ł\":2249,\"Ġà¦ĵà¦¨\":2250,\"Ġà¦ĵà¦Ł\":2251,\"Ġà¦īà¦ĸ\":2252,\"Ġà¦¥à¦®\":2253,\"Ġà¦ĩà¦¸à¦°\":2254,\"Ġà¦ıà¦ķà¦¤\":2255,\"Ġà¦«à¦ķ\":2256,\"Ġà¦«à¦°à¦¹\":2257,\"Ġà¦«à¦Łà¦ķ\":2258,\"Ġà¦«à§Łà¦¸\":2259,\"Ġà¦Łà¦ª\":2260,\"Ġà¦ĸà¦°\":2261,\"Ġà¦Ĩà¦Ĺà¦¤\":2262,\"à¦°à¦£à¦¤\":2263,\"à¦ıà¦¬\":2264,\"à¦ıà¦ª\":2265,\"Ġà¦ĺà§ľ\":2266,\"Ġà¦§à¦¸\":2267,\"à¦¶à¦¨à¦Ł\":2268,\"Ġà¦¸à¦®à§Łà¦Ł\":2269,\"à¦Ĩà¦²\":2270,\"à§İà¦«\":2271,\"à¦ĺà¦¶\":2272,\"Ġà¦Ĺà¦¤à¦¬\":2273,\"à§ªà§©\":2274,\"à¦¶à¦ķà¦ª\":2275,\"Ġà§¯à§Ń\":2276,\"à¦·à¦ķà¦ķ\":2277,\"à¦ĩà§Łà¦°\":2278,\"à¦ħà¦¨\":2279,\"Ġà§§à§¨à§«\":2280,\"Ġà¦Ĺà¦£à¦Ńà¦¬à¦¨\":2281,\"à¦°à¦ļà¦°\":2282,\"Ġà¦Ĩà¦«à¦ľ\":2283,\"Ġà§§à§®à§¨\":2284,\"à¦ļà§Łà¦ĩ\":2285,\"Ġà¦¨à¦¬à¦®\":2286,\"Ġà¦Ĩà¦Łà¦ľà¦¨\":2287,\"à§§à§¯à§¯\":2288,\"Ġà§§à§¯à§¯à§¦\":2289,\"Ġà§§à§¯à§Ńà§«\":2290,\"Ġà¦¨à¦ľà¦°à¦¦\":2291,\"à¦Ĩà¦°à¦ĩà¦ī\":2292,\"Ġà¦¶à¦ĵà¦ķà¦¤\":2293,\"Ġ'\":2294,\"Ġ...\":2295,\"à¦ķà¦¹\":2296,\"à¦²à¦ĺ\":2297,\"à¦®à¦ĸ\":2298,\"à¦¸à¦Ĩà¦°\":2299,\"à¦¸à¦Ĩà¦ª\":2300,\"Ġà¦¸à§İ\":2301,\"Ġà¦¸à¦ĵà¦¦\":2302,\"Ġà¦¬à¦ļ\":2303,\"Ġà¦¬à¦īà¦®\":2304,\"à¦ªà¦ªà¦°\":2305,\"Ġà¦Ĩà¦¬à¦°\":2306,\"à¦ľà¦¹\":2307,\"Ġà¦®à¦°à¦¹\":2308,\"Ġà¦®à¦ľà¦¬\":2309,\"Ġà¦ıà¦¨à¦¬\":2310,\"Ġà¦¹à¦Ł\":2311,\"Ġà¦¹à¦ĩ\":2312,\"à¦Ĺà¦²à¦ķ\":2313,\"Ġà¦¤à¦°à¦²\":2314,\"Ġà¦°à¦ĵà¦¨\":2315,\"Ġà¦¶à¦ª\":2316,\"à¦Ńà¦°à¦¶\":2317,\"Ġà¦Ĺà¦¦\":2318,\"Ġà¦Ĺà¦¹à¦¨\":2319,\"Ġà¦ĵà¦¯\":2320,\"à¦£à¦°\":2321,\"à¦£à¦¹\":2322,\"à¦ĵà¦®\":2323,\"Ġà¦Ńà¦Ļ\":2324,\"Ġà¦ĩà¦®à¦ª\":2325,\"à¦°à¦¤à¦¬à¦°\":2326,\"Ġà¦ıà¦ķà¦ĩà¦Ń\":2327,\"Ġà¦ıà¦ķà¦¸à¦®à§Ł\":2328,\"à¦īà¦ĩà§Łà¦°\":2329,\"Ġà¦ľà¦¨à¦¦\":2330,\"Ġà¦¡à¦ķ\":2331,\"Ġà¦Ĩà¦Ĺà¦®à¦¨\":2332,\"à¦ľà¦¨à¦¦\":2333,\"à¦ıà¦¡\":2334,\"à¦¬à¦¨à¦¯\":2335,\"à¦ªà¦¨à¦ķ\":2336,\"à¦ªà¦¨à¦Ĺà¦°\":2337,\"à¦°à¦®à¦¶\":2338,\"à¦°à¦®à¦§\":2339,\"à¦²à¦ķà¦¸à¦¹\":2340,\"Ġà¦Ĩà¦¨à¦¬\":2341,\"à¦¬à¦¸à¦¹\":2342,\"à¦²à¦¤à¦ª\":2343,\"Ġà¦ıà¦¸à¦¡\":2344,\"Ġà¦¸à¦¬à¦ľ\":2345,\"Ġà¦ĩà¦¨à¦ķ\":2346,\"à¦²à§Łà¦Ĺ\":2347,\"à¦¸à¦¹à¦ķ\":2348,\"à§Ńà§§\":2349,\"à§¬à§¦\":2350,\"à§¬à§®\":2351,\"à¦¼,\":2352,\"à¦¼à§ĭ\":2353,\"à§İà¦¸à¦ķà¦¦\":2354,\"Ġà§¯à§©\":2355,\"Ġà§®à§©\":2356,\"à¦ıà¦®à¦ı\":2357,\"à¦§à¦¨à¦ķ\":2358,\"Ġà¦ħà¦ªà¦¸\":2359,\"Ġà¦Ŀà¦Ĺà§ľ\":2360,\"Ġà¦Ĺà¦£à¦ª\":2361,\"Ġà¦Ĺà¦£à¦¹à¦¤\":2362,\"à¦°à¦ļà¦£\":2363,\"Ġà¦ıà¦¨à¦ĩà¦¸\":2364,\"Ġà§§à§ªà§Ń\":2365,\"Ġà§§à§¬à§¦\":2366,\"Ġà§¨à§¦à§¦à§©\":2367,\"Ġà§¨à§¦à§¦à§§\":2368,\"à¦Ĺà¦łà¦¨à¦Ĺ\":2369,\"Ġà¦ķà¦¨à¦ľ\":2370,\"Ġà§ªà§¦à§¦\":2371,\"Ġà¦Ĩà¦Łà¦ĺà¦°\":2372,\"à§¦à§¦à§¦\":2373,\"à¦°à¦ľà¦¨à¦¨\":2374,\"Ġà§§à§¯à§¯à§¬\":2375,\"Ġà§§à§§à§¦\":2376,\"Ġà¦¨à¦ĵà¦Ĺ\":2377,\"Ġà§§à§¯à§®à§©\":2378,\"à¦¯à¦Łà¦ķà¦¦\":2379,\"Ġà¦ıà¦ıà¦«à¦¸\":2380,\"co\":2381,\"à¦°à¦¦à¦ķ\":2382,\"à¦¨à¦¯\":2383,\"à¦¨à¦«\":2384,\"à¦¨à¦īà¦²\":2385,\"à¦¤à¦¸à¦¹\":2386,\"à¦¬à¦ķà¦¦\":2387,\"à§Łà¦®à¦¨\":2388,\"à§Łà¦¬à¦¦\":2389,\"à¦®à¦®\":2390,\"à¦®à¦ªà¦°\":2391,\"Ġà¦¸à¦¶\":2392,\"Ġà¦ķà¦ļ\":2393,\"Ġà¦¬à¦Ł\":2394,\"à¦¯à§İ\":2395,\"à¦ªà§Ł\":2396,\"à¦ªà¦ª\":2397,\"à¦ªà¦®à¦¨\":2398,\"à¦ªà¦¶à¦¨\":2399,\"Ġà¦®à¦Łà¦°\":2400,\"à§Ģ?\":2401,\"à¦¶à¦ľ\":2402,\"Ġà¦ıà¦¹\":2403,\"Ġà¦ıà¦ıà¦¸à¦ª\":2404,\"Ġà¦ıà¦°à¦®à¦§\":2405,\"Ġà¦¹à¦ľà¦®\":2406,\"Ġà¦¨à¦¥\":2407,\"Ġà¦¨à¦¬à¦¨\":2408,\"Ġà¦¨à¦ķà¦²\":2409,\"Ġà¦¨à¦ķà¦¶\":2410,\"à¦Ľà§ľ\":2411,\"à¦Ĺà¦Ł\":2412,\"à¦Ĺà¦«\":2413,\"à¦¹à¦¦\":2414,\"à¦¹à¦ĺà§ľ\":2415,\"Ġà¦¶à¦°à¦£\":2416,\"à¦ĸà¦¸\":2417,\"à¦ĸà¦ľà¦¨à¦ķ\":2418,\"à§ľà¦²\":2419,\"à¦£à¦ķ\":2420,\"à¦£à¦®à¦¨\":2421,\"Ġà¦īà¦·\":2422,\"à¦«à¦²à¦¨\":2423,\"à§¦à§¯\":2424,\"à¦Ļà¦²\":2425,\"Ġà¦¸à¦®à¦Ĺ\":2426,\"à¦īà¦ĩà¦¨\":2427,\"à¦īà¦¦à¦ķ\":2428,\"Ġà¦ľà¦¨à¦¸à¦®\":2429,\"à¦ıà¦Ł\":2430,\"à¦ıà¦«à¦Ł\":2431,\"à¦ĩà¦¨à¦®\":2432,\"Ġà¦§à¦°à¦£\":2433,\"à¦¦à¦ķà¦°\":2434,\"à¦¬à¦¸à¦®\":2435,\"à¦¬à¦¸à¦Ł\":2436,\"Ġà¦¦à¦²à¦ĩ\":2437,\"Ġà¦®à¦¨à¦¸\":2438,\"Ġà¦®à¦¨à¦ª\":2439,\"Ġà§©à§¨à§¦\":2440,\"Ġà¦ļà¦²à¦²\":2441,\"Ġà¦ĩà¦¨à¦¡\":2442,\"à¦ªà¦ķà¦²\":2443,\"à¦ªà¦ķà¦Ń\":2444,\"à¦°à¦¬à¦£\":2445,\"à¦¬à¦¹à¦¨à¦®à¦¨\":2446,\"à¦¯à¦®à¦ķà¦°\":2447,\"Ġà¦®à¦¹à¦°à¦°à¦®\":2448,\"Ġà¦ħà¦¬à¦¤à¦°à¦£\":2449,\"Ġà¦ıà¦²à¦ĩà¦¡\":2450,\"à¦¤à¦¬à¦¤\":2451,\"à§¬à§«\":2452,\"Ġà§¬à§¦à§¦\":2453,\"à¦°à¦¨à¦Ĺà¦°\":2454,\"à¦°à¦«à¦°\":2455,\"Ġà§§à§¦à§¯\":2456,\"Ġà¦ķà¦²à¦¹\":2457,\"Ġà¦ħà¦¬à¦¸à¦°à¦ª\":2458,\"à¦¶à¦ķà¦ķ\":2459,\"Ġà¦ıà¦®à¦¨à¦Ń\":2460,\"Ġà¦¬à§ľà¦ª\":2461,\"à¦ıà¦¸à¦ıà¦²\":2462,\"à§Łà¦ķà¦ķ\":2463,\"à§Łà¦ķà¦¤\":2464,\"à¦ħà¦¬\":2465,\"à¦ĩà¦Łà¦ĵà§Ł\":2466,\"Ġà¦ıà¦°à¦ªà¦°à¦ĵ\":2467,\"Ġà¦Ĺà¦£à¦¸\":2468,\"Ġà¦Ĺà¦£à¦§à¦°\":2469,\"Ġà¦ĺà¦Łà¦¤\":2470,\"Ġà¦¸à¦«à¦²à¦Ń\":2471,\"Ġà¦ĩà¦īà¦ıà¦¨\":2472,\"Ġà¦¤à¦ĸà¦¨à¦ĵ\":2473,\"Ġà¦Ĺà¦²à¦«\":2474,\"Ġà§§à§©à§«\":2475,\"Ġà§§à§¬à§§\":2476,\"à§¨à§¦à§§à§¯\":2477,\"Ġà¦¬à¦¹à¦°à¦®\":2478,\"à¦ıà¦²à¦ĵ\":2479,\"Ġà¦§à¦¨à¦ŀ\":2480,\"Ġà§§à§¯à§¯à§¨\":2481,\"Ġà§§à§¯à§¯à§¯\":2482,\"Ġà§§à§§à§®\":2483,\"Ġà§§à§¯à§Ńà§®\":2484,\"à¦ıà¦¨à¦ıà¦ĩà¦ļ\":2485,\"Ġà¦¤à¦¤à¦Ł\":2486,\"Ġà§ªà§¬à§ª\":2487,\"Ġà¦īà¦ĩà¦ĺ\":2488,\"Ġà§Ńà§«à§¦\":2489,\"à¦Ĩà¦°à¦ĩà¦īà¦°\":2490,\"à¦ıà¦®à¦ĩà¦ı\":2491,\"à¦¦à¦«à¦¤à¦°\":2492,\"com\":2493,\"à¦ıà¦¨à¦ıà¦ĩà¦ļà¦¸\":2494,\"im\":2495,\"Ġ)\":2496,\"à§ĩà¦Ĥ\":2497,\"à¦°à¦Ļ\":2498,\"à¦°à¦²à¦¨\":2499,\"à¦°à¦ĺ\":2500,\"à¦°à¦ļà¦¨\":2501,\"à¦°à¦ĩà¦¸\":2502,\"à¦¿;\":2503,\"à¦¨à¦ĸ\":2504,\"à¦¨à§ľ\":2505,\"à¦¨à¦°à¦¤\":2506,\"à¦¨à¦ªà¦¤\":2507,\"à¦ķà¦ł\":2508,\"à¦ķà¦¬à¦²\":2509,\"à¦¤à§Ł\":2510,\"à¦¤à¦¸\":2511,\"à¦¬à¦Ļ\":2512,\"à¦¬à¦ķà¦°\":2513,\"à§Łà¦ĵ\":2514,\"à¦®à¦¡\":2515,\"à¦®à¦§à¦¨\":2516,\"à¦®à¦Ĺà¦ŀ\":2517,\"à¦¸à¦«à¦Ł\":2518,\"Ġà¦¸à¦¶à¦¸\":2519,\"Ġà¦ķà¦¬à¦°\":2520,\"Ġà¦¬à¦ī\":2521,\"Ġà¦¬à¦ķà¦°\":2522,\"Ġà¦¬à¦¸à¦²\":2523,\"à¦¦à¦¸\":2524,\"à¦¯à¦ľà¦¨\":2525,\"à¦¯à¦ŀ\":2526,\"à¦ªà¦ĩ\":2527,\"à¦ªà¦¸à¦®\":2528,\"Ġà¦Ĩà¦¡\":2529,\"Ġà¦Ĩà¦¦à¦¨\":2530,\"à¦ľà§ľ\":2531,\"Ġà¦®à¦¶\":2532,\"Ġà¦®à¦«à¦¸\":2533,\"à§Ģ)\":2534,\"Ġà¦ıà¦ĸà¦¤\":2535,\"Ġà¦ıà¦ıà¦ĩà¦ļ\":2536,\"à¦ĩà¦®à¦°\":2537,\"à¦ĩà¦ªà¦²\":2538,\"Ġà¦¹à¦°à¦®\":2539,\"à¦Ľà¦¬\":2540,\"à¦Ľà¦ª\":2541,\"à¦·à¦¯\":2542,\"à¦¹à¦ķà¦°\":2543,\"Ġà¦¤à¦¹\":2544,\"Ġà¦°à¦¸\":2545,\"Ġà¦°à¦Ł\":2546,\"Ġà¦°à¦ľà¦¨\":2547,\"à¦§à¦¸\":2548,\"à¦§à¦ªà¦°\":2549,\"à¦§à¦¶à¦¤\":2550,\"à¦ļà¦ľà¦¨à¦ķ\":2551,\"Ġà¦¶à¦¸\":2552,\"Ġà¦¶à¦ļ\":2553,\"Ġà¦¶à¦ĸ\":2554,\"Ġà¦¶à¦ªà¦¥\":2555,\"à¦Ńà¦¨\":2556,\"à¦¡à¦¦\":2557,\"à¦¡à¦§\":2558,\"Ġà¦Ĺà§Ł\":2559,\"à¦ĸà¦£\":2560,\"à¦ĵà¦Ł\":2561,\"à¦ĵà¦Ń\":2562,\"Ġà¦¯à¦¤à¦¦\":2563,\"Ġà¦īà¦®à¦°\":2564,\"Ġà¦Ńà¦°à¦£\":2565,\"à§¦à§¬\":2566,\"Ġà¦ĩà¦ķà¦°\":2567,\"Ġà¦ĩà¦Ĩà¦°\":2568,\"à¦°à¦¤à¦²\":2569,\"Ġà¦«à§Ł\":2570,\"Ġà¦Łà¦Ļ\":2571,\"à¦Ļà¦¤\":2572,\"à¦łà¦¤\":2573,\"Ġà¦ľà¦¨à¦¬\":2574,\"Ġà¦ľà¦¨à¦ªà¦¦\":2575,\"Ġà¦Ĩà¦Ĺà¦·\":2576,\"à¦ıà¦®à¦¨\":2577,\"Ġà¦Ĩà¦°à¦Ł\":2578,\"à¦ĩà¦¨à¦¸\":2579,\"Ġà¦Ĩà¦¸à¦ķ\":2580,\"Ġà¦Ĩà¦¸à¦®\":2581,\"à¦¶à¦¨à¦¸à¦¹\":2582,\"à¦¤à¦°à¦ª\":2583,\"à¦°à¦®à¦¤\":2584,\"à¦²à¦ķà¦Ń\":2585,\"Ġà¦īà¦ªà¦¤\":2586,\"Ġà¦īà¦ªà¦ļ\":2587,\"Ġà¦īà¦ªà¦ķà¦®\":2588,\"à¦²à¦¤à¦²\":2589,\"Ġà¦¸à¦®à§Łà¦¸\":2590,\"à¦Ĩà¦ĩà¦ľ\":2591,\"à§İà¦ªà¦°\":2592,\"à¦ĺà¦²\":2593,\"à¦²à§Łà¦¸à¦¹\":2594,\"à§«à§©\":2595,\"Ġà¦¹à¦¤à¦¦à¦°\":2596,\"à§¯à§¦\":2597,\"à§ªà§¨\":2598,\"à§ªà§®\":2599,\"Ġà¦¸à¦¹à¦¨à¦¶\":2600,\"à¦°à¦¥à¦®à¦Ł\":2601,\"Ġà¦ıà¦²à¦¸\":2602,\"Ġà¦ıà¦²à¦ľ\":2603,\"Ġà¦ıà¦ĸà¦¨à¦ķ\":2604,\"Ġà¦ıà¦ĸà¦¨à¦ĩ\":2605,\"à§ĩà¦¾.\":2606,\"Ġà¦ĵà¦ĩà¦¦\":2607,\"Ġà§§à§¦à§©\":2608,\"Ġà§®à§¦à§¦\":2609,\"à¦ıà¦®à¦¡\":2610,\"à¦ıà¦®à¦ıà¦¸\":2611,\"à¦Ŀà¦ĸ\":2612,\"à¦Ŀà§ľ\":2613,\"à¦ıà¦¸à¦ĩà¦¸\":2614,\"Ġà¦¶à¦¤à¦ķà¦°\":2615,\"Ġà¦¬à¦ķà¦¶\":2616,\"Ġà¦Ĩà¦ķà¦¸\":2617,\"à¦ħà¦«\":2618,\"Ġà§§à§¨à§©\":2619,\"Ġà§§à§«à§ª\":2620,\"à¦Ĩà¦ĩà¦°\":2621,\"à¦®à§Łà¦®à¦¨à¦¸\":2622,\"Ġà¦Īà¦°\":2623,\"Ġà§§à§ªà§¦\":2624,\"Ġà§§à§©à§©\":2625,\"Ġà§§à§®à§ª\":2626,\"à¦¹à¦¬à¦§\":2627,\"Ġà¦Ĳà¦¶\":2628,\"Ġà¦Ľà§Łà¦ľà¦¨\":2629,\"à¦¾.)\":2630,\"à§§à§¯à§®\":2631,\"à¦ĵà¦²à¦ľ\":2632,\"à¦ıà¦«à¦ĩà¦īà¦ľ\":2633,\"Ġà§§à§§à§©\":2634,\"Ġà§§à§§à§«\":2635,\"à¦ĩà¦īà¦Ĩà¦ĩà¦¸\":2636,\"à§Ŀà¦¤\":2637,\"Ġà¦Ķà¦ªà¦¨\":2638,\"Ġà¦Ńà¦°à¦£à¦ª\":2639,\"eaz\":2640,\"faz\":2641,\"leaz\":2642,\"Ġ`\":2643,\"à¦°à¦īà¦¦\":2644,\"à¦¨à¦¬à¦°\":2645,\"à¦ķà¦¥\":2646,\"à¦ķà¦¸à¦¬\":2647,\"à¦²à¦ļà¦°\":2648,\"à¦¬à¦¯\":2649,\"à¦®à¦īà¦¦\":2650,\"à§ģ)\":2651,\"à§ģà§į\":2652,\"à¦¸à¦ªà¦¨\":2653,\"à¦Łà¦ĩ\":2654,\"à¦Łà¦ĸ\":2655,\"à¦Łà¦Łà¦²\":2656,\"Ġà¦¬à¦°à¦£\":2657,\"Ġà¦¬à¦ĩà¦Ľ\":2658,\"à¦¯à¦¦à¦²\":2659,\"à¦ªà¦ĸ\":2660,\"Ġà¦Ĩà§Łà¦¨\":2661,\"Ġà¦Ĩà¦ĩà¦ķ\":2662,\"Ġà¦Ĩà¦ĩà¦²\":2663,\"à¦ľà¦Ļ\":2664,\"à¦ľà¦ķà¦°\":2665,\"à¦ľà¦ĸà¦¬à¦°\":2666,\"Ġà¦®à¦ĩà¦¨\":2667,\"Ġà¦®à¦ķà¦¸\":2668,\"à¦¶à¦ķà¦°\":2669,\"à¦¶à¦¸à¦¹\":2670,\"à¦ĩà¦īà¦¨\":2671,\"Ġà¦¹à¦¸à¦ª\":2672,\"Ġà¦¨à¦¯\":2673,\"à¦·à¦¶\":2674,\"à¦·à¦Ļ\":2675,\"à¦·à¦ªà¦°\":2676,\"à¦¹à¦Ł\":2677,\"à¦¹à¦īà¦¦\":2678,\"Ġà¦¤à¦ª\":2679,\"Ġà¦¤à¦°à¦«\":2680,\"Ġà¦¤à¦ĸà¦¤\":2681,\"Ġà¦°à¦ľ\":2682,\"Ġà¦°à¦ĩà¦²\":2683,\"Ġà¦ľà¦Ĺ\":2684,\"Ġà¦ľà¦²à¦¸\":2685,\"Ġà¦ľà¦Ĺà¦¦\":2686,\"Ġà¦ħà¦¦à¦ķ\":2687,\"Ġà¦ħà¦²à¦ķ\":2688,\"Ġà¦ħà¦®à¦°\":2689,\"à¦ļà¦ĵ\":2690,\"Ġà¦¶à¦²\":2691,\"à¦¥à¦¸\":2692,\"à¦¥à¦¦\":2693,\"à¦Ńà¦¦\":2694,\"à¦Ńà¦°à¦¯\":2695,\"à¦Ńà¦ľà¦¨à¦ķ\":2696,\"à¦¡à¦¸à¦ķ\":2697,\"à¦¡à¦¦à¦²\":2698,\"à¦£à¦Ĺ\":2699,\"à¦£à¦«\":2700,\"à¦£à¦Ĺà¦¤\":2701,\"à¦ĵà¦ķ\":2702,\"Ġà¦¯à¦®\":2703,\"Ġà¦īà¦¬\":2704,\"Ġà¦īà¦¡\":2705,\"Ġà¦īà¦¸à¦®\":2706,\"Ġà¦ªà¦°à¦¤\":2707,\"à¦«à¦°à¦¹\":2708,\"Ġà¦Ńà¦¦\":2709,\"à¦°à¦¤à¦¤\":2710,\"à¦°à¦¤à¦®\":2711,\"Ġà¦ıà¦ķà¦ļ\":2712,\"Ġà¦ıà¦ķà¦ªà¦°\":2713,\"Ġà¦ıà¦ķà¦¦à¦®\":2714,\"Ġà¦²à¦¤\":2715,\"Ġà¦²à¦¬\":2716,\"Ġà¦Łà¦®\":2717,\"Ġà¦¸à¦®à¦¤à¦²\":2718,\"à§ĥà¦Ĥ\":2719,\"Ġà¦ħà¦¨à¦¶à¦¨\":2720,\"Ġà¦ħà¦¨à¦¬à¦¦\":2721,\"à¦īà§Ł\":2722,\"à¦īà§ľ\":2723,\"à¦īà¦ŀ\":2724,\"à¦īà¦ĩà¦ķ\":2725,\"Ġà¦¡à¦Ł\":2726,\"à¦¬à¦°à¦ĩ\":2727,\"à¦ľà¦¨à¦¶\":2728,\"à¦°à¦£à¦ķ\":2729,\"Ġà¦Ĩà¦°à¦ľ\":2730,\"à¦ĩà¦¨à¦ļ\":2731,\"Ġà¦Ĩà¦¸à¦Ĺà¦°\":2732,\"à§Łà¦¨à¦°\":2733,\"à§Łà¦¨à¦ķ\":2734,\"à¦¦à¦ķà¦¬\":2735,\"à¦¬à¦¨à¦¬\":2736,\"Ġà¦īà¦ªà§ľ\":2737,\"Ġà¦īà¦ªà¦²à¦¬\":2738,\"Ġà¦Ĩà¦¨à¦ħà¦«\":2739,\"Ġà¦Ĩà¦²à¦«\":2740,\"à¦²à¦¤à¦¬\":2741,\"Ġà¦¸à¦®à§Łà¦ĵ\":2742,\"à¦ĺà¦¸\":2743,\"à¦ĺà¦Ł\":2744,\"Ġà¦¸à¦¬à¦ĸ\":2745,\"Ġà¦ĩà¦¨à¦¶\":2746,\"à¦¯à¦®à¦¤\":2747,\"à¦¯à¦®à§Ł\":2748,\"Ġà§«à§§à§¨\":2749,\"Ġà§ªà§¨à§¦\":2750,\"à¦¬à¦²à¦®\":2751,\"à¦¤à¦¬à§Łà¦¸\":2752,\"Ġà¦¸à¦°à¦²\":2753,\"Ġà¦Ĩà¦ľà¦Ĺà¦°\":2754,\"à§Ńà§©\":2755,\"à¦ĩà¦²à¦°\":2756,\"à¦°à§Łà¦ķ\":2757,\"à¦ĩà¦«à¦īà¦¦\":2758,\"à¦¦à¦°à¦Ĺ\":2759,\"Ġà¦¨à§Łà¦ľà¦¨\":2760,\"Ġà¦¬à§ľà¦ķà¦°\":2761,\"Ġà¦ıà¦®à¦ķ\":2762,\"Ġà¦ıà¦®à¦Ĩà¦°à¦ª\":2763,\"à¦Ŀà¦°\":2764,\"à¦ıà¦¸à¦Ł\":2765,\"à¦ıà¦¸à¦ıà¦®à¦ıà¦®\":2766,\"Ġà¦ħà¦ªà¦Ł\":2767,\"Ġà¦Ĩà§Łà¦¤à¦¨\":2768,\"à§Łà¦ķà¦°à¦£\":2769,\"à¦°à¦²à¦¸\":2770,\"à¦°à¦²à¦ľ\":2771,\"à¦ħà¦Ĺ\":2772,\"Ġà¦ħà¦«à¦°\":2773,\"Ġà¦ħà¦«à¦¸\":2774,\"Ġà¦ıà¦¨à¦Ĺ\":2775,\"à¦Ĩà¦ĩà¦¡à¦¬\":2776,\"à§Łà¦¤à¦ª\":2777,\"à¦łà¦ķà¦ķ\":2778,\"à§Łà¦¦à¦ª\":2779,\"à¦Ĺà¦®à¦Ĺà¦ŀ\":2780,\"Ġà§§à§®à§«\":2781,\"Ġà¦¦à¦¶à¦Ł\":2782,\"Ġà¦Īà¦¦à¦Ĺ\":2783,\"Ġà§¨à§¦à§¦à§¦\":2784,\"Ġà§¨à§¦à§¦à§¨\":2785,\"Ġà§¨à§«à§¬\":2786,\"Ġà¦ķà¦¨à¦Ń\":2787,\"Ġà¦Ľà§Łà¦ľà¦¨à¦ķ\":2788,\"Ġà§§à§Ńà§¦\":2789,\"à¦¶à¦²à¦ªà¦¤\":2790,\"Ġà§¨à§®à§«\":2791,\"à¦ķà¦°à¦£à¦Ł\":2792,\"à¦ıà¦«à¦Ĩà¦ĩà¦¸\":2793,\"à¦¯à¦¥à¦Ń\":2794,\"Ġà¦¯à¦¤à¦ĩ\":2795,\"Ġà§§à§¯à§¯à§§\":2796,\"à¦¬à¦ľà¦¨à¦ª\":2797,\"Ġà¦īà§ľà¦¨\":2798,\"Ġà§§à§§à§¨\":2799,\"Ġà§§à§§à§¬\":2800,\"à¦ĩà¦īà¦¤\":2801,\"Ġà¦ıà¦ĩà¦ļà¦¡\":2802,\"Ġà§«à§¬à§©\":2803,\"Ġà§§à§¯à§ªà§Ń\":2804,\"à¦Łà¦ĵà¦Ń\":2805,\"Ġà§§à§¯à§«à§®\":2806,\"Ġà¦ıà¦ıà¦ĩà¦ļà¦ıà¦®\":2807,\"fazleaz\":2808,\"à¦ķà¦¸à¦¬à¦ľ\":2809,\"fazleazim\":2810,\"^à¦¾\":2811,\"Ġfazleazim\":2812,\"à¦ĭ\":2813,\"à§ĩà¦¾,\":2814,\"à¦°à¦Ŀ\":2815,\"à¦°à¦Ĩà¦¨\":2816,\"à¦¿_\":2817,\"à¦¨à¦®à¦¤\":2818,\"à¦¨à¦īà¦¦\":2819,\"à¦ķà¦§\":2820,\"à¦ķà¦«\":2821,\"à¦ķà¦ªà¦ķ\":2822,\"à¦ķà¦Ĺà¦ŀ\":2823,\"à¦²à¦¹à¦ľ\":2824,\"à¦¬à¦ĸ\":2825,\"à§Łà¦°à¦¦\":2826,\"à¦®à¦Ń\":2827,\"à¦®à¦ĵ\":2828,\"à¦®à§İ\":2829,\"à§ģ:\":2830,\"à¦¸à¦ĩ\":2831,\"à¦¸à¦¸à¦¹\":2832,\"à¦¸à¦¦à¦°\":2833,\"Ġà¦¸à§Ł\":2834,\"Ġà¦¸à¦ĸ\":2835,\"Ġà¦¸à¦°à¦£\":2836,\"Ġà¦ķà¦ķà¦Ł\":2837,\"à¦Łà¦§\":2838,\"à¦Łà¦¡\":2839,\"à¦Łà¦°à¦ķ\":2840,\"Ġà¦¬à¦®\":2841,\"à¦¦à¦ľ\":2842,\"à¦¦à¦ĩ\":2843,\"à¦¦à¦ĵ\":2844,\"à§ĭà¦Ĥ\":2845,\"Ġà¦ªà¦²à¦ķ\":2846,\"à¦¯à¦ªà¦Ł\":2847,\"à¦¯à¦ļà¦°\":2848,\"Ġà¦Ĩà¦¯\":2849,\"Ġà¦Ĩà¦¯à¦®\":2850,\"Ġà¦®à¦«\":2851,\"Ġà¦®à¦°à¦Ĺ\":2852,\"à§Ģ!\":2853,\"à¦¶à¦¯\":2854,\"à¦¶à¦Ń\":2855,\"à¦¶à¦£\":2856,\"à¦¶à¦ªà¦¤\":2857,\"à¦¶à¦¸à¦®\":2858,\"Ġà¦ıà¦¹à¦¸\":2859,\"Ġà¦ıà¦Ĩà¦°\":2860,\"à¦ĩà¦Ļ\":2861,\"Ġà¦¹à¦ĩà§Ł\":2862,\"Ġà¦¨à¦Ĺ\":2863,\"Ġà¦¨à¦ĵà¦¸\":2864,\"à¦Ĺà¦®à¦ķ\":2865,\"Ġà¦¦à§Ł\":2866,\"Ġà¦ķà¦°à¦¦\":2867,\"à¦·à¦ª\":2868,\"à¦·à¦°à¦£\":2869,\"à¦¹à¦¹\":2870,\"à¦¹à¦°à¦ķ\":2871,\"Ġà¦¤à¦®\":2872,\"Ġà¦¤à¦ķà¦®\":2873,\"Ġà¦¤à§İà¦ªà¦°\":2874,\"Ġà¦°à¦¦\":2875,\"Ġà¦°à¦£\":2876,\"Ġà¦°à¦ī\":2877,\"Ġà¦°à¦Ńà¦®\":2878,\"à¦ļà¦°à¦£\":2879,\"à¦¥à¦ķà¦°\":2880,\"à¦Ńà¦²\":2881,\"à¦¡à¦¶\":2882,\"à¦¡à¦ĵ\":2883,\"à¦¡à¦²à¦¸\":2884,\"Ġà¦Ĺà¦Ļ\":2885,\"à¦ĸà¦®\":2886,\"Ġà¦ļà¦ŀ\":2887,\"Ġà¦ļà¦ķà¦²\":2888,\"Ġà¦ĵà¦¹\":2889,\"Ġà¦ĵà¦Ĩà¦ĩà¦¸\":2890,\"Ġà¦īà¦ĩà§Ł\":2891,\"Ġà¦īà§İà¦ķ\":2892,\"Ġà¦ªà¦°à¦¶\":2893,\"Ġà¦Ńà¦°à¦ª\":2894,\"Ġà¦ĩà¦ª\":2895,\"Ġà¦ĩà¦¬à¦°\":2896,\"Ġà¦ĩà¦¸à¦¹\":2897,\"Ġà¦ıà¦ķà¦ª\":2898,\"Ġà§¨à§©à§¦\":2899,\"Ġà¦²à¦ĩà¦Ł\":2900,\"Ġà¦Łà¦ķ\":2901,\"Ġà¦Łà¦¹à¦²\":2902,\"Ġà¦¸à¦®à¦®\":2903,\"à¦¾à¦Ĥ,\":2904,\"à¦łà¦ķà¦¦\":2905,\"à¦łà¦Ĺà§ľ\":2906,\"à¦¿à¦Ĥ-\":2907,\"à§Ĥ-\":2908,\"Ġà¦¡à¦¨\":2909,\"Ġà¦¡à¦Ĺ\":2910,\"Ġà§¨à§¦à§©à§¦\":2911,\"à¦ľà¦¨à¦Ł\":2912,\"à¦°à¦£à¦¬\":2913,\"à¦®à¦¨à¦ķ\":2914,\"à¦®à¦¨à¦ĩ\":2915,\"à¦®à¦¨à¦Ĺà¦°\":2916,\"à¦ıà¦²à¦¸\":2917,\"à¦ıà¦Ĩà¦°\":2918,\"à¦ıà¦ıà¦¸à¦ª\":2919,\"Ġà¦ĺà¦°à¦¬\":2920,\"à¦ĩà¦ľà¦¡\":2921,\"à¦¤à¦°à¦¸\":2922,\"à¦°à¦®à¦ķ\":2923,\"à¦°à¦®à¦¬à¦°\":2924,\"Ġà¦īà¦ªà¦¬\":2925,\"Ġà¦īà¦ªà¦®\":2926,\"à¦²à¦¤à¦ĸ\":2927,\"Ġà¦®à¦¨à¦®\":2928,\"à¦Ĩà¦¬\":2929,\"à¦Ĩà¦¶\":2930,\"à¦Ĩà¦ĩà§Ł\":2931,\"à¦Ĩà¦ĩà¦Ł\":2932,\"à¦ĺà¦¬\":2933,\"Ġà¦ıà¦¸à¦ı\":2934,\"Ġà¦¸à¦¬à¦¥\":2935,\"à§©à§¯\":2936,\"à§«à§«\":2937,\"à§«à§¬\":2938,\"à§«à§¦à§¦\":2939,\"à¦¯à¦®à¦Ĺ\":2940,\"Ġà¦¬à¦Ľà¦°à¦ĩ\":2941,\"Ġà¦§à¦°à¦Ľ\":2942,\"à¦ķà¦²à¦®\":2943,\"Ġà¦¸à¦¹à¦¸\":2944,\"Ġà¦¸à¦¹à¦¸à¦Ń\":2945,\"Ġà¦¸à¦¹à¦§à¦°\":2946,\"Ġà¦Ĩà¦Ľà§ľ\":2947,\"à§Ńà§¨\":2948,\"Ġà¦¸à§ľà¦ķà¦¸à¦¹\":2949,\"à¦ĩà¦²à¦¸\":2950,\"à¦Ĺà¦°à¦°\":2951,\"à¦ıà¦¨à¦¸\":2952,\"à¦¼à§ģ\":2953,\"à¦ĩà¦«à¦Ł\":2954,\"Ġà§§à§¦à§«\":2955,\"Ġà§§à§¦à§®\":2956,\"Ġà¦ħà¦¸à§İ\":2957,\"Ġà§¯à§§\":2958,\"Ġà¦Ĩà¦¶à¦«\":2959,\"Ġà§®à§¨\":2960,\"Ġà§®à§§\":2961,\"Ġà¦ıà¦¤à¦ķ\":2962,\"à¦¦à¦°à¦Ń\":2963,\"à¦ķà¦Łà¦²\":2964,\"Ġà¦¬à§ľà¦¬\":2965,\"Ġà¦ıà¦®à¦°\":2966,\"à¦ıà¦¸à¦Ĩà¦°\":2967,\"Ġà¦ħà¦ªà¦®\":2968,\"Ġà§§à§¯à§¨à§©\":2969,\"Ġà¦ľà§Łà¦Ł\":2970,\"Ġà¦Ĩà¦ķà¦¤\":2971,\"à¦ħà¦¤\":2972,\"à¦ĩà¦Łà¦Ł\":2973,\"Ġà§§à§¨à§¨\":2974,\"Ġà§§à§¨à§®\":2975,\"Ġà§§à§¨à§Ń\":2976,\"Ġà¦Ŀà¦ķ\":2977,\"Ġà¦ªà¦¦à¦¸\":2978,\"à¦¨à§Łà¦¨à¦¶\":2979,\"Ġà¦Ĺà¦£à¦¨\":2980,\"Ġà¦Ĺà¦£à¦«\":2981,\"à¦®à¦ķà¦°à¦£\":2982,\"Ġà¦ĩà¦īà¦ľ\":2983,\"Ġà¦ĩà¦īà¦ıà¦¨à¦ıà¦ĩà¦ļà¦¸\":2984,\"Ġà¦Ĩà¦«à¦¸\":2985,\"Ġà§©à§¦à§¦à§¦\":2986,\"Ġà§§à§ªà§¨\":2987,\"Ġà§§à§ªà§§\":2988,\"Ġà§§à§©à§ª\":2989,\"Ġà§§à§©à§Ń\":2990,\"Ġà§§à§¬à§¨\":2991,\"à§¨à§¦à§§à§Ń\":2992,\"Ġà¦Īà¦¦à¦¯\":2993,\"à¦Ĩà¦°à¦ıà¦²\":2994,\"Ġà¦ªà§Łà¦²\":2995,\"à¦¨à¦¦à¦£\":2996,\"Ġà§§à§Ńà§¨\":2997,\"à¦¦à¦¶à¦¤à¦®\":2998,\"Ġà§¨à§®à§Ń\":2999,\"Ġà¦ĭà¦·à¦Ń\":3000,\"Ġà¦¸à¦¹à¦ľà¦¤à¦°\":3001,\"Ġà¦ĸà¦°à¦ļà¦ĵ\":3002,\"à¦ıà¦«à¦¡\":3003,\"Ġà§§à§¯à§¯à§ª\":3004,\"Ġà§§à§§à§ª\":3005,\"Ġà§§à§§à§Ń\":3006,\"Ġà§§à§¯à§Ńà§©\":3007,\"Ġà§¦à§§à§«\":3008,\"Ġà§¦à§§à§Ń\":3009,\"Ġà¦Ĩà¦ĩà¦ıà¦«à¦Ĩà¦ĩà¦¸\":3010,\"Ġà§ªà§«à§¦\":3011,\"Ġà¦¹à¦¯à¦°à¦¤\":3012,\"Ġà¦Ĩà¦ļà¦°à¦£à¦¬\":3013,\"Ġà¦ħà¦ªà¦¹à¦°à¦£à¦ķ\":3014,\"Ġà§¬à§¬à§¦\":3015,\"Ġà¦īà§İà¦ĸ\":3016,\"Ġà¦īà§İà¦ªà¦¤\":3017,\"Ġà¦ĩà¦¨à¦«à¦°à¦®\":3018,\"Ġà¦ľà¦Ĺà§İ\":3019,\"à¦ıà¦¸à¦ıà¦®à¦ıà¦®à¦ĩà¦ī\":3020,\"*)\":3021,\"ai\":3022,\"ww\":3023,\"||\":3024,\"Ġ?\":3025,\"Ġ||\":3026,\"à§ĩ_\":3027,\"à§ĩ),\":3028,\"à¦°à¦ĸà¦°\":3029,\"à¦°à¦Ĩà¦ª\":3030,\"à¦¨à¦ī\":3031,\"à¦¨à¦¬à¦¹\":3032,\"à¦¨à¦Ĺà¦ŀ\":3033,\"à¦¨à¦Ĺà¦£\":3034,\"à¦ķà¦¡\":3035,\"à¦ķà¦¸à¦¨\":3036,\"à¦ķà¦¨à¦ķ\":3037,\"à¦ķà¦ªà¦Ł\":3038,\"à¦²à¦¸à¦¨\":3039,\"à¦²à¦¸à¦ķ\":3040,\"à¦²à¦īà¦¡\":3041,\"à¦¤à¦ļà¦°\":3042,\"à¦¤à¦ĺà§ľ\":3043,\"à¦¬à¦²à¦¤\":3044,\"à§Łà¦ľ\":3045,\"à§Łà¦¶\":3046,\"à§Łà¦¦à¦°\":3047,\"à¦®à¦°à¦ķ\":3048,\"à§ģ'\":3049,\"à§ģ?\":3050,\"à¦¸à¦¯\":3051,\"à¦¸à¦§\":3052,\"à¦¸à¦¡\":3053,\"à¦¸à¦ªà¦¤\":3054,\"à¦¸à¦ķà¦²\":3055,\"à¦¸à¦«à¦°\":3056,\"Ġà¦¸à¦ļà¦²\":3057,\"Ġà¦ķà¦¦\":3058,\"Ġà¦¬à¦°à¦ķ\":3059,\"Ġà¦¬à¦ĸà¦¤\":3060,\"à¦¦à¦Ľ\":3061,\"à¦¦à¦Ĺà¦ŀ\":3062,\"à¦¦à¦°à¦¸à¦®\":3063,\"Ġà¦ªà§Łà¦¸\":3064,\"à¦¯à¦ªà¦°\":3065,\"à¦¯à¦¬à¦¨\":3066,\"à¦¯à¦ķà¦²\":3067,\"à¦¯à¦¯à¦¨\":3068,\"à¦¯à¦¸à¦®\":3069,\"à¦¯à¦ªà¦¦\":3070,\"à¦¯à¦ļà¦ķ\":3071,\"à¦¯à¦ªà¦£\":3072,\"à¦ªà¦²à¦ķ\":3073,\"à¦ªà¦¸à¦¨\":3074,\"Ġà¦Ĩà¦¬à¦°à¦£\":3075,\"à¦ľà¦¤à¦¬\":3076,\"Ġà¦®à¦ľà¦¨\":3077,\"Ġà¦®à§Łà¦¦\":3078,\"Ġà¦®à¦Łà¦°à¦¸\":3079,\"Ġà¦®à§Łà¦²\":3080,\"à¦¶à¦¹\":3081,\"à¦¶à¦Ļ\":3082,\"à¦¶à¦ļà¦¨\":3083,\"à¦¶à¦Ĺà¦¤\":3084,\"à¦¶à¦¹à¦°\":3085,\"Ġà¦ıà¦ıà¦¸à¦Ĩà¦ĩ\":3086,\"à¦ĩà¦¹\":3087,\"à¦ĩà¦¥\":3088,\"à¦ĩà¦¶à¦°\":3089,\"Ġà¦¹à¦°à¦£\":3090,\"Ġà¦¹à¦ĩà¦²\":3091,\"Ġà¦¨à¦Ł\":3092,\"Ġà¦¨à¦Īà¦®\":3093,\"à¦Ĺà¦°à¦£\":3094,\"à¦Ĺà¦¦à¦²\":3095,\"Ġà¦¦à¦¨\":3096,\"Ġà¦¦à¦Ĺ\":3097,\"Ġà¦¦à§ľ\":3098,\"Ġà¦¦à¦®à¦ķ\":3099,\"à¦·à¦¬\":3100,\"à¦·à¦§\":3101,\"à¦·à¦¸à¦¹\":3102,\"à¦¹à¦¯\":3103,\"à¦¹à¦Ń\":3104,\"à¦¹à¦ľà¦¨à¦ķ\":3105,\"à¦Ĥ,\":3106,\"à¦Ĥ-\":3107,\"Ġà¦°à¦¡\":3108,\"Ġà¦ľà¦¶\":3109,\"Ġà¦ľà¦ĸà¦®\":3110,\"Ġà¦ħà¦ĺà¦Łà¦¨\":3111,\"à¦§à¦Ł\":3112,\"à¦§à¦Ĺà¦®\":3113,\"à¦ļà¦®à¦¨\":3114,\"à¦ļà¦²à¦¬\":3115,\"à¦ļà¦ªà¦¦\":3116,\"Ġà¦¶à¦¤à¦°\":3117,\"Ġà¦¶à¦¬à¦¨à¦®\":3118,\"à¦¥à¦£\":3119,\"à¦¥à¦ªà¦¤\":3120,\"à¦¥à¦ªà¦¥\":3121,\"à¦¥à¦¦à¦£\":3122,\"à¦¡à§Łà¦¨\":3123,\"à¦¡à¦¸à¦¹\":3124,\"à¦¡à¦īà¦ĩà¦¨\":3125,\"à§ľà¦ĵ\":3126,\"Ġà¦ĵà¦¡\":3127,\"Ġà¦ĵà¦¸à¦¬\":3128,\"Ġà¦ĵà¦ķà¦¸\":3129,\"à¦£à§Ł\":3130,\"à¦£à¦¨à¦Ĺà¦°\":3131,\"à¦£à¦ªà¦£\":3132,\"à¦ĵà¦¬\":3133,\"à¦ĵà¦Ĺ\":3134,\"à¦ĵà¦¥\":3135,\"Ġà¦ªà¦°à¦²\":3136,\"Ġà¦ªà¦°à¦¬\":3137,\"à¦«à¦ª\":3138,\"à¦«à¦«à¦°\":3139,\"Ġà¦Ńà¦Ĺ\":3140,\"Ġà¦Ńà¦°à¦¦\":3141,\"à§¦à§¨\":3142,\"à§¦à§©\":3143,\"Ġà¦ĩà¦Ľ\":3144,\"Ġà¦ĩà¦«\":3145,\"Ġà¦¬à¦²à¦Ł\":3146,\"Ġà¦ıà¦ķà¦¸\":3147,\"Ġà¦«à¦²à¦ķ\":3148,\"Ġà¦«à§Łà¦¸à¦²\":3149,\"Ġà¦Łà¦°\":3150,\"Ġà¦Łà¦ªà¦ķ\":3151,\"Ġà¦ĸà¦£\":3152,\"Ġà¦ĸà¦¨à¦¨\":3153,\"Ġà¦Ľà¦¤\":3154,\"à¦°à¦ķà¦¦\":3155,\"à¦¿à¦Ĥ)\":3156,\"Ġà¦Ĩà¦Ĺà¦°à¦ĵà§Ł\":3157,\"Ġà§¨à§¦à§¨\":3158,\"Ġà§¨à§¦à§®\":3159,\"à¦¬à¦°à¦Ł\":3160,\"à¦ľà¦¨à¦¸\":3161,\"à¦ľà¦¨à¦ĵ\":3162,\"à¦°à¦£à¦®\":3163,\"à¦°à¦£à¦Ł\":3164,\"à¦°à¦£à¦¯\":3165,\"à¦®à¦¨à¦Ł\":3166,\"à¦ıà¦¤\":3167,\"à¦ıà¦¶\":3168,\"à¦ıà¦ĩ\":3169,\"à¦ıà¦ķà¦¨\":3170,\"à¦ıà¦«à¦°\":3171,\"Ġà¦Ĩà¦°à¦¶\":3172,\"Ġà¦ıà¦¬à¦Ľà¦°\":3173,\"à¦ĩà¦¨à¦¸à¦¹\":3174,\"à¦ĩà¦¨à¦Ĩà¦ª\":3175,\"Ġà¦ıà¦ĩà¦¸à¦¬\":3176,\"Ġà¦§à¦®à¦ķ\":3177,\"Ġà¦Ĩà¦¸à¦«\":3178,\"Ġà¦Ĩà¦¸à¦°à¦Ł\":3179,\"à¦¶à¦¨à¦ĩ\":3180,\"à¦Łà¦¨à¦ĵ\":3181,\"à¦¦à¦ķà¦¸à¦¹\":3182,\"à¦¬à¦¨à¦ĩ\":3183,\"à¦ªà¦¨à¦¸\":3184,\"à¦ªà¦¨à¦ļ\":3185,\"à¦°à¦®à¦¬\":3186,\"à¦°à¦¸à¦¬\":3187,\"Ġà¦Ĩà¦¨à¦²\":3188,\"Ġà¦Ĩà¦²à¦¬\":3189,\"Ġà¦Ĩà¦²à¦¹\":3190,\"Ġà¦Ĩà¦¬à¦¶\":3191,\"Ġà¦¦à¦²à¦ĵ\":3192,\"Ġà¦®à¦¨à¦Ł\":3193,\"Ġà¦¸à¦®à§Łà¦®à¦¤\":3194,\"à¦Ĩà¦¤\":3195,\"à¦Ĩà¦°à¦¬\":3196,\"à§İà¦ļ\":3197,\"Ġà¦ķà¦®à¦¬\":3198,\"Ġà¦ıà¦¸à¦ıà¦¸à¦¸\":3199,\"à§©à§©\":3200,\"à§©à§¬\":3201,\"à¦°à¦¬à¦¤\":3202,\"à¦°à¦¬à¦²à¦Ń\":3203,\"à¦¬à¦¹à¦£\":3204,\"à¦·à§Łà¦¸à¦¹\":3205,\"à¦īà¦¨à¦²\":3206,\"à§«à§ª\":3207,\"à¦ĩà¦ķà¦®\":3208,\"à¦¤à¦¨à¦Ń\":3209,\"Ġà¦Ĩà¦ĩà¦¨à¦¬\":3210,\"à§ªà§Ń\":3211,\"à§ªà§¬\":3212,\"Ġà¦®à¦¹à§ľ\":3213,\"Ġà¦®à¦¹à¦°à¦¤\":3214,\"Ġà¦ħà¦¬à¦²\":3215,\"Ġà¦ħà¦°à¦«\":3216,\"à¦°à¦¹à¦¸\":3217,\"à¦Ĺà¦°à¦ª\":3218,\"à¦ıà¦¨à¦¬\":3219,\"Ġà§¬à§Ń\":3220,\"Ġà¦ĵà¦ĩà¦¸à¦¬\":3221,\"à¦ļà¦²à¦Ĺ\":3222,\"à¦ļà¦²à¦ĵ\":3223,\"à¦ļà¦²à¦¸à¦®\":3224,\"à§İà¦¸à¦°\":3225,\"à§İà¦¸à¦ķà¦ķ\":3226,\"à¦ķà¦Łà¦¤à¦®\":3227,\"Ġà¦ıà¦®à¦¨à¦ĩ\":3228,\"Ġà¦¨à§Łà¦¤\":3229,\"Ġà¦ıà¦®à¦Ń\":3230,\"Ġà¦ıà¦®à¦ĵà¦ª\":3231,\"à¦Ŀà¦ķ\":3232,\"à¦Ŀà¦²\":3233,\"à¦ıà¦¸à¦ķ\":3234,\"Ġà¦ħà¦ªà¦¶à¦¨\":3235,\"à¦°à¦²à¦¸à¦Ń\":3236,\"à¦ħà¦²\":3237,\"Ġà§§à§¨à§¯\":3238,\"Ġà¦ªà¦¦à¦®à¦°\":3239,\"à¦¨à§Łà¦¨à¦®\":3240,\"à¦¿)-\":3241,\"Ġà¦Ĺà¦£à¦¬\":3242,\"Ġà¦«à¦²à¦®\":3243,\"Ġà¦«à¦²à¦ª\":3244,\"à§Łà¦¸à¦Ļ\":3245,\"Ġà¦ĩà¦īà§Ł\":3246,\"Ġà¦ĩà¦īà¦Ľ\":3247,\"Ġà§©à§¦à§ª\":3248,\"Ġà¦Ĺà§ľà¦¬\":3249,\"Ġà§§à§«à§©\":3250,\"Ġà¦¤à¦ĸà¦¨à¦ķ\":3251,\"Ġà¦¶à¦°à§İ\":3252,\"à¦Ĩà¦ĩà¦Ĩà¦°\":3253,\"à¦ĸà¦²à¦Ń\":3254,\"à¦®à§Łà¦ķà¦°\":3255,\"Ġà§§à§ªà§ª\":3256,\"Ġà§§à§ªà§¬\":3257,\"Ġà§§à§ªà§ªà§¦\":3258,\"à¦łà¦ķà¦ª\":3259,\"Ġà§§à§©à§¦\":3260,\"Ġà§§à§©à§¨à§®\":3261,\"Ġà§§à§®à§¯\":3262,\"Ġà¦¦à¦¶à¦ľà¦¨\":3263,\"à§¨à§¦à§¨à§§\":3264,\"à§¨à§¦à§§à§¬\":3265,\"Ġà§¨à§«à§¯\":3266,\"à¦īà¦¦à§Ł\":3267,\"à¦ķà¦¸à¦Ń\":3268,\"Ġà¦Ĳà¦¨\":3269,\"Ġà¦Ĳà¦ļ\":3270,\"à¦¬à¦¶à¦¤\":3271,\"à¦¯à§Łà¦¬à¦¹\":3272,\"Ġà¦ħà¦¥à¦°\":3273,\"Ġà§§à§Ńà§§\":3274,\"Ġà§¨à§¯à§®\":3275,\"à¦Īà§Ł\":3276,\"Ġà¦ķà¦ĸà¦¨à¦ĩ\":3277,\"Ġà¦¬à¦¹à¦¨à¦ķ\":3278,\"Ġà¦¨à¦¬à¦ľ\":3279,\"Ġà§¨à§©à§Ń\":3280,\"Ġà¦Ĩà¦Łà¦²\":3281,\"Ġà§¨à§¨à§«\":3282,\"Ġà¦¦à¦«à¦¤à¦°\":3283,\"Ġà¦ıà¦«à¦ı\":3284,\"à¦ıà¦«à¦ıà¦ķ\":3285,\"Ġà§¨à§Ńà§ª\":3286,\"Ġà§©à§¨à§®\":3287,\"Ġà§§à§¯à§¯à§©\":3288,\"Ġà§§à§¯à§¯à§«\":3289,\"Ġà§§à§¯à§¯à§®\":3290,\"Ġà§§à§¯à§¯à§Ń\":3291,\"Ġà§§à§§à§¯\":3292,\"Ġà§§à§¯à§Ńà§¦\":3293,\"Ġà§§à§¯à§Ńà§¯\":3294,\"Ġà§§à§¯à§Ńà§¬\":3295,\"Ġà§¦à§ª\":3296,\"Ġà§¦à§©à§ª\":3297,\"à¦¨à¦ľà¦¨à¦ĩ\":3298,\"Ġà¦ıà¦ĩà¦ļà¦ª\":3299,\"Ġà¦¨à¦ĵà¦®\":3300,\"Ġà¦īà¦ĩà¦Ļ\":3301,\"Ġà§©à§¬à§©\":3302,\"Ġà¦Ĩà¦ļà¦°à¦£à¦ķ\":3303,\"....\":3304,\"Ġà§«à§¬à§ª\":3305,\"Ġà§§à§¯à§®à§¨\":3306,\"Ġà¦¸à¦¬à¦¸à¦®à§Łà¦ĩ\":3307,\"à¦¯à¦¶à¦¸\":3308,\"à¦¯à¦Łà¦¨à¦®à¦¨\":3309,\"Ġà§Ńà§®à§¬\":3310,\"Ġà¦¸à¦«à¦²à¦¤à¦®\":3311,\"Ġà§§à§¯à§ªà§¯\":3312,\"Ġà§§à§¯à§¬à§ª\":3313,\"Ġà¦¤à¦²à¦¬à¦ķ\":3314,\"Ġà§®à§Ńà§¦\":3315,\"à¦ıà¦®à¦ĩà¦ıà¦°\":3316,\"Ġà§Ńà§¯à§®\":3317,\"Ġà§§à§¨à§ªà§¦à§¦\":3318,\"Ġà¦Ķà¦·à¦§\":3319,\"à¦¤à¦ķà¦°à¦¬\":3320,\"Ġà¦¥à¦®à¦¥à¦®\":3321,\"Ġà§¯à§Ńà§«\":3322,\"Ġà¦®à¦Łà¦°à¦¯\":3323,\"Ġà¦ķà¦¬à¦°à¦¸\":3324,\"à¦¯à¦ľà¦¨à¦ķà¦Ń\":3325,\"Ġà¦ĩà¦Ĩà¦°à¦ıà¦«à¦°\":3326,\"Ġà¦Ĩà¦ĩà¦ķà¦¨\":3327,\"Ġà¦°à¦īà¦«\":3328,\"à¦¨à¦¬à¦¹à¦°\":3329,\"Ġà¦¬à¦°à¦ķà¦¤\":3330,\"%,\":3331,\")/\":3332,\"09\":3333,\"gm\":3334,\"in\":3335,\"à¦¾à§į\":3336,\"à§ĩà§į\":3337,\"à¦°à¦Łà¦¨\":3338,\"à¦°à§Łà¦¨\":3339,\"à¦°à§İ\":3340,\"à¦°à¦Ĺà¦£\":3341,\"à¦¨à¦·\":3342,\"à¦¨à¦§\":3343,\"à¦¨à¦°à¦¸\":3344,\"à¦¨à¦¸à¦¨\":3345,\"à¦¨à¦Ĩà¦īà¦Ł\":3346,\"à¦ķà¦·\":3347,\"à¦ķà¦²à¦¨\":3348,\"à¦²à¦§\":3349,\"à¦²à¦®à¦²\":3350,\"à¦²à¦§à¦¨\":3351,\"à¦²à¦¡à¦¨\":3352,\"à¦¤à¦¤à¦°\":3353,\"à¦¬à¦°à¦ķ\":3354,\"à¦¬à¦ŀ\":3355,\"à¦¬à¦ªà¦°\":3356,\"à¦¬à¦Ĺà¦¨\":3357,\"à§Łà¦ķà¦°\":3358,\"à§Łà¦°à¦¨\":3359,\"à§Łà¦ľà¦¨à¦¦\":3360,\"à¦®à¦ĩ\":3361,\"à¦®à¦®à¦¤\":3362,\"à§ģ/\":3363,\"à¦¸à¦Ľ\":3364,\"à¦¸à¦¥\":3365,\"à¦¸à¦ĸ\":3366,\"à¦¸à¦¦à¦ķ\":3367,\"à¦¸à¦ļà¦²\":3368,\"à¦¸à¦¸à¦®\":3369,\"à¦¸à¦«à¦²\":3370,\"Ġà¦¸à¦°à¦¬\":3371,\"Ġà¦¸à¦²à¦Ļ\":3372,\"Ġà¦¸à¦ĩà¦Ľ\":3373,\"Ġà¦ķà¦¸\":3374,\"Ġà¦ķà¦Ń\":3375,\"Ġà¦ķà¦ľà¦¨\":3376,\"Ġà¦ķà¦¬à¦²\":3377,\"Ġà¦ķà¦¨à¦ķ\":3378,\"Ġà¦ķà¦¤à¦ķ\":3379,\"Ġà¦ķà¦¤à¦¦\":3380,\"à¦Łà¦ļ\":3381,\"à¦Łà¦ľà¦¨\":3382,\"à¦Łà¦°à¦¦\":3383,\"Ġà¦¬à¦¬\":3384,\"Ġà¦¬à¦¦à¦¨\":3385,\"Ġà¦¬à¦°à¦¬\":3386,\"Ġà¦¬à¦ĩà¦¤\":3387,\"à¦¦à¦°à¦¬\":3388,\"à¦¦à¦°à¦¨à¦Ĺà¦°\":3389,\"Ġà¦ªà¦Łà¦²\":3390,\"à¦¯à¦²\":3391,\"à¦¯à¦Ľ\":3392,\"à¦¯à§Łà¦¨\":3393,\"à¦¯à¦Ĺà¦£\":3394,\"à¦¯à¦ľà¦¨à¦ķ\":3395,\"à¦¯à¦°à¦ķà¦®\":3396,\"à¦ªà¦¡\":3397,\"à¦ªà¦ľà§Ł\":3398,\"Ġà¦Ĩà¦°à¦¤\":3399,\"à¦ľà¦°à¦¤\":3400,\"à¦ľà¦ĵà§Ł\":3401,\"à¦ľà¦ķà¦¦\":3402,\"Ġà¦®à¦°à¦¤\":3403,\"Ġà¦®à¦°à¦ķ\":3404,\"Ġà¦®à¦ķà¦°\":3405,\"Ġà¦®à¦°à¦²\":3406,\"Ġà¦®à¦ĵà¦ķ\":3407,\"à¦¶à¦ĸ\":3408,\"à¦¶à¦¬à¦°\":3409,\"Ġà¦ıà¦ĵ\":3410,\"Ġà¦ıà¦®à¦¤\":3411,\"Ġà¦ıà¦ıà¦¸\":3412,\"Ġà¦ıà¦¨à¦Ł\":3413,\"à¦ĩà¦®à¦¨\":3414,\"à¦ĩà¦°à¦¨\":3415,\"à¦ĩà¦¤à¦²\":3416,\"à¦ĩà¦ıà¦®à¦ı\":3417,\"Ġà¦¹à¦¦\":3418,\"Ġà¦¹à¦ĩà¦¨\":3419,\"Ġà¦¹à¦ĩà¦¤\":3420,\"Ġà¦¨à¦¹\":3421,\"Ġà¦¨à¦°à¦®\":3422,\"Ġà¦¨à¦²à¦ķ\":3423,\"Ġà¦¨à¦ĩà¦²\":3424,\"Ġà¦¨à¦®à¦¸\":3425,\"Ġà¦¨à¦¸à¦°\":3426,\"Ġà¦¨à§ľà¦¬\":3427,\"à¦Ĺà¦ļ\":3428,\"à¦Ĺà¦Ļ\":3429,\"à¦Ĺà¦¸à¦®\":3430,\"à¦Ĺà¦łà¦ķ\":3431,\"à¦Ĺà¦ľà¦¨à¦ķ\":3432,\"Ġà¦¦à¦°à¦¬\":3433,\"à¦·à¦ľà¦¨à¦ķ\":3434,\"à¦¹à§Ł\":3435,\"à¦¹à¦Ĺ\":3436,\"à¦¹à¦ĸ\":3437,\"Ġà¦¤à§ľ\":3438,\"Ġà¦¤à¦«\":3439,\"Ġà¦¤à§İà¦¸\":3440,\"Ġà¦¤à¦¤à¦ķ\":3441,\"Ġà¦¤à¦¤à¦¦\":3442,\"Ġà¦°à¦ŀ\":3443,\"Ġà¦°à¦¸à¦¦\":3444,\"Ġà¦°à¦ļà§Ł\":3445,\"Ġà¦ľà¦¯\":3446,\"Ġà¦ľà¦¬à¦²\":3447,\"Ġà¦ľà¦®à¦¬\":3448,\"Ġà¦ľà¦®à¦ķ\":3449,\"Ġà¦ħà¦ªà¦¤\":3450,\"Ġà¦ħà¦®à¦²\":3451,\"Ġà¦ħà¦ªà¦ķ\":3452,\"Ġà¦ħà¦ķà¦Ł\":3453,\"à¦§à¦ĵ\":3454,\"à¦§à¦ķà¦°\":3455,\"à¦§à¦¸à¦¹\":3456,\"à¦§à§ľà¦ķ\":3457,\"à¦§à¦°à¦¨\":3458,\"à¦ļà¦¸à¦¹\":3459,\"à¦ļà¦ķà¦Ń\":3460,\"à¦ļà¦¤à¦²\":3461,\"Ġà¦¶à¦°à¦¤\":3462,\"à¦¥à¦Ł\":3463,\"à¦Ńà§Ł\":3464,\"à¦Ńà¦Ł\":3465,\"à¦¡à¦ĩ\":3466,\"à¦¡à¦¹\":3467,\"à¦¡à¦ĵà§Ł\":3468,\"à¦¡à¦Łà¦ķà¦®\":3469,\"Ġà¦Ĺà¦®à¦¨\":3470,\"Ġà¦Ĺà¦¡à¦«\":3471,\"à¦ĸà¦¶\":3472,\"à¦ĸà§ľ\":3473,\"à¦ĸà¦ķà¦¦\":3474,\"Ġà¦ļà§Łà¦¨\":3475,\"à§ľà¦¸\":3476,\"à§ľà¦¶\":3477,\"à§ľà¦Ń\":3478,\"à§ľà¦¤à¦²\":3479,\"Ġà¦ĵà§ľ\":3480,\"à¦£à¦§\":3481,\"à¦£à¦ĸ\":3482,\"à¦ĵà¦ıà¦¸\":3483,\"Ġà¦īà¦®à¦¤\":3484,\"Ġà¦ªà¦°à¦¨\":3485,\"Ġà¦ªà¦°à¦®à¦¬\":3486,\"à¦«à¦¦\":3487,\"à¦«à¦¸à¦¹\":3488,\"Ġà¦¥à¦ķ\":3489,\"Ġà¦ĩà¦¯\":3490,\"Ġà¦ĩà¦¹\":3491,\"Ġà¦ĩà¦¡\":3492,\"Ġà¦ĩà¦¶à¦¤\":3493,\"à¦°à¦¤à¦°\":3494,\"Ġà¦¬à¦²à§Ł\":3495,\"Ġà¦ıà¦ķà¦ķà¦Ń\":3496,\"Ġà§¨à§¨à§¦\":3497,\"Ġà§¨à§§à§¦\":3498,\"Ġà¦²à¦Ĺ\":3499,\"Ġà¦²à¦ĺ\":3500,\"Ġà¦Łà§Łà¦²\":3501,\"Ġà¦ĸà¦²à¦¨\":3502,\"à¦Ļà¦¬\":3503,\"Ġà¦Ľà¦Ł\":3504,\"Ġà¦Ľà¦¦\":3505,\"à§ĥ-\":3506,\"à¦°à¦ķà¦Ł\":3507,\"à¦īà¦ı\":3508,\"à§§à§§à§\":3509,\"Ġà¦ľà¦¨à¦¶à¦ķ\":3510,\"Ġà¦ľà¦¨à¦¸à¦ļ\":3511,\"Ġà¦¡à¦°\":3512,\"Ġà¦¡à¦ľà¦¨\":3513,\"Ġà¦Ĩà¦Ĺà¦²\":3514,\"Ġà§¨à§¦à§¨à§ª\":3515,\"Ġà§¨à§¦à§¨à§«\":3516,\"à¦ŀà¦¦\":3517,\"à¦ŀà¦Ĺà¦£\":3518,\"à¦°à¦£à§Ł\":3519,\"à¦°à¦£à¦ĵ\":3520,\"à¦ıà¦¦\":3521,\"à¦ıà¦ľ\":3522,\"à¦ıà¦ķà¦¦\":3523,\"à¦ıà¦¸à¦¬\":3524,\"à¦ıà¦ıà¦¸\":3525,\"Ġà¦Ĩà¦°à¦¸\":3526,\"Ġà¦Ĩà¦°à¦Ń\":3527,\"Ġà¦Ĩà¦°à¦¡\":3528,\"Ġà¦§à¦®à¦¨\":3529,\"Ġà¦§à§ľà¦ķ\":3530,\"à§Łà¦¨à¦¬\":3531,\"à§Łà¦¨à¦¯\":3532,\"à¦¦à¦ķà¦¸\":3533,\"à¦¬à¦¨à¦Ł\":3534,\"à¦¬à¦¨à¦¦\":3535,\"à¦¬à¦¨à¦Ĺà¦°\":3536,\"à¦¬à¦¨à¦°à¦¹à¦¸\":3537,\"à¦°à¦®à¦ľ\":3538,\"à¦²à¦ķà¦¨\":3539,\"à¦²à¦ķà¦ª\":3540,\"à¦²à¦ķà¦®à¦ķ\":3541,\"à¦²à¦¨à¦¸à¦¹\":3542,\"à¦²à¦¨à¦ķà¦¶\":3543,\"Ġà¦īà¦ªà¦ª\":3544,\"Ġà¦īà¦ªà¦ķà¦°à¦£\":3545,\"Ġà¦īà¦ªà¦®à¦¹\":3546,\"Ġà¦Ĩà¦²à¦ľ\":3547,\"à§İà¦°\":3548,\"Ġà¦ķà¦®à¦¤\":3549,\"Ġà¦ķà¦®à¦¸\":3550,\"Ġà¦ķà¦®à¦ĩ\":3551,\"Ġà¦Ĩà¦¦à¦²\":3552,\"Ġà¦¸à¦¬à¦Ł\":3553,\"à¦ªà¦ķà¦¥à¦¨\":3554,\"à§©à§Ń\":3555,\"à¦°à¦¬à¦¬\":3556,\"à¦°à¦¬à¦¹à¦®\":3557,\"à¦·à¦£à¦®\":3558,\"à¦·à¦£à¦¶\":3559,\"à¦¯à¦®à¦Ł\":3560,\"Ġà¦¹à¦¤à¦¬\":3561,\"Ġà¦¹à¦¤à¦Ń\":3562,\"Ġà¦Ĩà¦ĩà¦¨à¦ķ\":3563,\"à§¯à§¬\":3564,\"à§¯à§¯à§¦\":3565,\"Ġà¦¸à¦¹à¦ľà¦²\":3566,\"Ġà¦®à¦¹à§İ\":3567,\"Ġà§«à§¨à§¦\":3568,\"Ġà§«à§ªà§¦\":3569,\"Ġà§«à§¨à§®\":3570,\"à§®à§«\":3571,\"à§®à§®\":3572,\"à§®à§Ń\":3573,\"Ġà¦ħà¦¬à¦¤\":3574,\"Ġà¦ħà¦¬à¦ľ\":3575,\"Ġà§ªà§¨à§©\":3576,\"Ġà§ªà§ªà§¦\":3577,\"Ġà¦¸à¦¦à¦°à¦ª\":3578,\"Ġà¦ıà¦²à¦¡\":3579,\"à¦°à¦¹à¦°\":3580,\"à¦°à¦¹à¦¨\":3581,\"à¦°à¦¹à¦Ĺà¦¤\":3582,\"Ġà¦¬à¦°à¦ĩà¦¤à¦²\":3583,\"Ġà¦¸à¦°à¦«à¦°\":3584,\"Ġà¦Ĩà¦ľà¦ĩ\":3585,\"à§Ńà§¦\":3586,\"à§Ńà§«\":3587,\"Ġà¦¸à§ľà¦ķà¦Ĺ\":3588,\"Ġà¦¸à§ľà¦ķà¦ªà¦¥\":3589,\"à§¬à§ª\":3590,\"à§¬à§¬\":3591,\"à¦°à¦¶à¦¸\":3592,\"à¦ľà¦¸à¦®\":3593,\"à¦ĩà¦²à¦Ł\":3594,\"Ġà¦ķà¦°à¦¬à¦ĩ\":3595,\"à¦®à¦¤à¦²\":3596,\"à¦°à¦ªà¦¥\":3597,\"à¦°à§Łà¦²\":3598,\"à¦ĩà¦«à¦ķ\":3599,\"à¦ĩà¦¸à¦¬\":3600,\"Ġà§§à§¦à§§\":3601,\"Ġà§§à§¦à§ª\":3602,\"Ġà§§à§¦à§¦à§¦\":3603,\"Ġà¦ħà¦¸à¦¨\":3604,\"à¦ļà¦²à¦°à¦¤\":3605,\"Ġà¦¸à¦¨à¦¦à¦ª\":3606,\"à¦¬à¦ķà¦Ĺ\":3607,\"à¦¸à¦®à¦ķ\":3608,\"à¦ķà¦Łà¦¬à¦°\":3609,\"Ġà¦¨à§Łà¦ľà¦¨à¦ķ\":3610,\"Ġà¦ıà¦®à¦ıà¦²\":3611,\"à¦ıà¦®à¦Ń\":3612,\"à¦ıà¦®à¦ĵ\":3613,\"à¦ıà¦®à¦ıà¦ĩà¦ļ\":3614,\"à¦Ŀà¦®\":3615,\"à¦ıà¦¸à¦¥\":3616,\"à¦ıà¦¸à¦Ń\":3617,\"Ġà¦īà¦ªà¦¸à¦°\":3618,\"Ġà¦ħà¦ªà¦¹\":3619,\"Ġà¦ħà¦ªà¦°à¦ķ\":3620,\"Ġà¦ħà¦ªà¦ķà¦°\":3621,\"Ġà¦ħà¦ªà¦¶à¦¨à¦Ł\":3622,\"Ġà§§à§¯à§¨\":3623,\"Ġà§§à§¯à§§\":3624,\"Ġà§§à§¯à§©à§¦\":3625,\"Ġà§§à§¯à§¨à§¯\":3626,\"Ġà§§à§¯à§ªà§¦\":3627,\"Ġà¦Ĩà¦²à¦®à¦ª\":3628,\"à¦¬à¦¹à¦¨à¦Ĺ\":3629,\"Ġà¦ĵà¦ªà¦°à¦ĩ\":3630,\"Ġà¦ĵà¦ªà¦°à¦ĵ\":3631,\"à¦ªà¦¦à¦Ĺ\":3632,\"à¦ħà¦ķ\":3633,\"à¦ħà¦¸\":3634,\"à¦ĩà¦Łà¦¸à¦¹\":3635,\"Ġà¦īà¦²à¦ª\":3636,\"Ġà¦Ŀà¦²à¦ķ\":3637,\"Ġà¦Ŀà¦ķà¦°\":3638,\"Ġà¦Ŀà¦²à¦®à¦²\":3639,\"à¦¹à¦°à¦°\":3640,\"à¦¹à¦°à¦¡à¦Łà¦ķà¦®\":3641,\"Ġà¦ªà¦¦à¦ļ\":3642,\"Ġà¦Ĩà¦¹à¦®à¦¦à¦ķ\":3643,\"Ġà¦¹à¦ķà¦¸à¦¹\":3644,\"Ġà¦Ĺà¦£à¦¸à¦Ļ\":3645,\"à¦¹à¦¨à¦ª\":3646,\"à¦°à¦ļà¦²à¦¨\":3647,\"Ġà¦ħà¦«à¦¶\":3648,\"à¦¸à¦¦à¦¸\":3649,\"Ġà¦¸à¦«à¦Ł\":3650,\"Ġà¦¸à¦«à¦°à¦Ł\":3651,\"Ġà¦ĩà¦īà¦ķ\":3652,\"Ġà¦ĩà¦īà¦ıà¦¨à¦¡\":3653,\"Ġà¦ıà¦¨à¦ıà¦¸à¦¥\":3654,\"à¦°à¦Ńà¦Ļ\":3655,\"Ġà¦¦à¦°à¦ªà¦¤\":3656,\"Ġà§©à§¦à§©\":3657,\"Ġà§©à§¦à§§\":3658,\"Ġà¦Ĺà§ľà¦²\":3659,\"Ġà§§à§«à§¨\":3660,\"Ġà§§à§«à§¦à§¦\":3661,\"à¦Ĩà¦ĩà¦ıà¦¸à¦ª\":3662,\"à¦Ĩà¦ĩà¦ıà¦²à¦ĵ\":3663,\"Ġà¦ªà¦¥à¦ļà¦²\":3664,\"Ġà¦ªà¦¥à¦¸à¦Ń\":3665,\"Ġà§§à§ªà§©\":3666,\"Ġà§§à§©à§¨\":3667,\"Ġà§§à§©à§¯\":3668,\"Ġà§§à§©à§§\":3669,\"à¦ľà¦®à¦¹à¦²\":3670,\"Ġà§§à§¬à§©\":3671,\"Ġà§§à§¬à§®\":3672,\"Ġà¦ľà¦®à¦ľà¦®\":3673,\"à§¨à§¦à§§à§¦\":3674,\"à§¨à§¦à§§à§©\":3675,\"Ġ**\":3676,\"à¦ķà¦¶à¦¹à¦°à¦¡à¦Łà¦ķà¦®\":3677,\"à¦Ĩà¦°à¦¡\":3678,\"à¦Ĩà¦°à¦ıà¦®\":3679,\"à¦Ĩà¦°à¦¡à¦¬\":3680,\"à¦¸à¦Ńà¦Ļ\":3681,\"Ġà§§à§Ńà§Ń\":3682,\"Ġà§¨à§¯à§¨\":3683,\"à¦Īà¦¶\":3684,\"à¦¾.)-\":3685,\"à¦¬à¦¤à¦ĩ\":3686,\"Ġà§ªà§¦à§¨\":3687,\"Ġà§ªà§¦à§¯\":3688,\"Ġà¦¨à¦¬à¦¬à¦°\":3689,\"Ġà§¨à§©à§§\":3690,\"Ġà§¨à§©à§¬\":3691,\"Ġà¦Ĩà¦īà¦Łà¦¡\":3692,\"Ġà§¨à§ªà§«\":3693,\"Ġà¦ķà¦¤à¦Ĺ\":3694,\"Ġà¦ķà¦¤à¦ľà¦¨\":3695,\"Ġà¦īà§İà¦¸à¦°\":3696,\"à¦¾)-\":3697,\"Ġà§¨à§¨à§¨\":3698,\"Ġà§¨à§¨à§¯\":3699,\"Ġà¦ıà¦«à¦¸\":3700,\"Ġà¦ıà¦«à¦¡\":3701,\"à¦ªà¦£à¦ķ\":3702,\"à¦ıà¦«à¦ĩ\":3703,\"à¦ıà¦«à¦ıà¦²\":3704,\"à¦ıà¦«à¦ıà¦«à¦ıà¦²\":3705,\"Ġà§¨à§Ńà§«\":3706,\"à¦®à¦°à¦£à¦¸à¦Ń\":3707,\"à¦Łà¦°à¦¸à¦¹\":3708,\"à¦¨à¦ĩà¦ī\":3709,\"à¦°à¦ľà¦¨à¦ĩ\":3710,\"Ġà¦ħà¦ľà¦Ĺà¦°\":3711,\"Ġà¦Ĳà¦ķà¦®à¦¤\":3712,\"Ġà§¨à§¬à§¦\":3713,\"Ġà¦īà¦Ńà§Łà¦ķ\":3714,\"à¦²à¦¶à¦¹à¦°\":3715,\"à¦¬à¦ľà¦¨à¦¸à¦¹\":3716,\"Ġà¦īà§ľà¦Ľ\":3717,\"Ġà§§à§¯à§Ńà§ª\":3718,\"à¦¥à¦ķà§ľ\":3719,\"Ġà§©à§®à§Ń\":3720,\"Ġà§¦à§¦à§¨\":3721,\"Ġà§©à§«à§¦\":3722,\"Ġà§¯à§¦à§©\":3723,\"à¦ĩà¦īà§Ł\":3724,\"à¦ĩà¦īà¦ıà¦¨\":3725,\"à¦ĩà¦īà¦ıà¦«à¦ıà¦«à¦ıà¦²\":3726,\"Ġà¦ıà¦¡à¦®à¦¨\":3727,\"Ġà¦°à¦®à¦°à¦®\":3728,\"Ġà¦ıà¦ĩà¦ļà¦ıà¦¸à¦¸\":3729,\"Ġà¦Ĩà¦ĩà¦ıà¦¸à¦ª\":3730,\"Ġà¦Ĩà¦ĩà¦ıà¦²à¦ĵ\":3731,\"à¦°à¦ķà¦®à¦ĩ\":3732,\"Ġà¦¶à¦Łà¦ĵ\":3733,\"à¦Łà¦¬à¦²à¦ķ\":3734,\"Ġà¦¨à¦ĵà¦°\":3735,\"à¦¹à¦°à¦£à¦¸\":3736,\"à§ªà§¦à§¬\":3737,\"Ġà§ªà§®à§Ń\":3738,\"Ġà§Ńà§«à§¨\":3739,\"Ġà§©à§¬à§ª\":3740,\"Ġà¦ĸà¦¸à¦¡\":3741,\"Ġà§¬à§ªà§¨\":3742,\"Ġà¦¦à¦®à¦ķà¦²\":3743,\"Ġà¦ªà¦Łà¦Ń\":3744,\"à§Ŀà¦Ń\":3745,\"à¦Łà¦Ľà§ľ\":3746,\"Ġà§Ńà§®à§Ń\":3747,\"Ġà§¬à§«à§§\":3748,\"Ġà§§à§¯à§¬à§§\":3749,\"Ġà§§à§¯à§¬à§®\":3750,\"Ġà¦ıà¦¸à¦ıà¦®à¦ĩ\":3751,\"à¦īà¦ªà¦ľ\":3752,\"Ġà§¯à§¯à§¯\":3753,\"à¦£à¦ªà¦¦à¦ķ\":3754,\"Ġà¦ħà¦¹à¦°à¦¹\":3755,\"Ġà§§à§¯à§«à§¨\":3756,\"Ġà§¯à§¬à§¦\":3757,\"Ġà¦ļà¦²à¦¨à¦¬\":3758,\"Ġà¦¬à¦Łà¦¤à¦²\":3759,\"à¦ĸà¦¸à§ľ\":3760,\"Ġà¦ĩà¦Ĩà¦°à¦¡\":3761,\"Ġà¦¤à¦°à¦«à¦¦\":3762,\"à¦£à¦Ĺà¦¤à¦®\":3763,\"à¦ĭà¦£\":3764,\"Ġà¦°à¦£à¦ľ\":3765,\"ail\":3766,\"à§Łà¦¦à¦°à¦Ĺà¦ŀ\":3767,\"Ġà¦¶à¦°à§İà¦ļà¦¨\":3768,\"à¦Ĩà¦ĩà¦Ĩà¦°à¦ľ\":3769,\"gmail\":3770,\"à§Łà¦°à¦¨à¦®\":3771,\"Ġà¦¬à¦°à¦¬à¦Ł\":3772,\"Ġà¦¨à§ľà¦¬à§ľ\":3773,\"Ġà¦ħà¦ªà¦¤à§İà¦ªà¦°à¦¤\":3774,\"Ġà¦¸à¦¹à¦ľà¦²à¦Ń\":3775,\"*,\":3776,\"//\":3777,\"://\":3778,\"at\":3779,\"ce\":3780,\"he\":3781,\"ht\":3782,\"io\":3783,\"oo\":3784,\"pa\":3785,\"st\":3786,\"tp\":3787,\"ust\":3788,\"Ġ+\":3789,\"Ġww\":3790,\"Ġht\":3791,\"Ĳà¦¨\":3792,\"à¦Ĳà¦¨\":3793,\"à¦¾'\":3794,\"à¦°à¦ĩà¦²\":3795,\"à¦°à¦²à¦¬\":3796,\"à¦°à¦¥à¦²\":3797,\"à¦°à¦¡à¦ķ\":3798,\"à§į,\":3799,\"à§į-\":3800,\"à¦¿à§ģ\":3801,\"à¦¨à¦Łà¦¨\":3802,\"à¦¨à¦ĺ\":3803,\"à¦¨à¦Łà¦°\":3804,\"à¦¨à¦Ńà¦°\":3805,\"à¦¨à¦¬à¦¸à¦®\":3806,\"à¦ķà¦Łà¦¨\":3807,\"à¦ķà¦®à¦²\":3808,\"à¦ķà¦Ĩ\":3809,\"à¦ķà¦¸à¦ª\":3810,\"à¦ķà¦Łà¦ķ\":3811,\"à¦ķà¦¸à¦ķ\":3812,\"à¦ķà¦®à§Ł\":3813,\"à¦ķà¦¸à¦®à§Ł\":3814,\"à¦²à¦¬à¦¨\":3815,\"à¦²à¦¸à¦°\":3816,\"à¦²à¦¸à¦¦\":3817,\"à¦²à¦Łà¦¸\":3818,\"à¦²à¦ľà§Ł\":3819,\"à¦²à¦¥à¦ķ\":3820,\"à¦¤à¦ĸ\":3821,\"à¦¤à¦£\":3822,\"à¦¤à¦®à¦¨\":3823,\"à¦¤à¦²à¦ķ\":3824,\"à¦¤à¦ķà¦²\":3825,\"à¦¤à¦ľà¦¨à¦ķ\":3826,\"à¦¬à§İ\":3827,\"à¦¬à¦ªà¦ķ\":3828,\"à¦¬à¦ĩà§Ł\":3829,\"à¦¬à§Łà¦¸\":3830,\"à¦¬à¦ľà¦¨à¦ķ\":3831,\"à¦¬à¦ľà§Ł\":3832,\"à¦¬à§İà¦ķ\":3833,\"à§Łà¦¥\":3834,\"à§Łà¦ľà¦¨\":3835,\"à§Łà¦®à¦ķ\":3836,\"à§Łà¦¶à¦ĩ\":3837,\"à¦®à¦Ļ\":3838,\"à¦®à¦ĵà§Ł\":3839,\"à¦®à¦ªà¦¨\":3840,\"à¦®à¦ªà¦ķ\":3841,\"à¦®à¦Ĺà¦¤\":3842,\"à¦®à¦¬à¦ķ\":3843,\"à¦®à§Łà¦ķ\":3844,\"à¦®à¦ķà¦¤\":3845,\"à¦®à¦ªà¦¦\":3846,\"à¦®à¦ľà§Ł\":3847,\"à§ģ!\":3848,\"à§ģà¦Ĥ\":3849,\"à¦¸à¦ľ\":3850,\"à¦¸à¦¶\":3851,\"à¦¸à¦¬à¦¨\":3852,\"à¦¸à¦ķà¦°\":3853,\"à¦¸à¦ĺ\":3854,\"à¦¸à¦¬à¦²\":3855,\"à¦¸à¦ıà¦²\":3856,\"Ġà¦¸à¦°à¦¤\":3857,\"Ġà¦¸à¦ªà¦°\":3858,\"Ġà¦¸à¦¦à¦¨\":3859,\"Ġà¦¸à¦¹à¦®\":3860,\"Ġà¦¸à¦ĩà¦¤\":3861,\"Ġà¦ķà¦¯\":3862,\"Ġà¦ķà¦¹\":3863,\"Ġà¦ķà¦¦à¦°\":3864,\"Ġà¦ķà§Łà¦°\":3865,\"Ġà¦ķà¦¨à¦Ł\":3866,\"Ġà¦ķà¦ĩà¦°\":3867,\"Ġà¦ķà¦ļà¦®\":3868,\"Ġà¦ķà¦ĩà¦¤\":3869,\"à¦Łà¦®à¦¨\":3870,\"à¦Łà¦ķà¦°\":3871,\"à¦Łà¦°à¦¬\":3872,\"à¦Łà¦ķà¦²\":3873,\"à¦Łà¦¸à¦¨\":3874,\"à¦Łà¦¸à¦¬\":3875,\"à¦Łà¦¬à¦¦\":3876,\"à¦Łà¦ĺà§ľ\":3877,\"Ġà¦¬à¦¯\":3878,\"Ġà¦¬à¦ĸ\":3879,\"Ġà¦¬à¦¤à¦°\":3880,\"Ġà¦¬à¦ľà¦²\":3881,\"Ġà¦¬à§İà¦¸à¦°\":3882,\"à¦¦à¦ļ\":3883,\"à¦¦à¦ĸ\":3884,\"à¦¦à¦°à¦ķ\":3885,\"à¦¦à¦ĵà§Ł\":3886,\"à¦¦à¦¯à¦¨\":3887,\"à§ĭ)\":3888,\"à§ĭ/\":3889,\"Ġà¦ªà¦ľ\":3890,\"Ġà¦ªà¦·\":3891,\"Ġà¦ªà¦¸à¦°\":3892,\"Ġà¦ªà¦Ĺà¦¬\":3893,\"à¦¯à¦£\":3894,\"à¦¯à¦¬à¦°\":3895,\"à¦¯à¦°à¦¸\":3896,\"à¦¯à§İà¦ķ\":3897,\"à¦ªà¦Ľ\":3898,\"à¦ªà¦§\":3899,\"à¦ªà¦Ń\":3900,\"à¦ªà¦°à¦ķ\":3901,\"à¦ªà¦ªà¦¤\":3902,\"à¦ªà¦¸à¦¹\":3903,\"à¦ªà¦¸à¦ķ\":3904,\"à¦ªà¦¸à¦ļ\":3905,\"Ġà¦Ĩà¦ķà¦²\":3906,\"Ġà¦Ĩà¦ªà¦²\":3907,\"Ġà¦Ĩà¦¡à¦Ń\":3908,\"Ġà¦Ĩà¦ĵà¦¯\":3909,\"Ġà¦Ĩà¦īà§Ł\":3910,\"à¦ľà§Łà¦¨\":3911,\"à¦ľà¦²à¦ķ\":3912,\"à¦ľà§Łà¦ķ\":3913,\"à¦ľà¦ľà¦°\":3914,\"à¦ľà¦ķà¦ķ\":3915,\"à¦ľà¦Ĩà¦ª\":3916,\"Ġà¦®à¦®\":3917,\"Ġà¦®à¦¥\":3918,\"Ġà¦®à¦°à¦¬\":3919,\"Ġà¦®à¦¸à¦²\":3920,\"à¦¶à¦®à¦¤\":3921,\"à¦¶à¦Ŀ\":3922,\"Ġà¦ıà¦¥\":3923,\"Ġà¦ıà¦Ĩà¦ĩ\":3924,\"à¦ĩà¦¯\":3925,\"à¦ĩà¦ĩ\":3926,\"à¦ĩà¦ĸ\":3927,\"à¦ĩà§ľ\":3928,\"à¦ĩà¦Łà¦¨\":3929,\"à¦ĩà¦¸à¦¹\":3930,\"à¦ĩà¦Łà¦Ĺ\":3931,\"Ġà¦¹à§ľ\":3932,\"Ġà¦¹à¦«\":3933,\"Ġà¦¹à¦°à¦¤\":3934,\"Ġà¦¹à¦Łà¦¸\":3935,\"Ġà¦¹à¦Łà¦²\":3936,\"Ġà¦¹à¦ĵà¦¯\":3937,\"Ġà¦¨à¦²\":3938,\"Ġà¦¨à¦²à¦¡\":3939,\"à¦Ľà¦ķ\":3940,\"à¦Ľà§Łà¦ľà¦¨\":3941,\"à¦Ĺà¦®à¦¨\":3942,\"à¦Ĺà¦¨à¦ķ\":3943,\"à¦Ĺà¦²à¦ª\":3944,\"à¦Ĺà¦°à¦¤à¦²\":3945,\"Ġà¦ķà¦°à¦Ł\":3946,\"à¦·à¦ļ\":3947,\"à¦·à¦ĵ\":3948,\"à¦·à¦°à¦¸à¦¹\":3949,\"à¦¹à¦ª\":3950,\"à¦¹à¦¶\":3951,\"à¦¹à¦ĵ\":3952,\"à¦¹à¦ªà¦°\":3953,\"à¦¹à¦¸à¦¹\":3954,\"à¦¹à¦ķà¦ķ\":3955,\"Ġà¦¤à¦°à¦ķ\":3956,\"Ġà¦¤à§Łà¦¨\":3957,\"Ġà¦°à¦¯\":3958,\"Ġà¦°à¦ĵà§Ł\":3959,\"Ġà¦°à¦Łà¦¨\":3960,\"Ġà¦°à¦Ĺà¦°\":3961,\"Ġà¦°à¦£à¦ķ\":3962,\"Ġà¦ľà¦°à¦¦\":3963,\"Ġà¦ľà¦¸à¦ª\":3964,\"Ġà¦ľà¦Ĺà¦¨\":3965,\"Ġà¦ħà§Ł\":3966,\"Ġà¦ħà¦°à¦ķ\":3967,\"Ġà¦ħà§Łà¦¨\":3968,\"Ġà¦ħà¦¤à¦°\":3969,\"Ġà¦ħà¦ķà¦²\":3970,\"Ġà¦ħà¦²à¦¸\":3971,\"Ġà¦ħà¦Ĺà¦£\":3972,\"Ġà¦ħà¦īà¦°\":3973,\"Ġà¦ħà¦¯à¦¥\":3974,\"à¦§à¦ĩ\":3975,\"à¦§à¦²à¦ķ\":3976,\"à¦§à¦®à¦ķ\":3977,\"à¦§à¦®à§Ł\":3978,\"à¦§à¦ľà¦¨à¦ķ\":3979,\"à¦§à¦ķà¦ķ\":3980,\"à¦§à¦¹à§Ł\":3981,\"à¦ļà¦ª\":3982,\"à¦ļà¦¡\":3983,\"à¦ļà¦¤à¦°\":3984,\"à¦ļà¦°à¦«\":3985,\"à¦ļà¦®à¦¬\":3986,\"à¦ļà¦ĵà¦¨\":3987,\"Ġà¦¶à¦®\":3988,\"Ġà¦¶à¦®à¦¸\":3989,\"à¦¥à¦¹\":3990,\"à¦¥à¦¦à¦¨\":3991,\"à¦¥à¦¬à¦¹\":3992,\"à¦¥à¦¬à¦¦\":3993,\"à¦Ńà¦ª\":3994,\"à¦Ńà¦²à¦¬\":3995,\"à¦¡à¦¬à¦²\":3996,\"à¦¡à¦ıà¦«\":3997,\"Ġà¦Ĺà¦¤à¦°\":3998,\"à¦ĸà¦¦\":3999,\"à¦ĸà¦²à¦¤\":4000,\"Ġà¦ļà¦ĵ\":4001,\"Ġà¦ļà¦°à¦ª\":4002,\"Ġà¦ļà¦ķà¦¬\":4003,\"Ġà¦ļà¦¨à¦®à¦¨\":4004,\"à§ľà¦ľ\":4005,\"à§ľà¦¸à¦¹\":4006,\"Ġà¦ĵà¦ľ\":4007,\"Ġà¦ĵà¦Ĺ\":4008,\"Ġà¦ĵà¦²à¦Ł\":4009,\"à¦£à¦Ł\":4010,\"à¦£à¦¯\":4011,\"à¦£à¦ĵ\":4012,\"à¦£à¦ł\":4013,\"à¦£à¦¬à¦¨\":4014,\"à¦£à¦¸à¦¹\":4015,\"à¦£à¦ļà¦°\":4016,\"à¦ĵà¦ľ\":4017,\"à¦ĵà¦Ľ\":4018,\"à¦ĵà¦¹\":4019,\"à¦ĵà¦«\":4020,\"à¦ĵà¦¨à¦ķ\":4021,\"à¦ĵà¦°à¦ľ\":4022,\"Ġà¦¯à¦¬\":4023,\"Ġà¦¯à¦¤à¦¬\":4024,\"Ġà¦īà¦Łà¦ķ\":4025,\"à¦«à¦°à¦ķ\":4026,\"à¦«à¦¸à¦«\":4027,\"à§¦à§ª\":4028,\"Ġà¦ĩà¦¥\":4029,\"Ġà¦ĩà¦ķà¦¤\":4030,\"Ġà¦ĩà¦¸à¦ķ\":4031,\"Ġà¦ĩà¦¶à¦°\":4032,\"Ġà¦ĩà¦Łà¦ª\":4033,\"Ġà¦ĩà¦ĵà¦°\":4034,\"à¦°à¦¤à¦ĵ\":4035,\"Ġà¦¬à¦²à¦°\":4036,\"Ġà¦¬à¦²à¦¨\":4037,\"Ġà¦¬à¦²à¦ķ\":4038,\"Ġà¦ıà¦ķà¦§\":4039,\"Ġà¦ıà¦ķà¦ĸ\":4040,\"Ġà¦ıà¦ķà¦¶à¦¨\":4041,\"Ġà¦ıà¦ķà¦¤à¦°\":4042,\"Ġà¦ıà¦ķà¦¶à¦°\":4043,\"Ġà¦ıà¦ķà¦°à¦ķà¦®\":4044,\"Ġà¦«à¦¨\":4045,\"Ġà¦«à¦²à¦¨\":4046,\"Ġà¦«à¦¸à¦ķ\":4047,\"Ġà¦«à¦¸à¦«à¦°\":4048,\"Ġà§¨à§§à§¬\":4049,\"Ġà¦²à¦Ńà¦°\":4050,\"Ġà¦Łà§Ł\":4051,\"Ġà¦Łà¦¨à¦ķ\":4052,\"Ġà¦Łà¦¸à¦Ł\":4053,\"Ġà¦ĸà¦ļ\":4054,\"Ġà¦Ľà¦²\":4055,\"Ġà¦Ľà¦²à¦ļ\":4056,\"Ġà¦¸à¦®à¦Ń\":4057,\"Ġà¦¸à¦®à¦ªà¦°\":4058,\"à¦łà¦¬\":4059,\"à¦łà¦Ł\":4060,\"à¦łà¦Ĺ\":4061,\"à¦łà¦Ń\":4062,\"à¦°à¦ķà¦°à¦£\":4063,\"Ġà¦Ĩà¦®à¦¤\":4064,\"Ġà¦Ĩà¦®à§ľ\":4065,\"Ġà¦Ĩà¦®à¦¤à¦²\":4066,\"à§Ĥà§į\":4067,\"Ġà¦ħà¦¨à¦¤\":4068,\"Ġà¦ħà¦¨à¦Ń\":4069,\"Ġà¦ħà¦¨à§ľ\":4070,\"Ġà¦ħà¦¨à¦¬à¦°à¦¤\":4071,\"à¦īà¦Łà¦¨\":4072,\"à¦īà¦°à¦®\":4073,\"à¦īà¦Ĩà¦°\":4074,\"à¦īà¦ıà¦²\":4075,\"à¦īà¦ıà¦Ł\":4076,\"à¦īà¦ıà¦«à¦¡\":4077,\"à¦īà¦Ńà§Ł\":4078,\"à¦īà§İà¦°\":4079,\"Ġà¦ľà¦¨à¦¬à¦¹\":4080,\"Ġà¦ľà¦¨à¦ķà¦²\":4081,\"Ġà¦ľà¦¨à¦¸à¦¹\":4082,\"Ġà¦ľà¦¨à¦®à¦¤\":4083,\"Ġà¦¡à¦°à¦®\":4084,\"Ġà¦Ĩà¦Ĺà¦°à¦¤à¦²\":4085,\"Ġà§¨à§¦à§§\":4086,\"Ġà§¨à§¦à§¨à§©\":4087,\"Ġà§¨à§¦à§«à§¦\":4088,\"Ġà§¨à§¦à§¨à§®\":4089,\"Ġà§¨à§¦à§¨à§Ń\":4090,\"à¦¬à¦°à¦¸à¦¹\":4091,\"à¦ľà¦¨à¦¸à¦¹\":4092,\"à¦°à¦£à¦ĩ\":4093,\"à¦°à¦£à¦Ń\":4094,\"à¦°à¦£à¦¸à¦¹\":4095,\"à¦°à¦£à§Łà¦£\":4096,\"à¦°à¦£à¦¬à¦¶à¦¤\":4097,\"à¦®à¦¨à¦ª\":4098,\"à¦®à¦¨à¦¸à¦¹\":4099,\"à¦ªà¦°à¦¬à¦°\":4100,\"à¦ıà¦Ń\":4101,\"à¦ıà¦ĸ\":4102,\"à¦ıà¦ıà¦«\":4103,\"à¦ıà¦Ĩà¦ĩà¦¡\":4104,\"à¦ıà¦ıà¦®à¦¡\":4105,\"Ġà¦Ĩà¦°à¦¬à¦¸\":4106,\"Ġà¦Ĩà¦°à¦ıà¦¸\":4107,\"Ġà¦Ĩà¦°à¦ĩà¦īà¦ľ\":4108,\"Ġà¦Ĩà¦°à¦ıà¦¨à¦¬\":4109,\"à¦ĩà¦¨à¦ĵ\":4110,\"Ġà¦ıà¦ĩà¦°\":4111,\"Ġà¦ĺà¦·\":4112,\"Ġà¦ĺà¦·à¦¤\":4113,\"Ġà¦§à¦¬à¦²\":4114,\"Ġà¦§à¦¨à¦¬\":4115,\"à¦¶à¦¨à¦¶\":4116,\"à¦¶à¦¨à¦Ĺà¦°\":4117,\"à¦¶à¦¨à¦ľà¦Ł\":4118,\"à§Łà¦¨à¦ª\":4119,\"à§Łà¦¨à¦ĵ\":4120,\"à§Łà¦¨à¦¸à¦¹\":4121,\"à¦¤à¦°à¦ĸà¦¨\":4122,\"à¦¤à¦°à¦¬à¦Ļ\":4123,\"à¦¦à¦ķà¦®\":4124,\"à¦¬à¦¨à¦ķ\":4125,\"à¦¬à¦¨à¦ļ\":4126,\"à¦¬à¦¨à¦¸à¦Ļ\":4127,\"à¦ªà¦¨à¦ľ\":4128,\"à¦°à¦®à¦ª\":4129,\"à¦°à¦®à¦Ĺ\":4130,\"à¦°à¦®à¦¹\":4131,\"à¦²à¦ķà¦¬\":4132,\"à¦¦à¦¨à¦ª\":4133,\"à¦¦à¦¨à¦¸à¦¹\":4134,\"à¦¦à¦¨à¦Ĺà¦°\":4135,\"à¦¦à¦¨à¦®à§Ł\":4136,\"à¦²à¦¨à¦Ł\":4137,\"à¦²à¦¨à¦ª\":4138,\"à¦²à¦¨à¦ĵ\":4139,\"Ġà¦īà¦ªà¦®à¦¨\":4140,\"Ġà¦īà¦ªà¦¸à¦¹à¦ķ\":4141,\"Ġà¦īà¦ªà¦¶à¦¹à¦°\":4142,\"Ġà¦Ĩà¦¨à§Łà¦¨\":4143,\"Ġà¦Ĩà¦¨à¦²à¦ķ\":4144,\"Ġà¦ıà¦°à¦ĵ\":4145,\"à§Į,\":4146,\"à¦¬à¦¸à¦¨\":4147,\"Ġà¦Ĩà¦²à¦Ń\":4148,\"à§Īà¦ĥ\":4149,\"à¦²à¦¤à¦¦\":4150,\"Ġà¦¦à¦²à¦¬\":4151,\"à¦¢à¦ķ\":4152,\"Ġà¦®à¦¨à¦°\":4153,\"Ġà¦®à¦¨à¦ķ\":4154,\"Ġà¦®à¦¨à¦¯\":4155,\"Ġà¦®à¦¨à¦Ĺà§ľ\":4156,\"Ġà¦¸à¦®à§Łà¦Ĺ\":4157,\"à¦Ĩà¦ľ\":4158,\"à¦Ĩà¦Ļ\":4159,\"à¦Ĩà¦ĩà¦ķ\":4160,\"à¦Ĩà¦°à¦ĵ\":4161,\"à¦Ĩà¦¨à¦¸\":4162,\"à¦Ĩà¦²à¦®\":4163,\"à¦Ĩà¦¬à¦¦\":4164,\"à¦Ĩà¦Ĺà¦°à¦¤à¦²\":4165,\"à§İà¦«à¦°\":4166,\"à¦ĺà¦ķ\":4167,\"à¦ĺà¦¨à¦ķ\":4168,\"à¦ĺà¦¬à¦ª\":4169,\"à¦ĺà¦ķà¦¨\":4170,\"à¦ĺà¦¬à¦¦\":4171,\"à¦ĺà¦¸à¦®à§Ł\":4172,\"Ġà¦ıà¦¸à¦ķ\":4173,\"Ġà¦ıà¦¸à¦¸\":4174,\"Ġà¦ıà¦¸à¦Ń\":4175,\"Ġà¦ıà¦¸à¦ıà¦®à¦ª\":4176,\"Ġà¦ıà¦¸à¦Ĩà¦°à¦¸\":4177,\"Ġà¦ıà¦¸à¦ĩà¦ıà¦®à¦ı\":4178,\"Ġà§©à§§à§¦\":4179,\"Ġà¦Ĩà¦¦à¦¤\":4180,\"Ġà¦¸à¦¬à¦²\":4181,\"Ġà¦¸à¦¬à¦ķà¦Ł\":4182,\"à¦ļà¦¨à¦Ĺ\":4183,\"à¦ļà¦¨à¦ĵ\":4184,\"à¦ļà¦¨à¦¸à¦¹\":4185,\"à¦ļà¦¨à¦ľà¦Ļ\":4186,\"Ġà¦ĩà¦¨à¦Ĺ\":4187,\"à¦ªà¦ķà¦¤\":4188,\"à¦ªà¦ķà¦¦\":4189,\"à§©à§«à§¦\":4190,\"Ġà¦¹à¦²à¦¬\":4191,\"Ġà¦¹à¦²à¦Ĺ\":4192,\"Ġà¦¢à¦²\":4193,\"à¦²à§Łà¦Ł\":4194,\"à¦²à§Łà¦ĵ\":4195,\"à¦²à§Łà¦¸à¦®\":4196,\"à¦¬à¦¹à¦¤à¦®\":4197,\"à¦·à§Łà¦¬\":4198,\"à¦·à§Łà¦¬à¦¸\":4199,\"à¦·à¦£à¦ķ\":4200,\"à¦·à¦£à¦¤\":4201,\"à¦·à¦£à¦ª\":4202,\"à§«à§¨\":4203,\"à§«à§Ń\":4204,\"à¦¯à¦®à¦¸à¦¹\":4205,\"à¦ĩà¦ķà¦ª\":4206,\"Ġà¦¹à¦¤à¦Ńà¦®\":4207,\"Ġà¦Ĺà¦¤à¦¬à¦Ľà¦°\":4208,\"Ġà¦¬à¦Ľà¦°à¦°\":4209,\"Ġà¦¬à¦Ľà¦°à¦Ł\":4210,\"Ġà¦¬à¦Ľà¦°à¦ľ\":4211,\"Ġà¦¬à¦Ľà¦°à¦Ĺ\":4212,\"à¦¤à¦¨à¦®\":4213,\"à¦¤à¦¨à¦ĵ\":4214,\"Ġà¦Ĩà¦ĩà¦¨à¦ª\":4215,\"Ġà¦Ĩà¦ĩà¦¨à¦Ĺ\":4216,\"à§¯à§®\":4217,\"à¦ķà¦²à¦°\":4218,\"à¦ķà¦²à¦Ĺ\":4219,\"à¦¸à¦¹à¦¯\":4220,\"à§ªà§ª\":4221,\"Ġà§«à§¨à§©\":4222,\"à§®à§¦à§¦\":4223,\"Ġà¦ħà¦¬à¦§\":4224,\"à¦°à¦¥à¦®à¦¤\":4225,\"à¦°à¦¥à¦®à¦¦\":4226,\"Ġà¦ıà¦²à¦ĩ\":4227,\"à¦¤à¦®à¦¸à¦ľ\":4228,\"Ġà¦ħà¦°à¦ľ\":4229,\"à¦¬à¦²à¦¹\":4230,\"à¦¬à¦²à¦Łà¦ª\":4231,\"à¦¯à¦¨à¦¤\":4232,\"à¦¤à¦¬à§ľ\":4233,\"à¦°à¦¹à¦¸à¦¨\":4234,\"Ġà¦¬à¦°à¦ŀ\":4235,\"Ġà¦¸à¦°à§Ł\":4236,\"Ġà¦¸à¦°à¦«à¦¤\":4237,\"Ġà¦Ĩà¦ľà¦°\":4238,\"à§Ńà§¦à§®\":4239,\"à§¬à§©\":4240,\"à§¬à§§\":4241,\"à§¬à§Ń\":4242,\"à§¬à§¦à§¦\":4243,\"à§¬à§§à§¯\":4244,\"à¦°à¦¶à¦®à¦¨\":4245,\"à¦ĩà¦²à¦¦\":4246,\"à¦Ĺà¦°à¦¨\":4247,\"à¦®à¦¸à¦ķ\":4248,\"Ġà§¬à§§à§ª\":4249,\"Ġà§¬à§¨à§©\":4250,\"Ġà§¬à§ªà§¦\":4251,\"Ġà§¬à§¨à§®\":4252,\"à¦Łà¦ķà¦°à¦£\":4253,\"à¦¼à¦¾,\":4254,\"Ġà¦®à¦¤à¦ª\":4255,\"à¦®à¦¤à¦ķ\":4256,\"à¦ķà¦¦à¦«\":4257,\"à¦²à¦¬à¦¤\":4258,\"à¦°à¦¨à¦Ł\":4259,\"à¦°à§Łà¦¡à¦¸\":4260,\"Ġà¦ĵà¦ĩà¦Ł\":4261,\"Ġà§Ńà§¨à§¯\":4262,\"Ġà¦ħà¦¤à¦ıà¦¬\":4263,\"à¦ĩà¦¸à¦ķ\":4264,\"à¦ĩà¦¸à¦Ĺ\":4265,\"à¦¨à¦¤à¦ª\":4266,\"Ġà§§à§¦à§Ń\":4267,\"Ġà§§à§¦à§¬\":4268,\"Ġà¦ħà¦¸à¦¤\":4269,\"Ġà¦ħà¦¸à¦ļ\":4270,\"Ġà¦ħà¦¸à¦¤à¦°\":4271,\"Ġà¦¸à¦¨à¦¦à¦ªà¦¤\":4272,\"Ġà¦¸à¦¨à¦¦à¦Ł\":4273,\"Ġà§¯à§§à§©\":4274,\"Ġà§¯à§¦à§¦\":4275,\"Ġà§¯à§§à§®\":4276,\"Ġà§¯à§«à§¦\":4277,\"Ġà§¯à§©à§ª\":4278,\"Ġà§¯à§Ńà§®\":4279,\"Ġà¦Ĩà¦¶à¦²\":4280,\"à¦¸à¦®à¦°\":4281,\"Ġà§®à§©à§§\":4282,\"Ġà§®à§«à§¦\":4283,\"Ġà¦ıà¦¤à¦Ĺ\":4284,\"à¦¦à¦°à¦Ł\":4285,\"à¦ķà¦Łà¦ª\":4286,\"Ġà¦¬à§ľà¦ļà¦ĵà¦¨\":4287,\"Ġà¦ıà¦®à¦¦\":4288,\"Ġà¦ıà¦®à¦ľ\":4289,\"Ġà¦ıà¦®à¦ıà¦®\":4290,\"à¦ıà¦®à¦ķ\":4291,\"à¦ıà¦®à¦Ł\":4292,\"à¦ıà¦®à¦ıà¦²\":4293,\"à¦Ŀà¦ªà¦¥\":4294,\"à¦ıà¦¸à¦ĵ\":4295,\"à¦ıà¦¸à¦Ĩà¦ĩà¦¸\":4296,\"Ġà¦īà¦ªà¦¸à¦ļ\":4297,\"à¦¨à¦¬à¦ľ\":4298,\"à¦§à¦¨à¦¶\":4299,\"à¦§à¦¨à¦ĵ\":4300,\"Ġà¦ħà¦ªà¦ļà§Ł\":4301,\"à¦Łà¦°à¦Ł\":4302,\"à¦Łà¦°à¦¯\":4303,\"à¦Łà¦°à¦Ĺ\":4304,\"Ġà§§à§¯à§¦\":4305,\"Ġà§§à§¯à§¨à§¦\":4306,\"Ġà§§à§¯à§©à§§\":4307,\"Ġà§§à§¯à§«à§¦\":4308,\"Ġà§§à§¯à§¦à§§\":4309,\"Ġà§§à§¯à§©à§®\":4310,\"Ġà§§à§¯à§©à§©\":4311,\"Ġà¦Ĩà§Łà¦¤\":4312,\"Ġà¦īà¦ĩà¦ķà¦²\":4313,\"Ġà¦īà¦ªà¦ľà¦²\":4314,\"Ġà¦ľà§Łà¦¸\":4315,\"Ġà¦ľà§Łà¦¶\":4316,\"Ġà¦ľà§Łà¦ĩ\":4317,\"Ġà¦¶à¦¤à¦¬à¦°\":4318,\"Ġà¦¬à¦ķà¦Ľ\":4319,\"à¦°à¦²à¦®\":4320,\"Ġà¦Ĩà¦²à¦®à¦¸à¦¹\":4321,\"à¦¬à¦¹à¦¨à¦ķ\":4322,\"à¦ķà¦¤à¦ķ\":4323,\"à¦°à¦¹à¦£à¦®\":4324,\"à¦ħà¦¦\":4325,\"à¦ħà¦ŀ\":4326,\"à§Łà¦°à¦°\":4327,\"Ġà§§à§¨à§§\":4328,\"Ġà§§à§¨à§¦à§¦\":4329,\"Ġà§§à§¨à§«à§¦\":4330,\"Ġà¦Ĩà¦¤à¦¶\":4331,\"Ġà¦Ŀà¦°à¦Ľ\":4332,\"Ġà¦ªà¦¦à¦¬\":4333,\"Ġà¦ªà¦¦à¦ª\":4334,\"Ġà¦ķà§Łà¦Ł\":4335,\"Ġà¦ķà§Łà¦¦\":4336,\"Ġà¦ķà§Łà¦ľà¦¨\":4337,\"Ġà¦Ĺà¦£à¦¸à¦ļ\":4338,\"à¦ĩà¦Ńà¦¸\":4339,\"à¦²à¦Łà¦¨à¦ķ\":4340,\"à¦²à¦Łà¦¨à¦ĵ\":4341,\"à¦¹à¦¨à¦Ĺ\":4342,\"Ġà¦«à¦²à¦ľ\":4343,\"à¦®à¦ķà¦Ń\":4344,\"Ġà¦¬à¦¸à¦Ľ\":4345,\"à¦°à¦ĵà¦ıà¦¸\":4346,\"à¦¯à¦¬à§Łà¦¸\":4347,\"Ġà¦ħà¦ªà¦°à¦Ł\":4348,\"Ġà¦ħà¦ªà¦°à¦ľà¦¨\":4349,\"Ġà¦ħà¦«à¦²\":4350,\"à¦¸à¦¦à¦¬\":4351,\"Ġà¦¸à¦«à¦°à¦¸à¦Ļ\":4352,\"Ġà¦ıà¦¨à¦¸\":4353,\"Ġà¦ıà¦¨à¦ľ\":4354,\"Ġà¦ıà¦¨à¦Ń\":4355,\"Ġà¦¦à¦°à¦ĸ\":4356,\"Ġà§§à§«à§Ń\":4357,\"Ġà§§à§«à§¬\":4358,\"Ġà§§à§«à§«à§¬\":4359,\"à¦Ĩà¦ĩà¦ĵ\":4360,\"à¦Ĩà¦ĩà¦ı\":4361,\"à¦Ĩà¦ĩà¦ıà¦¨\":4362,\"à¦Ĩà¦ĩà¦ıà¦®\":4363,\"à¦Ĩà¦ĩà¦ıà¦¸\":4364,\"à¦Ĩà¦ĩà¦ĩà¦ī\":4365,\"à¦¨à¦®à¦ľ\":4366,\"Ġà¦Ĺà¦²à¦¦\":4367,\"à¦ĩà¦°à¦ľ\":4368,\"à¦®à§Łà¦¯\":4369,\"à¦Łà¦¬à¦²à¦¬\":4370,\"à¦Łà¦¬à¦²à¦ª\":4371,\"à¦Łà¦¬à¦²à¦¸à¦¹\":4372,\"Ġà¦ıà¦ķà¦ĩà¦¦\":4373,\"Ġà¦ªà¦¥à¦°\":4374,\"Ġà¦ªà¦¥à¦Ń\":4375,\"Ġà¦Īà¦¦à¦ķ\":4376,\"Ġà§§à§ªà§«\":4377,\"Ġà§§à§ªà§¦à§¦\":4378,\"Ġà§§à§ªà§«à§©\":4379,\"Ġà¦¸à¦¦à¦°à¦ĺ\":4380,\"Ġà¦¶à¦¹à¦°à¦¤à¦²\":4381,\"à¦¦à¦²à¦Ł\":4382,\"à¦°à¦ĩà¦¤\":4383,\"Ġà§§à§©à§®\":4384,\"Ġà§§à§©à§¬\":4385,\"Ġà¦Ĩà¦¹à¦¤à¦°\":4386,\"à¦¤à¦²à¦Ł\":4387,\"Ġà§§à§¬à§¯\":4388,\"Ġà§§à§®à§©\":4389,\"Ġà§§à§®à§®\":4390,\"Ġà¦¦à¦¶à¦¬\":4391,\"Ġà¦¦à¦¶à¦Ń\":4392,\"à¦īà¦ľà¦Ł\":4393,\"à§¨à§¦à§§à§¨\":4394,\"Ġà¦¯à¦ĸà¦¨à¦ĩ\":4395,\"à¦ĩà¦¡à¦²\":4396,\"Ġà¦¨à¦Ĺà¦°à¦ĺ\":4397,\"à§§à§¦à§¦\":4398,\"à§§à§¦à§ª\":4399,\"à¦ķà¦¶à¦ªà¦Ł\":4400,\"Ġà¦ķà¦¨à¦°\":4401,\"à¦Ĩà¦°à¦ıà¦«\":4402,\"à¦Ĩà¦°à¦Ĩà¦ĩà¦ıà¦¸à¦ª\":4403,\"Ġà¦ªà§Łà¦ľà¦¨\":4404,\"à¦°à¦¸à¦¨à¦¸à¦¹\":4405,\"Ġà¦Ńà¦¬à¦¨à¦Ł\":4406,\"Ġà¦Ńà¦¬à¦¨à¦ĩ\":4407,\"Ġà¦Ńà¦¬à¦¨à¦¸à¦¹\":4408,\"Ġà¦Ľà§Łà¦¬\":4409,\"Ġà¦ħà¦¥à¦¦à¦£\":4410,\"Ġà§§à§Ńà§ª\":4411,\"Ġà§¨à§¯à§¦\":4412,\"à¦ķà¦ľà¦¨à¦¹\":4413,\"à¦īà¦¡à¦¬\":4414,\"Ġà¦¬à¦¹à¦¦\":4415,\"à¦¶à¦²à¦Ĺà¦¤\":4416,\"Ġà¦Ĩà¦¸à¦¨à¦¸à¦¹\":4417,\"Ġà§ªà§¦à§¬\":4418,\"Ġà§ªà§¦à§¦à§¦\":4419,\"Ġà¦¶à¦¹à¦°à¦Ł\":4420,\"à¦ıà¦²à¦ľ\":4421,\"Ġà¦¸à¦«à¦°à¦°à¦¤\":4422,\"Ġà§¨à§®à§¯\":4423,\"Ġà§¨à§®à§®\":4424,\"Ġà§¨à§®à§¬\":4425,\"Ġà¦Ĩà¦īà¦Łà¦«\":4426,\"Ġà§¨à§ªà§¦\":4427,\"Ġà§¨à§ªà§Ń\":4428,\"Ġà§¨à§ªà§¬\":4429,\"Ġà¦ªà¦¦à¦ķà¦ª\":4430,\"Ġà¦¸à¦¹à¦ľà¦Ń\":4431,\"Ġà¦Ĩà¦Łà¦¬\":4432,\"Ġà¦Ĩà¦Łà¦ľà¦¨à¦ķ\":4433,\"Ġà¦ķà¦¤à¦ĸ\":4434,\"Ġà¦Ńà§Łà¦Ń\":4435,\"Ġà¦Ńà§Łà¦ĵ\":4436,\"Ġà¦Ńà§Łà¦Ļ\":4437,\"à¦ªà¦¸à¦Ļ\":4438,\"Ġà¦¦à¦®à¦¨à¦¨\":4439,\"à§§à§¯à§Ńà§§\":4440,\"à¦ªà¦£à¦¨\":4441,\"à¦ªà¦£à¦¨à¦ķ\":4442,\"à¦°à¦®à¦£à¦ķ\":4443,\"à¦°à¦®à¦£à¦Ń\":4444,\"à¦°à¦®à¦£à¦¸à¦Ļ\":4445,\"à¦ıà¦«à¦ª\":4446,\"Ġà§¨à§Ńà§¦\":4447,\"Ġà§¨à§Ńà§©\":4448,\"Ġà§¨à§Ńà§¯\":4449,\"Ġà§¨à§Ńà§§\":4450,\"à¦²à¦Ńà¦ª\":4451,\"à¦Ĺà¦ľà¦Ĺ\":4452,\"Ġà§©à§¨à§©\":4453,\"Ġà§©à§¨à§¬\":4454,\"à¦ķà¦¶à¦¨à¦§à¦°\":4455,\"Ġà¦ļà¦ķà¦ļà¦ķ\":4456,\"à¦°à¦ľà¦¨à¦¤\":4457,\"à¦·à¦®à¦Ń\":4458,\"à§§à§«à§¨à§©\":4459,\"à¦¹à¦ķà¦ª\":4460,\"à¦¹à¦ķà¦ĵ\":4461,\"à¦ĩà¦ªà¦®\":4462,\"à¦ĩà¦ªà¦¡\":4463,\"Ġà¦īà¦Ńà¦¯\":4464,\"Ġà§§à§§à§§\":4465,\"Ġà§¬à§¦à§Ń\":4466,\"Ġà§§à§¯à§Ńà§¨\":4467,\"Ġà¦ķà¦²à¦ķà¦²\":4468,\"Ġà§¦à§¯\":4469,\"Ġà§¦à§®\":4470,\"Ġà§¦à§§à§¯\":4471,\"Ġà§¦à§§à§¬\":4472,\"Ġà§¦à§¨à§®\":4473,\"Ġà§©à§«à§¨\":4474,\"Ġà§©à§«à§¬\":4475,\"Ġà§¯à§¦à§Ń\":4476,\"Ġà¦Ĩà¦¹à¦®à¦¦à¦¸à¦¹\":4477,\"à¦®à¦ļà¦°\":4478,\"à¦ĩà¦īà¦¬\":4479,\"à¦ĩà¦īà¦ª\":4480,\"à¦ĩà¦īà¦Ĩà¦°à¦ª\":4481,\"Ġà¦Ĩà¦ļà¦®à¦ķ\":4482,\"Ġà¦ıà¦¡à¦®\":4483,\"Ġà¦ıà¦ĩà¦ļà¦¬\":4484,\"Ġà¦ıà¦ĩà¦ļà¦Ĩà¦°à¦ıà¦®\":4485,\"à¦·à¦ķà¦¦à¦²\":4486,\"à¦¡à¦¬à¦¡\":4487,\"Ġà¦Ĩà¦ĩà¦¸à¦²\":4488,\"Ġà¦Ĩà¦ĩà¦ĵà¦ıà¦¸\":4489,\"Ġà¦Ĩà¦ĩà¦ĩà¦īà¦¬\":4490,\"Ġà§ªà§«à§®\":4491,\"à¦°à¦£à§Łà¦¨à¦¸à¦¹\":4492,\"Ġà¦¤à¦¤à¦ĩ\":4493,\"Ġà¦«à¦ľà¦²à¦īà¦ľ\":4494,\"Ġà§ªà§®à§¦\":4495,\"Ġà¦īà¦ĩà¦ľà¦¨\":4496,\"Ġà¦¦à¦ĸà¦²à¦¦\":4497,\"Ġà§©à§¬à§¦\":4498,\"Ġà§©à§¬à§Ń\":4499,\"à¦¬à¦¤à¦¨à¦°\":4500,\"à¦¦à§Łà¦¬\":4501,\"Ġà§¬à§ªà§©\":4502,\"Ġà§¬à§ªà§ª\":4503,\"Ġà§¬à§ªà§Ń\":4504,\"Ġà¦Ĭà¦¨à¦ª\":4505,\"à¦ĩà¦ĵà¦°\":4506,\"Ġà§©à§ªà§«\":4507,\"Ġà§©à§ªà§¯\":4508,\"Ġà§©à§ªà§ª\":4509,\"Ġà§«à§¬à§®\":4510,\"Ġà§ªà§ªà§®\":4511,\"Ġà¦ĩà¦īà¦ıà¦¸à¦ıà¦Ĩà¦ĩà¦¡\":4512,\"Ġà¦Ŀà§ľà¦Ĺ\":4513,\"à¦²à¦¥à¦Ń\":4514,\"à§¨à§ªà§«\":4515,\"Ġà§ªà§Ńà§«\":4516,\"Ġà§ªà§Ńà§¬\":4517,\"Ġà§§à§¯à§®à§¦\":4518,\"Ġà§§à§¯à§®à§«\":4519,\"Ġà§§à§¯à§®à§¯\":4520,\"Ġà§§à§¯à§®à§§\":4521,\"Ġà§§à§¯à§®à§Ń\":4522,\"Ġà§§à§¯à§®à§¬\":4523,\"à¦¯à¦¶à¦ĩ\":4524,\"Ġà¦ĸà¦²à¦ħà¦Ń\":4525,\"Ġà§©à§Ńà§¦\":4526,\"Ġà§«à§©à§¨\":4527,\"à¦¯à¦Łà¦ķà¦°\":4528,\"Ġà¦īà¦ĩà¦²à¦¸à¦¨\":4529,\"Ġà§Ńà§®à§¦\":4530,\"Ġà§Ńà§®à§©\":4531,\"Ġà¦¸à¦®à¦¬à§Łà¦¸\":4532,\"Ġà§®à§¯à§¯\":4533,\"Ġà§®à§¯à§§\":4534,\"Ġà¦¬à§Łà¦ķà¦Ł\":4535,\"Ġà§«à§®à§¦\":4536,\"Ġà§¯à§«à§«\":4537,\"Ġà§§à§¯à§ªà§§\":4538,\"à¦¦à¦ªà¦¤à¦¨\":4539,\"Ġà§§à§¯à§¬à§¦\":4540,\"Ġà§§à§¯à§¬à§¯\":4541,\"Ġà¦ıà¦¸à¦ıà¦®à¦ıà¦¸\":4542,\"Ġà¦ıà¦°à¦ķà¦®à¦ĩ\":4543,\"Ġà§«à§ªà§¯\":4544,\"Ġà§¬à§®à§§\":4545,\"Ġà§¬à§®à§®\":4546,\"Ġà§¬à§®à§¬\":4547,\"Ġà§®à§®à§¬\":4548,\"Ġà¦ĩà¦®à¦¨à¦ķ\":4549,\"Ġà§¯à§¯à§¦\":4550,\"Ġà§¯à§¯à§ª\":4551,\"Ġà§Ńà§ªà§¯\":4552,\"Ġà§§à§ªà§¯à§ª\":4553,\"Ġà§®à§«à§¬\":4554,\"à¦¤à¦ļà¦°à¦¬\":4555,\"Ġà¦īà§İà¦«\":4556,\"Ġà¦¦à¦²à¦¬à¦¦à¦²à¦Ł\":4557,\"Ġà§Ńà§¬à§§\":4558,\"Ġà§Ńà§¬à§Ń\":4559,\"Ġà§¯à§ªà§ª\":4560,\"Ġà§§à§¯à§«à§¯\":4561,\"Ġà§§à§¯à§«à§Ń\":4562,\"à§Ńà§®à§Ń\":4563,\"Ġà§¯à§®à§¬\":4564,\"Ġà¦ıà¦®à¦ıà¦ľ\":4565,\"à¦ıà¦¸à¦Ĩà¦ĩà¦Ĩà¦°\":4566,\"Ġà§§à§®à§¦à§¬\":4567,\"Ġà§§à§«à§¯à§¨à§§\":4568,\"Ġà¦¨à¦ķà¦Ĩà¦īà¦Ł\":4569,\"à¦§à¦¶à¦¤à¦ķ\":4570,\"à§§à§¯à§¯à§¦\":4571,\"à§§à§¯à§¯à§©\":4572,\"à§§à§¯à§¯à§§\":4573,\"Ġà¦¶à¦°à¦£à¦ĸ\":4574,\"Ġà¦ľà¦¨à¦¸à¦®à¦ķ\":4575,\"à§¬à§«à§¨à§¬\":4576,\"Ġà¦ĩà¦īà¦ıà¦¨à¦Ĩà¦°à¦¡à¦¬\":4577,\"Ġà¦ĩà¦īà¦ıà¦¨à¦ıà¦«à¦ª\":4578,\"Ġà§§à§¨à§©à§Ńà§§\":4579,\"Ġà§§à§©à§©à§Ńà§®\":4580,\"à§§à§¯à§®à§¯\":4581,\"à§§à§¯à§®à§ª\":4582,\"Ġà§§à§§à§©à§®\":4583,\"Ġà§§à§®à§«à§Ń\":4584,\"Ġà¦¨à¦Ĺà¦°à¦¬\":4585,\"Ġà¦Łà¦¹à¦²à¦°à¦¤\":4586,\"Ġà§¦à§§à§«à§§à§«à§¨à§©\":4587,\"Ġà§¦à§§à§Ńà§§\":4588,\"à¦ļà¦ªà¦¦à¦¸\":4589,\"Ġà§§à§©à§¨à§®à§¯\":4590,\"Ġà§§à§©à§¨à§®à§®\":4591,\"Ġà§¦à§©à§ªà§Ń\":4592,\"ing\":4593,\"Ġà¦ıà¦ıà¦¸à¦ıà¦®\":4594,\"Ġà¦²à¦Ĺà¦ĩà¦¨\":4595,\"à§§à§§à§¨\":4596,\"ion\":4597,\"Ġwww\":4598,\"Ġhttp\":4599,\"à¦ķà¦Ĩà¦ªà¦Ł\":4600,\"Ġà¦ķà¦ļà¦®à¦ļ\":4601,\"à¦¶à¦®à¦¤à¦īà¦²\":4602,\"Ġà¦°à¦Ĺà¦°à¦Ĺ\":4603,\"Ġà¦ħà¦Ĺà¦£à¦¤\":4604,\"Ġà¦ļà¦ĵà§ľ\":4605,\"Ġà¦ıà¦ķà¦¤à¦°à¦«\":4606,\"à¦īà¦ıà¦²à¦ĩà¦¡\":4607,\"Ġà¦Ĭà¦¨à¦ªà¦ŀ\":4608}"
          ],
          "name": "stdout"
        }
      ]
    },
    {
      "cell_type": "code",
      "metadata": {
        "id": "y37V1XUBvP8l",
        "colab_type": "code",
        "colab": {}
      },
      "source": [
        "!sudo rm -rf gpt2_train"
      ],
      "execution_count": null,
      "outputs": []
    },
    {
      "cell_type": "code",
      "metadata": {
        "id": "Yq8io37MvpDe",
        "colab_type": "code",
        "colab": {
          "base_uri": "https://localhost:8080/",
          "height": 357
        },
        "outputId": "35ae71cf-1be2-4104-d84d-eefad9d132e7"
      },
      "source": [
        "!nvidia-smi\n"
      ],
      "execution_count": null,
      "outputs": [
        {
          "output_type": "stream",
          "text": [
            "Sun Jul  5 16:12:55 2020       \n",
            "+-----------------------------------------------------------------------------+\n",
            "| NVIDIA-SMI 450.36.06    Driver Version: 418.67       CUDA Version: 10.1     |\n",
            "|-------------------------------+----------------------+----------------------+\n",
            "| GPU  Name        Persistence-M| Bus-Id        Disp.A | Volatile Uncorr. ECC |\n",
            "| Fan  Temp  Perf  Pwr:Usage/Cap|         Memory-Usage | GPU-Util  Compute M. |\n",
            "|                               |                      |               MIG M. |\n",
            "|===============================+======================+======================|\n",
            "|   0  Tesla K80           Off  | 00000000:00:04.0 Off |                    0 |\n",
            "| N/A   54C    P0    61W / 149W |  11439MiB / 11441MiB |      0%      Default |\n",
            "|                               |                      |                 ERR! |\n",
            "+-------------------------------+----------------------+----------------------+\n",
            "                                                                               \n",
            "+-----------------------------------------------------------------------------+\n",
            "| Processes:                                                                  |\n",
            "|  GPU   GI   CI        PID   Type   Process name                  GPU Memory |\n",
            "|        ID   ID                                                   Usage      |\n",
            "|=============================================================================|\n",
            "|  No running processes found                                                 |\n",
            "+-----------------------------------------------------------------------------+\n"
          ],
          "name": "stdout"
        }
      ]
    },
    {
      "cell_type": "code",
      "metadata": {
        "id": "C8plxXKkwHhq",
        "colab_type": "code",
        "colab": {}
      },
      "source": [
        ""
      ],
      "execution_count": null,
      "outputs": []
    },
    {
      "cell_type": "markdown",
      "metadata": {
        "id": "T6_XFMOJyoEZ",
        "colab_type": "text"
      },
      "source": [
        "Transformer XL NEXT"
      ]
    },
    {
      "cell_type": "code",
      "metadata": {
        "id": "FDu8dGbZyqKg",
        "colab_type": "code",
        "colab": {
          "base_uri": "https://localhost:8080/",
          "height": 34
        },
        "outputId": "9d6011bf-6621-4dea-c0f1-fac495a8bd97"
      },
      "source": [
        "from transformers import TransfoXLTokenizer\n",
        "from transformers import TransfoXLConfig, TransfoXLLMHeadModel\n",
        "\n",
        "# Initializing a Transformer XL configuration\n",
        "config = TransfoXLConfig()\n",
        "tokenizer = TransfoXLTokenizer(vocab_file='spm.vocab') ## need a simple vocab\n",
        "#tokenizer.count_file(\"train_data.txt\")\n",
        "model = TransfoXLLMHeadModel(config=config)\n",
        "\n",
        "model.num_parameters()\n"
      ],
      "execution_count": 7,
      "outputs": [
        {
          "output_type": "execute_result",
          "data": {
            "text/plain": [
              "285205322"
            ]
          },
          "metadata": {
            "tags": []
          },
          "execution_count": 7
        }
      ]
    },
    {
      "cell_type": "code",
      "metadata": {
        "id": "iicmsA2o5E77",
        "colab_type": "code",
        "colab": {
          "base_uri": "https://localhost:8080/",
          "height": 88
        },
        "outputId": "ac967052-7f6a-4820-eebe-72cf7a28d776"
      },
      "source": [
        "TRAIN = True\n",
        "\n",
        "if TRAIN:\n",
        "    %%time\n",
        "    from transformers import TextDataset\n",
        "    dataset = TextDataset(\n",
        "        tokenizer=tokenizer,\n",
        "        file_path=\"train_data.txt\",\n",
        "        block_size=128,\n",
        "    )"
      ],
      "execution_count": 8,
      "outputs": [
        {
          "output_type": "stream",
          "text": [
            "You might want to consider setting `add_space_before_punct_symbol=True` as an argument to the `tokenizer.encode()` to avoid tokenizing words with punctuation symbols to the `<unk>` token\n"
          ],
          "name": "stderr"
        },
        {
          "output_type": "stream",
          "text": [
            "CPU times: user 4 µs, sys: 0 ns, total: 4 µs\n",
            "Wall time: 9.06 µs\n"
          ],
          "name": "stdout"
        }
      ]
    },
    {
      "cell_type": "code",
      "metadata": {
        "id": "pb6rQJt56kAg",
        "colab_type": "code",
        "colab": {}
      },
      "source": [
        "if TRAIN:\n",
        "    from transformers import DataCollatorForLanguageModeling\n",
        "\n",
        "    data_collator = DataCollatorForLanguageModeling(\n",
        "        tokenizer=tokenizer, mlm=False, mlm_probability=0.15\n",
        "    )\n",
        "\n",
        "if TRAIN:  \n",
        "    from transformers import Trainer, TrainingArguments\n",
        "\n",
        "    training_args = TrainingArguments(\n",
        "        output_dir=\"transformer_xl_train/\",\n",
        "        overwrite_output_dir=True,\n",
        "        num_train_epochs=10,\n",
        "        per_device_train_batch_size=2,\n",
        "        save_steps=1,\n",
        "        save_total_limit=2,\n",
        "    )\n",
        "    trainer = Trainer(\n",
        "        model=model,\n",
        "        args=training_args,\n",
        "        data_collator=data_collator,\n",
        "        train_dataset=dataset\n",
        "    )"
      ],
      "execution_count": 9,
      "outputs": []
    },
    {
      "cell_type": "code",
      "metadata": {
        "id": "bstBFWt3MIiW",
        "colab_type": "code",
        "colab": {
          "base_uri": "https://localhost:8080/",
          "height": 863,
          "referenced_widgets": [
            "c933ef0c3a5a4d8ab7ea1cf32329a0a8",
            "c7db26d53fc349bb976065642edb1c58",
            "18a3c8e0264f4598bbf527d3482c865b",
            "c10b8842966c42188afd8d7dc339829d",
            "5ebeef837b6a4a8b9868b5f7ff7d71f8",
            "fbcc271084af4c80909ed251e840b549",
            "a39606778cc14710994ad193d7e7919e",
            "772cb7404d1146b38cd93aa9b04d886e",
            "ce8fd4c6365645989a63941d4eca1bc0",
            "ad22f73f1d5a4ba08f5dfce50f3bd592",
            "64f6dc5ce83944d28bed40c91ce1be9e",
            "b337f02b3d1549a69b9ead86d63a2a66",
            "132bce743e2f4fcc9fa86f69418e69a6",
            "0c14c5949fa34f999897a9531a7dc7ce",
            "20eb73d420a04b77b3dd00ecd3fef251",
            "27b91f764f6842c0b47c306988e2965c"
          ]
        },
        "outputId": "a9e69dde-e7c5-4fb7-b527-0e769d85db0a"
      },
      "source": [
        "if TRAIN:\n",
        "    trainer.train()"
      ],
      "execution_count": 10,
      "outputs": [
        {
          "output_type": "display_data",
          "data": {
            "application/vnd.jupyter.widget-view+json": {
              "model_id": "c933ef0c3a5a4d8ab7ea1cf32329a0a8",
              "version_minor": 0,
              "version_major": 2
            },
            "text/plain": [
              "HBox(children=(FloatProgress(value=0.0, description='Epoch', max=10.0, style=ProgressStyle(description_width='…"
            ]
          },
          "metadata": {
            "tags": []
          }
        },
        {
          "output_type": "display_data",
          "data": {
            "application/vnd.jupyter.widget-view+json": {
              "model_id": "ce8fd4c6365645989a63941d4eca1bc0",
              "version_minor": 0,
              "version_major": 2
            },
            "text/plain": [
              "HBox(children=(FloatProgress(value=0.0, description='Iteration', max=1152.0, style=ProgressStyle(description_w…"
            ]
          },
          "metadata": {
            "tags": []
          }
        },
        {
          "output_type": "error",
          "ename": "RuntimeError",
          "evalue": "ignored",
          "traceback": [
            "\u001b[0;31m---------------------------------------------------------------------------\u001b[0m",
            "\u001b[0;31mRuntimeError\u001b[0m                              Traceback (most recent call last)",
            "\u001b[0;32m<ipython-input-10-2e9c09f4f451>\u001b[0m in \u001b[0;36m<module>\u001b[0;34m()\u001b[0m\n\u001b[1;32m      1\u001b[0m \u001b[0;32mif\u001b[0m \u001b[0mTRAIN\u001b[0m\u001b[0;34m:\u001b[0m\u001b[0;34m\u001b[0m\u001b[0;34m\u001b[0m\u001b[0m\n\u001b[0;32m----> 2\u001b[0;31m     \u001b[0mtrainer\u001b[0m\u001b[0;34m.\u001b[0m\u001b[0mtrain\u001b[0m\u001b[0;34m(\u001b[0m\u001b[0;34m)\u001b[0m\u001b[0;34m\u001b[0m\u001b[0;34m\u001b[0m\u001b[0m\n\u001b[0m",
            "\u001b[0;32m/usr/local/lib/python3.6/dist-packages/transformers/trainer.py\u001b[0m in \u001b[0;36mtrain\u001b[0;34m(self, model_path)\u001b[0m\n\u001b[1;32m    497\u001b[0m                     \u001b[0;32mcontinue\u001b[0m\u001b[0;34m\u001b[0m\u001b[0;34m\u001b[0m\u001b[0m\n\u001b[1;32m    498\u001b[0m \u001b[0;34m\u001b[0m\u001b[0m\n\u001b[0;32m--> 499\u001b[0;31m                 \u001b[0mtr_loss\u001b[0m \u001b[0;34m+=\u001b[0m \u001b[0mself\u001b[0m\u001b[0;34m.\u001b[0m\u001b[0m_training_step\u001b[0m\u001b[0;34m(\u001b[0m\u001b[0mmodel\u001b[0m\u001b[0;34m,\u001b[0m \u001b[0minputs\u001b[0m\u001b[0;34m,\u001b[0m \u001b[0moptimizer\u001b[0m\u001b[0;34m)\u001b[0m\u001b[0;34m\u001b[0m\u001b[0;34m\u001b[0m\u001b[0m\n\u001b[0m\u001b[1;32m    500\u001b[0m \u001b[0;34m\u001b[0m\u001b[0m\n\u001b[1;32m    501\u001b[0m                 if (step + 1) % self.args.gradient_accumulation_steps == 0 or (\n",
            "\u001b[0;32m/usr/local/lib/python3.6/dist-packages/transformers/trainer.py\u001b[0m in \u001b[0;36m_training_step\u001b[0;34m(self, model, inputs, optimizer)\u001b[0m\n\u001b[1;32m    635\u001b[0m                 \u001b[0mscaled_loss\u001b[0m\u001b[0;34m.\u001b[0m\u001b[0mbackward\u001b[0m\u001b[0;34m(\u001b[0m\u001b[0;34m)\u001b[0m\u001b[0;34m\u001b[0m\u001b[0;34m\u001b[0m\u001b[0m\n\u001b[1;32m    636\u001b[0m         \u001b[0;32melse\u001b[0m\u001b[0;34m:\u001b[0m\u001b[0;34m\u001b[0m\u001b[0;34m\u001b[0m\u001b[0m\n\u001b[0;32m--> 637\u001b[0;31m             \u001b[0mloss\u001b[0m\u001b[0;34m.\u001b[0m\u001b[0mbackward\u001b[0m\u001b[0;34m(\u001b[0m\u001b[0;34m)\u001b[0m\u001b[0;34m\u001b[0m\u001b[0;34m\u001b[0m\u001b[0m\n\u001b[0m\u001b[1;32m    638\u001b[0m \u001b[0;34m\u001b[0m\u001b[0m\n\u001b[1;32m    639\u001b[0m         \u001b[0;32mreturn\u001b[0m \u001b[0mloss\u001b[0m\u001b[0;34m.\u001b[0m\u001b[0mitem\u001b[0m\u001b[0;34m(\u001b[0m\u001b[0;34m)\u001b[0m\u001b[0;34m\u001b[0m\u001b[0;34m\u001b[0m\u001b[0m\n",
            "\u001b[0;32m/usr/local/lib/python3.6/dist-packages/torch/tensor.py\u001b[0m in \u001b[0;36mbackward\u001b[0;34m(self, gradient, retain_graph, create_graph)\u001b[0m\n\u001b[1;32m    196\u001b[0m                 \u001b[0mproducts\u001b[0m\u001b[0;34m.\u001b[0m \u001b[0mDefaults\u001b[0m \u001b[0mto\u001b[0m\u001b[0;31m \u001b[0m\u001b[0;31m`\u001b[0m\u001b[0;31m`\u001b[0m\u001b[0;32mFalse\u001b[0m\u001b[0;31m`\u001b[0m\u001b[0;31m`\u001b[0m\u001b[0;34m.\u001b[0m\u001b[0;34m\u001b[0m\u001b[0;34m\u001b[0m\u001b[0m\n\u001b[1;32m    197\u001b[0m         \"\"\"\n\u001b[0;32m--> 198\u001b[0;31m         \u001b[0mtorch\u001b[0m\u001b[0;34m.\u001b[0m\u001b[0mautograd\u001b[0m\u001b[0;34m.\u001b[0m\u001b[0mbackward\u001b[0m\u001b[0;34m(\u001b[0m\u001b[0mself\u001b[0m\u001b[0;34m,\u001b[0m \u001b[0mgradient\u001b[0m\u001b[0;34m,\u001b[0m \u001b[0mretain_graph\u001b[0m\u001b[0;34m,\u001b[0m \u001b[0mcreate_graph\u001b[0m\u001b[0;34m)\u001b[0m\u001b[0;34m\u001b[0m\u001b[0;34m\u001b[0m\u001b[0m\n\u001b[0m\u001b[1;32m    199\u001b[0m \u001b[0;34m\u001b[0m\u001b[0m\n\u001b[1;32m    200\u001b[0m     \u001b[0;32mdef\u001b[0m \u001b[0mregister_hook\u001b[0m\u001b[0;34m(\u001b[0m\u001b[0mself\u001b[0m\u001b[0;34m,\u001b[0m \u001b[0mhook\u001b[0m\u001b[0;34m)\u001b[0m\u001b[0;34m:\u001b[0m\u001b[0;34m\u001b[0m\u001b[0;34m\u001b[0m\u001b[0m\n",
            "\u001b[0;32m/usr/local/lib/python3.6/dist-packages/torch/autograd/__init__.py\u001b[0m in \u001b[0;36mbackward\u001b[0;34m(tensors, grad_tensors, retain_graph, create_graph, grad_variables)\u001b[0m\n\u001b[1;32m     92\u001b[0m         \u001b[0mgrad_tensors\u001b[0m \u001b[0;34m=\u001b[0m \u001b[0mlist\u001b[0m\u001b[0;34m(\u001b[0m\u001b[0mgrad_tensors\u001b[0m\u001b[0;34m)\u001b[0m\u001b[0;34m\u001b[0m\u001b[0;34m\u001b[0m\u001b[0m\n\u001b[1;32m     93\u001b[0m \u001b[0;34m\u001b[0m\u001b[0m\n\u001b[0;32m---> 94\u001b[0;31m     \u001b[0mgrad_tensors\u001b[0m \u001b[0;34m=\u001b[0m \u001b[0m_make_grads\u001b[0m\u001b[0;34m(\u001b[0m\u001b[0mtensors\u001b[0m\u001b[0;34m,\u001b[0m \u001b[0mgrad_tensors\u001b[0m\u001b[0;34m)\u001b[0m\u001b[0;34m\u001b[0m\u001b[0;34m\u001b[0m\u001b[0m\n\u001b[0m\u001b[1;32m     95\u001b[0m     \u001b[0;32mif\u001b[0m \u001b[0mretain_graph\u001b[0m \u001b[0;32mis\u001b[0m \u001b[0;32mNone\u001b[0m\u001b[0;34m:\u001b[0m\u001b[0;34m\u001b[0m\u001b[0;34m\u001b[0m\u001b[0m\n\u001b[1;32m     96\u001b[0m         \u001b[0mretain_graph\u001b[0m \u001b[0;34m=\u001b[0m \u001b[0mcreate_graph\u001b[0m\u001b[0;34m\u001b[0m\u001b[0;34m\u001b[0m\u001b[0m\n",
            "\u001b[0;32m/usr/local/lib/python3.6/dist-packages/torch/autograd/__init__.py\u001b[0m in \u001b[0;36m_make_grads\u001b[0;34m(outputs, grads)\u001b[0m\n\u001b[1;32m     33\u001b[0m             \u001b[0;32mif\u001b[0m \u001b[0mout\u001b[0m\u001b[0;34m.\u001b[0m\u001b[0mrequires_grad\u001b[0m\u001b[0;34m:\u001b[0m\u001b[0;34m\u001b[0m\u001b[0;34m\u001b[0m\u001b[0m\n\u001b[1;32m     34\u001b[0m                 \u001b[0;32mif\u001b[0m \u001b[0mout\u001b[0m\u001b[0;34m.\u001b[0m\u001b[0mnumel\u001b[0m\u001b[0;34m(\u001b[0m\u001b[0;34m)\u001b[0m \u001b[0;34m!=\u001b[0m \u001b[0;36m1\u001b[0m\u001b[0;34m:\u001b[0m\u001b[0;34m\u001b[0m\u001b[0;34m\u001b[0m\u001b[0m\n\u001b[0;32m---> 35\u001b[0;31m                     \u001b[0;32mraise\u001b[0m \u001b[0mRuntimeError\u001b[0m\u001b[0;34m(\u001b[0m\u001b[0;34m\"grad can be implicitly created only for scalar outputs\"\u001b[0m\u001b[0;34m)\u001b[0m\u001b[0;34m\u001b[0m\u001b[0;34m\u001b[0m\u001b[0m\n\u001b[0m\u001b[1;32m     36\u001b[0m                 \u001b[0mnew_grads\u001b[0m\u001b[0;34m.\u001b[0m\u001b[0mappend\u001b[0m\u001b[0;34m(\u001b[0m\u001b[0mtorch\u001b[0m\u001b[0;34m.\u001b[0m\u001b[0mones_like\u001b[0m\u001b[0;34m(\u001b[0m\u001b[0mout\u001b[0m\u001b[0;34m,\u001b[0m \u001b[0mmemory_format\u001b[0m\u001b[0;34m=\u001b[0m\u001b[0mtorch\u001b[0m\u001b[0;34m.\u001b[0m\u001b[0mpreserve_format\u001b[0m\u001b[0;34m)\u001b[0m\u001b[0;34m)\u001b[0m\u001b[0;34m\u001b[0m\u001b[0;34m\u001b[0m\u001b[0m\n\u001b[1;32m     37\u001b[0m             \u001b[0;32melse\u001b[0m\u001b[0;34m:\u001b[0m\u001b[0;34m\u001b[0m\u001b[0;34m\u001b[0m\u001b[0m\n",
            "\u001b[0;31mRuntimeError\u001b[0m: grad can be implicitly created only for scalar outputs"
          ]
        }
      ]
    },
    {
      "cell_type": "code",
      "metadata": {
        "id": "EGKegG4SMME5",
        "colab_type": "code",
        "colab": {}
      },
      "source": [
        "|"
      ],
      "execution_count": null,
      "outputs": []
    }
  ]
}